{
 "cells": [
  {
   "cell_type": "code",
   "execution_count": 1,
   "id": "40a05469",
   "metadata": {},
   "outputs": [],
   "source": [
    "import torch\n",
    "import torch.nn as nn"
   ]
  },
  {
   "cell_type": "code",
   "execution_count": 2,
   "id": "a3674603",
   "metadata": {},
   "outputs": [
    {
     "name": "stdout",
     "output_type": "stream",
     "text": [
      "before param init: \n",
      "tensor([[-2.7450e+03,  4.5856e-41, -2.4681e+23, -4.3239e-13, -2.7434e+03],\n",
      "        [ 4.5856e-41, -2.7450e+03,  4.5856e-41, -5.1497e+35,  3.2302e-13],\n",
      "        [-2.7434e+03,  4.5856e-41, -2.7450e+03,  4.5856e-41, -3.6253e-36]])\n"
     ]
    }
   ],
   "source": [
    "w = torch.empty(3,5)\n",
    "print(\"before param init: \\n{}\".format(w))"
   ]
  },
  {
   "cell_type": "markdown",
   "id": "52c74f48",
   "metadata": {},
   "source": [
    "# Tensor init"
   ]
  },
  {
   "cell_type": "markdown",
   "id": "81e91e1e",
   "metadata": {},
   "source": [
    "# 1.1 constant init"
   ]
  },
  {
   "cell_type": "code",
   "execution_count": 3,
   "id": "f0a3377d",
   "metadata": {},
   "outputs": [
    {
     "name": "stdout",
     "output_type": "stream",
     "text": [
      "after param init: \n",
      "tensor([[0.3000, 0.3000, 0.3000, 0.3000, 0.3000],\n",
      "        [0.3000, 0.3000, 0.3000, 0.3000, 0.3000],\n",
      "        [0.3000, 0.3000, 0.3000, 0.3000, 0.3000]])\n"
     ]
    }
   ],
   "source": [
    "nn.init.constant_(w, 0.3)\n",
    "print(\"after param init: \\n{}\".format(w))"
   ]
  },
  {
   "cell_type": "markdown",
   "id": "a11276bb",
   "metadata": {},
   "source": [
    "# 1.2 ones init"
   ]
  },
  {
   "cell_type": "code",
   "execution_count": 4,
   "id": "b94830b1",
   "metadata": {},
   "outputs": [
    {
     "name": "stdout",
     "output_type": "stream",
     "text": [
      "after param init: \n",
      "tensor([[1., 1., 1., 1., 1.],\n",
      "        [1., 1., 1., 1., 1.],\n",
      "        [1., 1., 1., 1., 1.]])\n"
     ]
    }
   ],
   "source": [
    "nn.init.ones_(w)\n",
    "print(\"after param init: \\n{}\".format(w))"
   ]
  },
  {
   "cell_type": "markdown",
   "id": "37740034",
   "metadata": {},
   "source": [
    "# 1.3 zeros init"
   ]
  },
  {
   "cell_type": "code",
   "execution_count": 5,
   "id": "119e2dd0",
   "metadata": {},
   "outputs": [
    {
     "name": "stdout",
     "output_type": "stream",
     "text": [
      "after param init: \n",
      "tensor([[0., 0., 0., 0., 0.],\n",
      "        [0., 0., 0., 0., 0.],\n",
      "        [0., 0., 0., 0., 0.]])\n"
     ]
    }
   ],
   "source": [
    "nn.init.zeros_(w)\n",
    "print(\"after param init: \\n{}\".format(w))"
   ]
  },
  {
   "cell_type": "markdown",
   "id": "39cab158",
   "metadata": {},
   "source": [
    "# 1.4 uniform init"
   ]
  },
  {
   "cell_type": "code",
   "execution_count": 6,
   "id": "9dd0f0d8",
   "metadata": {},
   "outputs": [
    {
     "name": "stdout",
     "output_type": "stream",
     "text": [
      "after param init: \n",
      "tensor([[0.0897, 0.1913, 0.0653, 0.0816, 0.0497],\n",
      "        [0.0549, 0.1356, 0.1205, 0.0653, 0.0551],\n",
      "        [0.1471, 0.0642, 0.1996, 0.1910, 0.1545]])\n"
     ]
    }
   ],
   "source": [
    "nn.init.uniform_(w, a=0.0, b=0.2)\n",
    "print(\"after param init: \\n{}\".format(w))"
   ]
  },
  {
   "cell_type": "markdown",
   "id": "13c392e2",
   "metadata": {},
   "source": [
    "# 1.5 normal init"
   ]
  },
  {
   "cell_type": "code",
   "execution_count": 7,
   "id": "c635a112",
   "metadata": {},
   "outputs": [
    {
     "name": "stdout",
     "output_type": "stream",
     "text": [
      "after param init: \n",
      "tensor([[-0.0056, -0.7587,  0.1510, -0.7427,  0.1151],\n",
      "        [ 0.1302,  0.5895, -0.6391,  0.0750, -1.7525],\n",
      "        [ 1.6899,  0.4278,  0.0482, -1.4283, -1.5449]])\n"
     ]
    }
   ],
   "source": [
    "nn.init.normal_(w, mean=0.0, std=1)\n",
    "print(\"after param init: \\n{}\".format(w))"
   ]
  },
  {
   "cell_type": "markdown",
   "id": "2badf7a2",
   "metadata": {},
   "source": [
    "# Module init"
   ]
  },
  {
   "cell_type": "code",
   "execution_count": 8,
   "id": "1579ba70",
   "metadata": {},
   "outputs": [],
   "source": [
    "@torch.no_grad()\n",
    "def init_weights(m):\n",
    "    print(m)\n",
    "    if type(m) == nn.Linear:\n",
    "        nn.init.ones_(m.weight)\n",
    "        nn.init.zeros_(m.bias)"
   ]
  },
  {
   "cell_type": "code",
   "execution_count": 9,
   "id": "1f7b4d90",
   "metadata": {},
   "outputs": [],
   "source": [
    "net = nn.Linear(2, 3)"
   ]
  },
  {
   "cell_type": "code",
   "execution_count": 10,
   "id": "9de69606",
   "metadata": {},
   "outputs": [
    {
     "name": "stdout",
     "output_type": "stream",
     "text": [
      "Linear(in_features=2, out_features=3, bias=True)\n",
      "Linear(in_features=2, out_features=3, bias=True)\n"
     ]
    }
   ],
   "source": [
    "net.apply(init_weights)\n",
    "print(net)"
   ]
  },
  {
   "cell_type": "code",
   "execution_count": 14,
   "id": "e617c305",
   "metadata": {},
   "outputs": [
    {
     "data": {
      "text/plain": [
       "[('weight',\n",
       "  Parameter containing:\n",
       "  tensor([[1., 1.],\n",
       "          [1., 1.],\n",
       "          [1., 1.]], requires_grad=True)),\n",
       " ('bias',\n",
       "  Parameter containing:\n",
       "  tensor([0., 0., 0.], requires_grad=True))]"
      ]
     },
     "execution_count": 14,
     "metadata": {},
     "output_type": "execute_result"
    }
   ],
   "source": [
    "list(net.named_parameters())"
   ]
  },
  {
   "cell_type": "code",
   "execution_count": null,
   "id": "1ad47226",
   "metadata": {},
   "outputs": [],
   "source": []
  }
 ],
 "metadata": {
  "kernelspec": {
   "display_name": "Python 3 (ipykernel)",
   "language": "python",
   "name": "python3"
  },
  "language_info": {
   "codemirror_mode": {
    "name": "ipython",
    "version": 3
   },
   "file_extension": ".py",
   "mimetype": "text/x-python",
   "name": "python",
   "nbconvert_exporter": "python",
   "pygments_lexer": "ipython3",
   "version": "3.10.5"
  }
 },
 "nbformat": 4,
 "nbformat_minor": 5
}
