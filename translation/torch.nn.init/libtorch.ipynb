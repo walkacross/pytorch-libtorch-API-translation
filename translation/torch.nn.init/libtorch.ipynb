{
 "cells": [
  {
   "cell_type": "code",
   "execution_count": 1,
   "id": "3bcffd96",
   "metadata": {},
   "outputs": [],
   "source": [
    "#pragma cling add_include_path(\"../libtorch/include\")\n",
    "#pragma cling add_include_path(\"../libtorch/include/torch/csrc/api/include\")\n",
    "#pragma cling add_library_path(\"../libtorch/lib\")\n",
    "#pragma cling load(\"libtorch\")"
   ]
  },
  {
   "cell_type": "code",
   "execution_count": 2,
   "id": "80f70efb",
   "metadata": {},
   "outputs": [],
   "source": [
    "#include <iostream>\n",
    "#include <string>\n",
    "#include <torch/torch.h>\n",
    "namespace nn = torch::nn;"
   ]
  },
  {
   "cell_type": "code",
   "execution_count": 3,
   "id": "f70bb931",
   "metadata": {},
   "outputs": [
    {
     "name": "stdout",
     "output_type": "stream",
     "text": [
      "before param init: \n",
      " 6.4528e-10  1.8888e+31  3.8966e+27\n",
      " 8.2805e+08  1.6916e-04  6.7421e+22\n",
      "[ CPUFloatType{2,3} ]\n"
     ]
    }
   ],
   "source": [
    "torch::Tensor w = torch::empty({2,3});\n",
    "std::cout <<\"before param init: \\n\" << w << std::endl;"
   ]
  },
  {
   "cell_type": "markdown",
   "id": "7394adbf",
   "metadata": {},
   "source": [
    "# Tensor init"
   ]
  },
  {
   "cell_type": "markdown",
   "id": "90d8f595",
   "metadata": {},
   "source": [
    "# 1.1 constant init"
   ]
  },
  {
   "cell_type": "code",
   "execution_count": 4,
   "id": "7e20dc26",
   "metadata": {},
   "outputs": [
    {
     "name": "stdout",
     "output_type": "stream",
     "text": [
      "after param init: \n",
      " 0.3000  0.3000  0.3000\n",
      " 0.3000  0.3000  0.3000\n",
      "[ CPUFloatType{2,3} ]\n"
     ]
    }
   ],
   "source": [
    "nn::init::constant_(w, 0.3);\n",
    "std::cout <<\"after param init: \\n\" << w << std::endl;"
   ]
  },
  {
   "cell_type": "markdown",
   "id": "83199afc",
   "metadata": {},
   "source": [
    "# 1.2 ones init"
   ]
  },
  {
   "cell_type": "code",
   "execution_count": 5,
   "id": "322bc3cc",
   "metadata": {},
   "outputs": [
    {
     "name": "stdout",
     "output_type": "stream",
     "text": [
      "after param init: \n",
      " 1  1  1\n",
      " 1  1  1\n",
      "[ CPUFloatType{2,3} ]\n"
     ]
    }
   ],
   "source": [
    "nn::init::ones_(w);\n",
    "std::cout <<\"after param init: \\n\" << w << std::endl;"
   ]
  },
  {
   "cell_type": "markdown",
   "id": "827f6215",
   "metadata": {},
   "source": [
    "# 1.3 zeros init"
   ]
  },
  {
   "cell_type": "code",
   "execution_count": 6,
   "id": "f6456dc6",
   "metadata": {},
   "outputs": [
    {
     "name": "stdout",
     "output_type": "stream",
     "text": [
      "after param init: \n",
      " 0  0  0\n",
      " 0  0  0\n",
      "[ CPUFloatType{2,3} ]\n"
     ]
    }
   ],
   "source": [
    "nn::init::zeros_(w);\n",
    "std::cout <<\"after param init: \\n\" << w << std::endl;"
   ]
  },
  {
   "cell_type": "markdown",
   "id": "fe5b3f15",
   "metadata": {},
   "source": [
    "# 1.4 uniform init"
   ]
  },
  {
   "cell_type": "code",
   "execution_count": 7,
   "id": "9ac36fef",
   "metadata": {},
   "outputs": [
    {
     "name": "stdout",
     "output_type": "stream",
     "text": [
      "after param init: \n",
      " 0.1383  0.1924  0.0460\n",
      " 0.0343  0.0585  0.0810\n",
      "[ CPUFloatType{2,3} ]\n"
     ]
    }
   ],
   "source": [
    "nn::init::uniform_(w, /*a=*/0.0, /*b=*/0.2);\n",
    "std::cout <<\"after param init: \\n\" << w << std::endl;"
   ]
  },
  {
   "cell_type": "markdown",
   "id": "deccb786",
   "metadata": {},
   "source": [
    "# 1.5 normal init"
   ]
  },
  {
   "cell_type": "code",
   "execution_count": 8,
   "id": "a0ea9832",
   "metadata": {},
   "outputs": [
    {
     "name": "stdout",
     "output_type": "stream",
     "text": [
      "after param init: \n",
      " 0.4410  0.4910  0.4728\n",
      " 1.2499  0.5428 -0.6010\n",
      "[ CPUFloatType{2,3} ]\n"
     ]
    }
   ],
   "source": [
    "nn::init::normal_(w, /*mean=*/0.0, /*std=*/1);\n",
    "std::cout <<\"after param init: \\n\" << w << std::endl;"
   ]
  },
  {
   "cell_type": "markdown",
   "id": "60e27213",
   "metadata": {},
   "source": [
    "# Module init"
   ]
  },
  {
   "cell_type": "code",
   "execution_count": 9,
   "id": "322080a3",
   "metadata": {},
   "outputs": [],
   "source": [
    "void init_weights(nn::Module& module) {\n",
    "\ttorch::NoGradGuard noGrad;\n",
    "\tif (auto* linear = module.as<torch::nn::Linear>()) {\n",
    "        nn::init::ones_(linear->weight);\n",
    "        nn::init::zeros_(linear->bias);\n",
    "\t}\n",
    "}"
   ]
  },
  {
   "cell_type": "code",
   "execution_count": 10,
   "id": "575e6cf6",
   "metadata": {},
   "outputs": [],
   "source": [
    "nn::Linear net(/*in_features*/2, /* out_features */ 3);"
   ]
  },
  {
   "cell_type": "code",
   "execution_count": 11,
   "id": "9c982ac9",
   "metadata": {},
   "outputs": [],
   "source": [
    "net->apply(init_weights);"
   ]
  },
  {
   "cell_type": "code",
   "execution_count": 12,
   "id": "3257db1f",
   "metadata": {},
   "outputs": [],
   "source": [
    "torch::OrderedDict<std::string, torch::Tensor> ordered_parameter_dict = net ->named_parameters();"
   ]
  },
  {
   "cell_type": "code",
   "execution_count": 13,
   "id": "2a1b58b2",
   "metadata": {},
   "outputs": [
    {
     "name": "stdout",
     "output_type": "stream",
     "text": [
      " 1  1\n",
      " 1  1\n",
      " 1  1\n",
      "[ CPUFloatType{3,2} ]"
     ]
    }
   ],
   "source": [
    "std::cout << ordered_parameter_dict[\"weight\"];"
   ]
  },
  {
   "cell_type": "code",
   "execution_count": 14,
   "id": "22682449",
   "metadata": {},
   "outputs": [
    {
     "name": "stdout",
     "output_type": "stream",
     "text": [
      " 0\n",
      " 0\n",
      " 0\n",
      "[ CPUFloatType{3} ]"
     ]
    }
   ],
   "source": [
    "std::cout << ordered_parameter_dict[\"bias\"];"
   ]
  },
  {
   "cell_type": "markdown",
   "id": "d062a72d",
   "metadata": {},
   "source": [
    "# reference\n",
    "\n",
    "https://discuss.pytorch.org/t/libtorch-c-how-to-initialize-weights-xavier-in-a-sequential-module-with-apply-function/44920/4"
   ]
  },
  {
   "cell_type": "code",
   "execution_count": null,
   "id": "fc212b9a",
   "metadata": {},
   "outputs": [],
   "source": []
  }
 ],
 "metadata": {
  "kernelspec": {
   "display_name": "C++14",
   "language": "C++14",
   "name": "xcpp14"
  },
  "language_info": {
   "codemirror_mode": "text/x-c++src",
   "file_extension": ".cpp",
   "mimetype": "text/x-c++src",
   "name": "c++",
   "version": "14"
  }
 },
 "nbformat": 4,
 "nbformat_minor": 5
}
