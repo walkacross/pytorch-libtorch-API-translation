{
 "cells": [
  {
   "cell_type": "markdown",
   "id": "3fd50f23",
   "metadata": {},
   "source": [
    "# How to use an optimizer\n",
    "\n",
    "To use torch.optim you have to construct an optimizer object, that will hold the current state and will update the parameters based on the computed gradients."
   ]
  },
  {
   "cell_type": "code",
   "execution_count": 1,
   "id": "b8867926",
   "metadata": {},
   "outputs": [],
   "source": [
    "import torch\n",
    "import torch.nn as nn\n",
    "import torch.optim as optim"
   ]
  },
  {
   "cell_type": "code",
   "execution_count": 2,
   "id": "19172886",
   "metadata": {},
   "outputs": [
    {
     "data": {
      "text/plain": [
       "tensor([[1.],\n",
       "        [2.]])"
      ]
     },
     "execution_count": 2,
     "metadata": {},
     "output_type": "execute_result"
    }
   ],
   "source": [
    "torch.tensor([1.0, 2.0]).unsqueeze(-1)"
   ]
  },
  {
   "cell_type": "markdown",
   "id": "1018b827",
   "metadata": {},
   "source": [
    "note: the grad of a **parameter** can be overwritten"
   ]
  },
  {
   "cell_type": "code",
   "execution_count": 3,
   "id": "e1e5b6c8",
   "metadata": {},
   "outputs": [
    {
     "name": "stdout",
     "output_type": "stream",
     "text": [
      "Parameter containing:\n",
      "tensor([[1.],\n",
      "        [2.]], requires_grad=True)\n"
     ]
    }
   ],
   "source": [
    "custom_weights = nn.Parameter(torch.tensor([1.0, 2.0]).unsqueeze(-1))\n",
    "print(custom_weights)"
   ]
  },
  {
   "cell_type": "code",
   "execution_count": 4,
   "id": "86b446ea",
   "metadata": {},
   "outputs": [
    {
     "name": "stdout",
     "output_type": "stream",
     "text": [
      "tensor([[1.],\n",
      "        [1.]])\n"
     ]
    }
   ],
   "source": [
    "custom_weights.grad = torch.ones((2,1))\n",
    "print(custom_weights.grad)"
   ]
  },
  {
   "cell_type": "code",
   "execution_count": 5,
   "id": "92aaa781",
   "metadata": {},
   "outputs": [],
   "source": [
    "learning_rate = 0.1\n",
    "optimizer = optim.SGD([custom_weights], lr=learning_rate)"
   ]
  },
  {
   "cell_type": "code",
   "execution_count": 6,
   "id": "710a5b6a",
   "metadata": {},
   "outputs": [],
   "source": [
    "optimizer.step()"
   ]
  },
  {
   "cell_type": "code",
   "execution_count": 7,
   "id": "6e676db6",
   "metadata": {},
   "outputs": [
    {
     "name": "stdout",
     "output_type": "stream",
     "text": [
      "Parameter containing:\n",
      "tensor([[0.9000],\n",
      "        [1.9000]], requires_grad=True)\n"
     ]
    }
   ],
   "source": [
    "print(custom_weights)"
   ]
  },
  {
   "cell_type": "markdown",
   "id": "5567b439",
   "metadata": {},
   "source": [
    "## understand SGD"
   ]
  },
  {
   "cell_type": "code",
   "execution_count": 8,
   "id": "631e3ca3",
   "metadata": {},
   "outputs": [],
   "source": [
    "class CustomSGDOptimizer(object):\n",
    "    def __init__(self, param, lr):\n",
    "        self.param = param\n",
    "        self.lr = lr\n",
    "    \n",
    "    def step(self):\n",
    "        with torch.no_grad():\n",
    "            self.param.add_(self.param.grad, alpha=-1 * self.lr)"
   ]
  },
  {
   "cell_type": "code",
   "execution_count": 9,
   "id": "25ee276f",
   "metadata": {},
   "outputs": [
    {
     "name": "stdout",
     "output_type": "stream",
     "text": [
      "Parameter containing:\n",
      "tensor([[1.],\n",
      "        [2.]], requires_grad=True)\n"
     ]
    }
   ],
   "source": [
    "custom_weights = nn.Parameter(torch.tensor([1.0, 2.0]).unsqueeze(-1))\n",
    "print(custom_weights)"
   ]
  },
  {
   "cell_type": "code",
   "execution_count": 10,
   "id": "377a1e8a",
   "metadata": {},
   "outputs": [
    {
     "name": "stdout",
     "output_type": "stream",
     "text": [
      "tensor([[1.],\n",
      "        [1.]])\n"
     ]
    }
   ],
   "source": [
    "custom_weights.grad = torch.ones((2,1))\n",
    "print(custom_weights.grad)"
   ]
  },
  {
   "cell_type": "code",
   "execution_count": 11,
   "id": "61df524a",
   "metadata": {},
   "outputs": [],
   "source": [
    "custom_sgd_optimizer = CustomSGDOptimizer(custom_weights, learning_rate)\n",
    "custom_sgd_optimizer.step()"
   ]
  },
  {
   "cell_type": "code",
   "execution_count": 12,
   "id": "45579f0e",
   "metadata": {},
   "outputs": [
    {
     "name": "stdout",
     "output_type": "stream",
     "text": [
      "Parameter containing:\n",
      "tensor([[0.9000],\n",
      "        [1.9000]], requires_grad=True)\n"
     ]
    }
   ],
   "source": [
    "print(custom_weights)"
   ]
  },
  {
   "cell_type": "code",
   "execution_count": null,
   "id": "609ee717",
   "metadata": {},
   "outputs": [],
   "source": []
  }
 ],
 "metadata": {
  "kernelspec": {
   "display_name": "Python 3 (ipykernel)",
   "language": "python",
   "name": "python3"
  },
  "language_info": {
   "codemirror_mode": {
    "name": "ipython",
    "version": 3
   },
   "file_extension": ".py",
   "mimetype": "text/x-python",
   "name": "python",
   "nbconvert_exporter": "python",
   "pygments_lexer": "ipython3",
   "version": "3.10.5"
  }
 },
 "nbformat": 4,
 "nbformat_minor": 5
}
