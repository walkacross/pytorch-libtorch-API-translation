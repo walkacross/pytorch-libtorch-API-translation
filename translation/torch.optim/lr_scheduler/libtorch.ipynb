{
 "cells": [
  {
   "cell_type": "markdown",
   "id": "eadedd3f",
   "metadata": {},
   "source": [
    "# How to adjust learning rate\n",
    "torch.optim.lr_scheduler provides several methods to adjust the learning rate based on the number of epochs."
   ]
  },
  {
   "cell_type": "code",
   "execution_count": 1,
   "id": "4aa4633b",
   "metadata": {},
   "outputs": [],
   "source": [
    "#pragma cling add_include_path(\"../../libtorch/include\")\n",
    "#pragma cling add_include_path(\"../../libtorch/include/torch/csrc/api/include\")\n",
    "#pragma cling add_library_path(\"../../libtorch/lib\")\n",
    "#pragma cling load(\"libtorch\")"
   ]
  },
  {
   "cell_type": "code",
   "execution_count": 2,
   "id": "a2ce6808",
   "metadata": {},
   "outputs": [],
   "source": [
    "#include <iostream>\n",
    "#include <string>\n",
    "#include <tuple>\n",
    "#include <torch/torch.h>\n",
    "namespace nn = torch::nn;"
   ]
  },
  {
   "cell_type": "code",
   "execution_count": 3,
   "id": "db4e6bde",
   "metadata": {},
   "outputs": [],
   "source": [
    "torch::optim::SGD create_optimizer(){\n",
    "    torch::Tensor w = torch::tensor({1.0, 2.0}, torch::requires_grad());\n",
    "    w.sum().backward();\n",
    "    auto option = torch::optim::SGDOptions(0.1);\n",
    "    torch::optim::SGD oprimizer({w}, option);\n",
    "    return oprimizer;\n",
    "}"
   ]
  },
  {
   "cell_type": "code",
   "execution_count": 4,
   "id": "45f3119f",
   "metadata": {},
   "outputs": [],
   "source": [
    "torch::optim::SGD optimizer = create_optimizer();\n",
    "\n",
    "torch::optim::StepLR scheduler(optimizer, /*step_size*/5, /*gamma*/0.5);"
   ]
  },
  {
   "cell_type": "code",
   "execution_count": 5,
   "id": "dc708a1f",
   "metadata": {},
   "outputs": [],
   "source": [
    "auto param_group = optimizer.param_groups();"
   ]
  },
  {
   "cell_type": "code",
   "execution_count": 6,
   "id": "4453e6da",
   "metadata": {},
   "outputs": [],
   "source": [
    "auto param = param_group.at(0);"
   ]
  },
  {
   "cell_type": "code",
   "execution_count": 7,
   "id": "c921b1bd",
   "metadata": {},
   "outputs": [
    {
     "name": "stdout",
     "output_type": "stream",
     "text": [
      "0.1"
     ]
    }
   ],
   "source": [
    "std::cout << param.options().get_lr();"
   ]
  },
  {
   "cell_type": "code",
   "execution_count": 8,
   "id": "07613f69",
   "metadata": {},
   "outputs": [
    {
     "name": "stdout",
     "output_type": "stream",
     "text": [
      "0.1\n",
      "0.1\n",
      "0.1\n",
      "0.1\n",
      "0.1\n",
      "0.05\n",
      "0.05\n",
      "0.05\n",
      "0.05\n",
      "0.05\n",
      "0.025\n",
      "0.025\n",
      "0.025\n",
      "0.025\n",
      "0.025\n",
      "0.0125\n",
      "0.0125\n",
      "0.0125\n",
      "0.0125\n",
      "0.0125\n"
     ]
    }
   ],
   "source": [
    "int epochs = 20;\n",
    "for(int i=1; i<=epochs; i++){\n",
    "    scheduler.step();\n",
    "    std::cout << optimizer.param_groups().at(0).options().get_lr() << std::endl;\n",
    "}"
   ]
  }
 ],
 "metadata": {
  "kernelspec": {
   "display_name": "C++17",
   "language": "C++17",
   "name": "xcpp17"
  },
  "language_info": {
   "codemirror_mode": "text/x-c++src",
   "file_extension": ".cpp",
   "mimetype": "text/x-c++src",
   "name": "c++",
   "version": "17"
  }
 },
 "nbformat": 4,
 "nbformat_minor": 5
}
