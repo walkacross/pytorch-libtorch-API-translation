{
 "cells": [
  {
   "cell_type": "markdown",
   "id": "d0993dd9",
   "metadata": {},
   "source": [
    "# dataloader"
   ]
  },
  {
   "cell_type": "markdown",
   "id": "789a9de7",
   "metadata": {},
   "source": [
    "https://github.com/pytorch/pytorch/blob/master/torch/csrc/api/include/torch/data/dataloader.h"
   ]
  },
  {
   "cell_type": "code",
   "execution_count": 1,
   "id": "88ac13d5",
   "metadata": {},
   "outputs": [],
   "source": [
    "#pragma cling add_include_path(\"../../libtorch/include\")\n",
    "#pragma cling add_include_path(\"../../libtorch/include/torch/csrc/api/include\")\n",
    "#pragma cling add_library_path(\"../../libtorch/lib\")\n",
    "#pragma cling load(\"libtorch\")"
   ]
  },
  {
   "cell_type": "code",
   "execution_count": 2,
   "id": "9ef8da97",
   "metadata": {},
   "outputs": [],
   "source": [
    "#include <iostream>\n",
    "#include <cstddef>\n",
    "#include <torch/torch.h>"
   ]
  },
  {
   "cell_type": "markdown",
   "id": "70e3c65b",
   "metadata": {},
   "source": [
    "## step1: create custom dataset"
   ]
  },
  {
   "cell_type": "code",
   "execution_count": 3,
   "id": "a5b94b98",
   "metadata": {},
   "outputs": [
    {
     "name": "stdout",
     "output_type": "stream",
     "text": [
      "  0   1   2\n",
      "  3   4   5\n",
      "  6   7   8\n",
      "  9  10  11\n",
      " 12  13  14\n",
      "[ CPUFloatType{5,3} ]\n"
     ]
    }
   ],
   "source": [
    "int sample_size = 5;\n",
    "int number_features = 3;\n",
    "\n",
    "torch::Tensor features = torch::arange(sample_size*number_features).reshape({sample_size,number_features}) * 1.0;\n",
    "std::cout << features << std::endl;\n"
   ]
  },
  {
   "cell_type": "code",
   "execution_count": 4,
   "id": "14be8454",
   "metadata": {},
   "outputs": [
    {
     "name": "stdout",
     "output_type": "stream",
     "text": [
      " 2\n",
      " 0\n",
      " 1\n",
      " 0\n",
      " 2\n",
      "[ CPUFloatType{5} ]\n"
     ]
    }
   ],
   "source": [
    "torch::Tensor label = torch::randint(/*low=*/0, /*high=*/3, /*size=*/{sample_size,});\n",
    "std::cout << label << std::endl;"
   ]
  },
  {
   "cell_type": "code",
   "execution_count": 5,
   "id": "e93bd974",
   "metadata": {},
   "outputs": [],
   "source": [
    "class CustomDataset : public torch::data::Dataset<CustomDataset>{\n",
    "    private:\n",
    "        torch::Tensor __features;\n",
    "        torch::Tensor __labels;\n",
    "    \n",
    "    public:\n",
    "    CustomDataset(torch::Tensor features, torch::Tensor labels):__features(features),__labels(labels){\n",
    "        \n",
    "    }\n",
    "    \n",
    "    torch::data::Example<> get(std::size_t index) override{\n",
    "        torch::Tensor sample_features = __features[index];\n",
    "        torch::Tensor sample_label = __labels[index];\n",
    "        return {sample_features.clone(), sample_label.clone()};\n",
    "    }\n",
    "    \n",
    "    torch::optional<std::size_t> size() const override{\n",
    "        return __features.sizes()[0];\n",
    "    }\n",
    "}"
   ]
  },
  {
   "cell_type": "code",
   "execution_count": 6,
   "id": "4838d20d",
   "metadata": {},
   "outputs": [
    {
     "name": "stdout",
     "output_type": "stream",
     "text": [
      "5"
     ]
    }
   ],
   "source": [
    "std::cout << features.sizes()[0];"
   ]
  },
  {
   "cell_type": "code",
   "execution_count": 7,
   "id": "05287f57",
   "metadata": {},
   "outputs": [],
   "source": [
    "//std::cout << features.size(0);"
   ]
  },
  {
   "cell_type": "code",
   "execution_count": 8,
   "id": "204bd280",
   "metadata": {},
   "outputs": [],
   "source": [
    "auto dataset = CustomDataset(features, label);\n",
    "//auto stacked_dataset = dataset.map(torch::data::transforms::Stack<>());"
   ]
  },
  {
   "cell_type": "code",
   "execution_count": 9,
   "id": "54a3aac2",
   "metadata": {},
   "outputs": [
    {
     "name": "stdout",
     "output_type": "stream",
     "text": [
      " 0\n",
      " 1\n",
      " 2\n",
      "[ CPUFloatType{3} ]"
     ]
    }
   ],
   "source": [
    "std::cout << dataset.get(0).data;"
   ]
  },
  {
   "cell_type": "code",
   "execution_count": 10,
   "id": "9cea8c93",
   "metadata": {},
   "outputs": [
    {
     "name": "stdout",
     "output_type": "stream",
     "text": [
      "2\n",
      "[ CPUFloatType{} ]"
     ]
    }
   ],
   "source": [
    "std::cout << dataset.get(0).target;"
   ]
  },
  {
   "cell_type": "code",
   "execution_count": 11,
   "id": "876ebd6b",
   "metadata": {},
   "outputs": [
    {
     "name": "stdout",
     "output_type": "stream",
     "text": [
      " 3\n",
      " 4\n",
      " 5\n",
      "[ CPUFloatType{3} ]"
     ]
    }
   ],
   "source": [
    "std::cout << dataset.get(1).data;"
   ]
  },
  {
   "cell_type": "code",
   "execution_count": 12,
   "id": "92719627",
   "metadata": {},
   "outputs": [],
   "source": [
    "auto stacked_dataset = dataset.map(torch::data::transforms::Stack<>());"
   ]
  },
  {
   "cell_type": "markdown",
   "id": "399375b9",
   "metadata": {},
   "source": [
    "## step2: create data loader"
   ]
  },
  {
   "cell_type": "code",
   "execution_count": 13,
   "id": "ee63e989",
   "metadata": {},
   "outputs": [],
   "source": [
    "int batch_size = 2;\n",
    "torch::data::DataLoaderOptions options = torch::data::DataLoaderOptions().batch_size(batch_size).drop_last(false);"
   ]
  },
  {
   "cell_type": "code",
   "execution_count": 14,
   "id": "eba535fb",
   "metadata": {},
   "outputs": [],
   "source": [
    "auto data_loader = torch::data::make_data_loader<torch::data::samplers::SequentialSampler>(std::move(stacked_dataset), options);"
   ]
  },
  {
   "cell_type": "code",
   "execution_count": 18,
   "id": "88da85ab",
   "metadata": {},
   "outputs": [
    {
     "name": "stdout",
     "output_type": "stream",
     "text": [
      " 0  1  2\n",
      " 3  4  5\n",
      "[ CPUFloatType{2,3} ]\n",
      "---------\n",
      " 2\n",
      " 0\n",
      "[ CPUFloatType{2} ]\n",
      "---------\n",
      "  6   7   8\n",
      "  9  10  11\n",
      "[ CPUFloatType{2,3} ]\n",
      "---------\n",
      " 1\n",
      " 0\n",
      "[ CPUFloatType{2} ]\n",
      "---------\n",
      " 12  13  14\n",
      "[ CPUFloatType{1,3} ]\n",
      "---------\n",
      " 2\n",
      "[ CPUFloatType{1} ]\n",
      "---------\n"
     ]
    }
   ],
   "source": [
    "for(auto& batch : *data_loader){\n",
    "    std::cout << batch.data << std::endl;\n",
    "    std::cout << \"---------\" << std::endl;\n",
    "    std::cout << batch.target << std::endl;\n",
    "    std::cout << \"---------\" << std::endl;\n",
    "}"
   ]
  },
  {
   "cell_type": "code",
   "execution_count": null,
   "id": "429f3f54",
   "metadata": {},
   "outputs": [],
   "source": []
  }
 ],
 "metadata": {
  "kernelspec": {
   "display_name": "C++17",
   "language": "C++17",
   "name": "xcpp17"
  },
  "language_info": {
   "codemirror_mode": "text/x-c++src",
   "file_extension": ".cpp",
   "mimetype": "text/x-c++src",
   "name": "c++",
   "version": "17"
  }
 },
 "nbformat": 4,
 "nbformat_minor": 5
}
