{
 "cells": [
  {
   "cell_type": "markdown",
   "id": "d0993dd9",
   "metadata": {},
   "source": [
    "# dataloader"
   ]
  },
  {
   "cell_type": "markdown",
   "id": "789a9de7",
   "metadata": {},
   "source": [
    "https://github.com/pytorch/pytorch/blob/master/torch/csrc/api/include/torch/data/dataloader.h"
   ]
  },
  {
   "cell_type": "code",
   "execution_count": 1,
   "id": "88ac13d5",
   "metadata": {},
   "outputs": [],
   "source": [
    "#pragma cling add_include_path(\"../../libtorch/include\")\n",
    "#pragma cling add_include_path(\"../../libtorch/include/torch/csrc/api/include\")\n",
    "#pragma cling add_library_path(\"../../libtorch/lib\")\n",
    "#pragma cling load(\"libtorch\")"
   ]
  },
  {
   "cell_type": "code",
   "execution_count": 2,
   "id": "9ef8da97",
   "metadata": {},
   "outputs": [],
   "source": [
    "#include <iostream>\n",
    "#include <torch/torch.h>"
   ]
  },
  {
   "cell_type": "markdown",
   "id": "70e3c65b",
   "metadata": {},
   "source": [
    "## step1: create custom dataset"
   ]
  },
  {
   "cell_type": "code",
   "execution_count": 3,
   "id": "a5b94b98",
   "metadata": {},
   "outputs": [
    {
     "name": "stdout",
     "output_type": "stream",
     "text": [
      "  0   1   2\n",
      "  3   4   5\n",
      "  6   7   8\n",
      "  9  10  11\n",
      " 12  13  14\n",
      "[ CPUFloatType{5,3} ]\n"
     ]
    }
   ],
   "source": [
    "int sample_size = 5;\n",
    "int number_features = 3;\n",
    "\n",
    "torch::Tensor features = torch::arange(sample_size*number_features).reshape({sample_size,number_features}) * 1.0;\n",
    "std::cout << features << std::endl;\n"
   ]
  },
  {
   "cell_type": "code",
   "execution_count": 4,
   "id": "14be8454",
   "metadata": {},
   "outputs": [
    {
     "name": "stdout",
     "output_type": "stream",
     "text": [
      " 1\n",
      " 2\n",
      " 0\n",
      " 2\n",
      " 0\n",
      "[ CPUFloatType{5} ]\n"
     ]
    }
   ],
   "source": [
    "torch::Tensor label = torch::randint(/*low=*/0, /*high=*/3, /*size=*/{sample_size,});\n",
    "std::cout << label << std::endl;"
   ]
  },
  {
   "cell_type": "code",
   "execution_count": 5,
   "id": "e93bd974",
   "metadata": {},
   "outputs": [],
   "source": [
    "class CustomDataset : torch::data::Dataset<CustomDataset>{\n",
    "    private:\n",
    "        torch::Tensor __features;\n",
    "        torch::Tensor __labels;\n",
    "    \n",
    "    public:\n",
    "    CustomDataset(torch::Tensor features, torch::Tensor labels):__features(features),__labels(labels){\n",
    "        \n",
    "    }\n",
    "    \n",
    "    torch::data::Example<> get(size_t index){\n",
    "        torch::Tensor sample_features = __features[index];\n",
    "        torch::Tensor sample_label = __labels[index];\n",
    "        return {sample_features.clone(), sample_label.clone()};\n",
    "    }\n",
    "    \n",
    "    torch::optional <size_t> size() const {\n",
    "        return __features.sizes()[0];\n",
    "    }\n",
    "}"
   ]
  },
  {
   "cell_type": "code",
   "execution_count": 6,
   "id": "204bd280",
   "metadata": {},
   "outputs": [],
   "source": [
    "CustomDataset dataset(features, label);"
   ]
  },
  {
   "cell_type": "markdown",
   "id": "399375b9",
   "metadata": {},
   "source": [
    "## step2: create data loader"
   ]
  },
  {
   "cell_type": "code",
   "execution_count": 9,
   "id": "ee63e989",
   "metadata": {},
   "outputs": [],
   "source": [
    "int batch_size = 2;\n",
    "torch::data::DataLoaderOptions options = torch::data::DataLoaderOptions(batch_size).drop_last(false);"
   ]
  },
  {
   "cell_type": "code",
   "execution_count": 10,
   "id": "eba535fb",
   "metadata": {},
   "outputs": [
    {
     "name": "stderr",
     "output_type": "stream",
     "text": [
      "\u001b[1minput_line_16:2:21: \u001b[0m\u001b[0;1;31merror: \u001b[0m\u001b[1mno matching function for call to 'make_data_loader'\u001b[0m\n",
      "  ...torch::data::make_data_loader<torch::data::samplers::SequentialSampler>(...\n",
      "\u001b[0;1;32m     ^~~~~~~~~~~~~~~~~~~~~~~~~~~~~~~~~~~~~~~~~~~~~~~~~~~~~~~~~~~~~~~~~~~~~~~\n",
      "\u001b[0m\u001b[1m../../libtorch/include/torch/csrc/api/include/torch/data/dataloader.h:38:1: \u001b[0m\u001b[0;1;30mnote: \u001b[0mcandidate template ignored: substitution failure [with Sampler =\n",
      "      torch::data::samplers::SequentialSampler, Dataset =\n",
      "      __cling_N54::CustomDataset]: 'is_stateful' is a private member of\n",
      "      'torch::data::datasets::BatchDataset<__cling_N54::CustomDataset,\n",
      "      std::vector<torch::data::Example<at::Tensor, at::Tensor>,\n",
      "      std::allocator<torch::data::Example<at::Tensor, at::Tensor> > >,\n",
      "      c10::ArrayRef<unsigned long> >'\u001b[0m\n",
      "make_data_loader(\n",
      "\u001b[0;1;32m^\n",
      "\u001b[0m\u001b[1m../../libtorch/include/torch/csrc/api/include/torch/data/dataloader.h:53:46: \u001b[0m\u001b[0;1;30mnote: \u001b[0mcandidate template ignored: substitution failure [with Dataset =\n",
      "      torch::data::samplers::SequentialSampler]: no member named 'is_stateful'\n",
      "      in 'torch::data::samplers::SequentialSampler'\u001b[0m\n",
      "std::unique_ptr<StatefulDataLoader<Dataset>> make_data_loader(\n",
      "\u001b[0;1;32m                                             ^\n",
      "\u001b[0m\u001b[1m../../libtorch/include/torch/csrc/api/include/torch/data/dataloader.h:25:1: \u001b[0m\u001b[0;1;30mnote: \u001b[0mcandidate function template not viable: requires 3 arguments, but 2 were\n",
      "      provided\u001b[0m\n",
      "make_data_loader(Dataset dataset, Sampler sampler, DataLoaderOptions options) {\n",
      "\u001b[0;1;32m^\n",
      "\u001b[0m"
     ]
    },
    {
     "ename": "Interpreter Error",
     "evalue": "",
     "output_type": "error",
     "traceback": [
      "Interpreter Error: "
     ]
    }
   ],
   "source": [
    "//auto data_loader = torch::data::make_data_loader<torch::data::samplers::SequentialSampler>(std::move(dataset), options);"
   ]
  },
  {
   "cell_type": "code",
   "execution_count": null,
   "id": "88da85ab",
   "metadata": {},
   "outputs": [],
   "source": []
  }
 ],
 "metadata": {
  "kernelspec": {
   "display_name": "C++17",
   "language": "C++17",
   "name": "xcpp17"
  },
  "language_info": {
   "codemirror_mode": "text/x-c++src",
   "file_extension": ".cpp",
   "mimetype": "text/x-c++src",
   "name": "c++",
   "version": "17"
  }
 },
 "nbformat": 4,
 "nbformat_minor": 5
}
