{
 "cells": [
  {
   "cell_type": "markdown",
   "id": "b9c549b2",
   "metadata": {},
   "source": [
    "# Dataset in pytorch"
   ]
  },
  {
   "cell_type": "markdown",
   "id": "58535749",
   "metadata": {},
   "source": [
    "PyTorch supports two different types of datasets:\n",
    "\n",
    "* map-style datasets,\n",
    "\n",
    "* iterable-style datasets.\n",
    "\n",
    "Map-style datasets\n",
    "A map-style dataset is one that implements the __getitem__() and __len__() protocols, and represents a map from (possibly non-integral) indices/keys to data samples.\n",
    "\n",
    "For example, such a dataset, when accessed with dataset[idx], could read the idx-th image and its corresponding label from a folder on the disk."
   ]
  },
  {
   "cell_type": "code",
   "execution_count": 1,
   "id": "543e1899",
   "metadata": {},
   "outputs": [],
   "source": [
    "import torch\n",
    "from torch.utils.data import Dataset"
   ]
  },
  {
   "cell_type": "code",
   "execution_count": 6,
   "id": "86608590",
   "metadata": {},
   "outputs": [
    {
     "name": "stdout",
     "output_type": "stream",
     "text": [
      "tensor([[ 0.,  1.,  2.],\n",
      "        [ 3.,  4.,  5.],\n",
      "        [ 6.,  7.,  8.],\n",
      "        [ 9., 10., 11.],\n",
      "        [12., 13., 14.]])\n",
      "tensor([0., 1., 2.])\n"
     ]
    }
   ],
   "source": [
    "sample_size = 5\n",
    "number_features =  3\n",
    "\n",
    "features = torch.arange(sample_size*number_features).reshape(sample_size, number_features) * 1.0\n",
    "print(features)\n",
    "print(features[0])"
   ]
  },
  {
   "cell_type": "code",
   "execution_count": 7,
   "id": "d73f5862",
   "metadata": {},
   "outputs": [
    {
     "name": "stdout",
     "output_type": "stream",
     "text": [
      "tensor([0, 2, 2, 0, 2])\n"
     ]
    },
    {
     "data": {
      "text/plain": [
       "tensor(0)"
      ]
     },
     "execution_count": 7,
     "metadata": {},
     "output_type": "execute_result"
    }
   ],
   "source": [
    "label = torch.randint(low=0, high=3, size=(sample_size,))\n",
    "print(label)\n",
    "label[0]"
   ]
  },
  {
   "cell_type": "code",
   "execution_count": 9,
   "id": "42fd6095",
   "metadata": {},
   "outputs": [
    {
     "data": {
      "text/plain": [
       "5"
      ]
     },
     "execution_count": 9,
     "metadata": {},
     "output_type": "execute_result"
    }
   ],
   "source": [
    "label.shape[0]"
   ]
  },
  {
   "cell_type": "code",
   "execution_count": 12,
   "id": "53aed1cd",
   "metadata": {},
   "outputs": [],
   "source": [
    "class CustomDataset(Dataset):\n",
    "    def __init__(self, features, labels):\n",
    "        super(CustomDataset, self).__init__()\n",
    "        self.features = features\n",
    "        self.labels = labels\n",
    "        assert features.shape[0] == labels.shape[0]\n",
    "    \n",
    "    def __getitem__(self, i):\n",
    "        return self.features[i], self.labels[i]\n",
    "    \n",
    "    def __len__(self):\n",
    "        return self.features.shape[0]\n",
    "    "
   ]
  },
  {
   "cell_type": "code",
   "execution_count": 13,
   "id": "ffcf6d55",
   "metadata": {},
   "outputs": [],
   "source": [
    "dataset = CustomDataset(features, label)"
   ]
  },
  {
   "cell_type": "code",
   "execution_count": 14,
   "id": "22f780c2",
   "metadata": {},
   "outputs": [
    {
     "name": "stdout",
     "output_type": "stream",
     "text": [
      "5\n"
     ]
    }
   ],
   "source": [
    "print(len(dataset))"
   ]
  },
  {
   "cell_type": "code",
   "execution_count": 16,
   "id": "69f7745a",
   "metadata": {},
   "outputs": [
    {
     "name": "stdout",
     "output_type": "stream",
     "text": [
      "tensor([0., 1., 2.])\n",
      "tensor(0)\n"
     ]
    }
   ],
   "source": [
    "sampel_feature, sample_label = dataset[0]\n",
    "print(sampel_feature)\n",
    "print(sample_label)"
   ]
  },
  {
   "cell_type": "code",
   "execution_count": 17,
   "id": "cfc28b9b",
   "metadata": {},
   "outputs": [
    {
     "name": "stdout",
     "output_type": "stream",
     "text": [
      "tensor([3., 4., 5.])\n",
      "tensor(2)\n"
     ]
    }
   ],
   "source": [
    "sampel_feature, sample_label = dataset[1]\n",
    "print(sampel_feature)\n",
    "print(sample_label)"
   ]
  },
  {
   "cell_type": "code",
   "execution_count": null,
   "id": "7114ddba",
   "metadata": {},
   "outputs": [],
   "source": []
  }
 ],
 "metadata": {
  "kernelspec": {
   "display_name": "Python 3 (ipykernel)",
   "language": "python",
   "name": "python3"
  },
  "language_info": {
   "codemirror_mode": {
    "name": "ipython",
    "version": 3
   },
   "file_extension": ".py",
   "mimetype": "text/x-python",
   "name": "python",
   "nbconvert_exporter": "python",
   "pygments_lexer": "ipython3",
   "version": "3.10.5"
  }
 },
 "nbformat": 4,
 "nbformat_minor": 5
}
