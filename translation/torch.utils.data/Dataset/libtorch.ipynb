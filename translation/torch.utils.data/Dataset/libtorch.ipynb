{
 "cells": [
  {
   "cell_type": "markdown",
   "id": "aa7fb362",
   "metadata": {},
   "source": [
    "# Dataset in libtorch"
   ]
  },
  {
   "cell_type": "markdown",
   "id": "e839950e",
   "metadata": {},
   "source": [
    "https://github.com/pytorch/pytorch/blob/master/torch/csrc/api/include/torch/data/datasets/base.h"
   ]
  },
  {
   "cell_type": "code",
   "execution_count": 1,
   "id": "23f8fce9",
   "metadata": {},
   "outputs": [],
   "source": [
    "#pragma cling add_include_path(\"../../libtorch/include\")\n",
    "#pragma cling add_include_path(\"../../libtorch/include/torch/csrc/api/include\")\n",
    "#pragma cling add_library_path(\"../../libtorch/lib\")\n",
    "#pragma cling load(\"libtorch\")"
   ]
  },
  {
   "cell_type": "code",
   "execution_count": 2,
   "id": "f8470e0c",
   "metadata": {},
   "outputs": [],
   "source": [
    "#include <iostream>\n",
    "#include <torch/torch.h>"
   ]
  },
  {
   "cell_type": "code",
   "execution_count": 3,
   "id": "2311025a",
   "metadata": {},
   "outputs": [],
   "source": [
    "int sample_size = 5;\n",
    "int number_features = 3;\n",
    "\n",
    "torch::Tensor features = torch::arange(sample_size*number_features).reshape({sample_size,number_features}) * 1.0;"
   ]
  },
  {
   "cell_type": "code",
   "execution_count": 4,
   "id": "d3dcf689",
   "metadata": {},
   "outputs": [
    {
     "name": "stdout",
     "output_type": "stream",
     "text": [
      "  0   1   2\n",
      "  3   4   5\n",
      "  6   7   8\n",
      "  9  10  11\n",
      " 12  13  14\n",
      "[ CPUFloatType{5,3} ]\n"
     ]
    }
   ],
   "source": [
    "std::cout << features << std::endl;"
   ]
  },
  {
   "cell_type": "code",
   "execution_count": 5,
   "id": "c5465bc7",
   "metadata": {},
   "outputs": [],
   "source": [
    "torch::Tensor label = torch::randint(/*low=*/0, /*high=*/3, /*size=*/{sample_size,});"
   ]
  },
  {
   "cell_type": "code",
   "execution_count": 6,
   "id": "c4d52acc",
   "metadata": {},
   "outputs": [
    {
     "name": "stdout",
     "output_type": "stream",
     "text": [
      " 2\n",
      " 0\n",
      " 0\n",
      " 0\n",
      " 1\n",
      "[ CPUFloatType{5} ]\n"
     ]
    }
   ],
   "source": [
    "std::cout << label << std::endl;"
   ]
  },
  {
   "cell_type": "code",
   "execution_count": 7,
   "id": "3e833688",
   "metadata": {},
   "outputs": [],
   "source": [
    "class CustomDataset : public torch::data::Dataset<CustomDataset>{\n",
    "    private:\n",
    "        torch::Tensor __features;\n",
    "        torch::Tensor __labels;\n",
    "    \n",
    "    public:\n",
    "    CustomDataset(torch::Tensor features, torch::Tensor labels):__features(features),__labels(labels){\n",
    "        \n",
    "    }\n",
    "    \n",
    "    torch::data::Example<> get(size_t index){\n",
    "        torch::Tensor sample_features = __features[index];\n",
    "        torch::Tensor sample_label = __labels[index];\n",
    "        return {sample_features.clone(), sample_label.clone()};\n",
    "    }\n",
    "    \n",
    "    torch::optional <size_t> size() const {\n",
    "        return __features.sizes()[0];\n",
    "    }\n",
    "}"
   ]
  },
  {
   "cell_type": "code",
   "execution_count": 8,
   "id": "c70e2b18",
   "metadata": {},
   "outputs": [],
   "source": [
    "CustomDataset dataset(features, label);"
   ]
  },
  {
   "cell_type": "code",
   "execution_count": 9,
   "id": "bd7b5293",
   "metadata": {},
   "outputs": [],
   "source": [
    "torch::data::Example<> sample = dataset.get(0);"
   ]
  },
  {
   "cell_type": "code",
   "execution_count": 10,
   "id": "ee44b671",
   "metadata": {},
   "outputs": [
    {
     "name": "stdout",
     "output_type": "stream",
     "text": [
      " 0\n",
      " 1\n",
      " 2\n",
      "[ CPUFloatType{3} ]\n"
     ]
    }
   ],
   "source": [
    "std::cout << sample.data << std::endl;"
   ]
  },
  {
   "cell_type": "code",
   "execution_count": 11,
   "id": "c01e3011",
   "metadata": {},
   "outputs": [
    {
     "name": "stdout",
     "output_type": "stream",
     "text": [
      "2\n",
      "[ CPUFloatType{} ]\n"
     ]
    }
   ],
   "source": [
    "std::cout << sample.target << std::endl;"
   ]
  },
  {
   "cell_type": "code",
   "execution_count": 12,
   "id": "7f738aac",
   "metadata": {},
   "outputs": [
    {
     "name": "stdout",
     "output_type": "stream",
     "text": [
      "(*, *, *, *, *)\n"
     ]
    }
   ],
   "source": [
    "std::cout << dataset.size() << std::endl;"
   ]
  },
  {
   "cell_type": "code",
   "execution_count": null,
   "id": "e570a667",
   "metadata": {},
   "outputs": [],
   "source": []
  }
 ],
 "metadata": {
  "kernelspec": {
   "display_name": "C++17",
   "language": "C++17",
   "name": "xcpp17"
  },
  "language_info": {
   "codemirror_mode": "text/x-c++src",
   "file_extension": ".cpp",
   "mimetype": "text/x-c++src",
   "name": "c++",
   "version": "17"
  }
 },
 "nbformat": 4,
 "nbformat_minor": 5
}
