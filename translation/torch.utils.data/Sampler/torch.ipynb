{
 "cells": [
  {
   "cell_type": "markdown",
   "id": "76649548",
   "metadata": {},
   "source": [
    "# Sampler"
   ]
  },
  {
   "cell_type": "markdown",
   "id": "997b7986",
   "metadata": {},
   "source": [
    "torch.utils.data.Sampler\n",
    "\n",
    "Base class for all Samplers.\n",
    "Every Sampler subclass has to provide an __iter__() method, providing a way to iterate over indices of dataset elements, and a __len__() method that returns the length of the returned iterators"
   ]
  },
  {
   "cell_type": "code",
   "execution_count": 1,
   "id": "c13dd2fa",
   "metadata": {},
   "outputs": [],
   "source": [
    "import torch"
   ]
  },
  {
   "cell_type": "code",
   "execution_count": 2,
   "id": "962937a0",
   "metadata": {},
   "outputs": [],
   "source": [
    "data_source = [2,5,7,11,22,33,1,3,4,55]"
   ]
  },
  {
   "cell_type": "markdown",
   "id": "6576e2d8",
   "metadata": {},
   "source": [
    "## SequentialSampler"
   ]
  },
  {
   "cell_type": "code",
   "execution_count": 3,
   "id": "ac467aae",
   "metadata": {},
   "outputs": [
    {
     "name": "stdout",
     "output_type": "stream",
     "text": [
      "[0, 1, 2, 3, 4, 5, 6, 7, 8, 9]\n"
     ]
    }
   ],
   "source": [
    "# ================================================= #\n",
    "# sampler                                           #\n",
    "# ================================================= #\n",
    "sampler1 = torch.utils.data.SequentialSampler(data_source=data_source)\n",
    "print(list(sampler1))"
   ]
  },
  {
   "cell_type": "code",
   "execution_count": 4,
   "id": "960c47bf",
   "metadata": {},
   "outputs": [],
   "source": [
    "sampler_iterater = iter(sampler1)"
   ]
  },
  {
   "cell_type": "code",
   "execution_count": 5,
   "id": "250b8815",
   "metadata": {},
   "outputs": [],
   "source": [
    "#next(sampler_iterater)\n",
    "#next(sampler_iterater)"
   ]
  },
  {
   "cell_type": "code",
   "execution_count": 6,
   "id": "9e463cd0",
   "metadata": {},
   "outputs": [
    {
     "name": "stdout",
     "output_type": "stream",
     "text": [
      "0\n",
      "2\n",
      "----------\n",
      "1\n",
      "5\n",
      "----------\n",
      "2\n",
      "7\n",
      "----------\n",
      "3\n",
      "11\n",
      "----------\n",
      "4\n",
      "22\n",
      "----------\n",
      "5\n",
      "33\n",
      "----------\n",
      "6\n",
      "1\n",
      "----------\n",
      "7\n",
      "3\n",
      "----------\n",
      "8\n",
      "4\n",
      "----------\n",
      "9\n",
      "55\n",
      "----------\n"
     ]
    }
   ],
   "source": [
    "while True:\n",
    "    try:\n",
    "        idx = next(sampler_iterater)\n",
    "        print(idx)\n",
    "        print(data_source[idx])\n",
    "        print(\"----------\")\n",
    "    except:\n",
    "        break"
   ]
  },
  {
   "cell_type": "markdown",
   "id": "8cadc2d5",
   "metadata": {},
   "source": [
    "## RandomSampler"
   ]
  },
  {
   "cell_type": "code",
   "execution_count": 7,
   "id": "3bd7069e",
   "metadata": {},
   "outputs": [
    {
     "name": "stdout",
     "output_type": "stream",
     "text": [
      "10\n"
     ]
    }
   ],
   "source": [
    "sampler2 = torch.utils.data.RandomSampler(data_source=data_source, replacement=False, num_samples=None)\n",
    "#print(list(sampler2))\n",
    "print(len(sampler2))"
   ]
  },
  {
   "cell_type": "code",
   "execution_count": 8,
   "id": "cf6c5e7a",
   "metadata": {},
   "outputs": [],
   "source": [
    "sampler_iterater = iter(sampler2)"
   ]
  },
  {
   "cell_type": "code",
   "execution_count": 9,
   "id": "fcfceacb",
   "metadata": {},
   "outputs": [
    {
     "name": "stdout",
     "output_type": "stream",
     "text": [
      "0\n",
      "2\n",
      "----------\n",
      "5\n",
      "33\n",
      "----------\n",
      "4\n",
      "22\n",
      "----------\n",
      "9\n",
      "55\n",
      "----------\n",
      "1\n",
      "5\n",
      "----------\n",
      "6\n",
      "1\n",
      "----------\n",
      "8\n",
      "4\n",
      "----------\n",
      "2\n",
      "7\n",
      "----------\n",
      "3\n",
      "11\n",
      "----------\n",
      "7\n",
      "3\n",
      "----------\n"
     ]
    }
   ],
   "source": [
    "while True:\n",
    "    try:\n",
    "        idx = next(sampler_iterater)\n",
    "        print(idx)\n",
    "        print(data_source[idx])\n",
    "        print(\"----------\")\n",
    "    except:\n",
    "        break"
   ]
  },
  {
   "cell_type": "code",
   "execution_count": 10,
   "id": "b849d485",
   "metadata": {},
   "outputs": [
    {
     "name": "stdout",
     "output_type": "stream",
     "text": [
      "10\n"
     ]
    }
   ],
   "source": [
    "sampler3 = torch.utils.data.RandomSampler(data_source=data_source, replacement=False)\n",
    "#print(list(sampler2))\n",
    "print(len(sampler3))"
   ]
  },
  {
   "cell_type": "code",
   "execution_count": 13,
   "id": "5735ed29",
   "metadata": {},
   "outputs": [],
   "source": [
    "sampler_iterater = iter(sampler3)"
   ]
  },
  {
   "cell_type": "code",
   "execution_count": 14,
   "id": "7473006e",
   "metadata": {},
   "outputs": [
    {
     "name": "stdout",
     "output_type": "stream",
     "text": [
      "8\n",
      "4\n",
      "----------\n",
      "4\n",
      "22\n",
      "----------\n",
      "9\n",
      "55\n",
      "----------\n",
      "5\n",
      "33\n",
      "----------\n",
      "7\n",
      "3\n",
      "----------\n",
      "2\n",
      "7\n",
      "----------\n",
      "1\n",
      "5\n",
      "----------\n",
      "3\n",
      "11\n",
      "----------\n",
      "6\n",
      "1\n",
      "----------\n",
      "0\n",
      "2\n",
      "----------\n"
     ]
    }
   ],
   "source": [
    "while True:\n",
    "    try:\n",
    "        idx = next(sampler_iterater)\n",
    "        print(idx)\n",
    "        print(data_source[idx])\n",
    "        print(\"----------\")\n",
    "    except:\n",
    "        break"
   ]
  },
  {
   "cell_type": "code",
   "execution_count": 11,
   "id": "be67037b",
   "metadata": {},
   "outputs": [
    {
     "name": "stdout",
     "output_type": "stream",
     "text": [
      "5\n"
     ]
    }
   ],
   "source": [
    "sampler4 = torch.utils.data.RandomSampler(data_source=data_source, replacement=True, num_samples=5)\n",
    "#print(list(sampler4))\n",
    "print(len(sampler4))"
   ]
  },
  {
   "cell_type": "code",
   "execution_count": 15,
   "id": "b4120b78",
   "metadata": {},
   "outputs": [],
   "source": [
    "sampler_iterater = iter(sampler4)"
   ]
  },
  {
   "cell_type": "code",
   "execution_count": 16,
   "id": "07663ffd",
   "metadata": {},
   "outputs": [
    {
     "name": "stdout",
     "output_type": "stream",
     "text": [
      "3\n",
      "11\n",
      "----------\n",
      "6\n",
      "1\n",
      "----------\n",
      "2\n",
      "7\n",
      "----------\n",
      "3\n",
      "11\n",
      "----------\n",
      "5\n",
      "33\n",
      "----------\n"
     ]
    }
   ],
   "source": [
    "while True:\n",
    "    try:\n",
    "        idx = next(sampler_iterater)\n",
    "        print(idx)\n",
    "        print(data_source[idx])\n",
    "        print(\"----------\")\n",
    "    except:\n",
    "        break"
   ]
  },
  {
   "cell_type": "markdown",
   "id": "30111851",
   "metadata": {},
   "source": [
    "# batch_sampler "
   ]
  },
  {
   "cell_type": "code",
   "execution_count": 17,
   "id": "d906fa9d",
   "metadata": {},
   "outputs": [
    {
     "name": "stdout",
     "output_type": "stream",
     "text": [
      "[[9, 6, 4], [2, 5, 8], [3, 0, 1], [7]]\n"
     ]
    }
   ],
   "source": [
    "# ================================================== #\n",
    "# batch_sampler                                      #\n",
    "# ================================================== #\n",
    "batch_sampler = torch.utils.data.BatchSampler(sampler2, batch_size=3, drop_last=False)\n",
    "print(list(batch_sampler))"
   ]
  },
  {
   "cell_type": "code",
   "execution_count": 18,
   "id": "b5306256",
   "metadata": {},
   "outputs": [
    {
     "name": "stdout",
     "output_type": "stream",
     "text": [
      "[[7, 2, 0], [4, 1, 8], [5, 9, 3]]\n"
     ]
    }
   ],
   "source": [
    "batch_sampler = torch.utils.data.BatchSampler(sampler2, batch_size=3, drop_last=True)\n",
    "print(list(batch_sampler))"
   ]
  },
  {
   "cell_type": "code",
   "execution_count": null,
   "id": "3fbaf8d2",
   "metadata": {},
   "outputs": [],
   "source": []
  }
 ],
 "metadata": {
  "kernelspec": {
   "display_name": "Python 3 (ipykernel)",
   "language": "python",
   "name": "python3"
  },
  "language_info": {
   "codemirror_mode": {
    "name": "ipython",
    "version": 3
   },
   "file_extension": ".py",
   "mimetype": "text/x-python",
   "name": "python",
   "nbconvert_exporter": "python",
   "pygments_lexer": "ipython3",
   "version": "3.10.5"
  }
 },
 "nbformat": 4,
 "nbformat_minor": 5
}
