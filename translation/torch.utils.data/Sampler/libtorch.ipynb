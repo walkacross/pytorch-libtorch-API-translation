{
 "cells": [
  {
   "cell_type": "markdown",
   "id": "37e51ae9",
   "metadata": {},
   "source": [
    "# Sampler"
   ]
  },
  {
   "cell_type": "markdown",
   "id": "2857d785",
   "metadata": {},
   "source": [
    "https://github.com/pytorch/pytorch/blob/master/torch/csrc/api/include/torch/data/samplers/base.h"
   ]
  },
  {
   "cell_type": "code",
   "execution_count": 1,
   "id": "67443175",
   "metadata": {},
   "outputs": [],
   "source": [
    "#pragma cling add_include_path(\"../../libtorch/include\")\n",
    "#pragma cling add_include_path(\"../../libtorch/include/torch/csrc/api/include\")\n",
    "#pragma cling add_library_path(\"../../libtorch/lib\")\n",
    "#pragma cling load(\"libtorch\")"
   ]
  },
  {
   "cell_type": "code",
   "execution_count": 2,
   "id": "e638d113",
   "metadata": {},
   "outputs": [],
   "source": [
    "#include <cstddef>  //for size_t\n",
    "#include <iostream>\n",
    "#include <vector>\n",
    "#include <torch/torch.h>"
   ]
  },
  {
   "cell_type": "code",
   "execution_count": 3,
   "id": "56b986cc",
   "metadata": {},
   "outputs": [],
   "source": [
    "torch::data::samplers::SequentialSampler sampler1(5);"
   ]
  },
  {
   "cell_type": "code",
   "execution_count": 4,
   "id": "c4c83873",
   "metadata": {},
   "outputs": [
    {
     "name": "stdout",
     "output_type": "stream",
     "text": [
      "0"
     ]
    }
   ],
   "source": [
    "std::cout << sampler1.index();"
   ]
  },
  {
   "cell_type": "code",
   "execution_count": 5,
   "id": "8c3c6016",
   "metadata": {},
   "outputs": [],
   "source": [
    "auto batch_index = sampler1.next(2);"
   ]
  },
  {
   "cell_type": "code",
   "execution_count": null,
   "id": "eb624746",
   "metadata": {},
   "outputs": [],
   "source": []
  }
 ],
 "metadata": {
  "kernelspec": {
   "display_name": "C++17",
   "language": "C++17",
   "name": "xcpp17"
  },
  "language_info": {
   "codemirror_mode": "text/x-c++src",
   "file_extension": ".cpp",
   "mimetype": "text/x-c++src",
   "name": "c++",
   "version": "17"
  }
 },
 "nbformat": 4,
 "nbformat_minor": 5
}
