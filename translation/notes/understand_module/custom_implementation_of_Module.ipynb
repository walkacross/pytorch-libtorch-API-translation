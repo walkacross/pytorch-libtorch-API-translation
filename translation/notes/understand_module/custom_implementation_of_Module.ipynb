{
 "cells": [
  {
   "cell_type": "code",
   "execution_count": 1,
   "id": "12ed64e5",
   "metadata": {},
   "outputs": [],
   "source": [
    "#pragma cling add_include_path(\"../../libtorch/include\")\n",
    "#pragma cling add_include_path(\"../../libtorch/include/torch/csrc/api/include\")\n",
    "#pragma cling add_library_path(\"../../libtorch/lib\")\n",
    "#pragma cling load(\"libtorch\")"
   ]
  },
  {
   "cell_type": "code",
   "execution_count": 2,
   "id": "cfa02d61",
   "metadata": {},
   "outputs": [],
   "source": [
    "#include <iostream>\n",
    "#include <tuple>\n",
    "#include <string>\n",
    "#include <vector>\n",
    "#include <memory>\n",
    "#include <functional>\n",
    "#include <type_traits>\n",
    "#include <torch/torch.h>\n",
    "#include <torch/script.h>\n",
    "namespace nn = torch::nn;"
   ]
  },
  {
   "cell_type": "code",
   "execution_count": 3,
   "id": "1288c218",
   "metadata": {},
   "outputs": [],
   "source": [
    "std::string join_name(const std::string& name_prefix, const std::string& name) {\n",
    "  size_t total_size = name.size();\n",
    "  if (!name_prefix.empty()) {\n",
    "    total_size += name_prefix.size() + 1;\n",
    "  }\n",
    "  std::string full_name;\n",
    "  full_name.reserve(total_size);\n",
    "  if (!name_prefix.empty()) {\n",
    "    full_name += name_prefix;\n",
    "    full_name.push_back('.');\n",
    "  }\n",
    "  full_name += name;\n",
    "  return full_name;\n",
    "};"
   ]
  },
  {
   "cell_type": "code",
   "execution_count": 4,
   "id": "0075dcc3",
   "metadata": {},
   "outputs": [],
   "source": [
    "class Module{\n",
    "    public:\n",
    "        using NamedModuleApplyFunction = std::function<void(const std::string&, Module&)>;    \n",
    "        using ConstNamedModuleApplyFunction = std::function<void(const std::string&, const Module&)>;\n",
    "        using NamedModulePointerApplyFunction = std::function<void(const std::string&, const std::shared_ptr<Module>&)>;\n",
    "\n",
    "         /// Whether the module is in training mode.\n",
    "        bool is_training{true};\n",
    "    \n",
    "    public:\n",
    "    torch::OrderedDict<std::string, torch::Tensor> parameters_;\n",
    "    torch::OrderedDict<std::string, std::shared_ptr<Module>> children_;\n",
    "    \n",
    "    public:\n",
    "    torch::Tensor& register_parameter(std::string name, torch::Tensor tensor, bool requires_grad=true){\n",
    "          if (!tensor.defined()) {\n",
    "            if (requires_grad) {\n",
    "                std::cout << \"An undefined tensor cannot require grad. \";\n",
    "            }\n",
    "          } else {\n",
    "            tensor.set_requires_grad(requires_grad);\n",
    "          }\n",
    "          return parameters_.insert(std::move(name), std::move(tensor));\n",
    "    }\n",
    "    \n",
    "    template <typename ModuleType>\n",
    "    std::shared_ptr<ModuleType> register_module(std::string name, std::shared_ptr<ModuleType> module){\n",
    "        auto& base_module = children_.insert(std::move(name), std::move(module)); //std::move\n",
    "        return std::dynamic_pointer_cast<ModuleType>(base_module);\n",
    "    }\n",
    "    \n",
    "    // -------------------------------------------------------\n",
    "    torch::OrderedDict<std::string, torch::Tensor> named_parameters(bool recurse = true) const{\n",
    "        \n",
    "      torch::OrderedDict<std::string, torch::Tensor> result;\n",
    "      if (!recurse) {\n",
    "        for (const auto& parameter : parameters_) {\n",
    "              if (parameter.value().defined()) {\n",
    "                result.insert(parameter.key(), parameter.value());\n",
    "              }\n",
    "        }\n",
    "      } else {\n",
    "            apply([&result](const std::string& name, const Module& module) {\n",
    "                for (const auto& parameter : module.named_parameters(/*recurse=*/false)) {\n",
    "                    result.insert(join_name(name, parameter.key()), parameter.value());\n",
    "                }\n",
    "            }); \n",
    "      }\n",
    "      return result;\n",
    "    }\n",
    "    \n",
    "    torch::OrderedDict<std::string, std::shared_ptr<Module>> named_modules(const std::string& name_prefix = std::string(), bool include_self = true) const {\n",
    "      torch::OrderedDict<std::string, std::shared_ptr<Module>> result;\n",
    "      if (include_self) {\n",
    "         apply([&result](const std::string& key, const std::shared_ptr<Module>& module) {\n",
    "              result.insert(key, module);\n",
    "            }, name_prefix);\n",
    "      } else {\n",
    "        apply_to_submodules([&result](const std::string& key, const std::shared_ptr<Module>& module) {\n",
    "              result.insert(key, module);\n",
    "            }, name_prefix);\n",
    "      }\n",
    "      return result;\n",
    "    }\n",
    "        \n",
    "    void apply_to_submodules(const NamedModulePointerApplyFunction& function, const std::string& name_prefix = std::string()) const {\n",
    "       for (const auto& child : children_) {\n",
    "            auto qualified_name = child.key();\n",
    "            function(qualified_name, child.value());\n",
    "            child.value()->apply_to_submodules(function, qualified_name);\n",
    "        }    \n",
    "    }\n",
    "    \n",
    "    ///   module->apply([](const std::string& key, nn::Module& module) {\n",
    "    ///   std::cout << key << \": \" << module.name() << std::endl;\n",
    "    void apply(const NamedModuleApplyFunction& function, const std::string& name_prefix = std::string()){\n",
    "        function(/*name=*/name_prefix, *this);\n",
    "        apply_to_submodules([&function](const std::string& name, const std::shared_ptr<Module>& module) {\n",
    "                                        function(name, *module);\n",
    "                                        },\n",
    "                            name_prefix);\n",
    "    }\n",
    "    \n",
    "    ///   module->apply([](const std::string& key, const nn::Module& module) {\n",
    "    ///   std::cout << key << \": \" << module.name() << std::endl;\n",
    "    void apply(const ConstNamedModuleApplyFunction& function, const std::string& name_prefix = std::string()) const{\n",
    "          function(/*name=*/name_prefix, *this);\n",
    "          apply_to_submodules([&function](const std::string& name, const std::shared_ptr<Module>& module) {\n",
    "                function(name, *module);\n",
    "            }, name_prefix);\n",
    "    }\n",
    "    \n",
    "    ///   module->apply([](const std::string& key,\n",
    "    ///                    const std::shared_ptr<nn::Module>& module) {\n",
    "    ///     std::cout << key << \": \" << module->name() << std::endl;\n",
    "    ///   });\n",
    "    void apply(const NamedModulePointerApplyFunction& function,const std::string& name_prefix = std::string()) const{\n",
    "      function(/*name=*/name_prefix, shared_from_this_checked());\n",
    "      apply_to_submodules(function, name_prefix);\n",
    "\n",
    "    }\n",
    "    \n",
    "    std::shared_ptr<Module> shared_from_this_checked() const {\n",
    "      std::shared_ptr<const Module> ptr{this};\n",
    "      return std::const_pointer_cast<Module>(ptr);\n",
    "    }\n",
    "    \n",
    "    virtual torch::Tensor forward(const torch::Tensor& input) = 0;\n",
    "    \n",
    "}"
   ]
  },
  {
   "cell_type": "code",
   "execution_count": 5,
   "id": "df5e8165",
   "metadata": {},
   "outputs": [],
   "source": [
    "class LinearImpl : public Module{\n",
    "    public:\n",
    "    torch::Tensor weight;\n",
    "    \n",
    "    LinearImpl(int64_t in_features, int64_t out_features, bool is_training_=true){\n",
    "        weight = register_parameter(\"weight\", torch::empty({in_features, out_features}));\n",
    "        \n",
    "        is_training = is_training_;\n",
    "      }\n",
    "    torch::Tensor forward(const torch::Tensor& input) {\n",
    "          return input.mm(weight);\n",
    "    }\n",
    "}"
   ]
  },
  {
   "cell_type": "code",
   "execution_count": 6,
   "id": "42831aad",
   "metadata": {},
   "outputs": [],
   "source": [
    "LinearImpl linear{3,4};"
   ]
  },
  {
   "cell_type": "code",
   "execution_count": 7,
   "id": "e3b9d388",
   "metadata": {},
   "outputs": [
    {
     "name": "stdout",
     "output_type": "stream",
     "text": [
      "weight:  1.7034e+25  8.5265e+08  1.3219e+19  2.0152e+34\n",
      " 1.0314e-08  1.8389e+25  7.7128e+31  1.1259e+24\n",
      " 6.6991e+31  4.2915e+24  7.0813e+31  7.3961e+31\n",
      "[ CPUFloatType{3,4} ]\n"
     ]
    }
   ],
   "source": [
    "torch::OrderedDict<std::string, torch::Tensor> ordered_parameter_dict = linear.named_parameters();\n",
    "for (const auto& pair : ordered_parameter_dict) {\n",
    "  std::cout << pair.key() << \": \" << pair.value() << std::endl;\n",
    "}"
   ]
  },
  {
   "cell_type": "code",
   "execution_count": 8,
   "id": "041aa68b",
   "metadata": {},
   "outputs": [],
   "source": [
    "torch::Tensor inputs = torch::randn({2,3});"
   ]
  },
  {
   "cell_type": "code",
   "execution_count": 9,
   "id": "984fb0a4",
   "metadata": {},
   "outputs": [
    {
     "name": "stdout",
     "output_type": "stream",
     "text": [
      " 0.7484  0.1145  0.3855\n",
      " 0.0872 -0.0677 -0.8913\n",
      "[ CPUFloatType{2,3} ]\n"
     ]
    }
   ],
   "source": [
    "std::cout << inputs << std::endl;"
   ]
  },
  {
   "cell_type": "code",
   "execution_count": 10,
   "id": "a8c08328",
   "metadata": {},
   "outputs": [],
   "source": [
    "torch::Tensor output = linear.forward(inputs);"
   ]
  },
  {
   "cell_type": "code",
   "execution_count": 11,
   "id": "13b25fbc",
   "metadata": {},
   "outputs": [
    {
     "name": "stdout",
     "output_type": "stream",
     "text": [
      " 2.5824e+31  3.7600e+24  3.6129e+31  1.5110e+34\n",
      "-5.9711e+31 -5.0694e+24 -6.8336e+31  1.6920e+33\n",
      "[ CPUFloatType{2,4} ]\n"
     ]
    }
   ],
   "source": [
    "std::cout << output << std::endl;"
   ]
  },
  {
   "cell_type": "code",
   "execution_count": 12,
   "id": "1e87ccee",
   "metadata": {},
   "outputs": [],
   "source": [
    "std::make_shared<LinearImpl>(3, 5);"
   ]
  },
  {
   "cell_type": "code",
   "execution_count": 13,
   "id": "44aa8c0e",
   "metadata": {},
   "outputs": [
    {
     "name": "stdout",
     "output_type": "stream",
     "text": [
      "weight: 1e-31 *\n",
      " 0.0000  0.0000  0.0000  0.0000  4.1516\n",
      "  0.0000  3.4675  0.0000  0.0000  0.0000\n",
      "  0.0000  0.0000  2.9759  0.0000  1.6749\n",
      "[ CPUFloatType{3,5} ]\n"
     ]
    }
   ],
   "source": [
    "std::shared_ptr<Module> linear1_instance = std::make_shared<LinearImpl>(3, 5);\n",
    "torch::OrderedDict<std::string, torch::Tensor> ordered_parameter_dict = linear1_instance->named_parameters();\n",
    "for (const auto& pair : ordered_parameter_dict) {\n",
    "  std::cout << pair.key() << \": \" << pair.value() << std::endl;\n",
    "}"
   ]
  },
  {
   "cell_type": "code",
   "execution_count": 14,
   "id": "6100638e",
   "metadata": {},
   "outputs": [
    {
     "name": "stdout",
     "output_type": "stream",
     "text": [
      "weight: 1e-31 *\n",
      " 0.0000  0.0000  0.0000  0.0000  4.1516\n",
      "  0.0000  3.4675  0.0000  0.0000  0.0000\n",
      "  0.0000  0.0000  2.9759  0.0000  1.6749\n",
      "[ CPUFloatType{3,5} ]\n"
     ]
    }
   ],
   "source": [
    "std::shared_ptr<LinearImpl> children_instance = std::dynamic_pointer_cast<LinearImpl>(linear1_instance);\n",
    "torch::OrderedDict<std::string, torch::Tensor> ordered_parameter_dict = children_instance->named_parameters();\n",
    "for (const auto& pair : ordered_parameter_dict) {\n",
    "  std::cout << pair.key() << \": \" << pair.value() << std::endl;\n",
    "}"
   ]
  },
  {
   "cell_type": "code",
   "execution_count": 15,
   "id": "d6a6cd0e",
   "metadata": {},
   "outputs": [],
   "source": [
    "class CustomModule : public Module{\n",
    "    public:\n",
    "    std::shared_ptr<LinearImpl> linear1{nullptr};\n",
    "    std::shared_ptr<LinearImpl> linear2{nullptr};\n",
    "    \n",
    "    CustomModule(int64_t in_features, int64_t out_features){\n",
    "        std::shared_ptr<LinearImpl> linear1_instance = std::make_shared<LinearImpl>(in_features, 5);\n",
    "        std::shared_ptr<LinearImpl> linear2_instance = std::make_shared<LinearImpl>(5, out_features, false);\n",
    "        \n",
    "        linear1 = register_module<LinearImpl>(\"linear1\", linear1_instance);\n",
    "        linear2 = register_module<LinearImpl>(\"linear2\", linear2_instance);\n",
    "    }\n",
    "    \n",
    "    torch::Tensor forward(const torch::Tensor& input) {\n",
    "        torch::Tensor output1,output2;\n",
    "        output1 =  linear1->forward(input);\n",
    "        output2 = linear2 ->forward(output1);\n",
    "        return output2;\n",
    "    }\n",
    "}"
   ]
  },
  {
   "cell_type": "code",
   "execution_count": 16,
   "id": "273d61e0",
   "metadata": {},
   "outputs": [],
   "source": [
    "CustomModule custom_module{3,5};"
   ]
  },
  {
   "cell_type": "code",
   "execution_count": 17,
   "id": "45438c61",
   "metadata": {},
   "outputs": [
    {
     "name": "stdout",
     "output_type": "stream",
     "text": [
      "linear1.weight:  1.8389e+25  7.7128e+31  1.1259e+24  6.6991e+31  4.2915e+24\n",
      " 7.0813e+31  7.3961e+31  3.6366e+03  3.7148e+21  8.4727e+11\n",
      " 1.3959e+31  7.1538e+22  7.6177e+31  3.0019e-09  4.1205e+21\n",
      "[ CPUFloatType{3,5} ]\n",
      "linear2.weight:  4.7429e+30  2.2755e-07  4.6226e+30  8.8603e+11  1.6084e+19\n",
      " 3.6157e-09  8.2177e+20  4.3064e+21  4.8418e+30  9.4794e+05\n",
      " 3.5554e-09  2.6792e+20  4.8403e+30  1.9364e+31  8.4777e+11\n",
      " 3.6366e+03  3.7963e+03  2.8221e+03  2.8381e+03  2.8522e+03\n",
      " 1.5226e+19  2.2854e+05  1.6750e+19  6.7422e+22  1.3354e+19\n",
      "[ CPUFloatType{5,5} ]\n"
     ]
    }
   ],
   "source": [
    "torch::OrderedDict<std::string, torch::Tensor> ordered_parameter_dict = custom_module.named_parameters();\n",
    "for (const auto& pair : ordered_parameter_dict) {\n",
    "  std::cout << pair.key() << \": \" << pair.value() << std::endl;\n",
    "}"
   ]
  },
  {
   "cell_type": "code",
   "execution_count": 18,
   "id": "ba177d53",
   "metadata": {},
   "outputs": [],
   "source": [
    "torch::OrderedDict<std::string, std::shared_ptr<Module>> named_modules = custom_module.named_modules();"
   ]
  },
  {
   "cell_type": "code",
   "execution_count": 19,
   "id": "d0512a22",
   "metadata": {},
   "outputs": [
    {
     "name": "stdout",
     "output_type": "stream",
     "text": [
      ": 1\n",
      "linear1: 1\n",
      "linear2: 0\n"
     ]
    }
   ],
   "source": [
    "for (const auto& pair : named_modules) {\n",
    "  std::cout << pair.key() << \": \" << pair.value()->is_training << std::endl; //\n",
    "}"
   ]
  },
  {
   "cell_type": "code",
   "execution_count": 21,
   "id": "b70719a6",
   "metadata": {},
   "outputs": [
    {
     "name": "stdout",
     "output_type": "stream",
     "text": [
      ": 1\n",
      "linear1: 1\n",
      "linear2: 0\n"
     ]
    }
   ],
   "source": [
    "void print_func(const std::string& key, const Module& module) {\n",
    "    std::cout << key << \": \" << module.is_training << std::endl;\n",
    "};\n",
    "\n",
    "custom_module.apply(print_func);"
   ]
  },
  {
   "cell_type": "markdown",
   "id": "5f0de3b8",
   "metadata": {},
   "source": [
    "CustomModule custom{3,5};"
   ]
  },
  {
   "cell_type": "markdown",
   "id": "9ab73ddf",
   "metadata": {},
   "source": [
    "torch::OrderedDict<std::string, torch::Tensor> ordered_parameter_dict = custom.named_parameters();\n",
    "for (const auto& pair : ordered_parameter_dict) {\n",
    "  std::cout << pair.key() << \": \" << pair.value() << std::endl;\n",
    "}"
   ]
  },
  {
   "cell_type": "code",
   "execution_count": null,
   "id": "1b0fc870",
   "metadata": {},
   "outputs": [],
   "source": []
  }
 ],
 "metadata": {
  "kernelspec": {
   "display_name": "C++17",
   "language": "C++17",
   "name": "xcpp17"
  },
  "language_info": {
   "codemirror_mode": "text/x-c++src",
   "file_extension": ".cpp",
   "mimetype": "text/x-c++src",
   "name": "c++",
   "version": "17"
  }
 },
 "nbformat": 4,
 "nbformat_minor": 5
}
