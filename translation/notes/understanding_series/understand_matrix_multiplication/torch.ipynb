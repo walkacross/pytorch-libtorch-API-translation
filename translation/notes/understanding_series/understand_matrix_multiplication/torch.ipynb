{
 "cells": [
  {
   "cell_type": "code",
   "execution_count": 2,
   "id": "e1c62816",
   "metadata": {},
   "outputs": [
    {
     "name": "stdout",
     "output_type": "stream",
     "text": [
      "1.12.0+cu113\n"
     ]
    }
   ],
   "source": [
    "import torch\n",
    "print(torch.__version__)"
   ]
  },
  {
   "cell_type": "code",
   "execution_count": 3,
   "id": "a85e6613",
   "metadata": {},
   "outputs": [],
   "source": [
    "# understand matrix multiply in pytorch\n",
    "\n",
    "# torch.matmul(tensor1, tensor2, out=None) → Tensor\n",
    "##Matrix product of two tensors. see: https://pytorch.org/docs/stable/torch.html?highlight=matmul#torch.matmul\n",
    "#The behavior depends on the dimensionality of the tensors as follows:\n",
    "\n",
    "#If both tensors are 1-dimensional, the dot product (scalar) is returned.\n",
    "#If both arguments are 2-dimensional, the matrix-matrix product is returned.\n",
    "#If the first argument is 1-dimensional and the second argument is 2-dimensional, a 1 is prepended to its dimension for the purpose of the matrix multiply. After the matrix multiply, the prepended dimension is removed.\n",
    "#If the first argument is 2-dimensional and the second argument is 1-dimensional, the matrix-vector product is returned.\n",
    "#If both arguments are at least 1-dimensional and at least one argument is N-dimensional (where N > 2), then a batched matrix multiply is returne"
   ]
  },
  {
   "cell_type": "markdown",
   "id": "1ff4ba82",
   "metadata": {},
   "source": [
    "## 1D vector x 1D vector"
   ]
  },
  {
   "cell_type": "code",
   "execution_count": 16,
   "id": "772f23b5",
   "metadata": {},
   "outputs": [
    {
     "name": "stdout",
     "output_type": "stream",
     "text": [
      "tensor([1., 2.])\n",
      "torch.Size([2])\n",
      "torch.Size([2])\n"
     ]
    }
   ],
   "source": [
    "tensor1 = torch.tensor([1,2], dtype=torch.float)\n",
    "print(tensor1)\n",
    "print(tensor1.shape)\n",
    "print(tensor1.size())"
   ]
  },
  {
   "cell_type": "code",
   "execution_count": 17,
   "id": "e1dfb4c7",
   "metadata": {},
   "outputs": [
    {
     "name": "stdout",
     "output_type": "stream",
     "text": [
      "tensor(7.)\n",
      "torch.Size([])\n"
     ]
    }
   ],
   "source": [
    "tensor2 = torch.tensor([1,3],  dtype=torch.float)\n",
    "output = torch.matmul(tensor1, tensor2)\n",
    "print(output)\n",
    "print(output.size())"
   ]
  },
  {
   "cell_type": "markdown",
   "id": "009a2374",
   "metadata": {},
   "source": [
    "## 1D vector x 2D matrix"
   ]
  },
  {
   "cell_type": "code",
   "execution_count": 19,
   "id": "07ee177d",
   "metadata": {},
   "outputs": [
    {
     "name": "stdout",
     "output_type": "stream",
     "text": [
      "tensor([1., 2., 3.])\n",
      "torch.Size([3])\n"
     ]
    }
   ],
   "source": [
    "# 1D vector x 2D matrix -> understand what is matrix transformation: 2 attributes + different weight -> 3 new attributes\n",
    "tensor1 = torch.tensor([1,2], dtype=torch.float)             # sample_size x attribute_size: 1 x 2\n",
    "tensor2 = torch.tensor([[1,0,1],[0,1,1]], dtype=torch.float) # attribute_size x attribute_size_new: 2 x 3, weight matrix, plays a attribute transformation role\n",
    "output = torch.matmul(tensor1, tensor2)\n",
    "print(output)\n",
    "print(output.size())"
   ]
  },
  {
   "cell_type": "markdown",
   "id": "da7d5e38",
   "metadata": {},
   "source": [
    "## 2D matrix x 2D matrix"
   ]
  },
  {
   "cell_type": "code",
   "execution_count": 22,
   "id": "26a4349f",
   "metadata": {},
   "outputs": [
    {
     "name": "stdout",
     "output_type": "stream",
     "text": [
      "tensor([[1., 2.],\n",
      "        [2., 2.]])\n",
      "tensor([[1., 0., 1.],\n",
      "        [0., 1., 1.]])\n",
      "tensor([[1., 2., 3.],\n",
      "        [2., 2., 4.]])\n",
      "torch.Size([2, 3])\n"
     ]
    }
   ],
   "source": [
    "tensor1 = torch.tensor([[1,2],[2,2]], dtype=torch.float)     # sample_size x attribute_size\n",
    "print(tensor1)\n",
    "\n",
    "tensor2 = torch.tensor([[1,0,1],[0,1,1]], dtype=torch.float) # attribute transformation matrix, has no relation with sample size in tensor1\n",
    "print(tensor2)\n",
    "\n",
    "output = torch.matmul(tensor1, tensor2)\n",
    "print(output)\n",
    "print(output.size())"
   ]
  },
  {
   "cell_type": "markdown",
   "id": "e8336e38",
   "metadata": {},
   "source": [
    "## 3D matrix x 2D matrix"
   ]
  },
  {
   "cell_type": "code",
   "execution_count": 23,
   "id": "5adb8765",
   "metadata": {},
   "outputs": [
    {
     "name": "stdout",
     "output_type": "stream",
     "text": [
      "tensor([[[1., 2.],\n",
      "         [2., 2.]],\n",
      "\n",
      "        [[1., 1.],\n",
      "         [1., 0.]],\n",
      "\n",
      "        [[2., 2.],\n",
      "         [2., 1.]]])\n",
      "tensor([[1., 0., 1.],\n",
      "        [0., 1., 1.]])\n",
      "tensor([[[1., 2., 3.],\n",
      "         [2., 2., 4.]],\n",
      "\n",
      "        [[1., 1., 2.],\n",
      "         [1., 0., 1.]],\n",
      "\n",
      "        [[2., 2., 4.],\n",
      "         [2., 1., 3.]]])\n",
      "torch.Size([3, 2, 3])\n"
     ]
    }
   ],
   "source": [
    "## understand sample independent and time independent\n",
    "tensor1 = torch.tensor([[[1,2],[2,2]],[[1,1],[1,0]],[[2,2],[2,1]]], dtype=torch.float)  # T x sample_size x attribute_size 3x2x2\n",
    "print(tensor1)\n",
    "\n",
    "tensor2 = torch.tensor([[1,0,1],[0,1,1]], dtype=torch.float) # attribute transformation matrix, has no relation with sample size and T in tensor1\n",
    "print(tensor2)\n",
    "\n",
    "output = torch.matmul(tensor1, tensor2)\n",
    "print(output)\n",
    "print(output.size())"
   ]
  },
  {
   "cell_type": "markdown",
   "id": "6ba5ecca",
   "metadata": {},
   "source": [
    "## 3D matrix x 3D matrix"
   ]
  },
  {
   "cell_type": "code",
   "execution_count": 25,
   "id": "ad7a9804",
   "metadata": {},
   "outputs": [
    {
     "name": "stdout",
     "output_type": "stream",
     "text": [
      "tensor([[[1., 2.],\n",
      "         [2., 2.]],\n",
      "\n",
      "        [[2., 1.],\n",
      "         [1., 1.]],\n",
      "\n",
      "        [[2., 2.],\n",
      "         [2., 1.]]])\n",
      "tensor([[[1., 0., 1.],\n",
      "         [0., 1., 1.]],\n",
      "\n",
      "        [[0., 1., 0.],\n",
      "         [0., 0., 1.]],\n",
      "\n",
      "        [[1., 1., 1.],\n",
      "         [0., 1., 0.]]])\n",
      "tensor([[[1., 2., 3.],\n",
      "         [2., 2., 4.]],\n",
      "\n",
      "        [[0., 2., 1.],\n",
      "         [0., 1., 1.]],\n",
      "\n",
      "        [[2., 4., 2.],\n",
      "         [2., 3., 2.]]])\n",
      "torch.Size([3, 2, 3])\n"
     ]
    }
   ],
   "source": [
    "tensor1 = torch.tensor([[[1,2],[2,2]],[[2,1],[1,1]],[[2,2],[2,1]]], dtype=torch.float) # T x sample_size x attribute_size: 3x2x2\n",
    "print(tensor1)\n",
    "\n",
    "tensor2 = torch.tensor([[[1,0,1],[0,1,1]],[[0,1,0],[0,0,1]],[[1,1,1],[0,1,0]]], dtype=torch.float)# T x attribute_size x attribute_size_new\n",
    "print(tensor2)\n",
    "\n",
    "output = torch.matmul(tensor1, tensor2)\n",
    "print(output)\n",
    "print(output.size())"
   ]
  },
  {
   "cell_type": "code",
   "execution_count": 26,
   "id": "36bd5bc1",
   "metadata": {},
   "outputs": [
    {
     "name": "stdout",
     "output_type": "stream",
     "text": [
      "tensor([[[1., 2., 3.],\n",
      "         [2., 2., 4.]],\n",
      "\n",
      "        [[0., 2., 1.],\n",
      "         [0., 1., 1.]],\n",
      "\n",
      "        [[2., 4., 2.],\n",
      "         [2., 3., 2.]]])\n",
      "torch.Size([3, 2, 3])\n"
     ]
    }
   ],
   "source": [
    "output = torch.bmm(tensor1, tensor2)\n",
    "print(output)\n",
    "print(output.size())"
   ]
  }
 ],
 "metadata": {
  "kernelspec": {
   "display_name": "Python 3 (ipykernel)",
   "language": "python",
   "name": "python3"
  },
  "language_info": {
   "codemirror_mode": {
    "name": "ipython",
    "version": 3
   },
   "file_extension": ".py",
   "mimetype": "text/x-python",
   "name": "python",
   "nbconvert_exporter": "python",
   "pygments_lexer": "ipython3",
   "version": "3.10.5"
  }
 },
 "nbformat": 4,
 "nbformat_minor": 5
}
