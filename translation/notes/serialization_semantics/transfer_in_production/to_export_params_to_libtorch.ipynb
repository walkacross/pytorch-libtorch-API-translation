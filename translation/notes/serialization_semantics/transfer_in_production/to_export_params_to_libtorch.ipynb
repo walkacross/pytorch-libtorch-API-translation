{
 "cells": [
  {
   "cell_type": "code",
   "execution_count": 1,
   "id": "c98d1759",
   "metadata": {},
   "outputs": [
    {
     "name": "stdout",
     "output_type": "stream",
     "text": [
      "1.12.0+cu113\n"
     ]
    },
    {
     "name": "stderr",
     "output_type": "stream",
     "text": [
      "/home/sz/anaconda3/envs/cling/lib/python3.10/site-packages/tqdm/auto.py:22: TqdmWarning: IProgress not found. Please update jupyter and ipywidgets. See https://ipywidgets.readthedocs.io/en/stable/user_install.html\n",
      "  from .autonotebook import tqdm as notebook_tqdm\n"
     ]
    }
   ],
   "source": [
    "import numpy as np\n",
    "import random\n",
    "import torch\n",
    "print(torch.__version__)"
   ]
  },
  {
   "cell_type": "code",
   "execution_count": 2,
   "id": "0a920cd0",
   "metadata": {},
   "outputs": [],
   "source": [
    "def seed_everything(seed):\n",
    "    random.seed(seed)\n",
    "    np.random.seed(seed)\n",
    "    torch.manual_seed(seed)\n",
    "    torch.cuda.manual_seed_all(seed)\n",
    "    torch.backends.cudnn.benchmark = False\n",
    "    torch.backends.cudnn.deterministic = True\n",
    "seed_everything(11) "
   ]
  },
  {
   "cell_type": "code",
   "execution_count": 3,
   "id": "baed9fba",
   "metadata": {},
   "outputs": [
    {
     "data": {
      "text/plain": [
       "tensor([[ 0.7376,  1.9459, -0.6995, -1.3023, -0.5133],\n",
       "        [-0.2696,  0.2462,  0.4839,  0.4504, -0.9568],\n",
       "        [ 1.5012, -0.3136, -0.2343, -1.0713,  0.1648]])"
      ]
     },
     "execution_count": 3,
     "metadata": {},
     "output_type": "execute_result"
    }
   ],
   "source": [
    "torch.randn((3,5))"
   ]
  },
  {
   "cell_type": "code",
   "execution_count": 4,
   "id": "1268c258",
   "metadata": {},
   "outputs": [
    {
     "name": "stdout",
     "output_type": "stream",
     "text": [
      "tensor([[ 0.1157,  0.3834, -0.1234],\n",
      "        [ 0.8929, -0.4891, -1.4470],\n",
      "        [ 1.1941,  0.5462, -2.0750],\n",
      "        [-0.9691, -2.1354, -1.0431]])\n"
     ]
    }
   ],
   "source": [
    "new_x = torch.randn((4,3))\n",
    "print(new_x)"
   ]
  },
  {
   "cell_type": "code",
   "execution_count": 5,
   "id": "798ba739",
   "metadata": {},
   "outputs": [
    {
     "name": "stdout",
     "output_type": "stream",
     "text": [
      "OrderedDict([('linear1.weight', tensor([[-0.3501,  0.0384],\n",
      "        [ 0.4640, -0.0062],\n",
      "        [ 0.4655, -0.6389]])), ('linear1.bias', tensor([-0.5903, -0.3211,  0.3810])), ('linear2.weight', tensor([[ 0.3484, -0.4291,  0.2168]])), ('linear2.bias', tensor([-0.1036]))])\n",
      "{'linear1.weight': tensor([[-0.3501,  0.0384],\n",
      "        [ 0.4640, -0.0062],\n",
      "        [ 0.4655, -0.6389]]), 'linear1.bias': tensor([-0.5903, -0.3211,  0.3810]), 'linear2.weight': tensor([[ 0.3484, -0.4291,  0.2168]]), 'linear2.bias': tensor([-0.1036])}\n"
     ]
    }
   ],
   "source": [
    "class MyModule(torch.nn.Module):\n",
    "    def __init__(self,N, M):\n",
    "        super(MyModule, self).__init__()\n",
    "        self.linear1 = torch.nn.Linear(N, M)\n",
    "        self.linear2 = torch.nn.Linear(M, 1)\n",
    "\n",
    "    def forward(self, input):\n",
    "        out0 = self.linear1(input)\n",
    "        print(out0)\n",
    "        out0_relu = torch.nn.functional.relu(out0)\n",
    "        return self.linear2(out0_relu)\n",
    "\n",
    "model = MyModule(2,3)\n",
    "print(model.state_dict())\n",
    "print(dict(model.state_dict()))"
   ]
  },
  {
   "cell_type": "code",
   "execution_count": 6,
   "id": "4e4077dc",
   "metadata": {},
   "outputs": [
    {
     "name": "stdout",
     "output_type": "stream",
     "text": [
      "tensor([[1., 1.],\n",
      "        [1., 1.],\n",
      "        [1., 1.],\n",
      "        [1., 1.]])\n"
     ]
    }
   ],
   "source": [
    "x = torch.ones(4,2)\n",
    "print(x)"
   ]
  },
  {
   "cell_type": "code",
   "execution_count": 7,
   "id": "ad84621e",
   "metadata": {},
   "outputs": [
    {
     "name": "stdout",
     "output_type": "stream",
     "text": [
      "tensor([[-0.9019,  0.1367,  0.2076],\n",
      "        [-0.9019,  0.1367,  0.2076],\n",
      "        [-0.9019,  0.1367,  0.2076],\n",
      "        [-0.9019,  0.1367,  0.2076]], grad_fn=<AddmmBackward0>)\n",
      "tensor([[-0.1173],\n",
      "        [-0.1173],\n",
      "        [-0.1173],\n",
      "        [-0.1173]], grad_fn=<AddmmBackward0>)\n"
     ]
    }
   ],
   "source": [
    "output = model(x)\n",
    "print(output)"
   ]
  },
  {
   "cell_type": "code",
   "execution_count": 8,
   "id": "993b591e",
   "metadata": {},
   "outputs": [],
   "source": [
    "torch.save(dict(model.state_dict()), 'none_embeded_model_state_dict.pt')"
   ]
  },
  {
   "cell_type": "code",
   "execution_count": 9,
   "id": "778da77c",
   "metadata": {},
   "outputs": [],
   "source": [
    "class EmbedModule(torch.nn.Module):\n",
    "    def __init__(self):\n",
    "        super(EmbedModule, self).__init__()\n",
    "        self.linear0 = torch.nn.Linear(3, 2)\n",
    "        self.model = MyModule(2,3)\n",
    "        \n",
    "    def forward(self, input):\n",
    "        output1 = self.linear0(input)\n",
    "        output2 = self.model(output1)\n",
    "        return output2"
   ]
  },
  {
   "cell_type": "code",
   "execution_count": 10,
   "id": "f6894307",
   "metadata": {},
   "outputs": [
    {
     "name": "stdout",
     "output_type": "stream",
     "text": [
      "OrderedDict([('linear0.weight', tensor([[ 0.1673,  0.5430, -0.5589],\n",
      "        [ 0.1020,  0.3467,  0.0483]])), ('linear0.bias', tensor([-0.3457, -0.1063])), ('model.linear1.weight', tensor([[-0.2108,  0.5481],\n",
      "        [ 0.6317, -0.2776],\n",
      "        [-0.6945, -0.2240]])), ('model.linear1.bias', tensor([-0.3902,  0.6022,  0.6675])), ('model.linear2.weight', tensor([[ 0.2981, -0.0493, -0.5566]])), ('model.linear2.bias', tensor([0.0415]))])\n"
     ]
    }
   ],
   "source": [
    "embeded_model = EmbedModule()\n",
    "print(embeded_model.state_dict())"
   ]
  },
  {
   "cell_type": "code",
   "execution_count": 11,
   "id": "5fe0ea8f",
   "metadata": {},
   "outputs": [
    {
     "name": "stdout",
     "output_type": "stream",
     "text": [
      "tensor([[-0.3621,  0.5622,  0.6944],\n",
      "        [-0.6029,  0.8921,  0.4836],\n",
      "        [-0.6091,  1.4010, -0.2661],\n",
      "        [-0.7075,  0.1938,  1.6436]], grad_fn=<AddmmBackward0>)\n",
      "tensor([[-0.3727],\n",
      "        [-0.2716],\n",
      "        [-0.0275],\n",
      "        [-0.8829]], grad_fn=<AddmmBackward0>)\n"
     ]
    }
   ],
   "source": [
    "output = embeded_model(new_x)\n",
    "print(output)"
   ]
  },
  {
   "cell_type": "code",
   "execution_count": 12,
   "id": "69ea5e99",
   "metadata": {},
   "outputs": [],
   "source": [
    "#print(list(embeded_model.children()))"
   ]
  },
  {
   "cell_type": "code",
   "execution_count": 13,
   "id": "238e2499",
   "metadata": {},
   "outputs": [],
   "source": [
    "torch.save(dict(embeded_model.state_dict()), 'embeded_model_state_dict.pt')"
   ]
  }
 ],
 "metadata": {
  "kernelspec": {
   "display_name": "Python 3 (ipykernel)",
   "language": "python",
   "name": "python3"
  },
  "language_info": {
   "codemirror_mode": {
    "name": "ipython",
    "version": 3
   },
   "file_extension": ".py",
   "mimetype": "text/x-python",
   "name": "python",
   "nbconvert_exporter": "python",
   "pygments_lexer": "ipython3",
   "version": "3.10.5"
  }
 },
 "nbformat": 4,
 "nbformat_minor": 5
}
