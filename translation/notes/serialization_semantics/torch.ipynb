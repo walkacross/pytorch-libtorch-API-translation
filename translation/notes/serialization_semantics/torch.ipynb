{
 "cells": [
  {
   "cell_type": "markdown",
   "id": "b3936d3b",
   "metadata": {},
   "source": [
    "# Serialization semantics\n",
    "This note describes how you can save and load PyTorch tensors and module states in Python, and how to serialize Python modules so they can be loaded in C++."
   ]
  },
  {
   "cell_type": "code",
   "execution_count": 1,
   "id": "1e1efb3b",
   "metadata": {},
   "outputs": [],
   "source": [
    "import torch"
   ]
  },
  {
   "cell_type": "markdown",
   "id": "41a9ad34",
   "metadata": {},
   "source": [
    "## Saving and loading tensors"
   ]
  },
  {
   "cell_type": "markdown",
   "id": "072f5c77",
   "metadata": {},
   "source": [
    "torch.save() and torch.load() let you easily save and load tensors:"
   ]
  },
  {
   "cell_type": "code",
   "execution_count": 2,
   "id": "34f51734",
   "metadata": {},
   "outputs": [],
   "source": [
    "t = torch.tensor([1., 2.])\n",
    "torch.save(t, 'tensor.pt')"
   ]
  },
  {
   "cell_type": "code",
   "execution_count": 3,
   "id": "19ac04d2",
   "metadata": {},
   "outputs": [
    {
     "name": "stdout",
     "output_type": "stream",
     "text": [
      "tensor([1., 2.])\n"
     ]
    }
   ],
   "source": [
    "loaded_t = torch.load('tensor.pt')\n",
    "print(loaded_t)"
   ]
  },
  {
   "cell_type": "markdown",
   "id": "300fc3a3",
   "metadata": {},
   "source": [
    "By convention, PyTorch files are typically written with a ‘.pt’ or ‘.pth’ extension.\n",
    "\n",
    "torch.save() and torch.load() use Python’s pickle by default, so you can also save multiple tensors as part of Python objects like tuples, lists, and dicts:"
   ]
  },
  {
   "cell_type": "code",
   "execution_count": 4,
   "id": "ace3d21e",
   "metadata": {},
   "outputs": [],
   "source": [
    "d = {'a': torch.tensor([1., 2.]), 'b': torch.tensor([3., 4.])}\n",
    "torch.save(d, 'tensor_dict.pt')"
   ]
  },
  {
   "cell_type": "code",
   "execution_count": 5,
   "id": "dcc40e6a",
   "metadata": {},
   "outputs": [
    {
     "name": "stdout",
     "output_type": "stream",
     "text": [
      "{'a': tensor([1., 2.]), 'b': tensor([3., 4.])}\n"
     ]
    }
   ],
   "source": [
    "loaded_d = torch.load('tensor_dict.pt')\n",
    "print(loaded_d)"
   ]
  },
  {
   "cell_type": "markdown",
   "id": "0d4cc69a",
   "metadata": {},
   "source": [
    "> Custom data structures that include PyTorch tensors can also be saved if the data structure is pickle-able"
   ]
  },
  {
   "cell_type": "markdown",
   "id": "52f1dfa3",
   "metadata": {},
   "source": [
    "## Saving and loading tensors preserves views"
   ]
  },
  {
   "cell_type": "code",
   "execution_count": 6,
   "id": "95d58653",
   "metadata": {},
   "outputs": [
    {
     "name": "stdout",
     "output_type": "stream",
     "text": [
      "tensor([1, 2, 3, 4, 5, 6, 7, 8, 9])\n",
      "tensor([2, 4, 6, 8])\n"
     ]
    }
   ],
   "source": [
    "numbers = torch.arange(1, 10)\n",
    "print(numbers)\n",
    "evens = numbers[1::2]\n",
    "print(evens)\n",
    "torch.save([numbers, evens], 'tensors.pt')"
   ]
  },
  {
   "cell_type": "code",
   "execution_count": 7,
   "id": "9bca63f9",
   "metadata": {},
   "outputs": [
    {
     "name": "stdout",
     "output_type": "stream",
     "text": [
      "tensor([1, 2, 3, 4, 5, 6, 7, 8, 9])\n",
      "tensor([2, 4, 6, 8])\n"
     ]
    }
   ],
   "source": [
    "loaded_numbers, loaded_evens = torch.load('tensors.pt')\n",
    "print(loaded_numbers)\n",
    "print(loaded_evens)"
   ]
  },
  {
   "cell_type": "code",
   "execution_count": 8,
   "id": "83baa748",
   "metadata": {},
   "outputs": [
    {
     "name": "stdout",
     "output_type": "stream",
     "text": [
      "tensor([ 1,  4,  3,  8,  5, 12,  7, 16,  9])\n"
     ]
    }
   ],
   "source": [
    "loaded_evens *= 2\n",
    "print(loaded_numbers)"
   ]
  },
  {
   "cell_type": "markdown",
   "id": "b1909cf8",
   "metadata": {},
   "source": [
    "Behind the scenes, these tensors share the same “storage.” See Tensor Views for more on views and storage.\n",
    "\n",
    "When PyTorch saves tensors it saves their storage objects and tensor metadata separately. This is an implementation detail that may change in the future, but it typically saves space and lets PyTorch easily reconstruct the view relationships between the loaded tensors. In the above snippet, for example, only a single storage is written to ‘tensors.pt’.\n",
    "\n",
    "In some cases, however, saving the current storage objects may be unnecessary and create prohibitively large files. In the following snippet a storage much larger than the saved tensor is written to a file:"
   ]
  },
  {
   "cell_type": "code",
   "execution_count": 9,
   "id": "1b7d70f3",
   "metadata": {},
   "outputs": [
    {
     "data": {
      "text/plain": [
       "999"
      ]
     },
     "execution_count": 9,
     "metadata": {},
     "output_type": "execute_result"
    }
   ],
   "source": [
    "large = torch.arange(1, 1000)\n",
    "small = large[0:5]\n",
    "torch.save(small, 'small.pt')\n",
    "loaded_small = torch.load('small.pt')\n",
    "loaded_small.storage().size()"
   ]
  },
  {
   "cell_type": "markdown",
   "id": "6d450547",
   "metadata": {},
   "source": [
    "Instead of saving only the five values in the small tensor to ‘small.pt,’ the 999 values in the storage it shares with large were saved and loaded.\n",
    "\n",
    "When saving tensors with fewer elements than their storage objects, the size of the saved file can be reduced by first cloning the tensors. Cloning a tensor produces a new tensor with a new storage object containing only the values in the tensor:"
   ]
  },
  {
   "cell_type": "code",
   "execution_count": 10,
   "id": "76a3b716",
   "metadata": {},
   "outputs": [
    {
     "data": {
      "text/plain": [
       "5"
      ]
     },
     "execution_count": 10,
     "metadata": {},
     "output_type": "execute_result"
    }
   ],
   "source": [
    "large = torch.arange(1, 1000)\n",
    "small = large[0:5]\n",
    "torch.save(small.clone(), 'small.pt')  # saves a clone of small\n",
    "loaded_small = torch.load('small.pt')\n",
    "loaded_small.storage().size()"
   ]
  },
  {
   "cell_type": "markdown",
   "id": "d876ddf6",
   "metadata": {},
   "source": [
    "Since the cloned tensors are independent of each other, however, they have none of the view relationships the original tensors did. If both file size and view relationships are important when saving tensors smaller than their storage objects, then care must be taken to construct new tensors that minimize the size of their storage objects but still have the desired view relationships before saving."
   ]
  },
  {
   "cell_type": "markdown",
   "id": "8a9459e8",
   "metadata": {},
   "source": [
    "# Saving and loading torch.nn.Modules"
   ]
  },
  {
   "cell_type": "markdown",
   "id": "7bac729a",
   "metadata": {},
   "source": [
    "In PyTorch, a module’s state is frequently serialized using a ‘state dict.’ A module’s state dict contains all of its parameters and persistent buffers:"
   ]
  },
  {
   "cell_type": "code",
   "execution_count": 11,
   "id": "a73d927d",
   "metadata": {},
   "outputs": [
    {
     "name": "stdout",
     "output_type": "stream",
     "text": [
      "[('weight', Parameter containing:\n",
      "tensor([1., 1., 1.], requires_grad=True)), ('bias', Parameter containing:\n",
      "tensor([0., 0., 0.], requires_grad=True))]\n",
      "[('running_mean', tensor([0., 0., 0.])), ('running_var', tensor([1., 1., 1.])), ('num_batches_tracked', tensor(0))]\n",
      "OrderedDict([('weight', tensor([1., 1., 1.])), ('bias', tensor([0., 0., 0.])), ('running_mean', tensor([0., 0., 0.])), ('running_var', tensor([1., 1., 1.])), ('num_batches_tracked', tensor(0))])\n"
     ]
    }
   ],
   "source": [
    "bn = torch.nn.BatchNorm1d(3, track_running_stats=True)\n",
    "print(list(bn.named_parameters()))\n",
    "\n",
    "print(list(bn.named_buffers()))\n",
    "\n",
    "print(bn.state_dict())"
   ]
  },
  {
   "cell_type": "markdown",
   "id": "75b6d5f4",
   "metadata": {},
   "source": [
    "Instead of saving a module directly, for compatibility reasons it is recommended to instead save only its state dict. Python modules even have a function, load_state_dict(), to restore their states from a state dict:"
   ]
  },
  {
   "cell_type": "code",
   "execution_count": 12,
   "id": "bf97b39c",
   "metadata": {},
   "outputs": [
    {
     "data": {
      "text/plain": [
       "<All keys matched successfully>"
      ]
     },
     "execution_count": 12,
     "metadata": {},
     "output_type": "execute_result"
    }
   ],
   "source": [
    "torch.save(bn.state_dict(), 'bn.pt')\n",
    "bn_state_dict = torch.load('bn.pt')\n",
    "new_bn = torch.nn.BatchNorm1d(3, track_running_stats=True)\n",
    "new_bn.load_state_dict(bn_state_dict)"
   ]
  },
  {
   "cell_type": "markdown",
   "id": "e195f998",
   "metadata": {},
   "source": [
    "Note that the state dict is first loaded from its file with torch.load() and the state then restored with load_state_dict().\n",
    "\n",
    "Even custom modules and modules containing other modules have state dicts and can use this pattern:"
   ]
  },
  {
   "cell_type": "code",
   "execution_count": 13,
   "id": "a1be1b38",
   "metadata": {},
   "outputs": [
    {
     "name": "stdout",
     "output_type": "stream",
     "text": [
      "OrderedDict([('l0.weight', tensor([[-0.1100, -0.2925,  0.4771,  0.4324],\n",
      "        [-0.4550,  0.0150, -0.3119,  0.3826]])), ('l0.bias', tensor([-0.0250,  0.1102])), ('l1.weight', tensor([[-0.6759,  0.3887]])), ('l1.bias', tensor([-0.1171]))])\n"
     ]
    }
   ],
   "source": [
    "class MyModule(torch.nn.Module):\n",
    "    def __init__(self):\n",
    "        super(MyModule, self).__init__()\n",
    "        self.l0 = torch.nn.Linear(4, 2)\n",
    "        self.l1 = torch.nn.Linear(2, 1)\n",
    "\n",
    "    def forward(self, input):\n",
    "        out0 = self.l0(input)\n",
    "        out0_relu = torch.nn.functional.relu(out0)\n",
    "        return self.l1(out0_relu)\n",
    "\n",
    "m = MyModule()\n",
    "print(m.state_dict())\n",
    "\n",
    "torch.save(m.state_dict(), 'mymodule.pt')"
   ]
  },
  {
   "cell_type": "code",
   "execution_count": 14,
   "id": "09e52c99",
   "metadata": {},
   "outputs": [
    {
     "data": {
      "text/plain": [
       "<All keys matched successfully>"
      ]
     },
     "execution_count": 14,
     "metadata": {},
     "output_type": "execute_result"
    }
   ],
   "source": [
    "m_state_dict = torch.load('mymodule.pt')\n",
    "new_m = MyModule()\n",
    "new_m.load_state_dict(m_state_dict)"
   ]
  },
  {
   "cell_type": "markdown",
   "id": "aa2006c4",
   "metadata": {},
   "source": [
    "# Serializing torch.nn.Modules and loading them in C++"
   ]
  },
  {
   "cell_type": "markdown",
   "id": "7d47f97c",
   "metadata": {},
   "source": [
    "ScriptModules can be serialized as a TorchScript program and loaded using torch.jit.load(). This serialization encodes all the modules’ methods, submodules, parameters, and attributes, and it allows the serialized program to be loaded in C++ (i.e. without Python).\n",
    "\n",
    "\n",
    "The distinction between torch.jit.save() and torch.save() may not be immediately clear. torch.save() saves Python objects with pickle. This is especially useful for prototyping, researching, and training. torch.jit.save(), on the other hand, serializes ScriptModules to a format that can be loaded in Python or C++. This is useful when saving and loading C++ modules or for running modules trained in Python with C++, a common practice when deploying PyTorch models.\n",
    "\n",
    "To script, serialize and load a module in Python:"
   ]
  },
  {
   "cell_type": "code",
   "execution_count": 15,
   "id": "a78070a9",
   "metadata": {},
   "outputs": [
    {
     "data": {
      "text/plain": [
       "RecursiveScriptModule(\n",
       "  original_name=MyModule\n",
       "  (l0): RecursiveScriptModule(original_name=Linear)\n",
       "  (l1): RecursiveScriptModule(original_name=Linear)\n",
       ")"
      ]
     },
     "execution_count": 15,
     "metadata": {},
     "output_type": "execute_result"
    }
   ],
   "source": [
    "scripted_module = torch.jit.script(MyModule())\n",
    "torch.jit.save(scripted_module, 'mymodule.pt')\n",
    "torch.jit.load('mymodule.pt')"
   ]
  },
  {
   "cell_type": "markdown",
   "id": "0b6df705",
   "metadata": {},
   "source": [
    "Traced modules can also be saved with torch.jit.save(), with the caveat that only the traced code path is serialized. The following example demonstrates this:"
   ]
  },
  {
   "cell_type": "code",
   "execution_count": 16,
   "id": "8bc1f6de",
   "metadata": {},
   "outputs": [
    {
     "name": "stdout",
     "output_type": "stream",
     "text": [
      "tensor([[-0.3560],\n",
      "        [-0.2269]], grad_fn=<AddmmBackward0>)\n",
      "tensor(0)\n"
     ]
    },
    {
     "name": "stderr",
     "output_type": "stream",
     "text": [
      "/home/sz/anaconda3/envs/cling/lib/python3.10/site-packages/torch/jit/_script.py:1243: UserWarning: `optimize` is deprecated and has no effect. Use `with torch.jit.optimized_execution() instead\n",
      "  warnings.warn(\n"
     ]
    }
   ],
   "source": [
    "class ControlFlowModule(torch.nn.Module):\n",
    "    def __init__(self):\n",
    "        super(ControlFlowModule, self).__init__()\n",
    "        self.l0 = torch.nn.Linear(4, 2)\n",
    "        self.l1 = torch.nn.Linear(2, 1)\n",
    "\n",
    "    def forward(self, input):\n",
    "        if input.dim() > 1:\n",
    "            return torch.tensor(0)\n",
    "\n",
    "        out0 = self.l0(input)\n",
    "        out0_relu = torch.nn.functional.relu(out0)\n",
    "        return self.l1(out0_relu)\n",
    "\n",
    "\n",
    "traced_module = torch.jit.trace(ControlFlowModule(), torch.randn(4))\n",
    "torch.jit.save(traced_module, 'controlflowmodule_traced.pt')\n",
    "loaded = torch.jit.load('controlflowmodule_traced.pt')\n",
    "print(loaded(torch.randn(2, 4)))\n",
    "\n",
    "scripted_module = torch.jit.script(ControlFlowModule(), torch.randn(4))\n",
    "torch.jit.save(scripted_module, 'controlflowmodule_scripted.pt')\n",
    "loaded = torch.jit.load('controlflowmodule_scripted.pt')\n",
    "print(loaded(torch.randn(2, 4)))"
   ]
  },
  {
   "cell_type": "markdown",
   "id": "2d7b3f0d",
   "metadata": {},
   "source": [
    "The above module has an if statement that is not triggered by the traced inputs, and so is not part of the traced module and not serialized with it. The scripted module, however, contains the if statement and is serialized with it. See the TorchScript documentation for more on scripting and tracing.\n",
    "\n",
    "Finally, to load the module in C++:\n",
    "    \n",
    "~~~\n",
    "torch::jit::script::Module module;\n",
    "module = torch::jit::load('controlflowmodule_scripted.pt');\n",
    "~~~"
   ]
  },
  {
   "cell_type": "markdown",
   "id": "4d20e085",
   "metadata": {},
   "source": [
    "## save tensors for loading from c++"
   ]
  },
  {
   "cell_type": "code",
   "execution_count": 18,
   "id": "81d87025",
   "metadata": {},
   "outputs": [],
   "source": [
    "class TensorContainer(torch.nn.Module):\n",
    "    def __init__(self, tensor_dict):\n",
    "        super().__init__()\n",
    "        for key,value in tensor_dict.items():\n",
    "            setattr(self, key, value)\n",
    " \n",
    "x = torch.ones(4, 4)\n",
    "tensor_dict = {'x': x}\n",
    "tensors = TensorContainer(tensor_dict)\n",
    "tensors = torch.jit.script(tensors)\n",
    "tensors.save('x.pth')"
   ]
  },
  {
   "cell_type": "markdown",
   "id": "037ce866",
   "metadata": {},
   "source": [
    "~~~\n",
    "// c++ code\n",
    "try\n",
    "{\n",
    "    torch::jit::script::Module tensors = torch::jit::load(\"x.pth\");\n",
    "    c10::IValue iv = tensors.attr(\"x\");\n",
    "    torch::Tensor ts = iv.toTensor();\n",
    "    std::cout << ts;\n",
    "}catch (const c10::Error& e) {\n",
    "    std::cerr << \"error loading the tensor \" << std::endl;\n",
    "    std::cerr << e.msg() << std::endl;\n",
    "}\n",
    "~~~"
   ]
  },
  {
   "cell_type": "markdown",
   "id": "4acc053e",
   "metadata": {},
   "source": [
    "# reference\n",
    "\n",
    "https://pytorch.org/docs/stable/notes/serialization.html#\n",
    "\n",
    "https://discuss.pytorch.org/t/load-tensors-saved-in-python-from-c-and-vice-versa/39435/8"
   ]
  },
  {
   "cell_type": "code",
   "execution_count": null,
   "id": "c332e7ae",
   "metadata": {},
   "outputs": [],
   "source": []
  }
 ],
 "metadata": {
  "kernelspec": {
   "display_name": "Python 3 (ipykernel)",
   "language": "python",
   "name": "python3"
  },
  "language_info": {
   "codemirror_mode": {
    "name": "ipython",
    "version": 3
   },
   "file_extension": ".py",
   "mimetype": "text/x-python",
   "name": "python",
   "nbconvert_exporter": "python",
   "pygments_lexer": "ipython3",
   "version": "3.10.5"
  }
 },
 "nbformat": 4,
 "nbformat_minor": 5
}
