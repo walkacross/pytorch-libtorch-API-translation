{
 "cells": [
  {
   "cell_type": "code",
   "execution_count": 1,
   "id": "5003d025",
   "metadata": {},
   "outputs": [],
   "source": [
    "#pragma cling add_include_path(\"../../libtorch/include\")\n",
    "#pragma cling add_include_path(\"../../libtorch/include/torch/csrc/api/include\")\n",
    "#pragma cling add_library_path(\"../../libtorch/lib\")\n",
    "#pragma cling load(\"libtorch\")"
   ]
  },
  {
   "cell_type": "code",
   "execution_count": 2,
   "id": "38f2939a",
   "metadata": {},
   "outputs": [],
   "source": [
    "#include <iostream>\n",
    "#include <tuple>\n",
    "#include <torch/torch.h>\n",
    "#include <ATen/ATen.h>\n",
    "namespace nn = torch::nn;"
   ]
  },
  {
   "cell_type": "markdown",
   "id": "d7f74593",
   "metadata": {},
   "source": [
    "# BatchNorm1d"
   ]
  },
  {
   "cell_type": "markdown",
   "id": "bbcc77d2",
   "metadata": {},
   "source": [
    "Applies Batch Normalization over a 2D or 3D input as described in the paper Batch Normalization: Accelerating Deep Network Training by Reducing Internal Covariate Shift."
   ]
  },
  {
   "cell_type": "markdown",
   "id": "274c14d5",
   "metadata": {},
   "source": [
    "* Input: (N, C) or (N, C, L), where N is the batch size, C is the number of features or channels, and L is the sequence length\n",
    "\n",
    "* Output: (N, C) or (N, C, L) (same shape as input)"
   ]
  },
  {
   "cell_type": "code",
   "execution_count": 3,
   "id": "38e64a0a",
   "metadata": {},
   "outputs": [],
   "source": [
    "// https://github.com/pytorch/pytorch/blob/master/torch/csrc/api/include/torch/nn/modules/batchnorm.h\n",
    "\n",
    "// https://github.com/pytorch/pytorch/blob/master/torch/csrc/api/include/torch/nn/options/batchnorm.h"
   ]
  },
  {
   "cell_type": "markdown",
   "id": "0115669d",
   "metadata": {},
   "source": [
    "## a) the inputy data is 2d"
   ]
  },
  {
   "cell_type": "code",
   "execution_count": 4,
   "id": "e1ebf505",
   "metadata": {},
   "outputs": [],
   "source": [
    "int sample_size = 3;\n",
    "int number_features = 4;\n",
    "\n",
    "torch::Tensor x = torch::arange(sample_size*number_features).reshape({sample_size,number_features}) * 1.0;"
   ]
  },
  {
   "cell_type": "code",
   "execution_count": 5,
   "id": "68e7396b",
   "metadata": {},
   "outputs": [
    {
     "name": "stdout",
     "output_type": "stream",
     "text": [
      "  0   1   2   3\n",
      "  4   5   6   7\n",
      "  8   9  10  11\n",
      "[ CPUFloatType{3,4} ]\n"
     ]
    }
   ],
   "source": [
    "std::cout << x << std::endl;"
   ]
  },
  {
   "cell_type": "code",
   "execution_count": 6,
   "id": "b37007c7",
   "metadata": {},
   "outputs": [],
   "source": [
    "auto options = nn::BatchNorm1dOptions(/*num_features*/4).eps(0.0).momentum(1.0).affine(true).track_running_stats(true);"
   ]
  },
  {
   "cell_type": "code",
   "execution_count": 7,
   "id": "a8c196e9",
   "metadata": {},
   "outputs": [],
   "source": [
    "nn::BatchNorm1d  batch_norm_1d(options);"
   ]
  },
  {
   "cell_type": "code",
   "execution_count": 8,
   "id": "0e1d53e1",
   "metadata": {},
   "outputs": [],
   "source": [
    "//nn::BatchNorm1d batch_norm_1d{}"
   ]
  },
  {
   "cell_type": "code",
   "execution_count": 9,
   "id": "7ecaef82",
   "metadata": {},
   "outputs": [],
   "source": [
    "torch::Tensor output = batch_norm_1d -> forward(x);"
   ]
  },
  {
   "cell_type": "code",
   "execution_count": 10,
   "id": "d8b46c03",
   "metadata": {},
   "outputs": [
    {
     "name": "stdout",
     "output_type": "stream",
     "text": [
      "-1.2247 -1.2247 -1.2247 -1.2247\n",
      " 0.0000  0.0000  0.0000  0.0000\n",
      " 1.2247  1.2247  1.2247  1.2247\n",
      "[ CPUFloatType{3,4} ]\n"
     ]
    }
   ],
   "source": [
    "std::cout << output << std::endl;"
   ]
  },
  {
   "cell_type": "code",
   "execution_count": 11,
   "id": "93a2e729",
   "metadata": {},
   "outputs": [
    {
     "name": "stdout",
     "output_type": "stream",
     "text": [
      "after process data \n",
      " 4\n",
      " 5\n",
      " 6\n",
      " 7\n",
      "[ CPUFloatType{4} ]\n",
      " 16\n",
      " 16\n",
      " 16\n",
      " 16\n",
      "[ CPUFloatType{4} ]\n"
     ]
    }
   ],
   "source": [
    "std::cout << \"after process data \" << std::endl;\n",
    "std::cout << batch_norm_1d -> running_mean << std::endl;\n",
    "std::cout << batch_norm_1d -> running_var << std::endl;"
   ]
  },
  {
   "cell_type": "markdown",
   "id": "b3b16878",
   "metadata": {},
   "source": [
    "## how to reimplement it?"
   ]
  },
  {
   "cell_type": "code",
   "execution_count": 12,
   "id": "b91c8e20",
   "metadata": {},
   "outputs": [
    {
     "name": "stdout",
     "output_type": "stream",
     "text": [
      " 4  5  6  7\n",
      "[ CPUFloatType{1,4} ]\n"
     ]
    }
   ],
   "source": [
    "std::cout << x.mean(0, 1) << std::endl;"
   ]
  },
  {
   "cell_type": "code",
   "execution_count": 13,
   "id": "619ceb68",
   "metadata": {},
   "outputs": [
    {
     "name": "stdout",
     "output_type": "stream",
     "text": [
      " 16\n",
      " 16\n",
      " 16\n",
      " 16\n",
      "[ CPUFloatType{4} ]\n"
     ]
    }
   ],
   "source": [
    "std::cout << x.var(0) << std::endl;"
   ]
  },
  {
   "cell_type": "code",
   "execution_count": 14,
   "id": "4a75e61b",
   "metadata": {},
   "outputs": [
    {
     "name": "stdout",
     "output_type": "stream",
     "text": [
      "-1 -1 -1 -1\n",
      " 0  0  0  0\n",
      " 1  1  1  1\n",
      "[ CPUFloatType{3,4} ]\n"
     ]
    }
   ],
   "source": [
    "std::cout << (x - x.mean(0,1))/x.std(0,1) << std::endl;"
   ]
  },
  {
   "cell_type": "markdown",
   "id": "61262541",
   "metadata": {},
   "source": [
    "## b) the input is 3d data"
   ]
  },
  {
   "cell_type": "code",
   "execution_count": 15,
   "id": "abed39e6",
   "metadata": {},
   "outputs": [],
   "source": [
    "int sample_size = 3;\n",
    "int number_features = 4;\n",
    "int sequence_length = 5;\n",
    "\n",
    "torch::Tensor x = torch::arange(sample_size*number_features*sequence_length).reshape({sample_size,number_features,sequence_length}) * 1.0;"
   ]
  },
  {
   "cell_type": "code",
   "execution_count": 16,
   "id": "d45f42bd",
   "metadata": {},
   "outputs": [
    {
     "name": "stdout",
     "output_type": "stream",
     "text": [
      "(1,.,.) = \n",
      "   0   1   2   3   4\n",
      "   5   6   7   8   9\n",
      "  10  11  12  13  14\n",
      "  15  16  17  18  19\n",
      "\n",
      "(2,.,.) = \n",
      "  20  21  22  23  24\n",
      "  25  26  27  28  29\n",
      "  30  31  32  33  34\n",
      "  35  36  37  38  39\n",
      "\n",
      "(3,.,.) = \n",
      "  40  41  42  43  44\n",
      "  45  46  47  48  49\n",
      "  50  51  52  53  54\n",
      "  55  56  57  58  59\n",
      "[ CPUFloatType{3,4,5} ]\n"
     ]
    }
   ],
   "source": [
    "std::cout << x << std::endl;"
   ]
  },
  {
   "cell_type": "code",
   "execution_count": 17,
   "id": "07304f83",
   "metadata": {},
   "outputs": [],
   "source": [
    "output = batch_norm_1d -> forward(x);"
   ]
  },
  {
   "cell_type": "code",
   "execution_count": 18,
   "id": "78ae329d",
   "metadata": {},
   "outputs": [
    {
     "name": "stdout",
     "output_type": "stream",
     "text": [
      "(1,.,.) = \n",
      " -1.3422 -1.2812 -1.2202 -1.1592 -1.0982\n",
      " -1.3422 -1.2812 -1.2202 -1.1592 -1.0982\n",
      " -1.3422 -1.2812 -1.2202 -1.1592 -1.0982\n",
      " -1.3422 -1.2812 -1.2202 -1.1592 -1.0982\n",
      "\n",
      "(2,.,.) = \n",
      " -0.1220 -0.0610  0.0000  0.0610  0.1220\n",
      " -0.1220 -0.0610 -0.0000  0.0610  0.1220\n",
      " -0.1220 -0.0610  0.0000  0.0610  0.1220\n",
      " -0.1220 -0.0610 -0.0000  0.0610  0.1220\n",
      "\n",
      "(3,.,.) = \n",
      "  1.0982  1.1592  1.2202  1.2812  1.3422\n",
      "  1.0982  1.1592  1.2202  1.2812  1.3422\n",
      "  1.0982  1.1592  1.2202  1.2812  1.3422\n",
      "  1.0982  1.1592  1.2202  1.2812  1.3422\n",
      "[ CPUFloatType{3,4,5} ]\n"
     ]
    }
   ],
   "source": [
    "std::cout << output << std::endl;"
   ]
  },
  {
   "cell_type": "code",
   "execution_count": 19,
   "id": "529b0530",
   "metadata": {},
   "outputs": [
    {
     "name": "stdout",
     "output_type": "stream",
     "text": [
      "after process data \n",
      " 22\n",
      " 27\n",
      " 32\n",
      " 37\n",
      "[ CPUFloatType{4} ]\n",
      " 287.8571\n",
      " 287.8571\n",
      " 287.8571\n",
      " 287.8571\n",
      "[ CPUFloatType{4} ]\n"
     ]
    }
   ],
   "source": [
    "std::cout << \"after process data \" << std::endl;\n",
    "std::cout << batch_norm_1d -> running_mean << std::endl;\n",
    "std::cout << batch_norm_1d -> running_var << std::endl;"
   ]
  },
  {
   "cell_type": "markdown",
   "id": "df338a96",
   "metadata": {},
   "source": [
    "## how to reimplement it?"
   ]
  },
  {
   "cell_type": "code",
   "execution_count": 20,
   "id": "3a11b477",
   "metadata": {},
   "outputs": [
    {
     "name": "stdout",
     "output_type": "stream",
     "text": [
      "[3, 4, 5]"
     ]
    }
   ],
   "source": [
    "at::IntArrayRef shape = x.sizes();\n",
    "std::cout << shape;"
   ]
  },
  {
   "cell_type": "code",
   "execution_count": 21,
   "id": "048fe54f",
   "metadata": {},
   "outputs": [
    {
     "name": "stdout",
     "output_type": "stream",
     "text": [
      "[0, 2]"
     ]
    }
   ],
   "source": [
    "at::IntArrayRef dim{{0,2}};\n",
    "std::cout << dim;"
   ]
  },
  {
   "cell_type": "code",
   "execution_count": 22,
   "id": "59ce3850",
   "metadata": {},
   "outputs": [
    {
     "name": "stdout",
     "output_type": "stream",
     "text": [
      "(1,.,.) = \n",
      "  22\n",
      "  27\n",
      "  32\n",
      "  37\n",
      "[ CPUFloatType{1,4,1} ]\n"
     ]
    }
   ],
   "source": [
    "std::cout << x.mean(dim, 1) << std::endl;"
   ]
  },
  {
   "cell_type": "code",
   "execution_count": 23,
   "id": "4bbcd89e",
   "metadata": {},
   "outputs": [
    {
     "name": "stdout",
     "output_type": "stream",
     "text": [
      " 287.8571\n",
      " 287.8571\n",
      " 287.8571\n",
      " 287.8571\n",
      "[ CPUFloatType{4} ]\n"
     ]
    }
   ],
   "source": [
    "std::cout << x.var(dim, 1) << std::endl;"
   ]
  },
  {
   "cell_type": "code",
   "execution_count": 24,
   "id": "d1f575dc",
   "metadata": {},
   "outputs": [
    {
     "name": "stdout",
     "output_type": "stream",
     "text": [
      "(1,.,.) = \n",
      "  287.8571\n",
      "  287.8571\n",
      "  287.8571\n",
      "  287.8571\n",
      "[ CPUFloatType{1,4,1} ]"
     ]
    }
   ],
   "source": [
    "std::cout << x.var(dim, 1).unsqueeze(0).unsqueeze(-1);"
   ]
  },
  {
   "cell_type": "code",
   "execution_count": 25,
   "id": "88c95429",
   "metadata": {},
   "outputs": [
    {
     "name": "stdout",
     "output_type": "stream",
     "text": [
      "(1,.,.) = \n",
      " -1.2967 -1.2377 -1.1788 -1.1199 -1.0609\n",
      " -1.2967 -1.2377 -1.1788 -1.1199 -1.0609\n",
      " -1.2967 -1.2377 -1.1788 -1.1199 -1.0609\n",
      " -1.2967 -1.2377 -1.1788 -1.1199 -1.0609\n",
      "\n",
      "(2,.,.) = \n",
      " -0.1179 -0.0589  0.0000  0.0589  0.1179\n",
      " -0.1179 -0.0589  0.0000  0.0589  0.1179\n",
      " -0.1179 -0.0589  0.0000  0.0589  0.1179\n",
      " -0.1179 -0.0589  0.0000  0.0589  0.1179\n",
      "\n",
      "(3,.,.) = \n",
      "  1.0609  1.1199  1.1788  1.2377  1.2967\n",
      "  1.0609  1.1199  1.1788  1.2377  1.2967\n",
      "  1.0609  1.1199  1.1788  1.2377  1.2967\n",
      "  1.0609  1.1199  1.1788  1.2377  1.2967\n",
      "[ CPUFloatType{3,4,5} ]\n"
     ]
    }
   ],
   "source": [
    "std::cout << (x-x.mean(dim, 1))/x.std(dim, 1).unsqueeze(0).unsqueeze(-1) << std::endl;"
   ]
  },
  {
   "cell_type": "markdown",
   "id": "b7931913",
   "metadata": {},
   "source": [
    "# what happens in eval mode?"
   ]
  },
  {
   "cell_type": "code",
   "execution_count": 26,
   "id": "5efb334a",
   "metadata": {},
   "outputs": [
    {
     "name": "stdout",
     "output_type": "stream",
     "text": [
      " 10\n",
      " 10\n",
      " 10\n",
      " 10\n",
      "[ CPUFloatType{4} ]\n"
     ]
    }
   ],
   "source": [
    "batch_norm_1d -> running_mean.data().fill_(10.0);\n",
    "std::cout << batch_norm_1d -> running_mean << std::endl;"
   ]
  },
  {
   "cell_type": "code",
   "execution_count": 27,
   "id": "edd78d15",
   "metadata": {},
   "outputs": [
    {
     "name": "stdout",
     "output_type": "stream",
     "text": [
      " 1\n",
      " 1\n",
      " 1\n",
      " 1\n",
      "[ CPUFloatType{4} ]\n"
     ]
    }
   ],
   "source": [
    "batch_norm_1d -> running_var.data().fill_(1.0);\n",
    "std::cout << batch_norm_1d -> running_var << std::endl;"
   ]
  },
  {
   "cell_type": "code",
   "execution_count": 28,
   "id": "20441da2",
   "metadata": {},
   "outputs": [],
   "source": [
    "batch_norm_1d -> eval();"
   ]
  },
  {
   "cell_type": "code",
   "execution_count": 29,
   "id": "c6f2a855",
   "metadata": {},
   "outputs": [
    {
     "name": "stdout",
     "output_type": "stream",
     "text": [
      "(1,.,.) = \n",
      " -10  -9  -8  -7  -6\n",
      "  -5  -4  -3  -2  -1\n",
      "   0   1   2   3   4\n",
      "   5   6   7   8   9\n",
      "\n",
      "(2,.,.) = \n",
      "  10  11  12  13  14\n",
      "  15  16  17  18  19\n",
      "  20  21  22  23  24\n",
      "  25  26  27  28  29\n",
      "\n",
      "(3,.,.) = \n",
      "  30  31  32  33  34\n",
      "  35  36  37  38  39\n",
      "  40  41  42  43  44\n",
      "  45  46  47  48  49\n",
      "[ CPUFloatType{3,4,5} ]\n"
     ]
    }
   ],
   "source": [
    "output = batch_norm_1d ->forward(x);\n",
    "std::cout << output << std::endl;"
   ]
  },
  {
   "cell_type": "code",
   "execution_count": null,
   "id": "0d76bbe7",
   "metadata": {},
   "outputs": [],
   "source": []
  }
 ],
 "metadata": {
  "kernelspec": {
   "display_name": "C++17",
   "language": "C++17",
   "name": "xcpp17"
  },
  "language_info": {
   "codemirror_mode": "text/x-c++src",
   "file_extension": ".cpp",
   "mimetype": "text/x-c++src",
   "name": "c++",
   "version": "17"
  }
 },
 "nbformat": 4,
 "nbformat_minor": 5
}
