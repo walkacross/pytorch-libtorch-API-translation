{
 "cells": [
  {
   "cell_type": "code",
   "execution_count": 1,
   "id": "619859c6",
   "metadata": {},
   "outputs": [],
   "source": [
    "import torch\n",
    "import torch.nn as nn"
   ]
  },
  {
   "cell_type": "markdown",
   "id": "d6436537",
   "metadata": {},
   "source": [
    "# BatchNorm1d"
   ]
  },
  {
   "cell_type": "code",
   "execution_count": 2,
   "id": "004f04ac",
   "metadata": {},
   "outputs": [],
   "source": [
    "#torch.nn.BatchNorm1d(num_features, eps=1e-05, momentum=0.1, affine=True, track_running_stats=True, device=None, dtype=None)"
   ]
  },
  {
   "cell_type": "markdown",
   "id": "cec4ac60",
   "metadata": {},
   "source": [
    "Applies Batch Normalization over a 2D or 3D input as described in the paper Batch Normalization: Accelerating Deep Network Training by Reducing Internal Covariate Shift."
   ]
  },
  {
   "cell_type": "markdown",
   "id": "0f1094b0",
   "metadata": {},
   "source": [
    "* Input: (N, C) or (N, C, L), where N is the batch size, C is the number of features or channels, and L is the sequence length\n",
    "\n",
    "* Output: (N, C) or (N, C, L) (same shape as input)"
   ]
  },
  {
   "cell_type": "markdown",
   "id": "1346ee45",
   "metadata": {},
   "source": [
    "## a) the inputy data is 2d"
   ]
  },
  {
   "cell_type": "code",
   "execution_count": 3,
   "id": "9e6b1f9c",
   "metadata": {},
   "outputs": [
    {
     "name": "stdout",
     "output_type": "stream",
     "text": [
      "tensor([[ 0.,  1.,  2.,  3.],\n",
      "        [ 4.,  5.,  6.,  7.],\n",
      "        [ 8.,  9., 10., 11.]])\n"
     ]
    }
   ],
   "source": [
    "sample_size = 3\n",
    "number_features = 4\n",
    "\n",
    "x = torch.arange(sample_size*number_features).reshape(sample_size, number_features) * 1.0\n",
    "print(x)"
   ]
  },
  {
   "cell_type": "code",
   "execution_count": 4,
   "id": "10d3ade3",
   "metadata": {},
   "outputs": [],
   "source": [
    "batch_norm_1d = nn.BatchNorm1d(num_features=number_features, momentum=1)"
   ]
  },
  {
   "cell_type": "code",
   "execution_count": 5,
   "id": "90933457",
   "metadata": {},
   "outputs": [
    {
     "name": "stdout",
     "output_type": "stream",
     "text": [
      "before process data:\n",
      "\n",
      "tensor([0., 0., 0., 0.])\n",
      "tensor([1., 1., 1., 1.])\n"
     ]
    }
   ],
   "source": [
    "print(\"before process data:\\n\")\n",
    "print(batch_norm_1d.running_mean)\n",
    "print(batch_norm_1d.running_var)"
   ]
  },
  {
   "cell_type": "code",
   "execution_count": 6,
   "id": "105e41be",
   "metadata": {},
   "outputs": [
    {
     "name": "stdout",
     "output_type": "stream",
     "text": [
      "tensor([[-1.2247e+00, -1.2247e+00, -1.2247e+00, -1.2247e+00],\n",
      "        [ 0.0000e+00,  0.0000e+00,  0.0000e+00,  1.1921e-07],\n",
      "        [ 1.2247e+00,  1.2247e+00,  1.2247e+00,  1.2247e+00]],\n",
      "       grad_fn=<NativeBatchNormBackward0>)\n"
     ]
    }
   ],
   "source": [
    "output = batch_norm_1d(x)\n",
    "print(output)"
   ]
  },
  {
   "cell_type": "code",
   "execution_count": 7,
   "id": "a1728b5b",
   "metadata": {},
   "outputs": [
    {
     "name": "stdout",
     "output_type": "stream",
     "text": [
      "after process data:\n",
      "\n",
      "tensor([4., 5., 6., 7.])\n",
      "tensor([16., 16., 16., 16.])\n"
     ]
    }
   ],
   "source": [
    "print(\"after process data:\\n\")\n",
    "print(batch_norm_1d.running_mean)\n",
    "print(batch_norm_1d.running_var)"
   ]
  },
  {
   "cell_type": "markdown",
   "id": "75a8a49a",
   "metadata": {},
   "source": [
    "## how to reimplement it?"
   ]
  },
  {
   "cell_type": "code",
   "execution_count": 8,
   "id": "753cb715",
   "metadata": {},
   "outputs": [
    {
     "data": {
      "text/plain": [
       "tensor([4., 5., 6., 7.])"
      ]
     },
     "execution_count": 8,
     "metadata": {},
     "output_type": "execute_result"
    }
   ],
   "source": [
    "x.mean(0)"
   ]
  },
  {
   "cell_type": "code",
   "execution_count": 9,
   "id": "ba34f90f",
   "metadata": {},
   "outputs": [
    {
     "data": {
      "text/plain": [
       "tensor([16., 16., 16., 16.])"
      ]
     },
     "execution_count": 9,
     "metadata": {},
     "output_type": "execute_result"
    }
   ],
   "source": [
    "x.var(0)"
   ]
  },
  {
   "cell_type": "code",
   "execution_count": 10,
   "id": "0046b423",
   "metadata": {},
   "outputs": [
    {
     "name": "stdout",
     "output_type": "stream",
     "text": [
      "tensor([[-1., -1., -1., -1.],\n",
      "        [ 0.,  0.,  0.,  0.],\n",
      "        [ 1.,  1.,  1.,  1.]])\n"
     ]
    }
   ],
   "source": [
    "expect_output = (x - x.mean(0))/torch.sqrt(x.var(0))\n",
    "print(expect_output)"
   ]
  },
  {
   "cell_type": "markdown",
   "id": "3d7368f1",
   "metadata": {},
   "source": [
    "## b) the input is 3d data"
   ]
  },
  {
   "cell_type": "code",
   "execution_count": 11,
   "id": "2d75081b",
   "metadata": {},
   "outputs": [
    {
     "name": "stdout",
     "output_type": "stream",
     "text": [
      "tensor([[[ 0.,  1.,  2.,  3.,  4.],\n",
      "         [ 5.,  6.,  7.,  8.,  9.],\n",
      "         [10., 11., 12., 13., 14.],\n",
      "         [15., 16., 17., 18., 19.]],\n",
      "\n",
      "        [[20., 21., 22., 23., 24.],\n",
      "         [25., 26., 27., 28., 29.],\n",
      "         [30., 31., 32., 33., 34.],\n",
      "         [35., 36., 37., 38., 39.]],\n",
      "\n",
      "        [[40., 41., 42., 43., 44.],\n",
      "         [45., 46., 47., 48., 49.],\n",
      "         [50., 51., 52., 53., 54.],\n",
      "         [55., 56., 57., 58., 59.]]])\n"
     ]
    }
   ],
   "source": [
    "sample_size = 3\n",
    "number_feature = 4\n",
    "sequence_length = 5\n",
    "\n",
    "x = torch.arange(sample_size*number_features*sequence_length).reshape(sample_size, number_features, sequence_length) * 1.0\n",
    "print(x)"
   ]
  },
  {
   "cell_type": "code",
   "execution_count": 12,
   "id": "9b5b7563",
   "metadata": {},
   "outputs": [],
   "source": [
    "batch_norm_1d = nn.BatchNorm1d(num_features=number_features, eps=0.0, momentum=1.0)"
   ]
  },
  {
   "cell_type": "code",
   "execution_count": 13,
   "id": "5ae40a29",
   "metadata": {},
   "outputs": [
    {
     "data": {
      "text/plain": [
       "tensor([0., 0., 0., 0.])"
      ]
     },
     "execution_count": 13,
     "metadata": {},
     "output_type": "execute_result"
    }
   ],
   "source": [
    "batch_norm_1d.running_mean"
   ]
  },
  {
   "cell_type": "code",
   "execution_count": 14,
   "id": "38eca10a",
   "metadata": {},
   "outputs": [
    {
     "data": {
      "text/plain": [
       "tensor([1., 1., 1., 1.])"
      ]
     },
     "execution_count": 14,
     "metadata": {},
     "output_type": "execute_result"
    }
   ],
   "source": [
    "batch_norm_1d.running_var"
   ]
  },
  {
   "cell_type": "code",
   "execution_count": null,
   "id": "771d2d87",
   "metadata": {},
   "outputs": [],
   "source": []
  },
  {
   "cell_type": "code",
   "execution_count": 15,
   "id": "a92787a2",
   "metadata": {},
   "outputs": [
    {
     "name": "stdout",
     "output_type": "stream",
     "text": [
      "tensor([[[-1.3422e+00, -1.2812e+00, -1.2202e+00, -1.1592e+00, -1.0982e+00],\n",
      "         [-1.3422e+00, -1.2812e+00, -1.2202e+00, -1.1592e+00, -1.0982e+00],\n",
      "         [-1.3422e+00, -1.2812e+00, -1.2202e+00, -1.1592e+00, -1.0982e+00],\n",
      "         [-1.3422e+00, -1.2812e+00, -1.2202e+00, -1.1592e+00, -1.0982e+00]],\n",
      "\n",
      "        [[-1.2202e-01, -6.1009e-02,  5.2154e-08,  6.1009e-02,  1.2202e-01],\n",
      "         [-1.2202e-01, -6.1009e-02, -3.3528e-08,  6.1009e-02,  1.2202e-01],\n",
      "         [-1.2202e-01, -6.1009e-02,  0.0000e+00,  6.1009e-02,  1.2202e-01],\n",
      "         [-1.2202e-01, -6.1009e-02, -8.5682e-08,  6.1009e-02,  1.2202e-01]],\n",
      "\n",
      "        [[ 1.0982e+00,  1.1592e+00,  1.2202e+00,  1.2812e+00,  1.3422e+00],\n",
      "         [ 1.0982e+00,  1.1592e+00,  1.2202e+00,  1.2812e+00,  1.3422e+00],\n",
      "         [ 1.0982e+00,  1.1592e+00,  1.2202e+00,  1.2812e+00,  1.3422e+00],\n",
      "         [ 1.0982e+00,  1.1592e+00,  1.2202e+00,  1.2812e+00,  1.3422e+00]]],\n",
      "       grad_fn=<NativeBatchNormBackward0>)\n"
     ]
    }
   ],
   "source": [
    "output = batch_norm_1d(x)\n",
    "print(output)"
   ]
  },
  {
   "cell_type": "code",
   "execution_count": 16,
   "id": "cb7f4449",
   "metadata": {},
   "outputs": [
    {
     "data": {
      "text/plain": [
       "tensor([22., 27., 32., 37.])"
      ]
     },
     "execution_count": 16,
     "metadata": {},
     "output_type": "execute_result"
    }
   ],
   "source": [
    "batch_norm_1d.running_mean"
   ]
  },
  {
   "cell_type": "code",
   "execution_count": 17,
   "id": "5dcb3583",
   "metadata": {},
   "outputs": [
    {
     "data": {
      "text/plain": [
       "tensor([287.8571, 287.8571, 287.8571, 287.8571])"
      ]
     },
     "execution_count": 17,
     "metadata": {},
     "output_type": "execute_result"
    }
   ],
   "source": [
    "batch_norm_1d.running_var"
   ]
  },
  {
   "cell_type": "markdown",
   "id": "4f35ba2f",
   "metadata": {},
   "source": [
    "## understand batchnorm1d on 3d data"
   ]
  },
  {
   "cell_type": "code",
   "execution_count": 18,
   "id": "02b79986",
   "metadata": {},
   "outputs": [
    {
     "data": {
      "text/plain": [
       "tensor([[ 0.,  1.,  2.,  3.,  4.],\n",
       "        [20., 21., 22., 23., 24.],\n",
       "        [40., 41., 42., 43., 44.]])"
      ]
     },
     "execution_count": 18,
     "metadata": {},
     "output_type": "execute_result"
    }
   ],
   "source": [
    "x.select(dim=1,index=0)"
   ]
  },
  {
   "cell_type": "code",
   "execution_count": 19,
   "id": "01e1f902",
   "metadata": {},
   "outputs": [
    {
     "data": {
      "text/plain": [
       "tensor(22.)"
      ]
     },
     "execution_count": 19,
     "metadata": {},
     "output_type": "execute_result"
    }
   ],
   "source": [
    "x.select(dim=1,index=0).mean()"
   ]
  },
  {
   "cell_type": "code",
   "execution_count": 20,
   "id": "7d8cb9e7",
   "metadata": {},
   "outputs": [
    {
     "data": {
      "text/plain": [
       "tensor([[[22.],\n",
       "         [27.],\n",
       "         [32.],\n",
       "         [37.]]])"
      ]
     },
     "execution_count": 20,
     "metadata": {},
     "output_type": "execute_result"
    }
   ],
   "source": [
    "x.mean(dim=(0,2),keepdim=True) #== batch_norm_1d.running_mean"
   ]
  },
  {
   "cell_type": "code",
   "execution_count": 21,
   "id": "86d32b4d",
   "metadata": {},
   "outputs": [
    {
     "data": {
      "text/plain": [
       "tensor([[[287.8571],\n",
       "         [287.8571],\n",
       "         [287.8571],\n",
       "         [287.8571]]])"
      ]
     },
     "execution_count": 21,
     "metadata": {},
     "output_type": "execute_result"
    }
   ],
   "source": [
    "x.var(dim=(0,2),keepdim=True) #== batch_norm_1d.running_mean"
   ]
  },
  {
   "cell_type": "code",
   "execution_count": 22,
   "id": "309a0570",
   "metadata": {},
   "outputs": [
    {
     "name": "stdout",
     "output_type": "stream",
     "text": [
      "tensor([[[-1.2967, -1.2377, -1.1788, -1.1199, -1.0609],\n",
      "         [-1.2967, -1.2377, -1.1788, -1.1199, -1.0609],\n",
      "         [-1.2967, -1.2377, -1.1788, -1.1199, -1.0609],\n",
      "         [-1.2967, -1.2377, -1.1788, -1.1199, -1.0609]],\n",
      "\n",
      "        [[-0.1179, -0.0589,  0.0000,  0.0589,  0.1179],\n",
      "         [-0.1179, -0.0589,  0.0000,  0.0589,  0.1179],\n",
      "         [-0.1179, -0.0589,  0.0000,  0.0589,  0.1179],\n",
      "         [-0.1179, -0.0589,  0.0000,  0.0589,  0.1179]],\n",
      "\n",
      "        [[ 1.0609,  1.1199,  1.1788,  1.2377,  1.2967],\n",
      "         [ 1.0609,  1.1199,  1.1788,  1.2377,  1.2967],\n",
      "         [ 1.0609,  1.1199,  1.1788,  1.2377,  1.2967],\n",
      "         [ 1.0609,  1.1199,  1.1788,  1.2377,  1.2967]]])\n"
     ]
    }
   ],
   "source": [
    "expect_output = (x - x.mean(dim=(0,2),keepdim=True))/x.std(dim=(0,2),keepdim=True)\n",
    "print(expect_output)"
   ]
  },
  {
   "cell_type": "markdown",
   "id": "2e246880",
   "metadata": {},
   "source": [
    "## what happens in eval mode?"
   ]
  },
  {
   "cell_type": "code",
   "execution_count": 23,
   "id": "8d8b51a4",
   "metadata": {},
   "outputs": [
    {
     "name": "stdout",
     "output_type": "stream",
     "text": [
      "tensor([10., 10., 10., 10.])\n",
      "tensor([1., 1., 1., 1.])\n",
      "tensor([[[-10.,  -9.,  -8.,  -7.,  -6.],\n",
      "         [ -5.,  -4.,  -3.,  -2.,  -1.],\n",
      "         [  0.,   1.,   2.,   3.,   4.],\n",
      "         [  5.,   6.,   7.,   8.,   9.]],\n",
      "\n",
      "        [[ 10.,  11.,  12.,  13.,  14.],\n",
      "         [ 15.,  16.,  17.,  18.,  19.],\n",
      "         [ 20.,  21.,  22.,  23.,  24.],\n",
      "         [ 25.,  26.,  27.,  28.,  29.]],\n",
      "\n",
      "        [[ 30.,  31.,  32.,  33.,  34.],\n",
      "         [ 35.,  36.,  37.,  38.,  39.],\n",
      "         [ 40.,  41.,  42.,  43.,  44.],\n",
      "         [ 45.,  46.,  47.,  48.,  49.]]], grad_fn=<NativeBatchNormBackward0>)\n"
     ]
    }
   ],
   "source": [
    "batch_norm_1d.running_mean.data.fill_(10.0)\n",
    "batch_norm_1d.running_var.data.fill_(1.0)\n",
    "\n",
    "print(batch_norm_1d.running_mean)\n",
    "print(batch_norm_1d.running_var)\n",
    "\n",
    "batch_norm_1d.eval()\n",
    "\n",
    "output = batch_norm_1d(x)\n",
    "print(output)"
   ]
  },
  {
   "cell_type": "code",
   "execution_count": null,
   "id": "611d7650",
   "metadata": {},
   "outputs": [],
   "source": []
  }
 ],
 "metadata": {
  "kernelspec": {
   "display_name": "Python 3",
   "language": "python",
   "name": "python3"
  },
  "language_info": {
   "codemirror_mode": {
    "name": "ipython",
    "version": 3
   },
   "file_extension": ".py",
   "mimetype": "text/x-python",
   "name": "python",
   "nbconvert_exporter": "python",
   "pygments_lexer": "ipython3",
   "version": "3.8.8"
  }
 },
 "nbformat": 4,
 "nbformat_minor": 5
}
