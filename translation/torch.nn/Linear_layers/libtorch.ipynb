{
 "cells": [
  {
   "cell_type": "code",
   "execution_count": 1,
   "id": "2d507193",
   "metadata": {},
   "outputs": [],
   "source": [
    "#pragma cling add_include_path(\"../../libtorch/include\")\n",
    "#pragma cling add_include_path(\"../../libtorch/include/torch/csrc/api/include\")\n",
    "#pragma cling add_library_path(\"../../libtorch/lib\")\n",
    "#pragma cling load(\"libtorch\")"
   ]
  },
  {
   "cell_type": "code",
   "execution_count": 2,
   "id": "ceb58a58",
   "metadata": {},
   "outputs": [],
   "source": [
    "#include <iostream>\n",
    "#include <tuple>\n",
    "#include <torch/torch.h>\n",
    "namespace nn = torch::nn;"
   ]
  },
  {
   "cell_type": "markdown",
   "id": "251b8168",
   "metadata": {},
   "source": [
    "# Linear¶\n",
    "\n",
    "Applies a linear transformation to the incoming data: y = xA^T + b"
   ]
  },
  {
   "cell_type": "code",
   "execution_count": 3,
   "id": "9a121be2",
   "metadata": {},
   "outputs": [],
   "source": [
    "int sample_size = 3;\n",
    "int number_features = 4;\n",
    "\n",
    "torch::Tensor x = torch::arange(sample_size*number_features).reshape({sample_size,number_features}) * 1.0;"
   ]
  },
  {
   "cell_type": "code",
   "execution_count": 4,
   "id": "d27bf59f",
   "metadata": {},
   "outputs": [
    {
     "name": "stdout",
     "output_type": "stream",
     "text": [
      "  0   1   2   3\n",
      "  4   5   6   7\n",
      "  8   9  10  11\n",
      "[ CPUFloatType{3,4} ]\n"
     ]
    }
   ],
   "source": [
    "std::cout << x << std::endl;"
   ]
  },
  {
   "cell_type": "code",
   "execution_count": 5,
   "id": "f9d816c2",
   "metadata": {},
   "outputs": [],
   "source": [
    "nn::Linear linear(/*in_features*/number_features, /* out_features */ 1);"
   ]
  },
  {
   "cell_type": "code",
   "execution_count": 6,
   "id": "e0e6b20a",
   "metadata": {},
   "outputs": [],
   "source": [
    "torch::Tensor output = linear -> forward(x);"
   ]
  },
  {
   "cell_type": "code",
   "execution_count": 7,
   "id": "ebb75a44",
   "metadata": {},
   "outputs": [
    {
     "name": "stdout",
     "output_type": "stream",
     "text": [
      " 0.2988\n",
      "-0.2404\n",
      "-0.7797\n",
      "[ CPUFloatType{3,1} ]\n"
     ]
    }
   ],
   "source": [
    "std::cout << output << std::endl;"
   ]
  },
  {
   "cell_type": "markdown",
   "id": "a5841e91",
   "metadata": {},
   "source": [
    "## understand the linear function"
   ]
  },
  {
   "cell_type": "code",
   "execution_count": 8,
   "id": "1dcf9145",
   "metadata": {},
   "outputs": [
    {
     "name": "stdout",
     "output_type": "stream",
     "text": [
      " 1  1  1  1\n",
      "[ CPUFloatType{1,4} ]\n"
     ]
    }
   ],
   "source": [
    "linear -> weight.data().fill_(1.0);\n",
    "std::cout << linear -> weight << std::endl;"
   ]
  },
  {
   "cell_type": "code",
   "execution_count": 9,
   "id": "3a3a24d4",
   "metadata": {},
   "outputs": [
    {
     "name": "stdout",
     "output_type": "stream",
     "text": [
      " 0\n",
      "[ CPUFloatType{1} ]\n"
     ]
    }
   ],
   "source": [
    "linear -> bias.data().fill_(0.0);\n",
    "std::cout << linear -> bias << std::endl;"
   ]
  },
  {
   "cell_type": "code",
   "execution_count": 10,
   "id": "9b4fdc59",
   "metadata": {},
   "outputs": [],
   "source": [
    "output = linear -> forward(x);"
   ]
  },
  {
   "cell_type": "code",
   "execution_count": 11,
   "id": "55321b3d",
   "metadata": {},
   "outputs": [
    {
     "name": "stdout",
     "output_type": "stream",
     "text": [
      "  6\n",
      " 22\n",
      " 38\n",
      "[ CPUFloatType{3,1} ]\n"
     ]
    }
   ],
   "source": [
    "std::cout << output << std::endl;"
   ]
  },
  {
   "cell_type": "code",
   "execution_count": 12,
   "id": "2a0ffe7e",
   "metadata": {},
   "outputs": [],
   "source": [
    "torch::Tensor custom_weight =torch::ones({4,1}); "
   ]
  },
  {
   "cell_type": "code",
   "execution_count": 13,
   "id": "de78f7f4",
   "metadata": {},
   "outputs": [],
   "source": [
    "torch::Tensor custom_output = x.matmul(custom_weight);"
   ]
  },
  {
   "cell_type": "code",
   "execution_count": 14,
   "id": "68462e4f",
   "metadata": {},
   "outputs": [
    {
     "name": "stdout",
     "output_type": "stream",
     "text": [
      "  6\n",
      " 22\n",
      " 38\n",
      "[ CPUFloatType{3,1} ]\n"
     ]
    }
   ],
   "source": [
    "std::cout << custom_output << std::endl;"
   ]
  },
  {
   "cell_type": "code",
   "execution_count": null,
   "id": "dd6c862b",
   "metadata": {},
   "outputs": [],
   "source": []
  }
 ],
 "metadata": {
  "kernelspec": {
   "display_name": "C++17",
   "language": "C++17",
   "name": "xcpp17"
  },
  "language_info": {
   "codemirror_mode": "text/x-c++src",
   "file_extension": ".cpp",
   "mimetype": "text/x-c++src",
   "name": "c++",
   "version": "17"
  }
 },
 "nbformat": 4,
 "nbformat_minor": 5
}
