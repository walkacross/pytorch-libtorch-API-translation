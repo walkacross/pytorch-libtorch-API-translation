{
 "cells": [
  {
   "cell_type": "code",
   "execution_count": 1,
   "id": "7e6baed8",
   "metadata": {},
   "outputs": [],
   "source": [
    "import torch\n",
    "import torch.nn as nn"
   ]
  },
  {
   "cell_type": "markdown",
   "id": "3e9db59f",
   "metadata": {},
   "source": [
    "# Linear"
   ]
  },
  {
   "cell_type": "markdown",
   "id": "6d0367a6",
   "metadata": {},
   "source": [
    "Applies a linear transformation to the incoming data: y = xA^T + b"
   ]
  },
  {
   "cell_type": "code",
   "execution_count": 2,
   "id": "211da94f",
   "metadata": {},
   "outputs": [
    {
     "name": "stdout",
     "output_type": "stream",
     "text": [
      "tensor([[ 0.,  1.,  2.,  3.],\n",
      "        [ 4.,  5.,  6.,  7.],\n",
      "        [ 8.,  9., 10., 11.]])\n"
     ]
    }
   ],
   "source": [
    "sample_size = 3\n",
    "number_features = 4\n",
    "\n",
    "x = torch.arange(sample_size*number_features).reshape(sample_size, number_features) * 1.0\n",
    "print(x)"
   ]
  },
  {
   "cell_type": "code",
   "execution_count": 3,
   "id": "fd63b76d",
   "metadata": {},
   "outputs": [],
   "source": [
    "linear = nn.Linear(in_features=number_features, out_features=1)"
   ]
  },
  {
   "cell_type": "code",
   "execution_count": 4,
   "id": "a23ca2ad",
   "metadata": {},
   "outputs": [
    {
     "name": "stdout",
     "output_type": "stream",
     "text": [
      "tensor([[0.8683],\n",
      "        [4.0047],\n",
      "        [7.1411]], grad_fn=<AddmmBackward0>)\n"
     ]
    }
   ],
   "source": [
    "output = linear.forward(x)\n",
    "print(output)"
   ]
  },
  {
   "cell_type": "markdown",
   "id": "b973b323",
   "metadata": {},
   "source": [
    "## understand the linear function"
   ]
  },
  {
   "cell_type": "code",
   "execution_count": 5,
   "id": "5b57fbfd",
   "metadata": {},
   "outputs": [
    {
     "data": {
      "text/plain": [
       "tensor([0.])"
      ]
     },
     "execution_count": 5,
     "metadata": {},
     "output_type": "execute_result"
    }
   ],
   "source": [
    "linear.weight.data.fill_(1.0)\n",
    "linear.bias.data.fill_(0.0)"
   ]
  },
  {
   "cell_type": "code",
   "execution_count": 6,
   "id": "62ea3569",
   "metadata": {},
   "outputs": [
    {
     "name": "stdout",
     "output_type": "stream",
     "text": [
      "tensor([[ 6.],\n",
      "        [22.],\n",
      "        [38.]], grad_fn=<AddmmBackward0>)\n"
     ]
    }
   ],
   "source": [
    "output = linear.forward(x)\n",
    "print(output)"
   ]
  },
  {
   "cell_type": "code",
   "execution_count": 7,
   "id": "215baf5e",
   "metadata": {},
   "outputs": [
    {
     "name": "stdout",
     "output_type": "stream",
     "text": [
      "tensor([[1.],\n",
      "        [1.],\n",
      "        [1.],\n",
      "        [1.]])\n"
     ]
    }
   ],
   "source": [
    "custom_weights = torch.ones((4,1))\n",
    "print(custom_weights)"
   ]
  },
  {
   "cell_type": "code",
   "execution_count": 8,
   "id": "51becf0f",
   "metadata": {},
   "outputs": [
    {
     "name": "stdout",
     "output_type": "stream",
     "text": [
      "tensor([[ 6.],\n",
      "        [22.],\n",
      "        [38.]])\n"
     ]
    }
   ],
   "source": [
    "custom_output = x.matmul(custom_weights)\n",
    "print(custom_output)"
   ]
  },
  {
   "cell_type": "code",
   "execution_count": null,
   "id": "93e6dd56",
   "metadata": {},
   "outputs": [],
   "source": []
  }
 ],
 "metadata": {
  "kernelspec": {
   "display_name": "Python 3 (ipykernel)",
   "language": "python",
   "name": "python3"
  },
  "language_info": {
   "codemirror_mode": {
    "name": "ipython",
    "version": 3
   },
   "file_extension": ".py",
   "mimetype": "text/x-python",
   "name": "python",
   "nbconvert_exporter": "python",
   "pygments_lexer": "ipython3",
   "version": "3.10.5"
  }
 },
 "nbformat": 4,
 "nbformat_minor": 5
}
