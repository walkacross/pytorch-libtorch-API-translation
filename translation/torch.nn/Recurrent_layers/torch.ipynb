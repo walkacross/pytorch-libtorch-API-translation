{
 "cells": [
  {
   "cell_type": "code",
   "execution_count": 1,
   "id": "0b198023",
   "metadata": {},
   "outputs": [],
   "source": [
    "import torch\n",
    "import torch.nn as nn"
   ]
  },
  {
   "cell_type": "markdown",
   "id": "0e40c162",
   "metadata": {},
   "source": [
    "# RNN\n",
    "\n",
    "Applies a multi-layer Elman RNN with \\tanhtanh or \\text{ReLU}ReLU non-linearity to an input sequence\n",
    "\n",
    "https://pytorch.org/docs/stable/generated/torch.nn.RNN.html#torch.nn.RNN"
   ]
  },
  {
   "cell_type": "markdown",
   "id": "be66136a",
   "metadata": {},
   "source": [
    "*  the input and output tensors are provided as (batch, seq, feature) when set batch_first=True, Note that this does not apply to hidden or cell states. \n",
    "\n",
    "* If bidirectional = True, becomes a bidirectional RNN"
   ]
  },
  {
   "cell_type": "markdown",
   "id": "c1a9086e",
   "metadata": {},
   "source": [
    "input: (N,L,H) when batch_first=True containing the features of the input sequence\n",
    "\n",
    "h_0: (D∗num_layers,N,Hout) containing the initial hidden state for the input sequence batch. Defaults to zeros if not provided."
   ]
  },
  {
   "cell_type": "markdown",
   "id": "8dd7f1f3",
   "metadata": {},
   "source": [
    "where:\n",
    "\n",
    "N =batch size\n",
    "\n",
    "L = sequence length\n",
    "\n",
    "D = 2 if bidirectional=True otherwise } 1\n",
    "\n",
    "H_{in} = input_size\n",
    "\n",
    "H_{out} = hidden_size"
   ]
  },
  {
   "cell_type": "markdown",
   "id": "1dc32c95",
   "metadata": {},
   "source": [
    "output:(N,L,D∗Hout) when batch_first=True containing the output features (h_t) from the last layer of the RNN, for each t\n",
    "    \n",
    "h_n: tensor of shape (D∗num_layers,N,H out) containing the final hidden state for each element in the batch."
   ]
  },
  {
   "cell_type": "code",
   "execution_count": 2,
   "id": "03688b54",
   "metadata": {},
   "outputs": [
    {
     "data": {
      "text/plain": [
       "<torch._C.Generator at 0x7f5322d63e50>"
      ]
     },
     "execution_count": 2,
     "metadata": {},
     "output_type": "execute_result"
    }
   ],
   "source": [
    "torch.manual_seed(0)"
   ]
  },
  {
   "cell_type": "code",
   "execution_count": 3,
   "id": "566b86d6",
   "metadata": {},
   "outputs": [
    {
     "name": "stdout",
     "output_type": "stream",
     "text": [
      "tensor([[[ 0.,  1.,  2.,  3.],\n",
      "         [ 4.,  5.,  6.,  7.],\n",
      "         [ 8.,  9., 10., 11.]],\n",
      "\n",
      "        [[12., 13., 14., 15.],\n",
      "         [16., 17., 18., 19.],\n",
      "         [20., 21., 22., 23.]]])\n"
     ]
    }
   ],
   "source": [
    "sample_size = 2\n",
    "sequence_length = 3\n",
    "number_feature = 4\n",
    "\n",
    "x = torch.arange(sample_size*number_feature*sequence_length).reshape(sample_size, sequence_length, number_feature) * 1.0\n",
    "print(x)"
   ]
  },
  {
   "cell_type": "code",
   "execution_count": 4,
   "id": "f77dee76",
   "metadata": {},
   "outputs": [],
   "source": [
    "output_size = 5\n",
    "number_layers = 1\n",
    "rnn_function = nn.RNN(input_size=number_feature, hidden_size=output_size, num_layers=number_layers, batch_first=True)"
   ]
  },
  {
   "cell_type": "code",
   "execution_count": 5,
   "id": "61671354",
   "metadata": {},
   "outputs": [],
   "source": [
    "h0 = torch.zeros(number_layers, sample_size, output_size)\n",
    "\n",
    "output, hn = rnn_function(x, h0)"
   ]
  },
  {
   "cell_type": "code",
   "execution_count": 6,
   "id": "e822695b",
   "metadata": {},
   "outputs": [
    {
     "name": "stdout",
     "output_type": "stream",
     "text": [
      "tensor([[[-0.8913,  0.9556,  0.0240, -0.6370, -0.5639],\n",
      "         [-0.9969,  0.9986,  0.2649, -0.9997, -0.5647],\n",
      "         [-0.9999,  0.9999, -0.2600, -1.0000, -0.6001]],\n",
      "\n",
      "        [[-1.0000,  1.0000, -0.9365, -1.0000, -0.8544],\n",
      "         [-1.0000,  1.0000, -0.7537, -1.0000, -0.8052],\n",
      "         [-1.0000,  1.0000, -0.9257, -1.0000, -0.8684]]],\n",
      "       grad_fn=<TransposeBackward1>)\n"
     ]
    }
   ],
   "source": [
    "print(output)"
   ]
  },
  {
   "cell_type": "code",
   "execution_count": 7,
   "id": "e2adc3fd",
   "metadata": {},
   "outputs": [
    {
     "name": "stdout",
     "output_type": "stream",
     "text": [
      "tensor([[[-0.9999,  0.9999, -0.2600, -1.0000, -0.6001],\n",
      "         [-1.0000,  1.0000, -0.9257, -1.0000, -0.8684]]],\n",
      "       grad_fn=<StackBackward0>)\n"
     ]
    }
   ],
   "source": [
    "print(hn)"
   ]
  },
  {
   "cell_type": "code",
   "execution_count": 8,
   "id": "55d3fa46",
   "metadata": {},
   "outputs": [
    {
     "data": {
      "text/plain": [
       "tensor([[-0.9999,  0.9999, -0.2600, -1.0000, -0.6001],\n",
       "        [-1.0000,  1.0000, -0.9257, -1.0000, -0.8684]],\n",
       "       grad_fn=<SliceBackward0>)"
      ]
     },
     "execution_count": 8,
     "metadata": {},
     "output_type": "execute_result"
    }
   ],
   "source": [
    "# hn = output[:,-1,:]\n",
    "output[:,-1,:]"
   ]
  },
  {
   "cell_type": "code",
   "execution_count": null,
   "id": "df355f1a",
   "metadata": {},
   "outputs": [],
   "source": []
  }
 ],
 "metadata": {
  "kernelspec": {
   "display_name": "Python 3 (ipykernel)",
   "language": "python",
   "name": "python3"
  },
  "language_info": {
   "codemirror_mode": {
    "name": "ipython",
    "version": 3
   },
   "file_extension": ".py",
   "mimetype": "text/x-python",
   "name": "python",
   "nbconvert_exporter": "python",
   "pygments_lexer": "ipython3",
   "version": "3.10.5"
  }
 },
 "nbformat": 4,
 "nbformat_minor": 5
}
