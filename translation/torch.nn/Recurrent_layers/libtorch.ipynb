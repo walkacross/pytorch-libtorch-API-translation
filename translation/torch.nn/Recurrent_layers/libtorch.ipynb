{
 "cells": [
  {
   "cell_type": "code",
   "execution_count": 1,
   "id": "f3fcc062",
   "metadata": {},
   "outputs": [],
   "source": [
    "#pragma cling add_include_path(\"../../libtorch/include\")\n",
    "#pragma cling add_include_path(\"../../libtorch/include/torch/csrc/api/include\")\n",
    "#pragma cling add_library_path(\"../../libtorch/lib\")\n",
    "#pragma cling load(\"libtorch\")"
   ]
  },
  {
   "cell_type": "code",
   "execution_count": 2,
   "id": "599f803e",
   "metadata": {},
   "outputs": [],
   "source": [
    "#include <iostream>\n",
    "#include <tuple>\n",
    "#include <torch/torch.h>\n",
    "namespace nn = torch::nn;"
   ]
  },
  {
   "cell_type": "markdown",
   "id": "5543298e",
   "metadata": {},
   "source": [
    "# RNN\n",
    "\n",
    "Applies a multi-layer Elman RNN with \\tanhtanh or \\text{ReLU}ReLU non-linearity to an input sequence\n",
    "\n",
    "https://github.com/pytorch/pytorch/blob/master/torch/csrc/api/include/torch/nn/modules/rnn.h\n",
    "\n",
    "https://github.com/pytorch/pytorch/blob/master/torch/csrc/api/include/torch/nn/options/rnn.h"
   ]
  },
  {
   "cell_type": "code",
   "execution_count": 3,
   "id": "f3cc95e6",
   "metadata": {},
   "outputs": [],
   "source": [
    "int sample_size = 2;\n",
    "int sequence_length = 3;\n",
    "int number_feature = 4;\n",
    "\n",
    "torch::Tensor x = torch::arange(sample_size*sequence_length*number_feature).reshape({sample_size,sequence_length, number_feature}) * 1.0;"
   ]
  },
  {
   "cell_type": "code",
   "execution_count": 4,
   "id": "d29d8297",
   "metadata": {},
   "outputs": [
    {
     "name": "stdout",
     "output_type": "stream",
     "text": [
      "(1,.,.) = \n",
      "   0   1   2   3\n",
      "   4   5   6   7\n",
      "   8   9  10  11\n",
      "\n",
      "(2,.,.) = \n",
      "  12  13  14  15\n",
      "  16  17  18  19\n",
      "  20  21  22  23\n",
      "[ CPUFloatType{2,3,4} ]\n"
     ]
    }
   ],
   "source": [
    "std::cout << x << std::endl;"
   ]
  },
  {
   "cell_type": "code",
   "execution_count": 5,
   "id": "b32ac594",
   "metadata": {},
   "outputs": [],
   "source": [
    "int output_size = 5;\n",
    "int number_layers = 1;\n",
    "auto options = nn::RNNOptions(/*input_size*/number_feature, /*hidden_size4*/output_size).num_layers(number_layers).batch_first(true);"
   ]
  },
  {
   "cell_type": "code",
   "execution_count": 6,
   "id": "c44f42f2",
   "metadata": {},
   "outputs": [],
   "source": [
    "nn::RNN rnn_function(options);"
   ]
  },
  {
   "cell_type": "code",
   "execution_count": 7,
   "id": "7972d1d5",
   "metadata": {},
   "outputs": [],
   "source": [
    "torch::Tensor h0 = torch::zeros({number_layers, sample_size, output_size});\n",
    "\n",
    "std::tuple<torch::Tensor, torch::Tensor> output = rnn_function(x, h0);"
   ]
  },
  {
   "cell_type": "code",
   "execution_count": 8,
   "id": "f9807027",
   "metadata": {},
   "outputs": [
    {
     "data": {
      "text/plain": [
       "@0x7fff31a3b5c8"
      ]
     },
     "execution_count": 8,
     "metadata": {},
     "output_type": "execute_result"
    }
   ],
   "source": [
    "torch::Tensor rnn_output, hn;\n",
    "std::tie(rnn_output, hn) = output; //unpacking tuple into variables"
   ]
  },
  {
   "cell_type": "code",
   "execution_count": 9,
   "id": "eecbbf15",
   "metadata": {},
   "outputs": [
    {
     "name": "stdout",
     "output_type": "stream",
     "text": [
      "(1,.,.) = \n",
      " -0.8987 -0.8704 -0.8842 -0.6157  0.8737\n",
      " -0.9991 -1.0000 -0.5193 -0.7914  0.9889\n",
      " -1.0000 -1.0000  0.1340 -0.9031  0.9990\n",
      "\n",
      "(2,.,.) = \n",
      " -1.0000 -1.0000  0.8248 -0.9864  0.9999\n",
      " -1.0000 -1.0000  0.8984 -0.9795  1.0000\n",
      " -1.0000 -1.0000  0.9803 -0.9935  1.0000\n",
      "[ CPUFloatType{2,3,5} ]\n"
     ]
    }
   ],
   "source": [
    "std::cout << rnn_output << std::endl;"
   ]
  },
  {
   "cell_type": "code",
   "execution_count": 10,
   "id": "a65e964f",
   "metadata": {},
   "outputs": [
    {
     "name": "stdout",
     "output_type": "stream",
     "text": [
      "(1,.,.) = \n",
      " -1.0000 -1.0000  0.1340 -0.9031  0.9990\n",
      " -1.0000 -1.0000  0.9803 -0.9935  1.0000\n",
      "[ CPUFloatType{1,2,5} ]\n"
     ]
    }
   ],
   "source": [
    "std::cout << hn << std::endl;"
   ]
  },
  {
   "cell_type": "code",
   "execution_count": 11,
   "id": "54aa9456",
   "metadata": {},
   "outputs": [
    {
     "name": "stdout",
     "output_type": "stream",
     "text": [
      "-1.0000 -1.0000  0.1340 -0.9031  0.9990\n",
      "-1.0000 -1.0000  0.9803 -0.9935  1.0000\n",
      "[ CPUFloatType{2,5} ]\n"
     ]
    }
   ],
   "source": [
    "// hn = output[:,-1,:]\n",
    "using torch::indexing::Slice;\n",
    "\n",
    "std::cout << rnn_output.index({Slice(),-1, Slice()}) << std::endl;"
   ]
  }
 ],
 "metadata": {
  "kernelspec": {
   "display_name": "C++17",
   "language": "C++17",
   "name": "xcpp17"
  },
  "language_info": {
   "codemirror_mode": "text/x-c++src",
   "file_extension": ".cpp",
   "mimetype": "text/x-c++src",
   "name": "c++",
   "version": "17"
  }
 },
 "nbformat": 4,
 "nbformat_minor": 5
}
