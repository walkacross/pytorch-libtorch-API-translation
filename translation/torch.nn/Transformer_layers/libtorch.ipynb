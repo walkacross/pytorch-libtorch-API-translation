{
 "cells": [
  {
   "cell_type": "code",
   "execution_count": 1,
   "id": "f7e6f70d",
   "metadata": {},
   "outputs": [],
   "source": [
    "#pragma cling add_include_path(\"../../libtorch/include\")\n",
    "#pragma cling add_include_path(\"../../libtorch/include/torch/csrc/api/include\")\n",
    "#pragma cling add_library_path(\"../../libtorch/lib\")\n",
    "#pragma cling load(\"libtorch\")"
   ]
  },
  {
   "cell_type": "code",
   "execution_count": 2,
   "id": "48da5c72",
   "metadata": {},
   "outputs": [],
   "source": [
    "#include <iostream>\n",
    "#include <tuple>\n",
    "#include <torch/torch.h>\n",
    "namespace nn = torch::nn;"
   ]
  },
  {
   "cell_type": "markdown",
   "id": "7b91bd34",
   "metadata": {},
   "source": [
    "# 1.1 torch.nn.MultiheadAttention"
   ]
  },
  {
   "cell_type": "markdown",
   "id": "ba8927b7",
   "metadata": {},
   "source": [
    "~~~\n",
    "class TORCH_API MultiheadAttentionImpl\n",
    "    : public torch::nn::Cloneable<MultiheadAttentionImpl> {\n",
    " public:\n",
    "  MultiheadAttentionImpl(int64_t embed_dim, int64_t num_heads)\n",
    "      : MultiheadAttentionImpl(\n",
    "            MultiheadAttentionOptions(embed_dim, num_heads)) {}\n",
    "  explicit MultiheadAttentionImpl(const MultiheadAttentionOptions& options_);\n",
    "\n",
    "  std::tuple<Tensor, Tensor> forward(\n",
    "      const Tensor& query,\n",
    "      const Tensor& key,\n",
    "      const Tensor& value,\n",
    "      const Tensor& key_padding_mask = {},\n",
    "      bool need_weights = true,\n",
    "      const Tensor& attn_mask = {},\n",
    "      bool average_attn_weights = true);\n",
    "~~~"
   ]
  },
  {
   "cell_type": "markdown",
   "id": "9bbef01a",
   "metadata": {},
   "source": [
    "## a: core usage"
   ]
  },
  {
   "cell_type": "code",
   "execution_count": 3,
   "id": "49aef532",
   "metadata": {},
   "outputs": [],
   "source": [
    "nn::MultiheadAttention multihead_attention(4,1);"
   ]
  },
  {
   "cell_type": "code",
   "execution_count": 4,
   "id": "f8299289",
   "metadata": {},
   "outputs": [
    {
     "name": "stdout",
     "output_type": "stream",
     "text": [
      "(1,.,.) = \n",
      "  0.8593  0.1874 -1.5607  0.3263\n",
      "\n",
      "(2,.,.) = \n",
      " -0.5437 -0.5261  1.0795  1.3369\n",
      "\n",
      "(3,.,.) = \n",
      "  1.1896 -2.4683  0.3097  0.6895\n",
      "[ CPUFloatType{3,1,4} ]\n"
     ]
    }
   ],
   "source": [
    "// seq_length x batch_size x feature_size\n",
    "torch::Tensor x = torch::randn({3,1,4});\n",
    "std::cout << x << std::endl;"
   ]
  },
  {
   "cell_type": "code",
   "execution_count": 5,
   "id": "f796fa9f",
   "metadata": {},
   "outputs": [],
   "source": [
    "std::tuple<torch::Tensor, torch::Tensor> output = multihead_attention ->forward(x,x,x);"
   ]
  },
  {
   "cell_type": "code",
   "execution_count": 6,
   "id": "dcc2af33",
   "metadata": {},
   "outputs": [
    {
     "data": {
      "text/plain": [
       "@0x7ffe238b0908"
      ]
     },
     "execution_count": 6,
     "metadata": {},
     "output_type": "execute_result"
    }
   ],
   "source": [
    "torch::Tensor attn_output, attn_output_weights;\n",
    "std::tie(attn_output, attn_output_weights) = output; //unpacking tuple into variables"
   ]
  },
  {
   "cell_type": "code",
   "execution_count": 7,
   "id": "54265f4f",
   "metadata": {},
   "outputs": [
    {
     "name": "stdout",
     "output_type": "stream",
     "text": [
      "(1,.,.) = \n",
      "  0.1621 -0.3210 -0.2843  0.1198\n",
      "\n",
      "(2,.,.) = \n",
      "  0.1830 -0.3726 -0.3286  0.0507\n",
      "\n",
      "(3,.,.) = \n",
      " 0.001 *\n",
      " -5.2037 -564.5055 -452.9999 -276.5349\n",
      "[ CPUFloatType{3,1,4} ]\n"
     ]
    }
   ],
   "source": [
    "std::cout << attn_output << std::endl;"
   ]
  },
  {
   "cell_type": "code",
   "execution_count": 8,
   "id": "bc1524ce",
   "metadata": {},
   "outputs": [
    {
     "name": "stdout",
     "output_type": "stream",
     "text": [
      "(1,.,.) = \n",
      "  0.3921  0.3988  0.2091\n",
      "  0.3343  0.3094  0.3563\n",
      "  0.1948  0.5092  0.2960\n",
      "[ CPUFloatType{1,3,3} ]\n"
     ]
    }
   ],
   "source": [
    "std::cout << attn_output_weights << std::endl;"
   ]
  },
  {
   "cell_type": "markdown",
   "id": "6611f041",
   "metadata": {},
   "source": [
    "# b understand attn_mask in multihead_attention"
   ]
  },
  {
   "cell_type": "code",
   "execution_count": 9,
   "id": "60ef6831",
   "metadata": {},
   "outputs": [],
   "source": [
    "torch::Tensor attn_mask = nn::TransformerImpl::generate_square_subsequent_mask(3);"
   ]
  },
  {
   "cell_type": "code",
   "execution_count": 10,
   "id": "b2be9847",
   "metadata": {},
   "outputs": [
    {
     "name": "stdout",
     "output_type": "stream",
     "text": [
      " 0 -inf -inf\n",
      " 0  0 -inf\n",
      " 0  0  0\n",
      "[ CPUFloatType{3,3} ]\n"
     ]
    }
   ],
   "source": [
    "std::cout << attn_mask << std::endl;"
   ]
  },
  {
   "cell_type": "code",
   "execution_count": 11,
   "id": "324559d9",
   "metadata": {},
   "outputs": [
    {
     "name": "stdout",
     "output_type": "stream",
     "text": [
      "float\n"
     ]
    }
   ],
   "source": [
    "std::cout << attn_mask.dtype() << std::endl;"
   ]
  },
  {
   "cell_type": "code",
   "execution_count": 12,
   "id": "5ab7247b",
   "metadata": {},
   "outputs": [],
   "source": [
    "torch::Tensor attn_mask_bool = attn_mask.to(torch::kBool);"
   ]
  },
  {
   "cell_type": "code",
   "execution_count": 13,
   "id": "9b85f5eb",
   "metadata": {},
   "outputs": [],
   "source": [
    "//attn_mask_bool = attn_mask_bool.unsqueeze(1);"
   ]
  },
  {
   "cell_type": "code",
   "execution_count": 14,
   "id": "452a52a0",
   "metadata": {},
   "outputs": [
    {
     "name": "stdout",
     "output_type": "stream",
     "text": [
      " 0  1  1\n",
      " 0  0  1\n",
      " 0  0  0\n",
      "[ CPUBoolType{3,3} ]\n"
     ]
    }
   ],
   "source": [
    "std::cout << attn_mask_bool << std::endl;"
   ]
  },
  {
   "cell_type": "code",
   "execution_count": 16,
   "id": "a37e8345",
   "metadata": {},
   "outputs": [],
   "source": [
    "std::tuple<torch::Tensor, torch::Tensor> output_with_attn_mask = multihead_attention ->forward(x,x,x,{},true,attn_mask_bool);"
   ]
  },
  {
   "cell_type": "code",
   "execution_count": 17,
   "id": "b9a5f839",
   "metadata": {},
   "outputs": [
    {
     "data": {
      "text/plain": [
       "@0x7ffe238b0908"
      ]
     },
     "execution_count": 17,
     "metadata": {},
     "output_type": "execute_result"
    }
   ],
   "source": [
    "std::tie(attn_output, attn_output_weights) = output_with_attn_mask; //unpacking tuple into variables"
   ]
  },
  {
   "cell_type": "code",
   "execution_count": 18,
   "id": "9b67f7e9",
   "metadata": {},
   "outputs": [
    {
     "name": "stdout",
     "output_type": "stream",
     "text": [
      "(1,.,.) = \n",
      " 0.01 *\n",
      " -1.8859 -57.1378 -45.6406 -29.0087\n",
      "\n",
      "(2,.,.) = \n",
      "  0.1834 -0.4987 -0.4292 -0.1315\n",
      "\n",
      "(3,.,.) = \n",
      " 0.001 *\n",
      " -5.2037 -564.5055 -452.9999 -276.5349\n",
      "[ CPUFloatType{3,1,4} ]\n"
     ]
    }
   ],
   "source": [
    "std::cout << attn_output << std::endl;"
   ]
  },
  {
   "cell_type": "code",
   "execution_count": 19,
   "id": "5692bb55",
   "metadata": {},
   "outputs": [
    {
     "name": "stdout",
     "output_type": "stream",
     "text": [
      "(1,.,.) = \n",
      "  0.1918  0.5302  0.2780\n",
      "  0.2074  0.1919  0.6007\n",
      "  0.1948  0.5092  0.2960\n",
      "[ CPUFloatType{1,3,3} ]\n"
     ]
    }
   ],
   "source": [
    "std::cout << attn_output_weights << std::endl;"
   ]
  },
  {
   "cell_type": "markdown",
   "id": "b490334a",
   "metadata": {},
   "source": [
    "# c: understand key_padding_mask in multihead_attention"
   ]
  },
  {
   "cell_type": "code",
   "execution_count": 20,
   "id": "0b80cf54",
   "metadata": {},
   "outputs": [],
   "source": [
    "torch::Tensor padding_mask = torch::tensor({{false, false, true}});"
   ]
  },
  {
   "cell_type": "code",
   "execution_count": 21,
   "id": "454839a1",
   "metadata": {},
   "outputs": [
    {
     "name": "stdout",
     "output_type": "stream",
     "text": [
      " 0  0  1\n",
      "[ CPUBoolType{1,3} ]\n"
     ]
    }
   ],
   "source": [
    "std::cout << padding_mask << std::endl;"
   ]
  },
  {
   "cell_type": "code",
   "execution_count": 22,
   "id": "e7242c65",
   "metadata": {},
   "outputs": [],
   "source": [
    "std::tuple<torch::Tensor, torch::Tensor> output_with_padding_mask = multihead_attention ->forward(x, x, x, padding_mask);"
   ]
  },
  {
   "cell_type": "code",
   "execution_count": 23,
   "id": "c3200878",
   "metadata": {},
   "outputs": [
    {
     "data": {
      "text/plain": [
       "@0x7ffe238b0908"
      ]
     },
     "execution_count": 23,
     "metadata": {},
     "output_type": "execute_result"
    }
   ],
   "source": [
    "std::tie(attn_output, attn_output_weights) = output_with_padding_mask; //unpacking tuple into variables"
   ]
  },
  {
   "cell_type": "code",
   "execution_count": 24,
   "id": "b7b3ceaf",
   "metadata": {},
   "outputs": [
    {
     "name": "stdout",
     "output_type": "stream",
     "text": [
      "(1,.,.) = \n",
      "  0.1563 -0.2195 -0.2026  0.2649\n",
      "\n",
      "(2,.,.) = \n",
      "  0.1823 -0.1887 -0.1820  0.3162\n",
      "\n",
      "(3,.,.) = \n",
      " 0.01 *\n",
      " -8.4847 -50.5522 -39.3943 -21.2406\n",
      "[ CPUFloatType{3,1,4} ]\n"
     ]
    }
   ],
   "source": [
    "std::cout << attn_output << std::endl;"
   ]
  },
  {
   "cell_type": "code",
   "execution_count": 25,
   "id": "0e5e1950",
   "metadata": {},
   "outputs": [
    {
     "name": "stdout",
     "output_type": "stream",
     "text": [
      "(1,.,.) = \n",
      "  0.4958  0.5042  0.0000\n",
      "  0.5194  0.4806  0.0000\n",
      "  0.2767  0.7233  0.0000\n",
      "[ CPUFloatType{1,3,3} ]\n"
     ]
    }
   ],
   "source": [
    "std::cout << attn_output_weights << std::endl;"
   ]
  },
  {
   "cell_type": "markdown",
   "id": "19596464",
   "metadata": {},
   "source": [
    "# d: mix use of attn_mask and padding mask"
   ]
  },
  {
   "cell_type": "code",
   "execution_count": 27,
   "id": "3c2a8d32",
   "metadata": {},
   "outputs": [],
   "source": [
    "std::tuple<torch::Tensor, torch::Tensor> output_with_both_mask = multihead_attention ->forward(x, x, x, padding_mask,true, attn_mask_bool);"
   ]
  },
  {
   "cell_type": "code",
   "execution_count": 28,
   "id": "5622c1d7",
   "metadata": {},
   "outputs": [
    {
     "data": {
      "text/plain": [
       "@0x7ffe238b0908"
      ]
     },
     "execution_count": 28,
     "metadata": {},
     "output_type": "execute_result"
    }
   ],
   "source": [
    "std::tie(attn_output, attn_output_weights) = output_with_both_mask; //unpacking tuple into variables"
   ]
  },
  {
   "cell_type": "code",
   "execution_count": 29,
   "id": "dbd38cce",
   "metadata": {},
   "outputs": [
    {
     "name": "stdout",
     "output_type": "stream",
     "text": [
      "(1,.,.) = \n",
      " 0.01 *\n",
      " -9.7059 -52.0005 -40.3632 -23.6575\n",
      "\n",
      "(2,.,.) = \n",
      "  0.1823 -0.1887 -0.1820  0.3162\n",
      "\n",
      "(3,.,.) = \n",
      " 0.01 *\n",
      " -8.4847 -50.5522 -39.3943 -21.2406\n",
      "[ CPUFloatType{3,1,4} ]\n"
     ]
    }
   ],
   "source": [
    "std::cout << attn_output << std::endl;"
   ]
  },
  {
   "cell_type": "code",
   "execution_count": 30,
   "id": "f961bc8e",
   "metadata": {},
   "outputs": [
    {
     "name": "stdout",
     "output_type": "stream",
     "text": [
      "(1,.,.) = \n",
      "  0.2656  0.7344  0.0000\n",
      "  0.5194  0.4806  0.0000\n",
      "  0.2767  0.7233  0.0000\n",
      "[ CPUFloatType{1,3,3} ]\n"
     ]
    }
   ],
   "source": [
    "std::cout << attn_output_weights << std::endl;"
   ]
  },
  {
   "cell_type": "markdown",
   "id": "185510b4",
   "metadata": {},
   "source": [
    "# 1.2 nn.TransformerEncoderLayer"
   ]
  },
  {
   "cell_type": "code",
   "execution_count": 32,
   "id": "335350bf",
   "metadata": {},
   "outputs": [],
   "source": [
    "nn::TransformerEncoderLayer encoder_layer(4,1);"
   ]
  },
  {
   "cell_type": "code",
   "execution_count": 35,
   "id": "cb49042a",
   "metadata": {},
   "outputs": [],
   "source": [
    "torch::Tensor out = encoder_layer(x);"
   ]
  },
  {
   "cell_type": "code",
   "execution_count": 36,
   "id": "f655051c",
   "metadata": {},
   "outputs": [
    {
     "name": "stdout",
     "output_type": "stream",
     "text": [
      "(1,.,.) = \n",
      "  0.7032  0.1064 -1.6631  0.8534\n",
      "\n",
      "(2,.,.) = \n",
      " -1.0565 -0.8991  0.6921  1.2635\n",
      "\n",
      "(3,.,.) = \n",
      "  0.0836 -1.6498  0.9322  0.6341\n",
      "[ CPUFloatType{3,1,4} ]\n"
     ]
    }
   ],
   "source": [
    "std::cout << out << std::endl;"
   ]
  },
  {
   "cell_type": "code",
   "execution_count": 38,
   "id": "442e06ff",
   "metadata": {},
   "outputs": [],
   "source": [
    "attn_mask = torch::randint(0,2,{3,3});"
   ]
  },
  {
   "cell_type": "code",
   "execution_count": 39,
   "id": "19ded145",
   "metadata": {},
   "outputs": [
    {
     "name": "stdout",
     "output_type": "stream",
     "text": [
      " 1  0  0\n",
      " 0  0  0\n",
      " 1  1  0\n",
      "[ CPUFloatType{3,3} ]\n"
     ]
    }
   ],
   "source": [
    "std::cout << attn_mask << std::endl;"
   ]
  },
  {
   "cell_type": "code",
   "execution_count": 40,
   "id": "455b72ce",
   "metadata": {},
   "outputs": [],
   "source": [
    "out = encoder_layer(x, attn_mask);"
   ]
  },
  {
   "cell_type": "code",
   "execution_count": 41,
   "id": "9e827df1",
   "metadata": {},
   "outputs": [
    {
     "name": "stdout",
     "output_type": "stream",
     "text": [
      "(1,.,.) = \n",
      "  0.8103  0.5036 -1.7121  0.3982\n",
      "\n",
      "(2,.,.) = \n",
      " -0.6864 -1.2529  0.7711  1.1681\n",
      "\n",
      "(3,.,.) = \n",
      " -0.0554 -1.6022  0.9965  0.6610\n",
      "[ CPUFloatType{3,1,4} ]\n"
     ]
    }
   ],
   "source": [
    "std::cout << out << std::endl;"
   ]
  },
  {
   "cell_type": "markdown",
   "id": "62a4e6d8",
   "metadata": {},
   "source": [
    "# 1.3 torch.nn.TransformerEncoder"
   ]
  },
  {
   "cell_type": "code",
   "execution_count": 42,
   "id": "a037a637",
   "metadata": {},
   "outputs": [],
   "source": [
    "nn::TransformerEncoder transformer_encoder = nn::TransformerEncoder(encoder_layer, /*num_layers=*/2);"
   ]
  },
  {
   "cell_type": "code",
   "execution_count": 43,
   "id": "f5bbc379",
   "metadata": {},
   "outputs": [],
   "source": [
    "out = transformer_encoder(x, attn_mask);"
   ]
  },
  {
   "cell_type": "code",
   "execution_count": 44,
   "id": "80d7c7a5",
   "metadata": {},
   "outputs": [
    {
     "name": "stdout",
     "output_type": "stream",
     "text": [
      "(1,.,.) = \n",
      "  0.4122  0.2284 -1.6569  1.0162\n",
      "\n",
      "(2,.,.) = \n",
      " -1.1739 -0.7709  0.7113  1.2335\n",
      "\n",
      "(3,.,.) = \n",
      " -0.5727 -1.3459  0.8593  1.0593\n",
      "[ CPUFloatType{3,1,4} ]\n"
     ]
    }
   ],
   "source": [
    "std::cout << out << std::endl;"
   ]
  },
  {
   "cell_type": "code",
   "execution_count": null,
   "id": "16b25520",
   "metadata": {},
   "outputs": [],
   "source": []
  }
 ],
 "metadata": {
  "kernelspec": {
   "display_name": "C++14",
   "language": "C++14",
   "name": "xcpp14"
  },
  "language_info": {
   "codemirror_mode": "text/x-c++src",
   "file_extension": ".cpp",
   "mimetype": "text/x-c++src",
   "name": "c++",
   "version": "14"
  }
 },
 "nbformat": 4,
 "nbformat_minor": 5
}
