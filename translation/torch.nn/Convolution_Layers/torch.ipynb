{
 "cells": [
  {
   "cell_type": "code",
   "execution_count": 1,
   "metadata": {},
   "outputs": [],
   "source": [
    "import torch\n",
    "import torch.nn as nn\n",
    "from torch.nn.functional import pad\n",
    "import numpy as np"
   ]
  },
  {
   "cell_type": "markdown",
   "metadata": {},
   "source": [
    "# Conv1d"
   ]
  },
  {
   "cell_type": "code",
   "execution_count": 2,
   "metadata": {},
   "outputs": [],
   "source": [
    "# torch.nn.Conv1d(in_channels, out_channels, kernel_size, stride=1, \n",
    "#                 padding=0, dilation=1, groups=1, bias=True, \n",
    "#                 padding_mode='zeros', device=None, dtype=None)"
   ]
  },
  {
   "cell_type": "markdown",
   "metadata": {},
   "source": [
    "Applies a 1D convolution over an input signal composed of several input planes.\n",
    "\n",
    "- Input: $(N,C_{in},L)$ or $(C_{in},L_{in})$\n",
    "- Output: $(N,C_{out},L)$ or $(C_{out},L_{out})$\n",
    "\n",
    "where $N$ is a batch size, $C$ denotes a number of channels, $L$ is a length of signal sequence."
   ]
  },
  {
   "cell_type": "markdown",
   "metadata": {},
   "source": [
    "## 2D input"
   ]
  },
  {
   "cell_type": "markdown",
   "metadata": {},
   "source": [
    "### shape of output"
   ]
  },
  {
   "cell_type": "markdown",
   "metadata": {},
   "source": [
    "$$L_{out} = \\lfloor \\frac{L_{in} + 2 \\times padding - dilation \\times (kernel\\_size - 1) - 1}{stride} + 1 \\rfloor$$"
   ]
  },
  {
   "cell_type": "code",
   "execution_count": 3,
   "metadata": {},
   "outputs": [
    {
     "name": "stdout",
     "output_type": "stream",
     "text": [
      "torch.Size([6, 5])\n"
     ]
    }
   ],
   "source": [
    "number_channel = 6\n",
    "sequence_length = 5\n",
    "x  = torch.arange(number_channel * sequence_length, dtype=torch.float32).reshape(number_channel, sequence_length)\n",
    "print(x.shape)"
   ]
  },
  {
   "cell_type": "code",
   "execution_count": 4,
   "metadata": {},
   "outputs": [
    {
     "name": "stdout",
     "output_type": "stream",
     "text": [
      "torch.Size([4, 4])\n"
     ]
    }
   ],
   "source": [
    "# kernel_size: Size of the convolving kernel, equals 2\n",
    "conv1d = nn.Conv1d(in_channels=number_channel, out_channels=4, kernel_size=2)\n",
    "output = conv1d.forward(x)\n",
    "print(output.shape)"
   ]
  },
  {
   "cell_type": "code",
   "execution_count": 5,
   "metadata": {},
   "outputs": [
    {
     "name": "stdout",
     "output_type": "stream",
     "text": [
      "torch.Size([4, 2])\n"
     ]
    }
   ],
   "source": [
    "# stride: Stride of the convolution, equals 2\n",
    "conv1d_with_stride = nn.Conv1d(in_channels=number_channel, out_channels=4, kernel_size=2, stride=2)\n",
    "output_with_stride = conv1d_with_stride.forward(x)\n",
    "print(output_with_stride.shape)"
   ]
  },
  {
   "cell_type": "code",
   "execution_count": 6,
   "metadata": {},
   "outputs": [
    {
     "name": "stdout",
     "output_type": "stream",
     "text": [
      "torch.Size([4, 6])\n"
     ]
    }
   ],
   "source": [
    "# padding: Padding added to both sides of the input, equals 1\n",
    "conv1d_with_padding = nn.Conv1d(in_channels=number_channel, out_channels=4, kernel_size=2, padding=1)\n",
    "output_with_padding = conv1d_with_padding.forward(x)\n",
    "print(output_with_padding.shape)"
   ]
  },
  {
   "cell_type": "code",
   "execution_count": 7,
   "metadata": {},
   "outputs": [
    {
     "name": "stdout",
     "output_type": "stream",
     "text": [
      "torch.Size([4, 3])\n"
     ]
    }
   ],
   "source": [
    "# dilation: Spacing between kernel elements, equals 2\n",
    "conv1d_with_dilation = nn.Conv1d(in_channels=number_channel, out_channels=4, kernel_size=2, dilation=2)\n",
    "output_with_dilation = conv1d_with_dilation.forward(x)\n",
    "print(output_with_dilation.shape)"
   ]
  },
  {
   "cell_type": "code",
   "execution_count": 8,
   "metadata": {},
   "outputs": [
    {
     "name": "stdout",
     "output_type": "stream",
     "text": [
      "torch.Size([4, 4])\n"
     ]
    }
   ],
   "source": [
    "# groups: Number of blocked connections from input channels to output channels, equals 2\n",
    "conv1d_with_groups = nn.Conv1d(in_channels=number_channel, out_channels=4, kernel_size=2, groups=2)\n",
    "output_with_groups = conv1d_with_groups.forward(x)\n",
    "print(output_with_groups.shape)"
   ]
  },
  {
   "cell_type": "code",
   "execution_count": 9,
   "metadata": {},
   "outputs": [
    {
     "name": "stdout",
     "output_type": "stream",
     "text": [
      "torch.Size([4, 4])\n"
     ]
    }
   ],
   "source": [
    "# bias: If True, adds a learnable bias to the output, equals False\n",
    "conv1d_without_bias = nn.Conv1d(in_channels=number_channel, out_channels=4, kernel_size=2, bias=False)\n",
    "output_without_bias = conv1d_without_bias.forward(x)\n",
    "print(output_without_bias.shape)"
   ]
  },
  {
   "cell_type": "markdown",
   "metadata": {},
   "source": [
    "### value of output"
   ]
  },
  {
   "cell_type": "code",
   "execution_count": 11,
   "metadata": {},
   "outputs": [
    {
     "name": "stdout",
     "output_type": "stream",
     "text": [
      "tensor([[ 0.,  1.,  2.,  3.,  4.],\n",
      "        [ 5.,  6.,  7.,  8.,  9.],\n",
      "        [10., 11., 12., 13., 14.],\n",
      "        [15., 16., 17., 18., 19.],\n",
      "        [20., 21., 22., 23., 24.],\n",
      "        [25., 26., 27., 28., 29.]])\n"
     ]
    }
   ],
   "source": [
    "print(x)"
   ]
  },
  {
   "cell_type": "code",
   "execution_count": 10,
   "metadata": {},
   "outputs": [
    {
     "name": "stdout",
     "output_type": "stream",
     "text": [
      "tensor([[156., 168., 180., 192.],\n",
      "        [156., 168., 180., 192.],\n",
      "        [156., 168., 180., 192.],\n",
      "        [156., 168., 180., 192.]], grad_fn=<SqueezeBackward1>)\n"
     ]
    }
   ],
   "source": [
    "# kernel_size: Size of the convolving kernel, equals 2\n",
    "# conv1d = nn.Conv1d(in_channels=number_channel, out_channels=4, kernel_size=2)\n",
    "conv1d.weight.data.fill_(1.0)\n",
    "conv1d.bias.data.fill_(0.0)\n",
    "output_value = conv1d.forward(x)\n",
    "print(output_value)"
   ]
  },
  {
   "cell_type": "code",
   "execution_count": 12,
   "metadata": {},
   "outputs": [
    {
     "name": "stdout",
     "output_type": "stream",
     "text": [
      "tensor([[156., 180.],\n",
      "        [156., 180.],\n",
      "        [156., 180.],\n",
      "        [156., 180.]], grad_fn=<SqueezeBackward1>)\n"
     ]
    }
   ],
   "source": [
    "# stride: Stride of the convolution, equals 2\n",
    "# conv1d_with_stride = nn.Conv1d(in_channels=number_channel, out_channels=4, kernel_size=2, stride=2)\n",
    "conv1d_with_stride.weight.data.fill_(1.0)\n",
    "conv1d_with_stride.bias.data.fill_(0.0)\n",
    "output_value_with_stride = conv1d_with_stride.forward(x)\n",
    "print(output_value_with_stride)"
   ]
  },
  {
   "cell_type": "code",
   "execution_count": 13,
   "metadata": {},
   "outputs": [
    {
     "name": "stdout",
     "output_type": "stream",
     "text": [
      "tensor([[ 75., 156., 168., 180., 192.,  99.],\n",
      "        [ 75., 156., 168., 180., 192.,  99.],\n",
      "        [ 75., 156., 168., 180., 192.,  99.],\n",
      "        [ 75., 156., 168., 180., 192.,  99.]], grad_fn=<SqueezeBackward1>)\n"
     ]
    }
   ],
   "source": [
    "# padding: Padding added to both sides of the input, equals 1\n",
    "# conv1d_with_padding = nn.Conv1d(in_channels=number_channel, out_channels=4, kernel_size=2, padding=1)\n",
    "conv1d_with_padding.weight.data.fill_(1.0)\n",
    "conv1d_with_padding.bias.data.fill_(0.0)\n",
    "output_value_with_padding = conv1d_with_padding.forward(x)\n",
    "print(output_value_with_padding)"
   ]
  },
  {
   "cell_type": "code",
   "execution_count": 15,
   "metadata": {},
   "outputs": [
    {
     "name": "stdout",
     "output_type": "stream",
     "text": [
      "tensor([[162., 174., 186.],\n",
      "        [162., 174., 186.],\n",
      "        [162., 174., 186.],\n",
      "        [162., 174., 186.]], grad_fn=<SqueezeBackward1>)\n"
     ]
    }
   ],
   "source": [
    "# dilation: Spacing between kernel elements, equals 2\n",
    "# conv1d_with_dilation = nn.Conv1d(in_channels=number_channel, out_channels=4, kernel_size=2, dilation=2)\n",
    "conv1d_with_dilation.weight.data.fill_(1.0)\n",
    "conv1d_with_dilation.bias.data.fill_(0.0)\n",
    "output_value_with_dilation = conv1d_with_dilation.forward(x)\n",
    "print(output_value_with_dilation)"
   ]
  },
  {
   "cell_type": "code",
   "execution_count": 16,
   "metadata": {},
   "outputs": [
    {
     "name": "stdout",
     "output_type": "stream",
     "text": [
      "tensor([[ 33.,  39.,  45.,  51.],\n",
      "        [ 33.,  39.,  45.,  51.],\n",
      "        [123., 129., 135., 141.],\n",
      "        [123., 129., 135., 141.]], grad_fn=<SqueezeBackward1>)\n"
     ]
    }
   ],
   "source": [
    "# groups: Number of blocked connections from input channels to output channels, equals 2\n",
    "# conv1d_with_groups = nn.Conv1d(in_channels=number_channel, out_channels=4, kernel_size=2, groups=2)\n",
    "conv1d_with_groups.weight.data.fill_(1.0)\n",
    "conv1d_with_groups.bias.data.fill_(0.0)\n",
    "output_value_with_groups = conv1d_with_groups.forward(x)\n",
    "print(output_value_with_groups)"
   ]
  },
  {
   "cell_type": "code",
   "execution_count": 18,
   "metadata": {},
   "outputs": [
    {
     "name": "stdout",
     "output_type": "stream",
     "text": [
      "tensor([[156., 168., 180., 192.],\n",
      "        [156., 168., 180., 192.],\n",
      "        [156., 168., 180., 192.],\n",
      "        [156., 168., 180., 192.]], grad_fn=<SqueezeBackward1>)\n"
     ]
    }
   ],
   "source": [
    "# bias: If True, adds a learnable bias to the output, equals False\n",
    "# conv1d_without_bias = nn.Conv1d(in_channels=number_channel, out_channels=4, kernel_size=2, bias=False)\n",
    "conv1d_without_bias.weight.data.fill_(1.0)\n",
    "output_value_without_bias = conv1d_without_bias.forward(x)\n",
    "print(output_value_without_bias)"
   ]
  },
  {
   "cell_type": "markdown",
   "metadata": {},
   "source": [
    "### how does `Conv1d` work with 2D input"
   ]
  },
  {
   "cell_type": "code",
   "execution_count": 19,
   "metadata": {},
   "outputs": [
    {
     "name": "stdout",
     "output_type": "stream",
     "text": [
      "weight: torch.Size([4, 6, 2])\n",
      " tensor([[[1., 1.],\n",
      "         [1., 1.],\n",
      "         [1., 1.],\n",
      "         [1., 1.],\n",
      "         [1., 1.],\n",
      "         [1., 1.]],\n",
      "\n",
      "        [[1., 1.],\n",
      "         [1., 1.],\n",
      "         [1., 1.],\n",
      "         [1., 1.],\n",
      "         [1., 1.],\n",
      "         [1., 1.]],\n",
      "\n",
      "        [[1., 1.],\n",
      "         [1., 1.],\n",
      "         [1., 1.],\n",
      "         [1., 1.],\n",
      "         [1., 1.],\n",
      "         [1., 1.]],\n",
      "\n",
      "        [[1., 1.],\n",
      "         [1., 1.],\n",
      "         [1., 1.],\n",
      "         [1., 1.],\n",
      "         [1., 1.],\n",
      "         [1., 1.]]])\n",
      "bias: torch.Size([4])\n",
      " tensor([0., 0., 0., 0.])\n"
     ]
    }
   ],
   "source": [
    "# conv1d.weight.data.fill_(1.0)\n",
    "# conv1d.bias.data.fill_(0.0)\n",
    "print('weight: {}\\n'.format(conv1d.weight.data.shape), conv1d.weight.data)\n",
    "print('bias: {}\\n'.format(conv1d.bias.data.shape), conv1d.bias.data)"
   ]
  },
  {
   "cell_type": "code",
   "execution_count": 20,
   "metadata": {},
   "outputs": [
    {
     "name": "stdout",
     "output_type": "stream",
     "text": [
      "tensor([[156., 168., 180., 192.],\n",
      "        [156., 168., 180., 192.],\n",
      "        [156., 168., 180., 192.],\n",
      "        [156., 168., 180., 192.]], grad_fn=<SqueezeBackward1>)\n"
     ]
    }
   ],
   "source": [
    "output = conv1d.forward(x)\n",
    "print(output)"
   ]
  },
  {
   "cell_type": "code",
   "execution_count": 21,
   "metadata": {},
   "outputs": [],
   "source": [
    "def conv_1d(x, weight, bias, stride=1, padding=0): \n",
    "    out_channels, in_channels, kernel_size = weight.shape\n",
    "    X = pad(x, pad=(padding, padding, 0, 0), mode='constant', value=0)\n",
    "    Y = torch.zeros((out_channels, int(np.ceil((X.shape[1] - kernel_size + 2 * padding + 1) / stride))))\n",
    "    for i in range(Y.shape[0]):\n",
    "        for j in range(Y.shape[1]):\n",
    "            Y[i, j] = (X[:, stride * j:stride * j + kernel_size] * weight[i]).sum() + bias[i]\n",
    "    return Y"
   ]
  },
  {
   "cell_type": "code",
   "execution_count": 22,
   "metadata": {},
   "outputs": [
    {
     "name": "stdout",
     "output_type": "stream",
     "text": [
      "result of conv_1d: \n",
      " tensor([[156., 168., 180., 192.],\n",
      "        [156., 168., 180., 192.],\n",
      "        [156., 168., 180., 192.],\n",
      "        [156., 168., 180., 192.]])\n"
     ]
    }
   ],
   "source": [
    "print('result of conv_1d: \\n', conv_1d(x, weight=conv1d.weight.data, bias=conv1d.bias.data))"
   ]
  },
  {
   "cell_type": "markdown",
   "metadata": {},
   "source": [
    "## how does parameter `groups` work"
   ]
  },
  {
   "cell_type": "code",
   "execution_count": 23,
   "metadata": {},
   "outputs": [
    {
     "name": "stdout",
     "output_type": "stream",
     "text": [
      "tensor([[0.],\n",
      "        [1.],\n",
      "        [2.],\n",
      "        [3.]])\n"
     ]
    }
   ],
   "source": [
    "x = torch.arange(4, dtype=torch.float32).view(4, 1)\n",
    "print(x)"
   ]
  },
  {
   "cell_type": "code",
   "execution_count": 24,
   "metadata": {},
   "outputs": [
    {
     "name": "stdout",
     "output_type": "stream",
     "text": [
      "tensor([[[ 0.],\n",
      "         [ 1.],\n",
      "         [ 2.],\n",
      "         [ 3.]],\n",
      "\n",
      "        [[ 4.],\n",
      "         [ 5.],\n",
      "         [ 6.],\n",
      "         [ 7.]],\n",
      "\n",
      "        [[ 8.],\n",
      "         [ 9.],\n",
      "         [10.],\n",
      "         [11.]],\n",
      "\n",
      "        [[12.],\n",
      "         [13.],\n",
      "         [14.],\n",
      "         [15.]]])\n",
      "tensor([[14.],\n",
      "        [38.],\n",
      "        [62.],\n",
      "        [86.]], grad_fn=<SqueezeBackward1>)\n"
     ]
    }
   ],
   "source": [
    "# groups=1\n",
    "conv1d_groups1 = nn.Conv1d(in_channels=4, out_channels=4, kernel_size=1, groups=1, bias=False)\n",
    "conv1d_groups1.weight.data = torch.arange(16, dtype=torch.float32).view(4,4,1)\n",
    "\n",
    "output_groups1 = conv1d_groups1(x)\n",
    "print(conv1d_groups1.weight.data)\n",
    "print(output_groups1) # 0*0+1*1+2*2+3*3=14, 0*4+1*5+2*6+3*7=38"
   ]
  },
  {
   "cell_type": "code",
   "execution_count": 25,
   "metadata": {},
   "outputs": [
    {
     "name": "stdout",
     "output_type": "stream",
     "text": [
      "tensor([[[0.],\n",
      "         [1.]],\n",
      "\n",
      "        [[2.],\n",
      "         [3.]],\n",
      "\n",
      "        [[4.],\n",
      "         [5.]],\n",
      "\n",
      "        [[6.],\n",
      "         [7.]]])\n",
      "tensor([[ 1.],\n",
      "        [ 3.],\n",
      "        [23.],\n",
      "        [33.]], grad_fn=<SqueezeBackward1>)\n"
     ]
    }
   ],
   "source": [
    "# groups=2\n",
    "conv1d_groups2 = nn.Conv1d(in_channels=4, out_channels=4, kernel_size=1, groups=2, bias=False)\n",
    "conv1d_groups2.weight.data = torch.arange(8, dtype=torch.float32).view(4,2,1)\n",
    "\n",
    "output_groups2 = conv1d_groups2(x)\n",
    "print(conv1d_groups2.weight.data)\n",
    "print(output_groups2) # 0*0+1*1=1, 0*2+1*3=3, 2*4+3*5=23, 2*6+3*7=33"
   ]
  },
  {
   "cell_type": "code",
   "execution_count": 26,
   "metadata": {},
   "outputs": [
    {
     "name": "stdout",
     "output_type": "stream",
     "text": [
      "tensor([[[0.]],\n",
      "\n",
      "        [[1.]],\n",
      "\n",
      "        [[2.]],\n",
      "\n",
      "        [[3.]]])\n",
      "tensor([[0.],\n",
      "        [1.],\n",
      "        [4.],\n",
      "        [9.]], grad_fn=<SqueezeBackward1>)\n"
     ]
    }
   ],
   "source": [
    "# groups=4\n",
    "conv1d_groups4 = nn.Conv1d(in_channels=4, out_channels=4, kernel_size=1, groups=4, bias=False)\n",
    "conv1d_groups4.weight.data = torch.arange(4, dtype=torch.float32).view(4,1,1)\n",
    "\n",
    "output_groups4 = conv1d_groups4(x)\n",
    "print(conv1d_groups4.weight.data)\n",
    "print(output_groups4) # 0*0+1*1=1, 0*0=0, 1*1=1, 2*2=2, 3*3=9"
   ]
  },
  {
   "cell_type": "markdown",
   "metadata": {},
   "source": [
    "## 3D input"
   ]
  },
  {
   "cell_type": "code",
   "execution_count": 27,
   "metadata": {},
   "outputs": [
    {
     "name": "stdout",
     "output_type": "stream",
     "text": [
      "tensor([[[ 0.,  1.,  2.,  3.,  4.],\n",
      "         [ 5.,  6.,  7.,  8.,  9.],\n",
      "         [10., 11., 12., 13., 14.],\n",
      "         [15., 16., 17., 18., 19.],\n",
      "         [20., 21., 22., 23., 24.],\n",
      "         [25., 26., 27., 28., 29.]],\n",
      "\n",
      "        [[30., 31., 32., 33., 34.],\n",
      "         [35., 36., 37., 38., 39.],\n",
      "         [40., 41., 42., 43., 44.],\n",
      "         [45., 46., 47., 48., 49.],\n",
      "         [50., 51., 52., 53., 54.],\n",
      "         [55., 56., 57., 58., 59.]]])\n"
     ]
    }
   ],
   "source": [
    "batch_size = 2\n",
    "x_3d = torch.arange(batch_size * number_channel * sequence_length, dtype=torch.float).reshape(batch_size, number_channel, sequence_length)\n",
    "print(x_3d)"
   ]
  },
  {
   "cell_type": "code",
   "execution_count": 28,
   "metadata": {},
   "outputs": [
    {
     "name": "stdout",
     "output_type": "stream",
     "text": [
      "tensor([[[156., 168., 180., 192.],\n",
      "         [156., 168., 180., 192.],\n",
      "         [156., 168., 180., 192.],\n",
      "         [156., 168., 180., 192.]],\n",
      "\n",
      "        [[516., 528., 540., 552.],\n",
      "         [516., 528., 540., 552.],\n",
      "         [516., 528., 540., 552.],\n",
      "         [516., 528., 540., 552.]]], grad_fn=<ConvolutionBackward0>)\n"
     ]
    }
   ],
   "source": [
    "# kernel_size: Size of the convolving kernel, equals 2\n",
    "output_3d = conv1d.forward(x_3d)\n",
    "print(output_3d)"
   ]
  },
  {
   "cell_type": "code",
   "execution_count": 29,
   "metadata": {},
   "outputs": [
    {
     "name": "stdout",
     "output_type": "stream",
     "text": [
      "tensor([[[156., 180.],\n",
      "         [156., 180.],\n",
      "         [156., 180.],\n",
      "         [156., 180.]],\n",
      "\n",
      "        [[516., 540.],\n",
      "         [516., 540.],\n",
      "         [516., 540.],\n",
      "         [516., 540.]]], grad_fn=<ConvolutionBackward0>)\n"
     ]
    }
   ],
   "source": [
    "# stride: Stride of the convolution, equals 2\n",
    "conv1d_with_stride.weight.data.fill_(1.0)\n",
    "conv1d_with_stride.bias.data.fill_(0.0)\n",
    "output_3d_with_stride = conv1d_with_stride.forward(x_3d)\n",
    "print(output_3d_with_stride)"
   ]
  },
  {
   "cell_type": "code",
   "execution_count": 30,
   "metadata": {},
   "outputs": [
    {
     "name": "stdout",
     "output_type": "stream",
     "text": [
      "tensor([[[ 75., 156., 168., 180., 192.,  99.],\n",
      "         [ 75., 156., 168., 180., 192.,  99.],\n",
      "         [ 75., 156., 168., 180., 192.,  99.],\n",
      "         [ 75., 156., 168., 180., 192.,  99.]],\n",
      "\n",
      "        [[255., 516., 528., 540., 552., 279.],\n",
      "         [255., 516., 528., 540., 552., 279.],\n",
      "         [255., 516., 528., 540., 552., 279.],\n",
      "         [255., 516., 528., 540., 552., 279.]]],\n",
      "       grad_fn=<ConvolutionBackward0>)\n"
     ]
    }
   ],
   "source": [
    "# padding: Padding added to both sides of the input, equals 1\n",
    "conv1d_with_padding.weight.data.fill_(1.0)\n",
    "conv1d_with_padding.bias.data.fill_(0.0)\n",
    "output_3d_with_padding = conv1d_with_padding.forward(x_3d)\n",
    "print(output_3d_with_padding)"
   ]
  },
  {
   "cell_type": "code",
   "execution_count": 31,
   "metadata": {},
   "outputs": [
    {
     "name": "stdout",
     "output_type": "stream",
     "text": [
      "tensor([[[162., 174., 186.],\n",
      "         [162., 174., 186.],\n",
      "         [162., 174., 186.],\n",
      "         [162., 174., 186.]],\n",
      "\n",
      "        [[522., 534., 546.],\n",
      "         [522., 534., 546.],\n",
      "         [522., 534., 546.],\n",
      "         [522., 534., 546.]]], grad_fn=<ConvolutionBackward0>)\n"
     ]
    }
   ],
   "source": [
    "# dilation: Spacing between kernel elements, equals 2\n",
    "conv1d_with_dilation.weight.data.fill_(1.0)\n",
    "conv1d_with_dilation.bias.data.fill_(0.0)\n",
    "output_3d_with_dilation = conv1d_with_dilation.forward(x_3d)\n",
    "print(output_3d_with_dilation)"
   ]
  },
  {
   "cell_type": "code",
   "execution_count": 32,
   "metadata": {},
   "outputs": [
    {
     "name": "stdout",
     "output_type": "stream",
     "text": [
      "tensor([[[ 33.,  39.,  45.,  51.],\n",
      "         [ 33.,  39.,  45.,  51.],\n",
      "         [123., 129., 135., 141.],\n",
      "         [123., 129., 135., 141.]],\n",
      "\n",
      "        [[213., 219., 225., 231.],\n",
      "         [213., 219., 225., 231.],\n",
      "         [303., 309., 315., 321.],\n",
      "         [303., 309., 315., 321.]]], grad_fn=<ConvolutionBackward0>)\n"
     ]
    }
   ],
   "source": [
    "# groups: Number of blocked connections from input channels to output channels, equals 2\n",
    "conv1d_with_groups.weight.data.fill_(1.0)\n",
    "conv1d_with_groups.bias.data.fill_(0.0)\n",
    "output_3d_with_groups = conv1d_with_groups.forward(x_3d)\n",
    "print(output_3d_with_groups)"
   ]
  },
  {
   "cell_type": "code",
   "execution_count": 33,
   "metadata": {},
   "outputs": [
    {
     "name": "stdout",
     "output_type": "stream",
     "text": [
      "tensor([[[156., 168., 180., 192.],\n",
      "         [156., 168., 180., 192.],\n",
      "         [156., 168., 180., 192.],\n",
      "         [156., 168., 180., 192.]],\n",
      "\n",
      "        [[516., 528., 540., 552.],\n",
      "         [516., 528., 540., 552.],\n",
      "         [516., 528., 540., 552.],\n",
      "         [516., 528., 540., 552.]]], grad_fn=<ConvolutionBackward0>)\n"
     ]
    }
   ],
   "source": [
    "# bias: If True, adds a learnable bias to the output, equals False\n",
    "conv1d_without_bias.weight.data.fill_(1.0)\n",
    "output_3d_without_bias = conv1d_without_bias.forward(x_3d)\n",
    "print(output_3d_without_bias)"
   ]
  },
  {
   "cell_type": "markdown",
   "metadata": {},
   "source": [
    "# Conv2d"
   ]
  },
  {
   "cell_type": "code",
   "execution_count": 34,
   "metadata": {},
   "outputs": [],
   "source": [
    "# torch.nn.Conv2d(in_channels, out_channels, kernel_size, stride=1, \n",
    "#                 padding=0, dilation=1, groups=1, bias=True, \n",
    "#                 padding_mode='zeros', device=None, dtype=None)"
   ]
  },
  {
   "cell_type": "markdown",
   "metadata": {},
   "source": [
    "Applies a 2D convolution over an input signal composed of several input planes.\n",
    "\n",
    "- Input: $(N,C_{in},H_{in},W_{in})$ or $(C_{in},H_{in},W_{in})$\n",
    "- Output: $(N,C_{out},H_{out},W_{out})$ or $(C_{out},H_{out},W_{out})$\n",
    "\n",
    "where $N$ is a batch size, $C$ denotes a number of channels, $H$ is height of input planes in pixels, and $W$ is width in pixels."
   ]
  },
  {
   "cell_type": "code",
   "execution_count": 35,
   "metadata": {},
   "outputs": [
    {
     "name": "stdout",
     "output_type": "stream",
     "text": [
      "tensor([[[[  0.,   1.,   2.,   3.,   4.],\n",
      "          [  5.,   6.,   7.,   8.,   9.],\n",
      "          [ 10.,  11.,  12.,  13.,  14.],\n",
      "          [ 15.,  16.,  17.,  18.,  19.]],\n",
      "\n",
      "         [[ 20.,  21.,  22.,  23.,  24.],\n",
      "          [ 25.,  26.,  27.,  28.,  29.],\n",
      "          [ 30.,  31.,  32.,  33.,  34.],\n",
      "          [ 35.,  36.,  37.,  38.,  39.]]],\n",
      "\n",
      "\n",
      "        [[[ 40.,  41.,  42.,  43.,  44.],\n",
      "          [ 45.,  46.,  47.,  48.,  49.],\n",
      "          [ 50.,  51.,  52.,  53.,  54.],\n",
      "          [ 55.,  56.,  57.,  58.,  59.]],\n",
      "\n",
      "         [[ 60.,  61.,  62.,  63.,  64.],\n",
      "          [ 65.,  66.,  67.,  68.,  69.],\n",
      "          [ 70.,  71.,  72.,  73.,  74.],\n",
      "          [ 75.,  76.,  77.,  78.,  79.]]],\n",
      "\n",
      "\n",
      "        [[[ 80.,  81.,  82.,  83.,  84.],\n",
      "          [ 85.,  86.,  87.,  88.,  89.],\n",
      "          [ 90.,  91.,  92.,  93.,  94.],\n",
      "          [ 95.,  96.,  97.,  98.,  99.]],\n",
      "\n",
      "         [[100., 101., 102., 103., 104.],\n",
      "          [105., 106., 107., 108., 109.],\n",
      "          [110., 111., 112., 113., 114.],\n",
      "          [115., 116., 117., 118., 119.]]]])\n"
     ]
    }
   ],
   "source": [
    "batch_size = 3\n",
    "in_channels = 2\n",
    "height = 4\n",
    "width = 5\n",
    "x_4d = torch.arange(batch_size * in_channels * height * width, dtype=torch.float).reshape(batch_size, in_channels, height, width)\n",
    "print(x_4d)"
   ]
  },
  {
   "cell_type": "code",
   "execution_count": 36,
   "metadata": {},
   "outputs": [
    {
     "name": "stdout",
     "output_type": "stream",
     "text": [
      "torch.Size([3, 4, 3, 5])\n",
      "tensor([[[[ 50.,  54.,  58.,  62.,  66.],\n",
      "          [ 70.,  74.,  78.,  82.,  86.],\n",
      "          [ 90.,  94.,  98., 102., 106.]],\n",
      "\n",
      "         [[ 50.,  54.,  58.,  62.,  66.],\n",
      "          [ 70.,  74.,  78.,  82.,  86.],\n",
      "          [ 90.,  94.,  98., 102., 106.]],\n",
      "\n",
      "         [[ 50.,  54.,  58.,  62.,  66.],\n",
      "          [ 70.,  74.,  78.,  82.,  86.],\n",
      "          [ 90.,  94.,  98., 102., 106.]],\n",
      "\n",
      "         [[ 50.,  54.,  58.,  62.,  66.],\n",
      "          [ 70.,  74.,  78.,  82.,  86.],\n",
      "          [ 90.,  94.,  98., 102., 106.]]],\n",
      "\n",
      "\n",
      "        [[[210., 214., 218., 222., 226.],\n",
      "          [230., 234., 238., 242., 246.],\n",
      "          [250., 254., 258., 262., 266.]],\n",
      "\n",
      "         [[210., 214., 218., 222., 226.],\n",
      "          [230., 234., 238., 242., 246.],\n",
      "          [250., 254., 258., 262., 266.]],\n",
      "\n",
      "         [[210., 214., 218., 222., 226.],\n",
      "          [230., 234., 238., 242., 246.],\n",
      "          [250., 254., 258., 262., 266.]],\n",
      "\n",
      "         [[210., 214., 218., 222., 226.],\n",
      "          [230., 234., 238., 242., 246.],\n",
      "          [250., 254., 258., 262., 266.]]],\n",
      "\n",
      "\n",
      "        [[[370., 374., 378., 382., 386.],\n",
      "          [390., 394., 398., 402., 406.],\n",
      "          [410., 414., 418., 422., 426.]],\n",
      "\n",
      "         [[370., 374., 378., 382., 386.],\n",
      "          [390., 394., 398., 402., 406.],\n",
      "          [410., 414., 418., 422., 426.]],\n",
      "\n",
      "         [[370., 374., 378., 382., 386.],\n",
      "          [390., 394., 398., 402., 406.],\n",
      "          [410., 414., 418., 422., 426.]],\n",
      "\n",
      "         [[370., 374., 378., 382., 386.],\n",
      "          [390., 394., 398., 402., 406.],\n",
      "          [410., 414., 418., 422., 426.]]]], grad_fn=<ConvolutionBackward0>)\n"
     ]
    }
   ],
   "source": [
    "# kernel_size: Size of the convolving kernel, equals (2, 1)\n",
    "conv2d = nn.Conv2d(in_channels=in_channels, out_channels=4, kernel_size=(2, 1))\n",
    "conv2d.weight.data.fill_(1.0)\n",
    "conv2d.bias.data.fill_(0.0)\n",
    "output_conv2d = conv2d.forward(x_4d)\n",
    "print(output_conv2d.shape)\n",
    "print(output_conv2d)"
   ]
  },
  {
   "cell_type": "code",
   "execution_count": 37,
   "metadata": {},
   "outputs": [
    {
     "name": "stdout",
     "output_type": "stream",
     "text": [
      "torch.Size([3, 4, 2, 5])\n",
      "tensor([[[[ 50.,  54.,  58.,  62.,  66.],\n",
      "          [ 90.,  94.,  98., 102., 106.]],\n",
      "\n",
      "         [[ 50.,  54.,  58.,  62.,  66.],\n",
      "          [ 90.,  94.,  98., 102., 106.]],\n",
      "\n",
      "         [[ 50.,  54.,  58.,  62.,  66.],\n",
      "          [ 90.,  94.,  98., 102., 106.]],\n",
      "\n",
      "         [[ 50.,  54.,  58.,  62.,  66.],\n",
      "          [ 90.,  94.,  98., 102., 106.]]],\n",
      "\n",
      "\n",
      "        [[[210., 214., 218., 222., 226.],\n",
      "          [250., 254., 258., 262., 266.]],\n",
      "\n",
      "         [[210., 214., 218., 222., 226.],\n",
      "          [250., 254., 258., 262., 266.]],\n",
      "\n",
      "         [[210., 214., 218., 222., 226.],\n",
      "          [250., 254., 258., 262., 266.]],\n",
      "\n",
      "         [[210., 214., 218., 222., 226.],\n",
      "          [250., 254., 258., 262., 266.]]],\n",
      "\n",
      "\n",
      "        [[[370., 374., 378., 382., 386.],\n",
      "          [410., 414., 418., 422., 426.]],\n",
      "\n",
      "         [[370., 374., 378., 382., 386.],\n",
      "          [410., 414., 418., 422., 426.]],\n",
      "\n",
      "         [[370., 374., 378., 382., 386.],\n",
      "          [410., 414., 418., 422., 426.]],\n",
      "\n",
      "         [[370., 374., 378., 382., 386.],\n",
      "          [410., 414., 418., 422., 426.]]]], grad_fn=<ConvolutionBackward0>)\n"
     ]
    }
   ],
   "source": [
    "# stride: Stride of the convolution, equals (2,1)\n",
    "conv2d_with_stride = nn.Conv2d(in_channels=in_channels, out_channels=4, kernel_size=(2, 1), stride=(2, 1))\n",
    "conv2d_with_stride.weight.data.fill_(1.0)\n",
    "conv2d_with_stride.bias.data.fill_(0.0)\n",
    "output_conv2d__with_stride = conv2d_with_stride.forward(x_4d)\n",
    "print(output_conv2d__with_stride.shape)\n",
    "print(output_conv2d__with_stride)"
   ]
  },
  {
   "cell_type": "code",
   "execution_count": 38,
   "metadata": {},
   "outputs": [
    {
     "name": "stdout",
     "output_type": "stream",
     "text": [
      "torch.Size([3, 4, 7, 7])\n",
      "tensor([[[[  0.,   0.,   0.,   0.,   0.,   0.,   0.],\n",
      "          [  0.,  20.,  22.,  24.,  26.,  28.,   0.],\n",
      "          [  0.,  50.,  54.,  58.,  62.,  66.,   0.],\n",
      "          [  0.,  70.,  74.,  78.,  82.,  86.,   0.],\n",
      "          [  0.,  90.,  94.,  98., 102., 106.,   0.],\n",
      "          [  0.,  50.,  52.,  54.,  56.,  58.,   0.],\n",
      "          [  0.,   0.,   0.,   0.,   0.,   0.,   0.]],\n",
      "\n",
      "         [[  0.,   0.,   0.,   0.,   0.,   0.,   0.],\n",
      "          [  0.,  20.,  22.,  24.,  26.,  28.,   0.],\n",
      "          [  0.,  50.,  54.,  58.,  62.,  66.,   0.],\n",
      "          [  0.,  70.,  74.,  78.,  82.,  86.,   0.],\n",
      "          [  0.,  90.,  94.,  98., 102., 106.,   0.],\n",
      "          [  0.,  50.,  52.,  54.,  56.,  58.,   0.],\n",
      "          [  0.,   0.,   0.,   0.,   0.,   0.,   0.]],\n",
      "\n",
      "         [[  0.,   0.,   0.,   0.,   0.,   0.,   0.],\n",
      "          [  0.,  20.,  22.,  24.,  26.,  28.,   0.],\n",
      "          [  0.,  50.,  54.,  58.,  62.,  66.,   0.],\n",
      "          [  0.,  70.,  74.,  78.,  82.,  86.,   0.],\n",
      "          [  0.,  90.,  94.,  98., 102., 106.,   0.],\n",
      "          [  0.,  50.,  52.,  54.,  56.,  58.,   0.],\n",
      "          [  0.,   0.,   0.,   0.,   0.,   0.,   0.]],\n",
      "\n",
      "         [[  0.,   0.,   0.,   0.,   0.,   0.,   0.],\n",
      "          [  0.,  20.,  22.,  24.,  26.,  28.,   0.],\n",
      "          [  0.,  50.,  54.,  58.,  62.,  66.,   0.],\n",
      "          [  0.,  70.,  74.,  78.,  82.,  86.,   0.],\n",
      "          [  0.,  90.,  94.,  98., 102., 106.,   0.],\n",
      "          [  0.,  50.,  52.,  54.,  56.,  58.,   0.],\n",
      "          [  0.,   0.,   0.,   0.,   0.,   0.,   0.]]],\n",
      "\n",
      "\n",
      "        [[[  0.,   0.,   0.,   0.,   0.,   0.,   0.],\n",
      "          [  0., 100., 102., 104., 106., 108.,   0.],\n",
      "          [  0., 210., 214., 218., 222., 226.,   0.],\n",
      "          [  0., 230., 234., 238., 242., 246.,   0.],\n",
      "          [  0., 250., 254., 258., 262., 266.,   0.],\n",
      "          [  0., 130., 132., 134., 136., 138.,   0.],\n",
      "          [  0.,   0.,   0.,   0.,   0.,   0.,   0.]],\n",
      "\n",
      "         [[  0.,   0.,   0.,   0.,   0.,   0.,   0.],\n",
      "          [  0., 100., 102., 104., 106., 108.,   0.],\n",
      "          [  0., 210., 214., 218., 222., 226.,   0.],\n",
      "          [  0., 230., 234., 238., 242., 246.,   0.],\n",
      "          [  0., 250., 254., 258., 262., 266.,   0.],\n",
      "          [  0., 130., 132., 134., 136., 138.,   0.],\n",
      "          [  0.,   0.,   0.,   0.,   0.,   0.,   0.]],\n",
      "\n",
      "         [[  0.,   0.,   0.,   0.,   0.,   0.,   0.],\n",
      "          [  0., 100., 102., 104., 106., 108.,   0.],\n",
      "          [  0., 210., 214., 218., 222., 226.,   0.],\n",
      "          [  0., 230., 234., 238., 242., 246.,   0.],\n",
      "          [  0., 250., 254., 258., 262., 266.,   0.],\n",
      "          [  0., 130., 132., 134., 136., 138.,   0.],\n",
      "          [  0.,   0.,   0.,   0.,   0.,   0.,   0.]],\n",
      "\n",
      "         [[  0.,   0.,   0.,   0.,   0.,   0.,   0.],\n",
      "          [  0., 100., 102., 104., 106., 108.,   0.],\n",
      "          [  0., 210., 214., 218., 222., 226.,   0.],\n",
      "          [  0., 230., 234., 238., 242., 246.,   0.],\n",
      "          [  0., 250., 254., 258., 262., 266.,   0.],\n",
      "          [  0., 130., 132., 134., 136., 138.,   0.],\n",
      "          [  0.,   0.,   0.,   0.,   0.,   0.,   0.]]],\n",
      "\n",
      "\n",
      "        [[[  0.,   0.,   0.,   0.,   0.,   0.,   0.],\n",
      "          [  0., 180., 182., 184., 186., 188.,   0.],\n",
      "          [  0., 370., 374., 378., 382., 386.,   0.],\n",
      "          [  0., 390., 394., 398., 402., 406.,   0.],\n",
      "          [  0., 410., 414., 418., 422., 426.,   0.],\n",
      "          [  0., 210., 212., 214., 216., 218.,   0.],\n",
      "          [  0.,   0.,   0.,   0.,   0.,   0.,   0.]],\n",
      "\n",
      "         [[  0.,   0.,   0.,   0.,   0.,   0.,   0.],\n",
      "          [  0., 180., 182., 184., 186., 188.,   0.],\n",
      "          [  0., 370., 374., 378., 382., 386.,   0.],\n",
      "          [  0., 390., 394., 398., 402., 406.,   0.],\n",
      "          [  0., 410., 414., 418., 422., 426.,   0.],\n",
      "          [  0., 210., 212., 214., 216., 218.,   0.],\n",
      "          [  0.,   0.,   0.,   0.,   0.,   0.,   0.]],\n",
      "\n",
      "         [[  0.,   0.,   0.,   0.,   0.,   0.,   0.],\n",
      "          [  0., 180., 182., 184., 186., 188.,   0.],\n",
      "          [  0., 370., 374., 378., 382., 386.,   0.],\n",
      "          [  0., 390., 394., 398., 402., 406.,   0.],\n",
      "          [  0., 410., 414., 418., 422., 426.,   0.],\n",
      "          [  0., 210., 212., 214., 216., 218.,   0.],\n",
      "          [  0.,   0.,   0.,   0.,   0.,   0.,   0.]],\n",
      "\n",
      "         [[  0.,   0.,   0.,   0.,   0.,   0.,   0.],\n",
      "          [  0., 180., 182., 184., 186., 188.,   0.],\n",
      "          [  0., 370., 374., 378., 382., 386.,   0.],\n",
      "          [  0., 390., 394., 398., 402., 406.,   0.],\n",
      "          [  0., 410., 414., 418., 422., 426.,   0.],\n",
      "          [  0., 210., 212., 214., 216., 218.,   0.],\n",
      "          [  0.,   0.,   0.,   0.,   0.,   0.,   0.]]]],\n",
      "       grad_fn=<ConvolutionBackward0>)\n"
     ]
    }
   ],
   "source": [
    "# padding: Padding added to both sides of the input, equals (2,1)\n",
    "conv2d_with_padding = nn.Conv2d(in_channels=in_channels, out_channels=4, kernel_size=(2, 1), padding=(2, 1))\n",
    "conv2d_with_padding.weight.data.fill_(1.0)\n",
    "conv2d_with_padding.bias.data.fill_(0.0)\n",
    "output_conv2d_with_padding = conv2d_with_padding.forward(x_4d)\n",
    "print(output_conv2d_with_padding.shape)\n",
    "print(output_conv2d_with_padding)"
   ]
  },
  {
   "cell_type": "code",
   "execution_count": 39,
   "metadata": {},
   "outputs": [
    {
     "name": "stdout",
     "output_type": "stream",
     "text": [
      "torch.Size([3, 4, 2, 5])\n",
      "tensor([[[[ 60.,  64.,  68.,  72.,  76.],\n",
      "          [ 80.,  84.,  88.,  92.,  96.]],\n",
      "\n",
      "         [[ 60.,  64.,  68.,  72.,  76.],\n",
      "          [ 80.,  84.,  88.,  92.,  96.]],\n",
      "\n",
      "         [[ 60.,  64.,  68.,  72.,  76.],\n",
      "          [ 80.,  84.,  88.,  92.,  96.]],\n",
      "\n",
      "         [[ 60.,  64.,  68.,  72.,  76.],\n",
      "          [ 80.,  84.,  88.,  92.,  96.]]],\n",
      "\n",
      "\n",
      "        [[[220., 224., 228., 232., 236.],\n",
      "          [240., 244., 248., 252., 256.]],\n",
      "\n",
      "         [[220., 224., 228., 232., 236.],\n",
      "          [240., 244., 248., 252., 256.]],\n",
      "\n",
      "         [[220., 224., 228., 232., 236.],\n",
      "          [240., 244., 248., 252., 256.]],\n",
      "\n",
      "         [[220., 224., 228., 232., 236.],\n",
      "          [240., 244., 248., 252., 256.]]],\n",
      "\n",
      "\n",
      "        [[[380., 384., 388., 392., 396.],\n",
      "          [400., 404., 408., 412., 416.]],\n",
      "\n",
      "         [[380., 384., 388., 392., 396.],\n",
      "          [400., 404., 408., 412., 416.]],\n",
      "\n",
      "         [[380., 384., 388., 392., 396.],\n",
      "          [400., 404., 408., 412., 416.]],\n",
      "\n",
      "         [[380., 384., 388., 392., 396.],\n",
      "          [400., 404., 408., 412., 416.]]]], grad_fn=<ConvolutionBackward0>)\n"
     ]
    }
   ],
   "source": [
    "# dilation: dilation added to both sides of the input, equals (2,1)\n",
    "conv2d_with_dilation = nn.Conv2d(in_channels=in_channels, out_channels=4, kernel_size=(2, 1), dilation=(2, 1))\n",
    "conv2d_with_dilation.weight.data.fill_(1.0)\n",
    "conv2d_with_dilation.bias.data.fill_(0.0)\n",
    "output_conv2d_with_dilation = conv2d_with_dilation.forward(x_4d)\n",
    "print(output_conv2d_with_dilation.shape)\n",
    "print(output_conv2d_with_dilation)"
   ]
  },
  {
   "cell_type": "code",
   "execution_count": 40,
   "metadata": {},
   "outputs": [
    {
     "name": "stdout",
     "output_type": "stream",
     "text": [
      "torch.Size([3, 4, 3, 5])\n",
      "tensor([[[[  5.,   7.,   9.,  11.,  13.],\n",
      "          [ 15.,  17.,  19.,  21.,  23.],\n",
      "          [ 25.,  27.,  29.,  31.,  33.]],\n",
      "\n",
      "         [[  5.,   7.,   9.,  11.,  13.],\n",
      "          [ 15.,  17.,  19.,  21.,  23.],\n",
      "          [ 25.,  27.,  29.,  31.,  33.]],\n",
      "\n",
      "         [[ 45.,  47.,  49.,  51.,  53.],\n",
      "          [ 55.,  57.,  59.,  61.,  63.],\n",
      "          [ 65.,  67.,  69.,  71.,  73.]],\n",
      "\n",
      "         [[ 45.,  47.,  49.,  51.,  53.],\n",
      "          [ 55.,  57.,  59.,  61.,  63.],\n",
      "          [ 65.,  67.,  69.,  71.,  73.]]],\n",
      "\n",
      "\n",
      "        [[[ 85.,  87.,  89.,  91.,  93.],\n",
      "          [ 95.,  97.,  99., 101., 103.],\n",
      "          [105., 107., 109., 111., 113.]],\n",
      "\n",
      "         [[ 85.,  87.,  89.,  91.,  93.],\n",
      "          [ 95.,  97.,  99., 101., 103.],\n",
      "          [105., 107., 109., 111., 113.]],\n",
      "\n",
      "         [[125., 127., 129., 131., 133.],\n",
      "          [135., 137., 139., 141., 143.],\n",
      "          [145., 147., 149., 151., 153.]],\n",
      "\n",
      "         [[125., 127., 129., 131., 133.],\n",
      "          [135., 137., 139., 141., 143.],\n",
      "          [145., 147., 149., 151., 153.]]],\n",
      "\n",
      "\n",
      "        [[[165., 167., 169., 171., 173.],\n",
      "          [175., 177., 179., 181., 183.],\n",
      "          [185., 187., 189., 191., 193.]],\n",
      "\n",
      "         [[165., 167., 169., 171., 173.],\n",
      "          [175., 177., 179., 181., 183.],\n",
      "          [185., 187., 189., 191., 193.]],\n",
      "\n",
      "         [[205., 207., 209., 211., 213.],\n",
      "          [215., 217., 219., 221., 223.],\n",
      "          [225., 227., 229., 231., 233.]],\n",
      "\n",
      "         [[205., 207., 209., 211., 213.],\n",
      "          [215., 217., 219., 221., 223.],\n",
      "          [225., 227., 229., 231., 233.]]]], grad_fn=<ConvolutionBackward0>)\n"
     ]
    }
   ],
   "source": [
    "# groups: groups added to both sides of the input, equals 2\n",
    "conv2d_with_groups = nn.Conv2d(in_channels=in_channels, out_channels=4, kernel_size=(2, 1), groups=2)\n",
    "conv2d_with_groups.weight.data.fill_(1.0)\n",
    "conv2d_with_groups.bias.data.fill_(0.0)\n",
    "output_conv2d_with_groups = conv2d_with_groups.forward(x_4d)\n",
    "print(output_conv2d_with_groups.shape)\n",
    "print(output_conv2d_with_groups)"
   ]
  },
  {
   "cell_type": "code",
   "execution_count": 41,
   "metadata": {},
   "outputs": [
    {
     "name": "stdout",
     "output_type": "stream",
     "text": [
      "torch.Size([3, 4, 3, 5])\n",
      "tensor([[[[ 50.,  54.,  58.,  62.,  66.],\n",
      "          [ 70.,  74.,  78.,  82.,  86.],\n",
      "          [ 90.,  94.,  98., 102., 106.]],\n",
      "\n",
      "         [[ 50.,  54.,  58.,  62.,  66.],\n",
      "          [ 70.,  74.,  78.,  82.,  86.],\n",
      "          [ 90.,  94.,  98., 102., 106.]],\n",
      "\n",
      "         [[ 50.,  54.,  58.,  62.,  66.],\n",
      "          [ 70.,  74.,  78.,  82.,  86.],\n",
      "          [ 90.,  94.,  98., 102., 106.]],\n",
      "\n",
      "         [[ 50.,  54.,  58.,  62.,  66.],\n",
      "          [ 70.,  74.,  78.,  82.,  86.],\n",
      "          [ 90.,  94.,  98., 102., 106.]]],\n",
      "\n",
      "\n",
      "        [[[210., 214., 218., 222., 226.],\n",
      "          [230., 234., 238., 242., 246.],\n",
      "          [250., 254., 258., 262., 266.]],\n",
      "\n",
      "         [[210., 214., 218., 222., 226.],\n",
      "          [230., 234., 238., 242., 246.],\n",
      "          [250., 254., 258., 262., 266.]],\n",
      "\n",
      "         [[210., 214., 218., 222., 226.],\n",
      "          [230., 234., 238., 242., 246.],\n",
      "          [250., 254., 258., 262., 266.]],\n",
      "\n",
      "         [[210., 214., 218., 222., 226.],\n",
      "          [230., 234., 238., 242., 246.],\n",
      "          [250., 254., 258., 262., 266.]]],\n",
      "\n",
      "\n",
      "        [[[370., 374., 378., 382., 386.],\n",
      "          [390., 394., 398., 402., 406.],\n",
      "          [410., 414., 418., 422., 426.]],\n",
      "\n",
      "         [[370., 374., 378., 382., 386.],\n",
      "          [390., 394., 398., 402., 406.],\n",
      "          [410., 414., 418., 422., 426.]],\n",
      "\n",
      "         [[370., 374., 378., 382., 386.],\n",
      "          [390., 394., 398., 402., 406.],\n",
      "          [410., 414., 418., 422., 426.]],\n",
      "\n",
      "         [[370., 374., 378., 382., 386.],\n",
      "          [390., 394., 398., 402., 406.],\n",
      "          [410., 414., 418., 422., 426.]]]], grad_fn=<ConvolutionBackward0>)\n"
     ]
    }
   ],
   "source": [
    "# bias: If True, adds a learnable bias to the output, equals False\n",
    "conv2d_without_bias = nn.Conv2d(in_channels=in_channels, out_channels=4, kernel_size=(2, 1), bias=False)\n",
    "conv2d_without_bias.weight.data.fill_(1.0)\n",
    "output_conv2d_without_bias = conv2d_without_bias.forward(x_4d)\n",
    "print(output_conv2d_without_bias.shape)\n",
    "print(output_conv2d_without_bias)"
   ]
  },
  {
   "cell_type": "code",
   "execution_count": null,
   "metadata": {},
   "outputs": [],
   "source": []
  }
 ],
 "metadata": {
  "kernelspec": {
   "display_name": "dl_env",
   "language": "python",
   "name": "dl_env"
  },
  "language_info": {
   "codemirror_mode": {
    "name": "ipython",
    "version": 3
   },
   "file_extension": ".py",
   "mimetype": "text/x-python",
   "name": "python",
   "nbconvert_exporter": "python",
   "pygments_lexer": "ipython3",
   "version": "3.8.13"
  },
  "toc": {
   "base_numbering": 1,
   "nav_menu": {},
   "number_sections": true,
   "sideBar": true,
   "skip_h1_title": false,
   "title_cell": "Table of Contents",
   "title_sidebar": "Contents",
   "toc_cell": false,
   "toc_position": {},
   "toc_section_display": true,
   "toc_window_display": true
  }
 },
 "nbformat": 4,
 "nbformat_minor": 5
}
