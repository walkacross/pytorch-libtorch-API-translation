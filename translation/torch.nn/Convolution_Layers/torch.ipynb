{
 "cells": [
  {
   "cell_type": "code",
   "execution_count": 1,
   "metadata": {},
   "outputs": [],
   "source": [
    "import torch\n",
    "import torch.nn as nn\n",
    "from torch.nn.functional import pad\n",
    "import numpy as np"
   ]
  },
  {
   "cell_type": "markdown",
   "metadata": {},
   "source": [
    "# Conv1d"
   ]
  },
  {
   "cell_type": "code",
   "execution_count": 2,
   "metadata": {},
   "outputs": [],
   "source": [
    "# torch.nn.Conv1d(in_channels, out_channels, kernel_size, stride=1, \n",
    "#                 padding=0, dilation=1, groups=1, bias=True, \n",
    "#                 padding_mode='zeros', device=None, dtype=None)"
   ]
  },
  {
   "cell_type": "markdown",
   "metadata": {},
   "source": [
    "Applies a 1D convolution over an input signal composed of several input planes.\n",
    "\n",
    "- Input: $(N,C_{in},L)$ or $(C_{in},L_{in})$\n",
    "- Output: $(N,C_{out},L)$ or $(C_{out},L_{out})$\n",
    "\n",
    "where $N$ is a batch size, $C$ denotes a number of channels, $L$ is a length of signal sequence."
   ]
  },
  {
   "cell_type": "markdown",
   "metadata": {},
   "source": [
    "## 2D input data"
   ]
  },
  {
   "cell_type": "code",
   "execution_count": 3,
   "metadata": {},
   "outputs": [
    {
     "name": "stdout",
     "output_type": "stream",
     "text": [
      "tensor([[ 0.,  1.,  2.,  3.,  4.],\n",
      "        [ 5.,  6.,  7.,  8.,  9.],\n",
      "        [10., 11., 12., 13., 14.],\n",
      "        [15., 16., 17., 18., 19.],\n",
      "        [20., 21., 22., 23., 24.],\n",
      "        [25., 26., 27., 28., 29.]])\n"
     ]
    }
   ],
   "source": [
    "number_channel = 6\n",
    "sequence_length = 5\n",
    "x  = torch.arange(number_channel * sequence_length, dtype=torch.float32).reshape(number_channel, sequence_length)\n",
    "print(x)"
   ]
  },
  {
   "cell_type": "code",
   "execution_count": 4,
   "metadata": {},
   "outputs": [
    {
     "name": "stdout",
     "output_type": "stream",
     "text": [
      "torch.Size([4, 4])\n"
     ]
    }
   ],
   "source": [
    "# kernel_size: Size of the convolving kernel, equals 2\n",
    "conv1d = nn.Conv1d(in_channels=number_channel, out_channels=4, kernel_size=2)\n",
    "output = conv1d.forward(x)\n",
    "print(output.shape)"
   ]
  },
  {
   "cell_type": "code",
   "execution_count": 5,
   "metadata": {},
   "outputs": [
    {
     "name": "stdout",
     "output_type": "stream",
     "text": [
      "torch.Size([4, 2])\n"
     ]
    }
   ],
   "source": [
    "# stride: Stride of the convolution, equals 2\n",
    "conv1d_with_stride = nn.Conv1d(in_channels=number_channel, out_channels=4, kernel_size=2, stride=2)\n",
    "output_with_stride = conv1d_with_stride.forward(x)\n",
    "print(output_with_stride.shape)"
   ]
  },
  {
   "cell_type": "code",
   "execution_count": 6,
   "metadata": {},
   "outputs": [
    {
     "name": "stdout",
     "output_type": "stream",
     "text": [
      "torch.Size([4, 6])\n"
     ]
    }
   ],
   "source": [
    "# padding: Padding added to both sides of the input, equals 1\n",
    "conv1d_with_padding = nn.Conv1d(in_channels=number_channel, out_channels=4, kernel_size=2, padding=1)\n",
    "output_with_padding = conv1d_with_padding.forward(x)\n",
    "print(output_with_padding.shape)"
   ]
  },
  {
   "cell_type": "code",
   "execution_count": 7,
   "metadata": {},
   "outputs": [
    {
     "name": "stdout",
     "output_type": "stream",
     "text": [
      "torch.Size([4, 3])\n"
     ]
    }
   ],
   "source": [
    "# dilation: Spacing between kernel elements, equals 2\n",
    "conv1d_with_dilation = nn.Conv1d(in_channels=number_channel, out_channels=4, kernel_size=2, dilation=2)\n",
    "output_with_dilation = conv1d_with_dilation.forward(x)\n",
    "print(output_with_dilation.shape)"
   ]
  },
  {
   "cell_type": "code",
   "execution_count": 8,
   "metadata": {},
   "outputs": [
    {
     "name": "stdout",
     "output_type": "stream",
     "text": [
      "torch.Size([4, 4])\n"
     ]
    }
   ],
   "source": [
    "# groups: Number of blocked connections from input channels to output channels, equals 2\n",
    "conv1d_with_groups = nn.Conv1d(in_channels=number_channel, out_channels=4, kernel_size=2, groups=2)\n",
    "output_with_groups = conv1d_with_groups.forward(x)\n",
    "print(output_with_groups.shape)"
   ]
  },
  {
   "cell_type": "code",
   "execution_count": 9,
   "metadata": {},
   "outputs": [
    {
     "name": "stdout",
     "output_type": "stream",
     "text": [
      "torch.Size([4, 4])\n"
     ]
    }
   ],
   "source": [
    "# bias: If True, adds a learnable bias to the output, equals False\n",
    "conv1d_without_bias = nn.Conv1d(in_channels=number_channel, out_channels=4, kernel_size=2, bias=False)\n",
    "output_without_bias = conv1d_without_bias.forward(x)\n",
    "print(output_without_bias.shape)"
   ]
  },
  {
   "cell_type": "markdown",
   "metadata": {},
   "source": [
    "## how does `Conv1d` work with 2D input"
   ]
  },
  {
   "cell_type": "code",
   "execution_count": 10,
   "metadata": {},
   "outputs": [
    {
     "name": "stdout",
     "output_type": "stream",
     "text": [
      "weight: torch.Size([4, 6, 2])\n",
      " tensor([[[1., 1.],\n",
      "         [1., 1.],\n",
      "         [1., 1.],\n",
      "         [1., 1.],\n",
      "         [1., 1.],\n",
      "         [1., 1.]],\n",
      "\n",
      "        [[1., 1.],\n",
      "         [1., 1.],\n",
      "         [1., 1.],\n",
      "         [1., 1.],\n",
      "         [1., 1.],\n",
      "         [1., 1.]],\n",
      "\n",
      "        [[1., 1.],\n",
      "         [1., 1.],\n",
      "         [1., 1.],\n",
      "         [1., 1.],\n",
      "         [1., 1.],\n",
      "         [1., 1.]],\n",
      "\n",
      "        [[1., 1.],\n",
      "         [1., 1.],\n",
      "         [1., 1.],\n",
      "         [1., 1.],\n",
      "         [1., 1.],\n",
      "         [1., 1.]]])\n",
      "bias: torch.Size([4])\n",
      " tensor([0., 0., 0., 0.])\n"
     ]
    }
   ],
   "source": [
    "conv1d.weight.data.fill_(1.0)\n",
    "conv1d.bias.data.fill_(0.0)\n",
    "\n",
    "print('weight: {}\\n'.format(conv1d.weight.data.shape), conv1d.weight.data)\n",
    "print('bias: {}\\n'.format(conv1d.bias.data.shape), conv1d.bias.data)"
   ]
  },
  {
   "cell_type": "code",
   "execution_count": 11,
   "metadata": {},
   "outputs": [
    {
     "name": "stdout",
     "output_type": "stream",
     "text": [
      "tensor([[156., 168., 180., 192.],\n",
      "        [156., 168., 180., 192.],\n",
      "        [156., 168., 180., 192.],\n",
      "        [156., 168., 180., 192.]], grad_fn=<SqueezeBackward1>)\n"
     ]
    }
   ],
   "source": [
    "output = conv1d.forward(x)\n",
    "print(output)"
   ]
  },
  {
   "cell_type": "code",
   "execution_count": 12,
   "metadata": {},
   "outputs": [],
   "source": [
    "def conv_1d(x, weight, bias, stride=1, padding=0): \n",
    "    out_channels, in_channels, kernel_size = weight.shape\n",
    "    X = pad(x, pad=(padding, padding, 0, 0), mode='constant', value=0)\n",
    "    Y = torch.zeros((out_channels, int(np.ceil((X.shape[1] - kernel_size + 2 * padding + 1) / stride))))\n",
    "    for i in range(Y.shape[0]):\n",
    "        for j in range(Y.shape[1]):\n",
    "            Y[i, j] = (X[:, stride * j:stride * j + kernel_size] * weight[i]).sum() + bias[i]\n",
    "    return Y"
   ]
  },
  {
   "cell_type": "code",
   "execution_count": 13,
   "metadata": {},
   "outputs": [
    {
     "name": "stdout",
     "output_type": "stream",
     "text": [
      "result of conv_1d: \n",
      " tensor([[156., 168., 180., 192.],\n",
      "        [156., 168., 180., 192.],\n",
      "        [156., 168., 180., 192.],\n",
      "        [156., 168., 180., 192.]])\n"
     ]
    }
   ],
   "source": [
    "print('result of conv_1d: \\n', conv_1d(x, weight=conv1d.weight.data, bias=conv1d.bias.data))"
   ]
  },
  {
   "cell_type": "markdown",
   "metadata": {},
   "source": [
    "## how does parameter `groups` work"
   ]
  },
  {
   "cell_type": "code",
   "execution_count": null,
   "metadata": {},
   "outputs": [],
   "source": []
  }
 ],
 "metadata": {
  "kernelspec": {
   "display_name": "dl_env",
   "language": "python",
   "name": "dl_env"
  },
  "language_info": {
   "codemirror_mode": {
    "name": "ipython",
    "version": 3
   },
   "file_extension": ".py",
   "mimetype": "text/x-python",
   "name": "python",
   "nbconvert_exporter": "python",
   "pygments_lexer": "ipython3",
   "version": "3.8.13"
  },
  "toc": {
   "base_numbering": 1,
   "nav_menu": {},
   "number_sections": true,
   "sideBar": true,
   "skip_h1_title": false,
   "title_cell": "Table of Contents",
   "title_sidebar": "Contents",
   "toc_cell": false,
   "toc_position": {},
   "toc_section_display": true,
   "toc_window_display": false
  }
 },
 "nbformat": 4,
 "nbformat_minor": 5
}
