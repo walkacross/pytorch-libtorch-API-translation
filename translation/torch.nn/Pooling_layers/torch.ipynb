{
 "cells": [
  {
   "cell_type": "code",
   "execution_count": 1,
   "id": "394305f9",
   "metadata": {},
   "outputs": [],
   "source": [
    "import torch\n",
    "import torch.nn as nn\n",
    "from torch.nn.functional import pad\n",
    "import numpy as np"
   ]
  },
  {
   "cell_type": "markdown",
   "id": "73e3565b",
   "metadata": {},
   "source": [
    "# MaxPool1d"
   ]
  },
  {
   "cell_type": "code",
   "execution_count": 2,
   "id": "a744be6c",
   "metadata": {},
   "outputs": [],
   "source": [
    "# torch.nn.MaxPool1d(kernel_size, stride=None, padding=0, dilation=1, return_indices=False, ceil_mode=False)"
   ]
  },
  {
   "cell_type": "markdown",
   "id": "25999ad1",
   "metadata": {},
   "source": [
    "Applies a 1D max pooling over an input signal composed of several input planes.\n",
    "\n",
    "- Input: $(N, C, L_{in})$ or $(C, L_{in})$, where N is the batch size, C is the number of features or channels, and L is the sequence length.\n",
    "\n",
    "- Output: $(N, C, L_{out})$ or $(C, L_{out})$, where $L_{out}$ depends on $L_{in}$, padding, dilation, kernel_size and stride."
   ]
  },
  {
   "cell_type": "markdown",
   "id": "65945a3a",
   "metadata": {},
   "source": [
    "## 2D input data"
   ]
  },
  {
   "cell_type": "code",
   "execution_count": 3,
   "id": "3eea970c",
   "metadata": {},
   "outputs": [
    {
     "name": "stdout",
     "output_type": "stream",
     "text": [
      "tensor([[ 0.,  1.,  2.,  3.,  4.,  5.],\n",
      "        [ 6.,  7.,  8.,  9., 10., 11.],\n",
      "        [12., 13., 14., 15., 16., 17.],\n",
      "        [18., 19., 20., 21., 22., 23.]], dtype=torch.float64)\n"
     ]
    }
   ],
   "source": [
    "number_feature = 4\n",
    "sequence_length = 6\n",
    "\n",
    "x  = torch.arange(number_feature * sequence_length, dtype=torch.double).reshape(number_feature, sequence_length)\n",
    "print(x)"
   ]
  },
  {
   "cell_type": "code",
   "execution_count": 4,
   "id": "650af017",
   "metadata": {},
   "outputs": [
    {
     "name": "stdout",
     "output_type": "stream",
     "text": [
      "tensor([[ 2.,  3.,  4.,  5.],\n",
      "        [ 8.,  9., 10., 11.],\n",
      "        [14., 15., 16., 17.],\n",
      "        [20., 21., 22., 23.]], dtype=torch.float64)\n"
     ]
    }
   ],
   "source": [
    "# kernel_size=3, stride=1, padding=0, dilation=1\n",
    "max_pool_1d = nn.MaxPool1d(kernel_size=3, stride=1)\n",
    "output = max_pool_1d(x)\n",
    "print(output)  # for feature 0: [0,1,2] -> 2, [1,2,3] -> 3, [2,3,4] -> 4, [3,4,5] -> 5"
   ]
  },
  {
   "cell_type": "code",
   "execution_count": 5,
   "id": "09ae5c67",
   "metadata": {},
   "outputs": [
    {
     "name": "stdout",
     "output_type": "stream",
     "text": [
      "stride=1: \n",
      " tensor([[ 2.,  3.,  4.,  5.],\n",
      "        [ 8.,  9., 10., 11.],\n",
      "        [14., 15., 16., 17.],\n",
      "        [20., 21., 22., 23.]], dtype=torch.float64)\n",
      "stride=2: \n",
      " tensor([[ 2.,  4.],\n",
      "        [ 8., 10.],\n",
      "        [14., 16.],\n",
      "        [20., 22.]], dtype=torch.float64)\n"
     ]
    }
   ],
   "source": [
    "# kernel_size=3, stride=2, padding=0, dilation=1\n",
    "max_pool_1d_with_stride = nn.MaxPool1d(kernel_size=3, stride=2)\n",
    "output_with_stride = max_pool_1d_with_stride(x)\n",
    "print('stride=1: \\n', output)\n",
    "print('stride=2: \\n', output_with_stride)  # for feature 0: [0,1,2] -> 2, [2,3,4] -> 4"
   ]
  },
  {
   "cell_type": "code",
   "execution_count": 6,
   "id": "df58fd3f",
   "metadata": {},
   "outputs": [
    {
     "name": "stdout",
     "output_type": "stream",
     "text": [
      "padding=0: \n",
      " tensor([[ 2.,  3.,  4.,  5.],\n",
      "        [ 8.,  9., 10., 11.],\n",
      "        [14., 15., 16., 17.],\n",
      "        [20., 21., 22., 23.]], dtype=torch.float64)\n",
      "padding=1: \n",
      " tensor([[ 1.,  2.,  3.,  4.,  5.,  5.],\n",
      "        [ 7.,  8.,  9., 10., 11., 11.],\n",
      "        [13., 14., 15., 16., 17., 17.],\n",
      "        [19., 20., 21., 22., 23., 23.]], dtype=torch.float64)\n"
     ]
    }
   ],
   "source": [
    "# kernel_size=3, stride=1, padding=1, dilation=1\n",
    "max_pool_1d_with_padding = nn.MaxPool1d(kernel_size=3, stride=1, padding=1)\n",
    "output_with_padding = max_pool_1d_with_padding(x)\n",
    "print('padding=0: \\n', output)\n",
    "print('padding=1: \\n', output_with_padding)  # for feature 0: [0,0,1] -> 1, [0,1,2] -> 2, [1,2,3] -> 3, [2,3,4] -> 4, [3,4,5] -> 5, [4,5,0] -> 5"
   ]
  },
  {
   "cell_type": "code",
   "execution_count": 7,
   "id": "05b69abd",
   "metadata": {},
   "outputs": [
    {
     "name": "stdout",
     "output_type": "stream",
     "text": [
      "dilation=1: \n",
      " tensor([[ 2.,  3.,  4.,  5.],\n",
      "        [ 8.,  9., 10., 11.],\n",
      "        [14., 15., 16., 17.],\n",
      "        [20., 21., 22., 23.]], dtype=torch.float64)\n",
      "dilation=2: \n",
      " tensor([[ 4.,  5.],\n",
      "        [10., 11.],\n",
      "        [16., 17.],\n",
      "        [22., 23.]], dtype=torch.float64)\n"
     ]
    }
   ],
   "source": [
    "# kernel_size=3, stride=1, padding=0, dilation=2\n",
    "max_pool_1d_with_dilation = nn.MaxPool1d(kernel_size=3, stride=1, padding=0, dilation=2)\n",
    "output_with_dilation = max_pool_1d_with_dilation(x)\n",
    "print('dilation=1: \\n', output) # for feature 0 (dilation=1): [0,1,2] -> 2, [1,2,3] -> 3, [2,3,4] -> 4, [3,4,5] -> 5\n",
    "print('dilation=2: \\n', output_with_dilation)  # for feature 0 (dilation=2, two steps between elements, eg.[0,2,4]): [0,2,4] -> 4, [1,3,5] -> 5"
   ]
  },
  {
   "cell_type": "code",
   "execution_count": 8,
   "id": "c39bf8fe",
   "metadata": {},
   "outputs": [
    {
     "name": "stdout",
     "output_type": "stream",
     "text": [
      "stride=2 & ceil_mode=False: \n",
      " tensor([[ 2.,  4.],\n",
      "        [ 8., 10.],\n",
      "        [14., 16.],\n",
      "        [20., 22.]], dtype=torch.float64)\n",
      "stride=2 & ceil_mode=True: \n",
      " tensor([[ 2.,  4.,  5.],\n",
      "        [ 8., 10., 11.],\n",
      "        [14., 16., 17.],\n",
      "        [20., 22., 23.]], dtype=torch.float64)\n"
     ]
    },
    {
     "name": "stderr",
     "output_type": "stream",
     "text": [
      "D:\\Programs\\Anaconda\\envs\\dl_env\\lib\\site-packages\\torch\\nn\\functional.py:682: UserWarning: Note that order of the arguments: ceil_mode and return_indices will changeto match the args list in nn.MaxPool1d in a future release.\n",
      "  warnings.warn(\"Note that order of the arguments: ceil_mode and return_indices will change\"\n"
     ]
    }
   ],
   "source": [
    "# kernel_size=3, stride=2, padding=0, dilation=1, ceil_mode=True\n",
    "max_pool_1d_ceil_mode = nn.MaxPool1d(kernel_size=3, stride=2, padding=0, dilation=1, ceil_mode=True)\n",
    "output_ceil_mode = max_pool_1d_ceil_mode(x)\n",
    "print('stride=2 & ceil_mode=False: \\n', output_with_stride)  # for feature 0: [0,1,2] -> 2, [2,3,4] -> 4)\n",
    "print('stride=2 & ceil_mode=True: \\n', output_ceil_mode)  # for feature 0: [0,1,2] -> 2, [2,3,4] -> 4, [4,5] -> 5"
   ]
  },
  {
   "cell_type": "markdown",
   "id": "16875f33",
   "metadata": {},
   "source": [
    "## 3D input data"
   ]
  },
  {
   "cell_type": "markdown",
   "id": "c801251a",
   "metadata": {},
   "source": [
    "use nn.MaxPool1d on each 2D tensor."
   ]
  },
  {
   "cell_type": "code",
   "execution_count": 9,
   "id": "6cd22d50",
   "metadata": {},
   "outputs": [
    {
     "name": "stdout",
     "output_type": "stream",
     "text": [
      "tensor([[[ 0.,  1.,  2.,  3.,  4.,  5.],\n",
      "         [ 6.,  7.,  8.,  9., 10., 11.],\n",
      "         [12., 13., 14., 15., 16., 17.],\n",
      "         [18., 19., 20., 21., 22., 23.]],\n",
      "\n",
      "        [[24., 25., 26., 27., 28., 29.],\n",
      "         [30., 31., 32., 33., 34., 35.],\n",
      "         [36., 37., 38., 39., 40., 41.],\n",
      "         [42., 43., 44., 45., 46., 47.]],\n",
      "\n",
      "        [[48., 49., 50., 51., 52., 53.],\n",
      "         [54., 55., 56., 57., 58., 59.],\n",
      "         [60., 61., 62., 63., 64., 65.],\n",
      "         [66., 67., 68., 69., 70., 71.]]], dtype=torch.float64)\n"
     ]
    }
   ],
   "source": [
    "sample_size = 3\n",
    "x_3d  = torch.arange(sample_size * number_feature * sequence_length, \n",
    "                     dtype=torch.double).reshape(sample_size, number_feature, sequence_length)\n",
    "print(x_3d)"
   ]
  },
  {
   "cell_type": "code",
   "execution_count": 10,
   "id": "752a1b51",
   "metadata": {},
   "outputs": [
    {
     "name": "stdout",
     "output_type": "stream",
     "text": [
      "tensor([[[ 2.,  3.,  4.,  5.],\n",
      "         [ 8.,  9., 10., 11.],\n",
      "         [14., 15., 16., 17.],\n",
      "         [20., 21., 22., 23.]],\n",
      "\n",
      "        [[26., 27., 28., 29.],\n",
      "         [32., 33., 34., 35.],\n",
      "         [38., 39., 40., 41.],\n",
      "         [44., 45., 46., 47.]],\n",
      "\n",
      "        [[50., 51., 52., 53.],\n",
      "         [56., 57., 58., 59.],\n",
      "         [62., 63., 64., 65.],\n",
      "         [68., 69., 70., 71.]]], dtype=torch.float64)\n"
     ]
    }
   ],
   "source": [
    "# kernel_size=3, stride=1, padding=0, dilation=1\n",
    "output_3d = max_pool_1d(x_3d)\n",
    "print(output_3d)"
   ]
  },
  {
   "cell_type": "code",
   "execution_count": 11,
   "id": "eebcc6e6",
   "metadata": {},
   "outputs": [
    {
     "name": "stdout",
     "output_type": "stream",
     "text": [
      "stride=1: \n",
      " tensor([[[ 2.,  3.,  4.,  5.],\n",
      "         [ 8.,  9., 10., 11.],\n",
      "         [14., 15., 16., 17.],\n",
      "         [20., 21., 22., 23.]],\n",
      "\n",
      "        [[26., 27., 28., 29.],\n",
      "         [32., 33., 34., 35.],\n",
      "         [38., 39., 40., 41.],\n",
      "         [44., 45., 46., 47.]],\n",
      "\n",
      "        [[50., 51., 52., 53.],\n",
      "         [56., 57., 58., 59.],\n",
      "         [62., 63., 64., 65.],\n",
      "         [68., 69., 70., 71.]]], dtype=torch.float64)\n",
      "stride=2: \n",
      " tensor([[[ 2.,  4.],\n",
      "         [ 8., 10.],\n",
      "         [14., 16.],\n",
      "         [20., 22.]],\n",
      "\n",
      "        [[26., 28.],\n",
      "         [32., 34.],\n",
      "         [38., 40.],\n",
      "         [44., 46.]],\n",
      "\n",
      "        [[50., 52.],\n",
      "         [56., 58.],\n",
      "         [62., 64.],\n",
      "         [68., 70.]]], dtype=torch.float64)\n"
     ]
    }
   ],
   "source": [
    "# kernel_size=3, stride=2, padding=0, dilation=1\n",
    "output_with_stride_3d = max_pool_1d_with_stride(x_3d)\n",
    "print('stride=1: \\n', output_3d)\n",
    "print('stride=2: \\n', output_with_stride_3d)"
   ]
  },
  {
   "cell_type": "code",
   "execution_count": 12,
   "id": "2de2ce7e",
   "metadata": {},
   "outputs": [
    {
     "name": "stdout",
     "output_type": "stream",
     "text": [
      "padding=1: \n",
      " tensor([[[ 2.,  3.,  4.,  5.],\n",
      "         [ 8.,  9., 10., 11.],\n",
      "         [14., 15., 16., 17.],\n",
      "         [20., 21., 22., 23.]],\n",
      "\n",
      "        [[26., 27., 28., 29.],\n",
      "         [32., 33., 34., 35.],\n",
      "         [38., 39., 40., 41.],\n",
      "         [44., 45., 46., 47.]],\n",
      "\n",
      "        [[50., 51., 52., 53.],\n",
      "         [56., 57., 58., 59.],\n",
      "         [62., 63., 64., 65.],\n",
      "         [68., 69., 70., 71.]]], dtype=torch.float64)\n",
      "padding=2: \n",
      " tensor([[[ 1.,  2.,  3.,  4.,  5.,  5.],\n",
      "         [ 7.,  8.,  9., 10., 11., 11.],\n",
      "         [13., 14., 15., 16., 17., 17.],\n",
      "         [19., 20., 21., 22., 23., 23.]],\n",
      "\n",
      "        [[25., 26., 27., 28., 29., 29.],\n",
      "         [31., 32., 33., 34., 35., 35.],\n",
      "         [37., 38., 39., 40., 41., 41.],\n",
      "         [43., 44., 45., 46., 47., 47.]],\n",
      "\n",
      "        [[49., 50., 51., 52., 53., 53.],\n",
      "         [55., 56., 57., 58., 59., 59.],\n",
      "         [61., 62., 63., 64., 65., 65.],\n",
      "         [67., 68., 69., 70., 71., 71.]]], dtype=torch.float64)\n"
     ]
    }
   ],
   "source": [
    "# kernel_size=3, stride=1, padding=1, dilation=1\n",
    "output_with_padding_3d = max_pool_1d_with_padding(x_3d)\n",
    "print('padding=1: \\n', output_3d)\n",
    "print('padding=2: \\n', output_with_padding_3d)"
   ]
  },
  {
   "cell_type": "code",
   "execution_count": 13,
   "id": "55499169",
   "metadata": {},
   "outputs": [
    {
     "name": "stdout",
     "output_type": "stream",
     "text": [
      "dilation=1: \n",
      " tensor([[[ 2.,  3.,  4.,  5.],\n",
      "         [ 8.,  9., 10., 11.],\n",
      "         [14., 15., 16., 17.],\n",
      "         [20., 21., 22., 23.]],\n",
      "\n",
      "        [[26., 27., 28., 29.],\n",
      "         [32., 33., 34., 35.],\n",
      "         [38., 39., 40., 41.],\n",
      "         [44., 45., 46., 47.]],\n",
      "\n",
      "        [[50., 51., 52., 53.],\n",
      "         [56., 57., 58., 59.],\n",
      "         [62., 63., 64., 65.],\n",
      "         [68., 69., 70., 71.]]], dtype=torch.float64)\n",
      "dilation=2: \n",
      " tensor([[[ 4.,  5.],\n",
      "         [10., 11.],\n",
      "         [16., 17.],\n",
      "         [22., 23.]],\n",
      "\n",
      "        [[28., 29.],\n",
      "         [34., 35.],\n",
      "         [40., 41.],\n",
      "         [46., 47.]],\n",
      "\n",
      "        [[52., 53.],\n",
      "         [58., 59.],\n",
      "         [64., 65.],\n",
      "         [70., 71.]]], dtype=torch.float64)\n"
     ]
    }
   ],
   "source": [
    "# kernel_size=3, stride=1, padding=0, dilation=2\n",
    "output_with_dilation_3d = max_pool_1d_with_dilation(x_3d)\n",
    "print('dilation=1: \\n', output_3d)\n",
    "print('dilation=2: \\n', output_with_dilation_3d)"
   ]
  },
  {
   "cell_type": "code",
   "execution_count": 14,
   "id": "85d6b9a3",
   "metadata": {},
   "outputs": [
    {
     "name": "stdout",
     "output_type": "stream",
     "text": [
      "stride=2 & ceil_mode=False: \n",
      " tensor([[[ 2.,  4.],\n",
      "         [ 8., 10.],\n",
      "         [14., 16.],\n",
      "         [20., 22.]],\n",
      "\n",
      "        [[26., 28.],\n",
      "         [32., 34.],\n",
      "         [38., 40.],\n",
      "         [44., 46.]],\n",
      "\n",
      "        [[50., 52.],\n",
      "         [56., 58.],\n",
      "         [62., 64.],\n",
      "         [68., 70.]]], dtype=torch.float64)\n",
      "stride=2 & ceil_mode=True: \n",
      " tensor([[[ 2.,  4.,  5.],\n",
      "         [ 8., 10., 11.],\n",
      "         [14., 16., 17.],\n",
      "         [20., 22., 23.]],\n",
      "\n",
      "        [[26., 28., 29.],\n",
      "         [32., 34., 35.],\n",
      "         [38., 40., 41.],\n",
      "         [44., 46., 47.]],\n",
      "\n",
      "        [[50., 52., 53.],\n",
      "         [56., 58., 59.],\n",
      "         [62., 64., 65.],\n",
      "         [68., 70., 71.]]], dtype=torch.float64)\n"
     ]
    }
   ],
   "source": [
    "# kernel_size=3, stride=2, padding=0, dilation=1, ceil_mode=True\n",
    "output_ceil_mode_3d = max_pool_1d_ceil_mode(x_3d)\n",
    "print('stride=2 & ceil_mode=False: \\n', output_with_stride_3d)\n",
    "print('stride=2 & ceil_mode=True: \\n', output_ceil_mode_3d)"
   ]
  },
  {
   "cell_type": "markdown",
   "id": "a4072eae",
   "metadata": {},
   "source": [
    "## how does `MaxPool1d` work with 2D input"
   ]
  },
  {
   "cell_type": "code",
   "execution_count": 15,
   "id": "01f9f8ac",
   "metadata": {},
   "outputs": [],
   "source": [
    "def pool1d_max(X: torch.tensor, kernel_size: int, stride: int=1, padding: int=0):\n",
    "    \"\"\"max pooling with 2D input\"\"\"\n",
    "    # output shape\n",
    "    h, w = X.shape[0], np.ceil((X.shape[-1] - kernel_size + 2 * padding + 1) / stride)\n",
    "    Y = torch.zeros(size=(h, int(w)))\n",
    "    # X with padding    \n",
    "    x = pad(X, pad=(padding, padding, 0, 0), mode='constant', value=0)\n",
    "    # get output\n",
    "    for i in range(Y.shape[0]):\n",
    "        for j in range(Y.shape[1]):\n",
    "            Y[i, j] = x[i, stride * j: stride * j + kernel_size].max()\n",
    "    return Y"
   ]
  },
  {
   "cell_type": "code",
   "execution_count": 16,
   "id": "1d62b6ec",
   "metadata": {},
   "outputs": [
    {
     "name": "stdout",
     "output_type": "stream",
     "text": [
      "MaxPool1d output(kernek_size=3): \n",
      " tensor([[ 2.,  3.,  4.,  5.],\n",
      "        [ 8.,  9., 10., 11.],\n",
      "        [14., 15., 16., 17.],\n",
      "        [20., 21., 22., 23.]], dtype=torch.float64)\n",
      "pool1d_max output(kernek_size=3): \n",
      " tensor([[ 2.,  3.,  4.,  5.,  5.],\n",
      "        [ 8.,  9., 10., 11., 11.],\n",
      "        [14., 15., 16., 17., 17.],\n",
      "        [20., 21., 22., 23., 23.]])\n"
     ]
    }
   ],
   "source": [
    "print('MaxPool1d output(kernek_size=3): \\n', output)\n",
    "print('pool1d_max output(kernek_size=3): \\n', pool1d_max(x, kernel_size=3))"
   ]
  },
  {
   "cell_type": "code",
   "execution_count": 17,
   "id": "eadd6524",
   "metadata": {},
   "outputs": [
    {
     "name": "stdout",
     "output_type": "stream",
     "text": [
      "MaxPool1d output(stride=2): \n",
      " tensor([[ 2.,  4.],\n",
      "        [ 8., 10.],\n",
      "        [14., 16.],\n",
      "        [20., 22.]], dtype=torch.float64)\n",
      "pool1d_max output(stride=2): \n",
      " tensor([[ 2.,  4.,  5.],\n",
      "        [ 8., 10., 11.],\n",
      "        [14., 16., 17.],\n",
      "        [20., 22., 23.]])\n"
     ]
    }
   ],
   "source": [
    "print('MaxPool1d output(stride=2): \\n', output_with_stride)\n",
    "print('pool1d_max output(stride=2): \\n', pool1d_max(x, kernel_size=3, stride=2))"
   ]
  },
  {
   "cell_type": "code",
   "execution_count": 18,
   "id": "dce5a125",
   "metadata": {},
   "outputs": [
    {
     "name": "stdout",
     "output_type": "stream",
     "text": [
      "MaxPool1d output(padding=1): \n",
      " tensor([[ 1.,  2.,  3.,  4.,  5.,  5.],\n",
      "        [ 7.,  8.,  9., 10., 11., 11.],\n",
      "        [13., 14., 15., 16., 17., 17.],\n",
      "        [19., 20., 21., 22., 23., 23.]], dtype=torch.float64)\n",
      "pool1d_max output(padding=1): \n",
      " tensor([[ 1.,  2.,  3.,  4.,  5.,  5.,  5.],\n",
      "        [ 7.,  8.,  9., 10., 11., 11., 11.],\n",
      "        [13., 14., 15., 16., 17., 17., 17.],\n",
      "        [19., 20., 21., 22., 23., 23., 23.]])\n"
     ]
    }
   ],
   "source": [
    "print('MaxPool1d output(padding=1): \\n', output_with_padding)\n",
    "print('pool1d_max output(padding=1): \\n', pool1d_max(x, kernel_size=3, stride=1, padding=1))"
   ]
  },
  {
   "cell_type": "markdown",
   "id": "788bdd49",
   "metadata": {},
   "source": [
    "# MaxPool2d"
   ]
  },
  {
   "cell_type": "code",
   "execution_count": 19,
   "id": "8c8c039c",
   "metadata": {},
   "outputs": [],
   "source": [
    "# torch.nn.MaxPool2d(kernel_size, stride=None, padding=0, dilation=1, return_indices=False, ceil_mode=False)"
   ]
  },
  {
   "cell_type": "markdown",
   "id": "3ef38859",
   "metadata": {},
   "source": [
    "Applies a 2D max pooling over an input signal composed of several input planes.\n",
    "\n",
    "- Input: $ (N, C, H_{in}, W_{in}) $ or $ (C, H_{in}, W_{in}) $\n",
    "- Output: $ (N, C, H_{out}, W_{out}) $ or $ (C, H_{out}, W_{out}) $, where $H_{out}$ and $W_{out}$ depends on $H_{in}$, $W_{in}$, padding, dilation, kernel_size and stride."
   ]
  },
  {
   "cell_type": "code",
   "execution_count": 20,
   "id": "417fc044",
   "metadata": {},
   "outputs": [
    {
     "name": "stdout",
     "output_type": "stream",
     "text": [
      "input: \n",
      " tensor([[[ 0.,  1.,  2.,  3.,  4.,  5.],\n",
      "         [ 6.,  7.,  8.,  9., 10., 11.],\n",
      "         [12., 13., 14., 15., 16., 17.],\n",
      "         [18., 19., 20., 21., 22., 23.]],\n",
      "\n",
      "        [[24., 25., 26., 27., 28., 29.],\n",
      "         [30., 31., 32., 33., 34., 35.],\n",
      "         [36., 37., 38., 39., 40., 41.],\n",
      "         [42., 43., 44., 45., 46., 47.]],\n",
      "\n",
      "        [[48., 49., 50., 51., 52., 53.],\n",
      "         [54., 55., 56., 57., 58., 59.],\n",
      "         [60., 61., 62., 63., 64., 65.],\n",
      "         [66., 67., 68., 69., 70., 71.]]], dtype=torch.float64)\n"
     ]
    }
   ],
   "source": [
    "print('input: \\n', x_3d)"
   ]
  },
  {
   "cell_type": "code",
   "execution_count": 21,
   "id": "64bdf77b",
   "metadata": {},
   "outputs": [
    {
     "name": "stdout",
     "output_type": "stream",
     "text": [
      "tensor([[[14., 15., 16., 17.],\n",
      "         [20., 21., 22., 23.]],\n",
      "\n",
      "        [[38., 39., 40., 41.],\n",
      "         [44., 45., 46., 47.]],\n",
      "\n",
      "        [[62., 63., 64., 65.],\n",
      "         [68., 69., 70., 71.]]], dtype=torch.float64)\n"
     ]
    }
   ],
   "source": [
    "# kernel_size=3 (same as kernel_size=(3,3))\n",
    "max_pool_2d = nn.MaxPool2d(kernel_size=3, stride=1)\n",
    "output_2d_pool = max_pool_2d(x_3d)\n",
    "print(output_2d_pool) # [[0,1,2],[6,7,8],[12,13,14]] -> 14, [[1,2,3],[7,8,9],[13,14,15]] -> 15, ..."
   ]
  },
  {
   "cell_type": "code",
   "execution_count": 22,
   "id": "aa6cc37f",
   "metadata": {},
   "outputs": [
    {
     "name": "stdout",
     "output_type": "stream",
     "text": [
      "tensor([[[13., 14., 15., 16., 17.],\n",
      "         [19., 20., 21., 22., 23.]],\n",
      "\n",
      "        [[37., 38., 39., 40., 41.],\n",
      "         [43., 44., 45., 46., 47.]],\n",
      "\n",
      "        [[61., 62., 63., 64., 65.],\n",
      "         [67., 68., 69., 70., 71.]]], dtype=torch.float64)\n"
     ]
    }
   ],
   "source": [
    "# kernel_size=(3,2)\n",
    "max_pool_2d_with_size = nn.MaxPool2d(kernel_size=(3, 2), stride=1)\n",
    "output_2d_pool_with_size = max_pool_2d_with_size(x_3d)\n",
    "print(output_2d_pool_with_size) # [[0,1],[6,7],[12,13]] -> 13, [[1,2],[7,8],[13,14]] -> 14, ..."
   ]
  },
  {
   "cell_type": "code",
   "execution_count": 23,
   "id": "c1738660",
   "metadata": {},
   "outputs": [
    {
     "name": "stdout",
     "output_type": "stream",
     "text": [
      "tensor([[[14., 16.],\n",
      "         [20., 22.]],\n",
      "\n",
      "        [[38., 40.],\n",
      "         [44., 46.]],\n",
      "\n",
      "        [[62., 64.],\n",
      "         [68., 70.]]], dtype=torch.float64)\n"
     ]
    }
   ],
   "source": [
    "# stride=(2,1), which means take two steps to the bottom and one step to the left each time)\n",
    "max_pool_2d_with_stride = nn.MaxPool2d(kernel_size=3, stride=(1,2))\n",
    "output_2d_pool_with_stride = max_pool_2d_with_stride(x_3d)\n",
    "print(output_2d_pool_with_stride) # [[0,1,2],[6,7,8],[12,13,14]] -> 14, [[2,3,4],[8,9,10],[14,15,16]] -> 16, ..."
   ]
  },
  {
   "cell_type": "code",
   "execution_count": 24,
   "id": "c431bb76",
   "metadata": {},
   "outputs": [
    {
     "name": "stdout",
     "output_type": "stream",
     "text": [
      "tensor([[[ 8.,  9., 10., 11.],\n",
      "         [14., 15., 16., 17.],\n",
      "         [20., 21., 22., 23.],\n",
      "         [20., 21., 22., 23.]],\n",
      "\n",
      "        [[32., 33., 34., 35.],\n",
      "         [38., 39., 40., 41.],\n",
      "         [44., 45., 46., 47.],\n",
      "         [44., 45., 46., 47.]],\n",
      "\n",
      "        [[56., 57., 58., 59.],\n",
      "         [62., 63., 64., 65.],\n",
      "         [68., 69., 70., 71.],\n",
      "         [68., 69., 70., 71.]]], dtype=torch.float64)\n"
     ]
    }
   ],
   "source": [
    "# padding=(1,0), which means add one column at left and right edge, and add zero column at top and bottom edge\n",
    "max_pool_2d_with_padding = nn.MaxPool2d(kernel_size=3, stride=1, padding=(1,0))\n",
    "output_2d_pool_with_padding = max_pool_2d_with_padding(x_3d)\n",
    "print(output_2d_pool_with_padding) # [[0,0,0],[0,0,1],[0,6,7]] -> 7, [[0,0,0],[0,1,2],[6,7,8]] -> 8, ..."
   ]
  },
  {
   "cell_type": "code",
   "execution_count": 25,
   "id": "57bc15d8",
   "metadata": {},
   "outputs": [
    {
     "name": "stdout",
     "output_type": "stream",
     "text": [
      "tensor([[[16., 17.],\n",
      "         [22., 23.]],\n",
      "\n",
      "        [[40., 41.],\n",
      "         [46., 47.]],\n",
      "\n",
      "        [[64., 65.],\n",
      "         [70., 71.]]], dtype=torch.float64)\n"
     ]
    }
   ],
   "source": [
    "# dilation=(1,2), which means one step between horizontal elements and two steps between vertical elements\n",
    "max_pool_2d_with_dilation = nn.MaxPool2d(kernel_size=3, stride=1, dilation=(1,2))\n",
    "output_2d_pool_with_dilation = max_pool_2d_with_dilation(x_3d)\n",
    "print(output_2d_pool_with_dilation) # [[0,2,4],[6,8,10],[12,14,16]] -> 16, [[1,3,5],[7,9,11],[13,15,17]] -> 17, ..."
   ]
  },
  {
   "cell_type": "code",
   "execution_count": 26,
   "id": "02f9a95d",
   "metadata": {},
   "outputs": [
    {
     "name": "stdout",
     "output_type": "stream",
     "text": [
      "stride=(1,2) & cei_mode=False: \n",
      " tensor([[[14., 16.],\n",
      "         [20., 22.]],\n",
      "\n",
      "        [[38., 40.],\n",
      "         [44., 46.]],\n",
      "\n",
      "        [[62., 64.],\n",
      "         [68., 70.]]], dtype=torch.float64)\n",
      "stride=(1,2) & cei_mode=True: \n",
      " tensor([[[14., 16., 17.],\n",
      "         [20., 22., 23.]],\n",
      "\n",
      "        [[38., 40., 41.],\n",
      "         [44., 46., 47.]],\n",
      "\n",
      "        [[62., 64., 65.],\n",
      "         [68., 70., 71.]]], dtype=torch.float64)\n"
     ]
    },
    {
     "name": "stderr",
     "output_type": "stream",
     "text": [
      "D:\\Programs\\Anaconda\\envs\\dl_env\\lib\\site-packages\\torch\\nn\\functional.py:780: UserWarning: Note that order of the arguments: ceil_mode and return_indices will changeto match the args list in nn.MaxPool2d in a future release.\n",
      "  warnings.warn(\"Note that order of the arguments: ceil_mode and return_indices will change\"\n"
     ]
    }
   ],
   "source": [
    "# ceil_mode=True, which means use ceil instead of floor to compute the output shape\n",
    "max_pool_2d_with_ceil_mode = nn.MaxPool2d(kernel_size=3, stride=(1,2), ceil_mode=True)\n",
    "output_2d_pool_with_ceil_mode = max_pool_2d_with_ceil_mode(x_3d)\n",
    "print('stride=(1,2) & cei_mode=False: \\n', output_2d_pool_with_stride) # [[0,1,2],[6,7,8],[12,13,14]] -> 14, [[2,3,4],[8,9,10],[14,15,16]] -> 16, ...\n",
    "print('stride=(1,2) & cei_mode=True: \\n', output_2d_pool_with_ceil_mode) # [[0,1,2],[6,7,8],[12,13,14]] -> 14, [[2,3,4],[8,9,10],[14,15,16]] -> 16, [[4,5],[10,11],[16,17]] -> 17, ..."
   ]
  },
  {
   "cell_type": "code",
   "execution_count": null,
   "id": "eea96fb6",
   "metadata": {},
   "outputs": [],
   "source": []
  }
 ],
 "metadata": {
  "kernelspec": {
   "display_name": "dl_env",
   "language": "python",
   "name": "dl_env"
  },
  "language_info": {
   "codemirror_mode": {
    "name": "ipython",
    "version": 3
   },
   "file_extension": ".py",
   "mimetype": "text/x-python",
   "name": "python",
   "nbconvert_exporter": "python",
   "pygments_lexer": "ipython3",
   "version": "3.9.7"
  },
  "toc": {
   "base_numbering": 1,
   "nav_menu": {},
   "number_sections": true,
   "sideBar": true,
   "skip_h1_title": false,
   "title_cell": "Table of Contents",
   "title_sidebar": "Contents",
   "toc_cell": false,
   "toc_position": {
    "height": "calc(100% - 180px)",
    "left": "10px",
    "top": "150px",
    "width": "409.6px"
   },
   "toc_section_display": true,
   "toc_window_display": false
  }
 },
 "nbformat": 4,
 "nbformat_minor": 5
}
