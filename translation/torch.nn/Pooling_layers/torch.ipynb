{
 "cells": [
  {
   "cell_type": "code",
   "execution_count": 1,
   "id": "35bfbca5",
   "metadata": {},
   "outputs": [],
   "source": [
    "import torch\n",
    "import torch.nn as nn"
   ]
  },
  {
   "cell_type": "markdown",
   "id": "74c41fb7",
   "metadata": {},
   "source": [
    "# MaxPool1d"
   ]
  },
  {
   "cell_type": "code",
   "execution_count": 2,
   "id": "630dd1b5",
   "metadata": {},
   "outputs": [],
   "source": [
    "# torch.nn.MaxPool1d(kernel_size, stride=None, padding=0, dilation=1, return_indices=False, ceil_mode=False)"
   ]
  },
  {
   "cell_type": "markdown",
   "id": "3557e4ef",
   "metadata": {},
   "source": [
    "Applies a 1D max pooling over an input signal composed of several input planes.\n",
    "\n",
    "- Input: $(N, C, L_{in})$ or $(C, L_{in})$, where N is the batch size, C is the number of features or channels, and L is the sequence length.\n",
    "\n",
    "- Output: $(N, C, L_{out})$ or $(C, L_{out})$, where $L_{out}$ depends on $L_{in}$, padding, dilation, kernel_size and stride."
   ]
  },
  {
   "cell_type": "markdown",
   "id": "588e6b2b",
   "metadata": {},
   "source": [
    "## 2D input data"
   ]
  },
  {
   "cell_type": "code",
   "execution_count": 3,
   "id": "553b3594",
   "metadata": {},
   "outputs": [
    {
     "name": "stdout",
     "output_type": "stream",
     "text": [
      "tensor([[ 0.,  1.,  2.,  3.,  4.,  5.],\n",
      "        [ 6.,  7.,  8.,  9., 10., 11.],\n",
      "        [12., 13., 14., 15., 16., 17.],\n",
      "        [18., 19., 20., 21., 22., 23.]], dtype=torch.float64)\n"
     ]
    }
   ],
   "source": [
    "number_feature = 4\n",
    "sequence_length = 6\n",
    "\n",
    "x  = torch.arange(number_feature * sequence_length, dtype=torch.double).reshape(number_feature, sequence_length)\n",
    "print(x)"
   ]
  },
  {
   "cell_type": "code",
   "execution_count": 4,
   "id": "d60c238d",
   "metadata": {},
   "outputs": [
    {
     "name": "stdout",
     "output_type": "stream",
     "text": [
      "tensor([[ 2.,  3.,  4.,  5.],\n",
      "        [ 8.,  9., 10., 11.],\n",
      "        [14., 15., 16., 17.],\n",
      "        [20., 21., 22., 23.]], dtype=torch.float64)\n"
     ]
    }
   ],
   "source": [
    "# kernel_size=3, stride=1, padding=0, dilation=1\n",
    "max_pool_1d = nn.MaxPool1d(kernel_size=3, stride=1, padding=0)\n",
    "output = max_pool_1d(x)\n",
    "print(output)  # for feature 0: [0,1,2] -> 2, [1,2,3] -> 3, [2,3,4] -> 4, [3,4,5] -> 5"
   ]
  },
  {
   "cell_type": "code",
   "execution_count": 5,
   "id": "adb08d9a",
   "metadata": {},
   "outputs": [
    {
     "name": "stdout",
     "output_type": "stream",
     "text": [
      "tensor([[ 2.,  4.],\n",
      "        [ 8., 10.],\n",
      "        [14., 16.],\n",
      "        [20., 22.]], dtype=torch.float64)\n"
     ]
    }
   ],
   "source": [
    "# kernel_size=3, stride=2, padding=0, dilation=1\n",
    "max_pool_1d_with_stride = nn.MaxPool1d(kernel_size=3, stride=2, padding=0)\n",
    "output_with_stride = max_pool_1d_with_stride(x)\n",
    "print(output_with_stride)  # for feature 0: [0,1,2] -> 2, [2,3,4] -> 4"
   ]
  },
  {
   "cell_type": "code",
   "execution_count": 6,
   "id": "1fe74364",
   "metadata": {},
   "outputs": [
    {
     "name": "stdout",
     "output_type": "stream",
     "text": [
      "tensor([[ 1.,  2.,  3.,  4.,  5.,  5.],\n",
      "        [ 7.,  8.,  9., 10., 11., 11.],\n",
      "        [13., 14., 15., 16., 17., 17.],\n",
      "        [19., 20., 21., 22., 23., 23.]], dtype=torch.float64)\n"
     ]
    }
   ],
   "source": [
    "# kernel_size=3, stride=1, padding=1, dilation=1\n",
    "max_pool_1d_with_padding = nn.MaxPool1d(kernel_size=3, stride=1, padding=1)\n",
    "output_with_padding = max_pool_1d_with_padding(x)\n",
    "print(output_with_padding)  # for feature 0: [0,0,1] -> 1, [0,1,2] -> 2, [1,2,3] -> 3, [2,3,4] -> 4, [3,4,5] -> 5, [4,5,0] -> 5"
   ]
  },
  {
   "cell_type": "code",
   "execution_count": 7,
   "id": "bcb7894b",
   "metadata": {},
   "outputs": [
    {
     "name": "stdout",
     "output_type": "stream",
     "text": [
      "tensor([[ 4.,  5.],\n",
      "        [10., 11.],\n",
      "        [16., 17.],\n",
      "        [22., 23.]], dtype=torch.float64)\n"
     ]
    }
   ],
   "source": [
    "# kernel_size=3, stride=1, padding=0, dilation=2\n",
    "max_pool_1d_with_dilation = nn.MaxPool1d(kernel_size=3, stride=1, padding=0, dilation=2)\n",
    "output_with_dilation = max_pool_1d_with_dilation(x)\n",
    "print(output_with_dilation)  # for feature 0: [0,2,4] -> 4, [1,3,5] -> 5"
   ]
  },
  {
   "cell_type": "code",
   "execution_count": 8,
   "id": "d26c5fae",
   "metadata": {},
   "outputs": [
    {
     "name": "stdout",
     "output_type": "stream",
     "text": [
      "tensor([[ 2.,  4.,  5.],\n",
      "        [ 8., 10., 11.],\n",
      "        [14., 16., 17.],\n",
      "        [20., 22., 23.]], dtype=torch.float64)\n"
     ]
    },
    {
     "name": "stderr",
     "output_type": "stream",
     "text": [
      "D:\\Programs\\Anaconda3\\envs\\dl_env\\lib\\site-packages\\torch\\nn\\functional.py:682: UserWarning: Note that order of the arguments: ceil_mode and return_indices will changeto match the args list in nn.MaxPool1d in a future release.\n",
      "  warnings.warn(\"Note that order of the arguments: ceil_mode and return_indices will change\"\n"
     ]
    }
   ],
   "source": [
    "# kernel_size=3, stride=2, padding=0, dilation=1, ceil_mode=True\n",
    "max_pool_1d_ceil_mode = nn.MaxPool1d(kernel_size=3, stride=2, padding=0, dilation=1, ceil_mode=True)\n",
    "output_ceil_mode = max_pool_1d_ceil_mode(x)\n",
    "print(output_ceil_mode)  # for feature 0: [0,1,2] -> 2, [2,3,4] -> 4, [4,5] -> 5"
   ]
  },
  {
   "cell_type": "markdown",
   "id": "44fedf5e",
   "metadata": {},
   "source": [
    "## 3D input data"
   ]
  },
  {
   "cell_type": "code",
   "execution_count": null,
   "id": "609b86b0",
   "metadata": {},
   "outputs": [],
   "source": []
  }
 ],
 "metadata": {
  "kernelspec": {
   "display_name": "dl_env",
   "language": "python",
   "name": "dl_env"
  },
  "language_info": {
   "codemirror_mode": {
    "name": "ipython",
    "version": 3
   },
   "file_extension": ".py",
   "mimetype": "text/x-python",
   "name": "python",
   "nbconvert_exporter": "python",
   "pygments_lexer": "ipython3",
   "version": "3.9.7"
  },
  "toc": {
   "base_numbering": 1,
   "nav_menu": {},
   "number_sections": true,
   "sideBar": true,
   "skip_h1_title": false,
   "title_cell": "Table of Contents",
   "title_sidebar": "Contents",
   "toc_cell": false,
   "toc_position": {},
   "toc_section_display": true,
   "toc_window_display": false
  }
 },
 "nbformat": 4,
 "nbformat_minor": 5
}
