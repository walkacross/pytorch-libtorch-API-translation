{
 "cells": [
  {
   "cell_type": "code",
   "execution_count": 1,
   "metadata": {},
   "outputs": [],
   "source": [
    "import torch\n",
    "import torch.nn as nn"
   ]
  },
  {
   "cell_type": "markdown",
   "metadata": {},
   "source": [
    "# MaxPool1d"
   ]
  },
  {
   "cell_type": "code",
   "execution_count": 2,
   "metadata": {},
   "outputs": [],
   "source": [
    "# torch.nn.MaxPool1d(kernel_size, stride=None, padding=0, dilation=1, return_indices=False, ceil_mode=False)"
   ]
  },
  {
   "cell_type": "markdown",
   "metadata": {},
   "source": [
    "Applies a 1D max pooling over an input signal composed of several input planes.\n",
    "\n",
    "- Input: $(N, C, L_{in})$ or $(C, L_{in})$, where N is the batch size, C is the number of features or channels, and L is the sequence length.\n",
    "\n",
    "- Output: $(N, C, L_{out})$ or $(C, L_{out})$, where $L_{out}$ depends on $L_{in}$, padding, dilation, kernel_size and stride."
   ]
  },
  {
   "cell_type": "markdown",
   "metadata": {},
   "source": [
    "## 2D input data"
   ]
  },
  {
   "cell_type": "code",
   "execution_count": 3,
   "metadata": {},
   "outputs": [
    {
     "name": "stdout",
     "output_type": "stream",
     "text": [
      "tensor([[ 0.,  1.,  2.,  3.,  4.,  5.],\n",
      "        [ 6.,  7.,  8.,  9., 10., 11.],\n",
      "        [12., 13., 14., 15., 16., 17.],\n",
      "        [18., 19., 20., 21., 22., 23.]], dtype=torch.float64)\n"
     ]
    }
   ],
   "source": [
    "number_feature = 4\n",
    "sequence_length = 6\n",
    "\n",
    "x  = torch.arange(number_feature * sequence_length, dtype=torch.double).reshape(number_feature, sequence_length)\n",
    "print(x)"
   ]
  },
  {
   "cell_type": "code",
   "execution_count": 4,
   "metadata": {},
   "outputs": [
    {
     "name": "stdout",
     "output_type": "stream",
     "text": [
      "tensor([[ 2.,  3.,  4.,  5.],\n",
      "        [ 8.,  9., 10., 11.],\n",
      "        [14., 15., 16., 17.],\n",
      "        [20., 21., 22., 23.]], dtype=torch.float64)\n"
     ]
    }
   ],
   "source": [
    "# kernel_size=3, stride=1, padding=0, dilation=1\n",
    "max_pool_1d = nn.MaxPool1d(kernel_size=3, stride=1, padding=0)\n",
    "output = max_pool_1d(x)\n",
    "print(output)  # for feature 0: [0,1,2] -> 2, [1,2,3] -> 3, [2,3,4] -> 4, [3,4,5] -> 5"
   ]
  },
  {
   "cell_type": "code",
   "execution_count": 5,
   "metadata": {},
   "outputs": [
    {
     "name": "stdout",
     "output_type": "stream",
     "text": [
      "tensor([[ 2.,  4.],\n",
      "        [ 8., 10.],\n",
      "        [14., 16.],\n",
      "        [20., 22.]], dtype=torch.float64)\n"
     ]
    }
   ],
   "source": [
    "# kernel_size=3, stride=2, padding=0, dilation=1\n",
    "max_pool_1d_with_stride = nn.MaxPool1d(kernel_size=3, stride=2, padding=0)\n",
    "output_with_stride = max_pool_1d_with_stride(x)\n",
    "print(output_with_stride)  # for feature 0: [0,1,2] -> 2, [2,3,4] -> 4"
   ]
  },
  {
   "cell_type": "code",
   "execution_count": 6,
   "metadata": {},
   "outputs": [
    {
     "name": "stdout",
     "output_type": "stream",
     "text": [
      "tensor([[ 1.,  2.,  3.,  4.,  5.,  5.],\n",
      "        [ 7.,  8.,  9., 10., 11., 11.],\n",
      "        [13., 14., 15., 16., 17., 17.],\n",
      "        [19., 20., 21., 22., 23., 23.]], dtype=torch.float64)\n"
     ]
    }
   ],
   "source": [
    "# kernel_size=3, stride=1, padding=1, dilation=1\n",
    "max_pool_1d_with_padding = nn.MaxPool1d(kernel_size=3, stride=1, padding=1)\n",
    "output_with_padding = max_pool_1d_with_padding(x)\n",
    "print(output_with_padding)  # for feature 0: [0,0,1] -> 1, [0,1,2] -> 2, [1,2,3] -> 3, [2,3,4] -> 4, [3,4,5] -> 5, [4,5,0] -> 5"
   ]
  },
  {
   "cell_type": "code",
   "execution_count": 7,
   "metadata": {},
   "outputs": [
    {
     "name": "stdout",
     "output_type": "stream",
     "text": [
      "tensor([[ 4.,  5.],\n",
      "        [10., 11.],\n",
      "        [16., 17.],\n",
      "        [22., 23.]], dtype=torch.float64)\n"
     ]
    }
   ],
   "source": [
    "# kernel_size=3, stride=1, padding=0, dilation=2\n",
    "max_pool_1d_with_dilation = nn.MaxPool1d(kernel_size=3, stride=1, padding=0, dilation=2)\n",
    "output_with_dilation = max_pool_1d_with_dilation(x)\n",
    "print(output_with_dilation)  # for feature 0: [0,2,4] -> 4, [1,3,5] -> 5"
   ]
  },
  {
   "cell_type": "code",
   "execution_count": 8,
   "metadata": {},
   "outputs": [
    {
     "name": "stdout",
     "output_type": "stream",
     "text": [
      "tensor([[ 2.,  4.,  5.],\n",
      "        [ 8., 10., 11.],\n",
      "        [14., 16., 17.],\n",
      "        [20., 22., 23.]], dtype=torch.float64)\n"
     ]
    },
    {
     "name": "stderr",
     "output_type": "stream",
     "text": [
      "D:\\Programs\\Anaconda\\envs\\dl_env\\lib\\site-packages\\torch\\nn\\functional.py:682: UserWarning: Note that order of the arguments: ceil_mode and return_indices will changeto match the args list in nn.MaxPool1d in a future release.\n",
      "  warnings.warn(\"Note that order of the arguments: ceil_mode and return_indices will change\"\n"
     ]
    }
   ],
   "source": [
    "# kernel_size=3, stride=2, padding=0, dilation=1, ceil_mode=True\n",
    "max_pool_1d_ceil_mode = nn.MaxPool1d(kernel_size=3, stride=2, padding=0, dilation=1, ceil_mode=True)\n",
    "output_ceil_mode = max_pool_1d_ceil_mode(x)\n",
    "print(output_ceil_mode)  # for feature 0: [0,1,2] -> 2, [2,3,4] -> 4, [4,5] -> 5"
   ]
  },
  {
   "cell_type": "markdown",
   "metadata": {},
   "source": [
    "## 3D input data"
   ]
  },
  {
   "cell_type": "markdown",
   "metadata": {},
   "source": [
    "use nn.MaxPool1d on each 2D tensor."
   ]
  },
  {
   "cell_type": "code",
   "execution_count": 9,
   "metadata": {},
   "outputs": [
    {
     "name": "stdout",
     "output_type": "stream",
     "text": [
      "tensor([[[ 0.,  1.,  2.,  3.,  4.,  5.],\n",
      "         [ 6.,  7.,  8.,  9., 10., 11.],\n",
      "         [12., 13., 14., 15., 16., 17.],\n",
      "         [18., 19., 20., 21., 22., 23.]],\n",
      "\n",
      "        [[24., 25., 26., 27., 28., 29.],\n",
      "         [30., 31., 32., 33., 34., 35.],\n",
      "         [36., 37., 38., 39., 40., 41.],\n",
      "         [42., 43., 44., 45., 46., 47.]],\n",
      "\n",
      "        [[48., 49., 50., 51., 52., 53.],\n",
      "         [54., 55., 56., 57., 58., 59.],\n",
      "         [60., 61., 62., 63., 64., 65.],\n",
      "         [66., 67., 68., 69., 70., 71.]]], dtype=torch.float64)\n"
     ]
    }
   ],
   "source": [
    "sample_size = 3\n",
    "\n",
    "x_3d  = torch.arange(sample_size * number_feature * sequence_length, \n",
    "                  dtype=torch.double).reshape(sample_size, number_feature, sequence_length)\n",
    "print(x_3d)"
   ]
  },
  {
   "cell_type": "code",
   "execution_count": 10,
   "metadata": {},
   "outputs": [
    {
     "name": "stdout",
     "output_type": "stream",
     "text": [
      "tensor([[[ 2.,  3.,  4.,  5.],\n",
      "         [ 8.,  9., 10., 11.],\n",
      "         [14., 15., 16., 17.],\n",
      "         [20., 21., 22., 23.]],\n",
      "\n",
      "        [[26., 27., 28., 29.],\n",
      "         [32., 33., 34., 35.],\n",
      "         [38., 39., 40., 41.],\n",
      "         [44., 45., 46., 47.]],\n",
      "\n",
      "        [[50., 51., 52., 53.],\n",
      "         [56., 57., 58., 59.],\n",
      "         [62., 63., 64., 65.],\n",
      "         [68., 69., 70., 71.]]], dtype=torch.float64)\n"
     ]
    }
   ],
   "source": [
    "# kernel_size=3, stride=1, padding=0, dilation=1\n",
    "output_3d = max_pool_1d(x_3d)\n",
    "print(output_3d)"
   ]
  },
  {
   "cell_type": "code",
   "execution_count": 11,
   "metadata": {},
   "outputs": [
    {
     "name": "stdout",
     "output_type": "stream",
     "text": [
      "tensor([[[ 2.,  4.],\n",
      "         [ 8., 10.],\n",
      "         [14., 16.],\n",
      "         [20., 22.]],\n",
      "\n",
      "        [[26., 28.],\n",
      "         [32., 34.],\n",
      "         [38., 40.],\n",
      "         [44., 46.]],\n",
      "\n",
      "        [[50., 52.],\n",
      "         [56., 58.],\n",
      "         [62., 64.],\n",
      "         [68., 70.]]], dtype=torch.float64)\n"
     ]
    }
   ],
   "source": [
    "# kernel_size=3, stride=2, padding=0, dilation=1\n",
    "output_with_stride_3d = max_pool_1d_with_stride(x_3d)\n",
    "print(output_with_stride_3d)"
   ]
  },
  {
   "cell_type": "code",
   "execution_count": 12,
   "metadata": {},
   "outputs": [
    {
     "name": "stdout",
     "output_type": "stream",
     "text": [
      "tensor([[[ 1.,  2.,  3.,  4.,  5.,  5.],\n",
      "         [ 7.,  8.,  9., 10., 11., 11.],\n",
      "         [13., 14., 15., 16., 17., 17.],\n",
      "         [19., 20., 21., 22., 23., 23.]],\n",
      "\n",
      "        [[25., 26., 27., 28., 29., 29.],\n",
      "         [31., 32., 33., 34., 35., 35.],\n",
      "         [37., 38., 39., 40., 41., 41.],\n",
      "         [43., 44., 45., 46., 47., 47.]],\n",
      "\n",
      "        [[49., 50., 51., 52., 53., 53.],\n",
      "         [55., 56., 57., 58., 59., 59.],\n",
      "         [61., 62., 63., 64., 65., 65.],\n",
      "         [67., 68., 69., 70., 71., 71.]]], dtype=torch.float64)\n"
     ]
    }
   ],
   "source": [
    "# kernel_size=3, stride=1, padding=1, dilation=1\n",
    "output_with_padding_3d = max_pool_1d_with_padding(x_3d)\n",
    "print(output_with_padding_3d)"
   ]
  },
  {
   "cell_type": "code",
   "execution_count": 13,
   "metadata": {},
   "outputs": [
    {
     "name": "stdout",
     "output_type": "stream",
     "text": [
      "tensor([[[ 4.,  5.],\n",
      "         [10., 11.],\n",
      "         [16., 17.],\n",
      "         [22., 23.]],\n",
      "\n",
      "        [[28., 29.],\n",
      "         [34., 35.],\n",
      "         [40., 41.],\n",
      "         [46., 47.]],\n",
      "\n",
      "        [[52., 53.],\n",
      "         [58., 59.],\n",
      "         [64., 65.],\n",
      "         [70., 71.]]], dtype=torch.float64)\n"
     ]
    }
   ],
   "source": [
    "# kernel_size=3, stride=1, padding=0, dilation=2\n",
    "output_with_dilation_3d = max_pool_1d_with_dilation(x_3d)\n",
    "print(output_with_dilation_3d)"
   ]
  },
  {
   "cell_type": "code",
   "execution_count": 14,
   "metadata": {},
   "outputs": [
    {
     "name": "stdout",
     "output_type": "stream",
     "text": [
      "tensor([[[ 2.,  4.,  5.],\n",
      "         [ 8., 10., 11.],\n",
      "         [14., 16., 17.],\n",
      "         [20., 22., 23.]],\n",
      "\n",
      "        [[26., 28., 29.],\n",
      "         [32., 34., 35.],\n",
      "         [38., 40., 41.],\n",
      "         [44., 46., 47.]],\n",
      "\n",
      "        [[50., 52., 53.],\n",
      "         [56., 58., 59.],\n",
      "         [62., 64., 65.],\n",
      "         [68., 70., 71.]]], dtype=torch.float64)\n"
     ]
    }
   ],
   "source": [
    "# kernel_size=3, stride=2, padding=0, dilation=1, ceil_mode=True\n",
    "output_ceil_mode_3d = max_pool_1d_ceil_mode(x_3d)\n",
    "print(output_ceil_mode_3d)"
   ]
  },
  {
   "cell_type": "code",
   "execution_count": null,
   "metadata": {},
   "outputs": [],
   "source": []
  }
 ],
 "metadata": {
  "kernelspec": {
   "display_name": "dl_env",
   "language": "python",
   "name": "dl_env"
  },
  "language_info": {
   "codemirror_mode": {
    "name": "ipython",
    "version": 3
   },
   "file_extension": ".py",
   "mimetype": "text/x-python",
   "name": "python",
   "nbconvert_exporter": "python",
   "pygments_lexer": "ipython3",
   "version": "3.8.13"
  },
  "toc": {
   "base_numbering": 1,
   "nav_menu": {},
   "number_sections": true,
   "sideBar": true,
   "skip_h1_title": false,
   "title_cell": "Table of Contents",
   "title_sidebar": "Contents",
   "toc_cell": false,
   "toc_position": {},
   "toc_section_display": true,
   "toc_window_display": true
  }
 },
 "nbformat": 4,
 "nbformat_minor": 5
}
