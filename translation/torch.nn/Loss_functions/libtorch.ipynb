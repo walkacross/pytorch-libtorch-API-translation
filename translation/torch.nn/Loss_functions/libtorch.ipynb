{
 "cells": [
  {
   "cell_type": "code",
   "execution_count": 1,
   "id": "779966ce",
   "metadata": {},
   "outputs": [],
   "source": [
    "#pragma cling add_include_path(\"../../libtorch/include\")\n",
    "#pragma cling add_include_path(\"../../libtorch/include/torch/csrc/api/include\")\n",
    "#pragma cling add_library_path(\"../../libtorch/lib\")\n",
    "#pragma cling load(\"libtorch\")"
   ]
  },
  {
   "cell_type": "code",
   "execution_count": 2,
   "id": "bec131e4",
   "metadata": {},
   "outputs": [],
   "source": [
    "#include <iostream>\n",
    "#include <torch/torch.h>\n",
    "namespace nn = torch::nn;\n",
    "namespace F = torch::nn::functional;"
   ]
  },
  {
   "cell_type": "markdown",
   "id": "eff75f1d",
   "metadata": {},
   "source": [
    "https://github.com/pytorch/pytorch/blob/master/torch/csrc/api/include/torch/nn/modules/loss.h"
   ]
  },
  {
   "cell_type": "markdown",
   "id": "422673f0",
   "metadata": {},
   "source": [
    "# MSE Loss (mean squared error)\n",
    "\n",
    "Creates a criterion that measures the mean squared error (squared L2 norm) between each element in the input x and target y."
   ]
  },
  {
   "cell_type": "code",
   "execution_count": 3,
   "id": "d632034c",
   "metadata": {},
   "outputs": [],
   "source": [
    "int sample_size = 3;\n",
    "int number_features = 1;\n",
    "\n",
    "torch::Tensor input = torch::arange(sample_size*number_features).reshape({sample_size,number_features}) * 1.0;"
   ]
  },
  {
   "cell_type": "code",
   "execution_count": 4,
   "id": "28106894",
   "metadata": {},
   "outputs": [
    {
     "name": "stdout",
     "output_type": "stream",
     "text": [
      " 0\n",
      " 1\n",
      " 2\n",
      "[ CPUFloatType{3,1} ]\n"
     ]
    }
   ],
   "source": [
    "std::cout << input << std::endl;"
   ]
  },
  {
   "cell_type": "code",
   "execution_count": 5,
   "id": "46fd7704",
   "metadata": {},
   "outputs": [],
   "source": [
    "torch::Tensor target = torch::arange(2, sample_size*number_features+2).reshape({sample_size, number_features}) * 1.0;"
   ]
  },
  {
   "cell_type": "code",
   "execution_count": 6,
   "id": "5e238432",
   "metadata": {},
   "outputs": [
    {
     "name": "stdout",
     "output_type": "stream",
     "text": [
      " 2\n",
      " 3\n",
      " 4\n",
      "[ CPUFloatType{3,1} ]\n"
     ]
    }
   ],
   "source": [
    "std::cout << target << std::endl;"
   ]
  },
  {
   "cell_type": "code",
   "execution_count": 7,
   "id": "281e2fd1",
   "metadata": {},
   "outputs": [],
   "source": [
    "auto options = nn::MSELossOptions(torch::kMean);"
   ]
  },
  {
   "cell_type": "code",
   "execution_count": 8,
   "id": "72c65ad2",
   "metadata": {},
   "outputs": [],
   "source": [
    "nn::MSELoss mes_loss(options);"
   ]
  },
  {
   "cell_type": "code",
   "execution_count": 9,
   "id": "f16f897d",
   "metadata": {},
   "outputs": [],
   "source": [
    "torch::Tensor output = mes_loss -> forward(input, target);"
   ]
  },
  {
   "cell_type": "code",
   "execution_count": 10,
   "id": "1d1e6e5c",
   "metadata": {},
   "outputs": [
    {
     "name": "stdout",
     "output_type": "stream",
     "text": [
      "4\n",
      "[ CPUFloatType{} ]\n"
     ]
    }
   ],
   "source": [
    "std::cout << output << std::endl;"
   ]
  },
  {
   "cell_type": "markdown",
   "id": "927e872d",
   "metadata": {},
   "source": [
    "## understand mse loss"
   ]
  },
  {
   "cell_type": "code",
   "execution_count": 11,
   "id": "1a8fa374",
   "metadata": {},
   "outputs": [],
   "source": [
    "torch::Tensor custom_output = (target - input).square().mean();"
   ]
  },
  {
   "cell_type": "code",
   "execution_count": 12,
   "id": "5e8c54a3",
   "metadata": {},
   "outputs": [
    {
     "name": "stdout",
     "output_type": "stream",
     "text": [
      "4\n",
      "[ CPUFloatType{} ]\n"
     ]
    }
   ],
   "source": [
    "std::cout << custom_output << std::endl;"
   ]
  },
  {
   "cell_type": "markdown",
   "id": "37373da3",
   "metadata": {},
   "source": [
    "# L1 Loss\n",
    "Creates a criterion that measures the mean absolute error (MAE) between each element in the input x and target y."
   ]
  },
  {
   "cell_type": "code",
   "execution_count": 13,
   "id": "f3a3f04f",
   "metadata": {},
   "outputs": [],
   "source": [
    "auto l1_loss_options = nn::L1LossOptions(torch::kMean);"
   ]
  },
  {
   "cell_type": "code",
   "execution_count": 14,
   "id": "2b505be1",
   "metadata": {},
   "outputs": [],
   "source": [
    "nn::L1Loss l1_loss= nn::L1Loss(l1_loss_options);"
   ]
  },
  {
   "cell_type": "code",
   "execution_count": 15,
   "id": "8ce97e1d",
   "metadata": {},
   "outputs": [],
   "source": [
    "output = l1_loss -> forward(input, target);"
   ]
  },
  {
   "cell_type": "code",
   "execution_count": 16,
   "id": "4b389aa7",
   "metadata": {},
   "outputs": [
    {
     "name": "stdout",
     "output_type": "stream",
     "text": [
      "2\n",
      "[ CPUFloatType{} ]\n"
     ]
    }
   ],
   "source": [
    "std::cout << output << std::endl;"
   ]
  },
  {
   "cell_type": "markdown",
   "id": "ab709ddf",
   "metadata": {},
   "source": [
    "## understand l1 loss"
   ]
  },
  {
   "cell_type": "code",
   "execution_count": 17,
   "id": "961d53be",
   "metadata": {},
   "outputs": [],
   "source": [
    "custom_output = (target - input).abs().mean();"
   ]
  },
  {
   "cell_type": "code",
   "execution_count": 18,
   "id": "d788d86a",
   "metadata": {},
   "outputs": [
    {
     "name": "stdout",
     "output_type": "stream",
     "text": [
      "2\n",
      "[ CPUFloatType{} ]\n"
     ]
    }
   ],
   "source": [
    "std::cout << custom_output << std::endl;"
   ]
  },
  {
   "cell_type": "markdown",
   "id": "6ca9554e",
   "metadata": {},
   "source": [
    "# NLLLoss\n",
    "The negative log likelihood loss. It is useful to train a classification problem with C classes.\n",
    "\n",
    "Input: (N, C), where C = number of classes\n",
    "\n",
    "Target: (N)\n",
    "\n",
    "Output: If reduction is 'none', shape (N) Otherwise, scalar."
   ]
  },
  {
   "cell_type": "code",
   "execution_count": 19,
   "id": "8c6ad360",
   "metadata": {},
   "outputs": [],
   "source": [
    "int sample_size = 3;\n",
    "int output_size = 4;\n",
    "\n",
    "torch::Tensor input = torch::arange(sample_size*output_size).reshape({sample_size, output_size}) * 1.0;"
   ]
  },
  {
   "cell_type": "code",
   "execution_count": 20,
   "id": "bb3afbc6",
   "metadata": {},
   "outputs": [
    {
     "name": "stdout",
     "output_type": "stream",
     "text": [
      "  0   1   2   3\n",
      "  4   5   6   7\n",
      "  8   9  10  11\n",
      "[ CPUFloatType{3,4} ]\n"
     ]
    }
   ],
   "source": [
    "std::cout << input << std::endl;"
   ]
  },
  {
   "cell_type": "code",
   "execution_count": 21,
   "id": "0a73c2b5",
   "metadata": {},
   "outputs": [],
   "source": [
    "torch::Tensor target = torch::tensor({1,0,3});"
   ]
  },
  {
   "cell_type": "code",
   "execution_count": 22,
   "id": "98cb1701",
   "metadata": {},
   "outputs": [
    {
     "name": "stdout",
     "output_type": "stream",
     "text": [
      " 1\n",
      " 0\n",
      " 3\n",
      "[ CPULongType{3} ]\n"
     ]
    }
   ],
   "source": [
    "std::cout << target << std::endl;"
   ]
  },
  {
   "cell_type": "code",
   "execution_count": 24,
   "id": "73841158",
   "metadata": {},
   "outputs": [],
   "source": [
    "auto nll_loss_option = nn::NLLLossOptions().reduction(torch::kNone);"
   ]
  },
  {
   "cell_type": "code",
   "execution_count": 25,
   "id": "434b91a2",
   "metadata": {},
   "outputs": [],
   "source": [
    "nn::NLLLoss nll_loss(nll_loss_option);"
   ]
  },
  {
   "cell_type": "code",
   "execution_count": 26,
   "id": "4d529f87",
   "metadata": {},
   "outputs": [],
   "source": [
    "output = nll_loss -> forward(input, target);"
   ]
  },
  {
   "cell_type": "code",
   "execution_count": 27,
   "id": "05cf9551",
   "metadata": {},
   "outputs": [
    {
     "name": "stdout",
     "output_type": "stream",
     "text": [
      "-1\n",
      "-4\n",
      "-11\n",
      "[ CPUFloatType{3} ]\n"
     ]
    }
   ],
   "source": [
    "std::cout << output << std::endl;"
   ]
  },
  {
   "cell_type": "markdown",
   "id": "6375ed45",
   "metadata": {},
   "source": [
    "# understand nll loss\n",
    "Select specific columns of each row in a torch Tensor"
   ]
  },
  {
   "cell_type": "code",
   "execution_count": 36,
   "id": "853cae25",
   "metadata": {},
   "outputs": [],
   "source": [
    "custom_output = (-1) * input.gather(1, target.reshape({-1,1}));"
   ]
  },
  {
   "cell_type": "code",
   "execution_count": 37,
   "id": "34c2bd2d",
   "metadata": {},
   "outputs": [
    {
     "name": "stdout",
     "output_type": "stream",
     "text": [
      "-1\n",
      "-4\n",
      "-11\n",
      "[ CPUFloatType{3,1} ]\n"
     ]
    }
   ],
   "source": [
    "std::cout << custom_output << std::endl;"
   ]
  },
  {
   "cell_type": "markdown",
   "id": "b423e83e",
   "metadata": {},
   "source": [
    "# CrossEntropyLoss"
   ]
  },
  {
   "cell_type": "code",
   "execution_count": 41,
   "id": "f3a99197",
   "metadata": {},
   "outputs": [],
   "source": [
    "// sample＿size x class_size\n",
    "\n",
    "torch::Tensor inputs_ts = torch::tensor({{1.0,2.0,3.0},{4.0,5.0,6.0}}); // Only Tensors of floating point and complex dtype can require gradients\n",
    "\n",
    "// the first sample belongs to the first class, the second sample belongs to the third class\n",
    "torch::Tensor target_ts = torch::tensor({0,2}, torch::kLong);"
   ]
  },
  {
   "cell_type": "code",
   "execution_count": 42,
   "id": "98655f88",
   "metadata": {},
   "outputs": [
    {
     "name": "stdout",
     "output_type": "stream",
     "text": [
      " 1  2  3\n",
      " 4  5  6\n",
      "[ CPUFloatType{2,3} ]\n"
     ]
    }
   ],
   "source": [
    "std::cout << inputs_ts << std::endl;"
   ]
  },
  {
   "cell_type": "code",
   "execution_count": 43,
   "id": "cb6cf0d5",
   "metadata": {},
   "outputs": [
    {
     "name": "stdout",
     "output_type": "stream",
     "text": [
      " 0\n",
      " 2\n",
      "[ CPULongType{2} ]\n"
     ]
    }
   ],
   "source": [
    "std::cout << target_ts << std::endl;"
   ]
  },
  {
   "cell_type": "code",
   "execution_count": 45,
   "id": "3904f341",
   "metadata": {},
   "outputs": [],
   "source": [
    "auto entropy_loss_option = nn::CrossEntropyLossOptions().reduction(torch::kMean);"
   ]
  },
  {
   "cell_type": "code",
   "execution_count": 46,
   "id": "d5fba293",
   "metadata": {},
   "outputs": [],
   "source": [
    "nn::CrossEntropyLoss cross_entropy_loss(entropy_loss_option);"
   ]
  },
  {
   "cell_type": "code",
   "execution_count": 47,
   "id": "eb638a1b",
   "metadata": {},
   "outputs": [],
   "source": [
    "output = cross_entropy_loss -> forward(inputs_ts, target_ts);"
   ]
  },
  {
   "cell_type": "code",
   "execution_count": 48,
   "id": "426455b6",
   "metadata": {},
   "outputs": [
    {
     "name": "stdout",
     "output_type": "stream",
     "text": [
      "1.40761\n",
      "[ CPUFloatType{} ]\n"
     ]
    }
   ],
   "source": [
    "std::cout << output << std::endl;"
   ]
  },
  {
   "cell_type": "markdown",
   "id": "ee04bf28",
   "metadata": {},
   "source": [
    "## understand cross entropy loss¶\n",
    "cross_entropy_loss = softmax + log + nllloss"
   ]
  },
  {
   "cell_type": "code",
   "execution_count": 52,
   "id": "534721e1",
   "metadata": {},
   "outputs": [],
   "source": [
    "torch::Tensor custom_cross_entropy(torch::Tensor input, torch::Tensor target){\n",
    "    //step1: softmax\n",
    "    torch::Tensor softmax_value = F::softmax(inputs_ts, 1);\n",
    "    \n",
    "    //step2: log\n",
    "    torch::Tensor log_softmax_value = torch::log(softmax_value);\n",
    "    \n",
    "    //step3:nllloss\n",
    "    torch::Tensor output = F::nll_loss(log_softmax_value, target);\n",
    "    return output;    \n",
    "}"
   ]
  },
  {
   "cell_type": "code",
   "execution_count": 54,
   "id": "556b560a",
   "metadata": {},
   "outputs": [],
   "source": [
    "torch::Tensor custom_output = custom_cross_entropy(inputs_ts, target_ts);"
   ]
  },
  {
   "cell_type": "code",
   "execution_count": 55,
   "id": "4e2f040a",
   "metadata": {},
   "outputs": [
    {
     "name": "stdout",
     "output_type": "stream",
     "text": [
      "1.40761\n",
      "[ CPUFloatType{} ]\n"
     ]
    }
   ],
   "source": [
    "std::cout << custom_output << std::endl;"
   ]
  },
  {
   "cell_type": "code",
   "execution_count": null,
   "id": "910cdccb",
   "metadata": {},
   "outputs": [],
   "source": []
  }
 ],
 "metadata": {
  "kernelspec": {
   "display_name": "C++17",
   "language": "C++17",
   "name": "xcpp17"
  },
  "language_info": {
   "codemirror_mode": "text/x-c++src",
   "file_extension": ".cpp",
   "mimetype": "text/x-c++src",
   "name": "c++",
   "version": "17"
  }
 },
 "nbformat": 4,
 "nbformat_minor": 5
}
