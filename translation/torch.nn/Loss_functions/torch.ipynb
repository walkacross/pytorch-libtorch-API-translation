{
 "cells": [
  {
   "cell_type": "code",
   "execution_count": 1,
   "id": "3236cc85",
   "metadata": {},
   "outputs": [],
   "source": [
    "import torch\n",
    "import torch.nn as nn\n",
    "import torch.nn.functional as F"
   ]
  },
  {
   "cell_type": "markdown",
   "id": "4430c62f",
   "metadata": {},
   "source": [
    "# MSE Loss (mean squared error)"
   ]
  },
  {
   "cell_type": "markdown",
   "id": "82181594",
   "metadata": {},
   "source": [
    "Creates a criterion that measures the mean squared error (squared L2 norm) between each element in the input xx and target yy."
   ]
  },
  {
   "cell_type": "code",
   "execution_count": 2,
   "id": "f3db09c5",
   "metadata": {},
   "outputs": [
    {
     "name": "stdout",
     "output_type": "stream",
     "text": [
      "tensor([[0.],\n",
      "        [1.],\n",
      "        [2.]])\n"
     ]
    }
   ],
   "source": [
    "sample_size = 3\n",
    "number_features = 1\n",
    "\n",
    "input = torch.arange(sample_size*number_features).reshape(sample_size, number_features) * 1.0\n",
    "print(input)"
   ]
  },
  {
   "cell_type": "code",
   "execution_count": 3,
   "id": "d9655a86",
   "metadata": {},
   "outputs": [
    {
     "name": "stdout",
     "output_type": "stream",
     "text": [
      "tensor([[2.],\n",
      "        [3.],\n",
      "        [4.]])\n"
     ]
    }
   ],
   "source": [
    "target = torch.arange(2, sample_size*number_features+2).reshape(sample_size, number_features) * 1.0\n",
    "print(target)"
   ]
  },
  {
   "cell_type": "code",
   "execution_count": 4,
   "id": "a6632497",
   "metadata": {},
   "outputs": [],
   "source": [
    "mes_loss = nn.MSELoss(reduction='mean')"
   ]
  },
  {
   "cell_type": "code",
   "execution_count": 5,
   "id": "aea5963c",
   "metadata": {},
   "outputs": [
    {
     "name": "stdout",
     "output_type": "stream",
     "text": [
      "tensor(4.)\n"
     ]
    }
   ],
   "source": [
    "output = mes_loss(input, target)\n",
    "print(output)"
   ]
  },
  {
   "cell_type": "markdown",
   "id": "6cc58474",
   "metadata": {},
   "source": [
    "## understand mse loss"
   ]
  },
  {
   "cell_type": "code",
   "execution_count": 6,
   "id": "8fd4fc05",
   "metadata": {},
   "outputs": [
    {
     "name": "stdout",
     "output_type": "stream",
     "text": [
      "tensor(4.)\n"
     ]
    }
   ],
   "source": [
    "custom_output = ((target - input)**2).mean()\n",
    "print(custom_output)"
   ]
  },
  {
   "cell_type": "markdown",
   "id": "931082e1",
   "metadata": {},
   "source": [
    "# L1 Loss"
   ]
  },
  {
   "cell_type": "markdown",
   "id": "3467f622",
   "metadata": {},
   "source": [
    "Creates a criterion that measures the mean absolute error (MAE) between each element in the input x and target y."
   ]
  },
  {
   "cell_type": "code",
   "execution_count": 7,
   "id": "53ecf738",
   "metadata": {},
   "outputs": [],
   "source": [
    "l1_loss = nn.L1Loss(reduction='mean')"
   ]
  },
  {
   "cell_type": "code",
   "execution_count": 8,
   "id": "7585b40a",
   "metadata": {},
   "outputs": [
    {
     "name": "stdout",
     "output_type": "stream",
     "text": [
      "tensor(2.)\n"
     ]
    }
   ],
   "source": [
    "output = l1_loss(input, target)\n",
    "print(output)"
   ]
  },
  {
   "cell_type": "markdown",
   "id": "0f911cdb",
   "metadata": {},
   "source": [
    "## understand l1 loss"
   ]
  },
  {
   "cell_type": "code",
   "execution_count": 9,
   "id": "124ff3af",
   "metadata": {},
   "outputs": [
    {
     "name": "stdout",
     "output_type": "stream",
     "text": [
      "tensor(2.)\n"
     ]
    }
   ],
   "source": [
    "custom_output = ((target - input).abs()).mean()\n",
    "print(custom_output)"
   ]
  },
  {
   "cell_type": "markdown",
   "id": "4dc7bc05",
   "metadata": {},
   "source": [
    "# NLLLoss"
   ]
  },
  {
   "cell_type": "markdown",
   "id": "2c8f9970",
   "metadata": {},
   "source": [
    "The negative log likelihood loss. It is useful to train a classification problem with C classes."
   ]
  },
  {
   "cell_type": "markdown",
   "id": "282ed7b9",
   "metadata": {},
   "source": [
    "Input: (N, C), where C = number of classes\n",
    "\n",
    "Target: (N)\n",
    "    \n",
    "Output: If reduction is 'none', shape (N) Otherwise, scalar."
   ]
  },
  {
   "cell_type": "code",
   "execution_count": 10,
   "id": "6b3552e4",
   "metadata": {},
   "outputs": [
    {
     "name": "stdout",
     "output_type": "stream",
     "text": [
      "tensor([[ 0.,  1.,  2.,  3.],\n",
      "        [ 4.,  5.,  6.,  7.],\n",
      "        [ 8.,  9., 10., 11.]])\n"
     ]
    }
   ],
   "source": [
    "sample_size = 3\n",
    "output_size = 4\n",
    "\n",
    "input = torch.arange(sample_size*output_size).reshape(sample_size, output_size) * 1.0\n",
    "print(input)"
   ]
  },
  {
   "cell_type": "code",
   "execution_count": 11,
   "id": "ddc24782",
   "metadata": {},
   "outputs": [
    {
     "name": "stdout",
     "output_type": "stream",
     "text": [
      "tensor([1, 0, 3])\n"
     ]
    }
   ],
   "source": [
    "target = torch.tensor([1,0,3])\n",
    "print(target)"
   ]
  },
  {
   "cell_type": "code",
   "execution_count": 12,
   "id": "c64466f8",
   "metadata": {},
   "outputs": [],
   "source": [
    "nll_loss = nn.NLLLoss(reduction=\"none\")"
   ]
  },
  {
   "cell_type": "code",
   "execution_count": 13,
   "id": "e89736b8",
   "metadata": {},
   "outputs": [
    {
     "name": "stdout",
     "output_type": "stream",
     "text": [
      "tensor([ -1.,  -4., -11.])\n"
     ]
    }
   ],
   "source": [
    "output = nll_loss(input, target)\n",
    "print(output)"
   ]
  },
  {
   "cell_type": "code",
   "execution_count": 14,
   "id": "cbafe176",
   "metadata": {},
   "outputs": [],
   "source": [
    "nll_loss = nn.NLLLoss(reduction=\"mean\")"
   ]
  },
  {
   "cell_type": "code",
   "execution_count": 15,
   "id": "55abd794",
   "metadata": {},
   "outputs": [
    {
     "name": "stdout",
     "output_type": "stream",
     "text": [
      "tensor(-5.3333)\n"
     ]
    }
   ],
   "source": [
    "output = nll_loss(input, target)\n",
    "print(output)"
   ]
  },
  {
   "cell_type": "code",
   "execution_count": 16,
   "id": "d7210911",
   "metadata": {
    "scrolled": true
   },
   "outputs": [
    {
     "data": {
      "text/plain": [
       "-5.333333333333333"
      ]
     },
     "execution_count": 16,
     "metadata": {},
     "output_type": "execute_result"
    }
   ],
   "source": [
    "(-1 + -4 + -11)/3"
   ]
  },
  {
   "cell_type": "markdown",
   "id": "8afdf9da",
   "metadata": {},
   "source": [
    "## understand nll loss"
   ]
  },
  {
   "cell_type": "markdown",
   "id": "49d76952",
   "metadata": {},
   "source": [
    "Select specific columns of each row in a torch Tensor"
   ]
  },
  {
   "cell_type": "code",
   "execution_count": 17,
   "id": "3362da5c",
   "metadata": {},
   "outputs": [
    {
     "data": {
      "text/plain": [
       "tensor([[ 1.],\n",
       "        [ 4.],\n",
       "        [11.]])"
      ]
     },
     "execution_count": 17,
     "metadata": {},
     "output_type": "execute_result"
    }
   ],
   "source": [
    "input.gather(1, target.view(-1,1))\n",
    "#target.view(-1,1).shape\n",
    "#torch.Size([3, 1])"
   ]
  },
  {
   "cell_type": "code",
   "execution_count": 18,
   "id": "6cdeb4dc",
   "metadata": {},
   "outputs": [
    {
     "data": {
      "text/plain": [
       "tensor(-5.3333)"
      ]
     },
     "execution_count": 18,
     "metadata": {},
     "output_type": "execute_result"
    }
   ],
   "source": [
    "(-1 * input.gather(1, target.view(-1,1))).mean()"
   ]
  },
  {
   "cell_type": "markdown",
   "id": "a3248fd3",
   "metadata": {},
   "source": [
    "# CrossEntropyLoss"
   ]
  },
  {
   "cell_type": "code",
   "execution_count": 19,
   "id": "6b96a18f",
   "metadata": {},
   "outputs": [
    {
     "name": "stdout",
     "output_type": "stream",
     "text": [
      "tensor([[1., 2., 3.],\n",
      "        [4., 5., 6.]], requires_grad=True)\n",
      "tensor([0, 2])\n"
     ]
    }
   ],
   "source": [
    "# sample＿size x class_size\n",
    "\n",
    "inputs_ts = torch.tensor([[1.0,2.0,3.0],[4.0,5.0,6.0]], requires_grad=True) # Only Tensors of floating point and complex dtype can require gradients\n",
    "\n",
    "# the first sample belongs to the first class, the second sample belongs to the third class\n",
    "target_ts = torch.tensor([0,2], dtype=torch.long)\n",
    "\n",
    "print(inputs_ts)\n",
    "print(target_ts)"
   ]
  },
  {
   "cell_type": "code",
   "execution_count": 20,
   "id": "71dbaa7e",
   "metadata": {},
   "outputs": [],
   "source": [
    "cross_entroy_loss = nn.CrossEntropyLoss(reduction=\"mean\")"
   ]
  },
  {
   "cell_type": "code",
   "execution_count": 21,
   "id": "7da559fd",
   "metadata": {},
   "outputs": [
    {
     "name": "stdout",
     "output_type": "stream",
     "text": [
      "tensor(1.4076, grad_fn=<NllLossBackward0>)\n"
     ]
    }
   ],
   "source": [
    "output = cross_entroy_loss(inputs_ts, target_ts)\n",
    "print(output)"
   ]
  },
  {
   "cell_type": "markdown",
   "id": "8858bae5",
   "metadata": {},
   "source": [
    "## understand cross entropy loss"
   ]
  },
  {
   "cell_type": "markdown",
   "id": "6306b102",
   "metadata": {},
   "source": [
    "cross_entropy_loss = softmax + log + nllloss"
   ]
  },
  {
   "cell_type": "code",
   "execution_count": 24,
   "id": "99ffabb2",
   "metadata": {},
   "outputs": [],
   "source": [
    "def custom_cross_entropy(input, target):\n",
    "    #step1: softmax\n",
    "    softmax_value = F.softmax(inputs_ts)\n",
    "    \n",
    "    #step2: log\n",
    "    log_softmax_value = torch.log(softmax_value)\n",
    "    \n",
    "    #step3:nllloss\n",
    "    output = F.nll_loss(log_softmax_value, target)\n",
    "    return output"
   ]
  },
  {
   "cell_type": "code",
   "execution_count": 25,
   "id": "6f42a973",
   "metadata": {},
   "outputs": [
    {
     "name": "stdout",
     "output_type": "stream",
     "text": [
      "tensor(1.4076, grad_fn=<NllLossBackward0>)\n"
     ]
    },
    {
     "name": "stderr",
     "output_type": "stream",
     "text": [
      "/tmp/ipykernel_1800998/3043229066.py:3: UserWarning: Implicit dimension choice for softmax has been deprecated. Change the call to include dim=X as an argument.\n",
      "  softmax_value = F.softmax(inputs_ts)\n"
     ]
    }
   ],
   "source": [
    "custom_output = custom_cross_entropy(inputs_ts, target_ts)\n",
    "print(custom_output)"
   ]
  },
  {
   "cell_type": "code",
   "execution_count": null,
   "id": "eee7f2fd",
   "metadata": {},
   "outputs": [],
   "source": []
  }
 ],
 "metadata": {
  "kernelspec": {
   "display_name": "Python 3 (ipykernel)",
   "language": "python",
   "name": "python3"
  },
  "language_info": {
   "codemirror_mode": {
    "name": "ipython",
    "version": 3
   },
   "file_extension": ".py",
   "mimetype": "text/x-python",
   "name": "python",
   "nbconvert_exporter": "python",
   "pygments_lexer": "ipython3",
   "version": "3.10.5"
  }
 },
 "nbformat": 4,
 "nbformat_minor": 5
}
