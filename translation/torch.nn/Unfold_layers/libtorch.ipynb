{
 "cells": [
  {
   "cell_type": "code",
   "execution_count": 1,
   "id": "acd43d20",
   "metadata": {},
   "outputs": [],
   "source": [
    "#pragma cling add_include_path(\"../../libtorch/include\")\n",
    "#pragma cling add_include_path(\"../../libtorch/include/torch/csrc/api/include\")\n",
    "#pragma cling add_library_path(\"../../libtorch/lib\")\n",
    "#pragma cling load(\"libtorch\")"
   ]
  },
  {
   "cell_type": "code",
   "execution_count": 2,
   "id": "2c09c59f",
   "metadata": {},
   "outputs": [],
   "source": [
    "#include <iostream>\n",
    "#include <tuple>\n",
    "#include <torch/torch.h>\n",
    "#include <ATen/ATen.h>\n",
    "namespace nn = torch::nn;"
   ]
  },
  {
   "cell_type": "code",
   "execution_count": 3,
   "id": "2e3c8979",
   "metadata": {},
   "outputs": [
    {
     "name": "stdout",
     "output_type": "stream",
     "text": [
      "(1,1,.,.) = \n",
      "  1.8324  0.8139 -0.2464 -0.5051\n",
      "  0.7070 -0.1387 -0.2475 -1.4061\n",
      "  1.0875  1.1796  0.5683  0.3874\n",
      "\n",
      "(1,2,.,.) = \n",
      " -1.1217  0.2747  1.2427  1.0365\n",
      "  1.1961  0.7335 -0.8076 -0.0196\n",
      " -0.2003  1.4604 -1.0378  1.1555\n",
      "[ CPUFloatType{1,2,3,4} ]\n"
     ]
    }
   ],
   "source": [
    "torch::Tensor input = torch::randn({1, 2, 3, 4});\n",
    "std::cout << input << std::endl;"
   ]
  },
  {
   "cell_type": "markdown",
   "id": "3b528d9c",
   "metadata": {},
   "source": [
    "# nn.Unfold\n",
    "Extracts sliding local blocks from a batched input tensor.\n",
    "\n",
    "torch.nn.Unfold(kernel_size, dilation=1, padding=0, stride=1)\n",
    "\n",
    "https://pytorch.org/docs/stable/generated/torch.nn.Unfold.html#torch.nn.Unfold"
   ]
  },
  {
   "cell_type": "code",
   "execution_count": 11,
   "id": "739f22d3",
   "metadata": {},
   "outputs": [],
   "source": [
    "torch::nn::UnfoldOptions unfold_option = torch::nn::UnfoldOptions(/*kernel_size=*/{2, 3});"
   ]
  },
  {
   "cell_type": "code",
   "execution_count": 12,
   "id": "8bc158ee",
   "metadata": {},
   "outputs": [],
   "source": [
    "torch::nn::Unfold unfold_operator(unfold_option);"
   ]
  },
  {
   "cell_type": "code",
   "execution_count": 13,
   "id": "63724422",
   "metadata": {},
   "outputs": [],
   "source": [
    "torch::Tensor output = unfold_operator -> forward(input);"
   ]
  },
  {
   "cell_type": "code",
   "execution_count": 14,
   "id": "ebbbbce1",
   "metadata": {},
   "outputs": [
    {
     "name": "stdout",
     "output_type": "stream",
     "text": [
      "(1,.,.) = \n",
      "  1.8324  0.8139  0.7070 -0.1387\n",
      "  0.8139 -0.2464 -0.1387 -0.2475\n",
      " -0.2464 -0.5051 -0.2475 -1.4061\n",
      "  0.7070 -0.1387  1.0875  1.1796\n",
      " -0.1387 -0.2475  1.1796  0.5683\n",
      " -0.2475 -1.4061  0.5683  0.3874\n",
      " -1.1217  0.2747  1.1961  0.7335\n",
      "  0.2747  1.2427  0.7335 -0.8076\n",
      "  1.2427  1.0365 -0.8076 -0.0196\n",
      "  1.1961  0.7335 -0.2003  1.4604\n",
      "  0.7335 -0.8076  1.4604 -1.0378\n",
      " -0.8076 -0.0196 -1.0378  1.1555\n",
      "[ CPUFloatType{1,12,4} ]\n"
     ]
    }
   ],
   "source": [
    "std::cout << output << std::endl;"
   ]
  },
  {
   "cell_type": "markdown",
   "id": "ea5a3c23",
   "metadata": {},
   "source": [
    "# how to reshape the output of nn.Unfold to behave like a convolution"
   ]
  },
  {
   "cell_type": "code",
   "execution_count": 15,
   "id": "1d7e1313",
   "metadata": {},
   "outputs": [],
   "source": [
    "torch::Tensor output_like_convolution = output.reshape({1,2,6,4}).transpose(-1,-2).reshape({1,2,-1,2,3});"
   ]
  },
  {
   "cell_type": "code",
   "execution_count": 16,
   "id": "e8870aee",
   "metadata": {},
   "outputs": [
    {
     "name": "stdout",
     "output_type": "stream",
     "text": [
      "(1,1,1,.,.) = \n",
      "  1.8324  0.8139 -0.2464\n",
      "  0.7070 -0.1387 -0.2475\n",
      "\n",
      "(1,2,1,.,.) = \n",
      " -1.1217  0.2747  1.2427\n",
      "  1.1961  0.7335 -0.8076\n",
      "\n",
      "(1,1,2,.,.) = \n",
      "  0.8139 -0.2464 -0.5051\n",
      " -0.1387 -0.2475 -1.4061\n",
      "\n",
      "(1,2,2,.,.) = \n",
      "  0.2747  1.2427  1.0365\n",
      "  0.7335 -0.8076 -0.0196\n",
      "\n",
      "(1,1,3,.,.) = \n",
      "  0.7070 -0.1387 -0.2475\n",
      "  1.0875  1.1796  0.5683\n",
      "\n",
      "(1,2,3,.,.) = \n",
      "  1.1961  0.7335 -0.8076\n",
      " -0.2003  1.4604 -1.0378\n",
      "\n",
      "(1,1,4,.,.) = \n",
      " -0.1387 -0.2475 -1.4061\n",
      "  1.1796  0.5683  0.3874\n",
      "\n",
      "(1,2,4,.,.) = \n",
      "  0.7335 -0.8076 -0.0196\n",
      "  1.4604 -1.0378  1.1555\n",
      "[ CPUFloatType{1,2,4,2,3} ]\n"
     ]
    }
   ],
   "source": [
    "std::cout << output_like_convolution << std::endl;"
   ]
  }
 ],
 "metadata": {
  "kernelspec": {
   "display_name": "C++17",
   "language": "C++17",
   "name": "xcpp17"
  },
  "language_info": {
   "codemirror_mode": "text/x-c++src",
   "file_extension": ".cpp",
   "mimetype": "text/x-c++src",
   "name": "c++",
   "version": "17"
  }
 },
 "nbformat": 4,
 "nbformat_minor": 5
}
