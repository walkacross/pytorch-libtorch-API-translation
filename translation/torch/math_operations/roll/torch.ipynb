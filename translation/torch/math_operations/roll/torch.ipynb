{
 "cells": [
  {
   "cell_type": "code",
   "execution_count": 1,
   "id": "8c1f7898-cfff-4571-a3aa-26b6debbfea9",
   "metadata": {},
   "outputs": [
    {
     "name": "stdout",
     "output_type": "stream",
     "text": [
      "2.1.0+cu121\n"
     ]
    }
   ],
   "source": [
    "import torch\n",
    "print(torch.__version__)"
   ]
  },
  {
   "cell_type": "markdown",
   "id": "9e9b27af-8c3f-4f99-9dd1-e7db718aa136",
   "metadata": {},
   "source": [
    "# roll"
   ]
  },
  {
   "cell_type": "markdown",
   "id": "3acb97c7-6d5e-4c52-bc18-4decb90e1eae",
   "metadata": {},
   "source": [
    "Roll the tensor input along the given dimension(s)."
   ]
  },
  {
   "cell_type": "markdown",
   "id": "8ebd3850-8a9e-4519-b53d-be4b8dc2223b",
   "metadata": {},
   "source": [
    "Elements that are shifted beyond the last position are re-introduced at the first position. If dims is None, the tensor will be flattened before rolling and then restored to the original shape."
   ]
  },
  {
   "cell_type": "markdown",
   "id": "55ba5e9e-267a-4d0f-96db-42cd34953a15",
   "metadata": {},
   "source": [
    "## understand 1d data"
   ]
  },
  {
   "cell_type": "code",
   "execution_count": 2,
   "id": "a889eea1-b9cd-478a-a1b5-da392b820032",
   "metadata": {},
   "outputs": [],
   "source": [
    "input = torch.arange(12)"
   ]
  },
  {
   "cell_type": "code",
   "execution_count": 3,
   "id": "db715191-cc7d-425c-bdde-5b5a6686bcbb",
   "metadata": {},
   "outputs": [
    {
     "name": "stdout",
     "output_type": "stream",
     "text": [
      "tensor([ 0,  1,  2,  3,  4,  5,  6,  7,  8,  9, 10, 11])\n",
      "torch.Size([12])\n"
     ]
    }
   ],
   "source": [
    "print(input)\n",
    "print(input.shape)"
   ]
  },
  {
   "cell_type": "code",
   "execution_count": 4,
   "id": "a0d0b5e9-2102-446e-8eb2-adebe422a4cb",
   "metadata": {},
   "outputs": [
    {
     "data": {
      "text/plain": [
       "tensor([11,  0,  1,  2,  3,  4,  5,  6,  7,  8,  9, 10])"
      ]
     },
     "execution_count": 4,
     "metadata": {},
     "output_type": "execute_result"
    }
   ],
   "source": [
    "torch.roll(input,shifts=1) #forward move"
   ]
  },
  {
   "cell_type": "code",
   "execution_count": 5,
   "id": "f2bc4e48-a0a8-490e-9c89-c87614fff547",
   "metadata": {},
   "outputs": [
    {
     "data": {
      "text/plain": [
       "tensor([10, 11,  0,  1,  2,  3,  4,  5,  6,  7,  8,  9])"
      ]
     },
     "execution_count": 5,
     "metadata": {},
     "output_type": "execute_result"
    }
   ],
   "source": [
    "torch.roll(input,shifts=2)"
   ]
  },
  {
   "cell_type": "code",
   "execution_count": 6,
   "id": "0e78a182-e172-4b0b-a1e0-3dcf761779eb",
   "metadata": {},
   "outputs": [
    {
     "data": {
      "text/plain": [
       "tensor([ 2,  3,  4,  5,  6,  7,  8,  9, 10, 11,  0,  1])"
      ]
     },
     "execution_count": 6,
     "metadata": {},
     "output_type": "execute_result"
    }
   ],
   "source": [
    "torch.roll(input,shifts=-2) #backward move"
   ]
  },
  {
   "cell_type": "markdown",
   "id": "7fe7cf41-6bab-4575-8a4c-950c8d26b669",
   "metadata": {},
   "source": [
    "## understand 2d data"
   ]
  },
  {
   "cell_type": "code",
   "execution_count": 7,
   "id": "92fd9860-e804-4ca8-abe6-09adcfa3bcb7",
   "metadata": {},
   "outputs": [],
   "source": [
    "input = torch.arange(12).view(4,3)"
   ]
  },
  {
   "cell_type": "code",
   "execution_count": 8,
   "id": "96e8975e-62ef-4c4e-a802-f7f0a0afb349",
   "metadata": {},
   "outputs": [
    {
     "name": "stdout",
     "output_type": "stream",
     "text": [
      "tensor([[ 0,  1,  2],\n",
      "        [ 3,  4,  5],\n",
      "        [ 6,  7,  8],\n",
      "        [ 9, 10, 11]])\n",
      "torch.Size([4, 3])\n"
     ]
    }
   ],
   "source": [
    "print(input)\n",
    "print(input.shape)"
   ]
  },
  {
   "cell_type": "code",
   "execution_count": 9,
   "id": "ad1df3b6-bb83-4678-b232-115b883ed616",
   "metadata": {},
   "outputs": [
    {
     "data": {
      "text/plain": [
       "tensor([[ 9, 10, 11],\n",
       "        [ 0,  1,  2],\n",
       "        [ 3,  4,  5],\n",
       "        [ 6,  7,  8]])"
      ]
     },
     "execution_count": 9,
     "metadata": {},
     "output_type": "execute_result"
    }
   ],
   "source": [
    "torch.roll(input,shifts=1,dims=0)"
   ]
  },
  {
   "cell_type": "code",
   "execution_count": 10,
   "id": "3068b1f4-444d-44ff-941a-8cd35f26cc87",
   "metadata": {},
   "outputs": [
    {
     "data": {
      "text/plain": [
       "tensor([[ 6,  7,  8],\n",
       "        [ 9, 10, 11],\n",
       "        [ 0,  1,  2],\n",
       "        [ 3,  4,  5]])"
      ]
     },
     "execution_count": 10,
     "metadata": {},
     "output_type": "execute_result"
    }
   ],
   "source": [
    "torch.roll(input,shifts=2,dims=0)"
   ]
  },
  {
   "cell_type": "code",
   "execution_count": 11,
   "id": "33b2ba5f-6c91-4490-ad6f-3f9ef24ec835",
   "metadata": {},
   "outputs": [
    {
     "data": {
      "text/plain": [
       "tensor([[ 2,  0,  1],\n",
       "        [ 5,  3,  4],\n",
       "        [ 8,  6,  7],\n",
       "        [11,  9, 10]])"
      ]
     },
     "execution_count": 11,
     "metadata": {},
     "output_type": "execute_result"
    }
   ],
   "source": [
    "torch.roll(input,shifts=1,dims=1)"
   ]
  },
  {
   "cell_type": "markdown",
   "id": "33cfd634-e4dc-488b-99ce-8a8910130525",
   "metadata": {},
   "source": [
    "## understand 3d data"
   ]
  },
  {
   "cell_type": "code",
   "execution_count": 12,
   "id": "05d1cbfc-8f92-4cdc-9a53-54ff340d30c4",
   "metadata": {},
   "outputs": [],
   "source": [
    "input = torch.arange(24).view(2,4,3)"
   ]
  },
  {
   "cell_type": "code",
   "execution_count": 13,
   "id": "ee525470-e911-4495-8b80-275fadc2371c",
   "metadata": {},
   "outputs": [
    {
     "name": "stdout",
     "output_type": "stream",
     "text": [
      "tensor([[[ 0,  1,  2],\n",
      "         [ 3,  4,  5],\n",
      "         [ 6,  7,  8],\n",
      "         [ 9, 10, 11]],\n",
      "\n",
      "        [[12, 13, 14],\n",
      "         [15, 16, 17],\n",
      "         [18, 19, 20],\n",
      "         [21, 22, 23]]])\n",
      "torch.Size([2, 4, 3])\n"
     ]
    }
   ],
   "source": [
    "print(input)\n",
    "print(input.shape)"
   ]
  },
  {
   "cell_type": "code",
   "execution_count": 14,
   "id": "c5696623-1e7e-4575-91e2-902dd6f3a240",
   "metadata": {},
   "outputs": [
    {
     "data": {
      "text/plain": [
       "tensor([[[ 9, 10, 11],\n",
       "         [ 0,  1,  2],\n",
       "         [ 3,  4,  5],\n",
       "         [ 6,  7,  8]],\n",
       "\n",
       "        [[21, 22, 23],\n",
       "         [12, 13, 14],\n",
       "         [15, 16, 17],\n",
       "         [18, 19, 20]]])"
      ]
     },
     "execution_count": 14,
     "metadata": {},
     "output_type": "execute_result"
    }
   ],
   "source": [
    "torch.roll(input,shifts=1,dims=1)"
   ]
  },
  {
   "cell_type": "markdown",
   "id": "9dc057db-c515-4ba7-b6a1-7facfb14c7b2",
   "metadata": {},
   "source": [
    "# behave like pandas fill nan"
   ]
  },
  {
   "cell_type": "code",
   "execution_count": 32,
   "id": "6143b7d5-324f-43c4-85dd-09472c450861",
   "metadata": {},
   "outputs": [
    {
     "name": "stdout",
     "output_type": "stream",
     "text": [
      "tensor([[[ 9., 10., 11.],\n",
      "         [ 0.,  1.,  2.],\n",
      "         [ 3.,  4.,  5.],\n",
      "         [ 6.,  7.,  8.]],\n",
      "\n",
      "        [[21., 22., 23.],\n",
      "         [12., 13., 14.],\n",
      "         [15., 16., 17.],\n",
      "         [18., 19., 20.]]])\n"
     ]
    }
   ],
   "source": [
    "rolled_tensor = torch.roll(input,shifts=1,dims=1).float()\n",
    "print(rolled_tensor)"
   ]
  },
  {
   "cell_type": "code",
   "execution_count": 33,
   "id": "4ae4ecd1-4a47-4e22-94a0-ddcad1c4aa4d",
   "metadata": {},
   "outputs": [],
   "source": [
    "index = torch.arange(1,dtype=torch.int64)"
   ]
  },
  {
   "cell_type": "code",
   "execution_count": 34,
   "id": "641c847d-4aa4-48ae-a188-2978f8b46688",
   "metadata": {},
   "outputs": [
    {
     "name": "stdout",
     "output_type": "stream",
     "text": [
      "tensor([0])\n"
     ]
    }
   ],
   "source": [
    "print(index)"
   ]
  },
  {
   "cell_type": "code",
   "execution_count": 35,
   "id": "f08e1dd5-718d-4b9b-9e08-a9462f9da233",
   "metadata": {},
   "outputs": [
    {
     "data": {
      "text/plain": [
       "torch.int64"
      ]
     },
     "execution_count": 35,
     "metadata": {},
     "output_type": "execute_result"
    }
   ],
   "source": [
    "torch.tensor([0,2]).dtype"
   ]
  },
  {
   "cell_type": "code",
   "execution_count": 36,
   "id": "db75b7d3-bc7a-47b6-b9fd-6a22f2b722ed",
   "metadata": {},
   "outputs": [],
   "source": [
    "import numpy as np"
   ]
  },
  {
   "cell_type": "code",
   "execution_count": 38,
   "id": "10302105-c88b-4f53-9d3b-83e0d5450876",
   "metadata": {},
   "outputs": [
    {
     "name": "stdout",
     "output_type": "stream",
     "text": [
      "tensor([[[nan, nan, nan],\n",
      "         [ 0.,  1.,  2.],\n",
      "         [ 3.,  4.,  5.],\n",
      "         [ 6.,  7.,  8.]],\n",
      "\n",
      "        [[nan, nan, nan],\n",
      "         [12., 13., 14.],\n",
      "         [15., 16., 17.],\n",
      "         [18., 19., 20.]]])\n"
     ]
    }
   ],
   "source": [
    "nan_rolled_tensor = torch.index_fill(rolled_tensor,dim=1,index=index,value=np.nan)\n",
    "print(nan_rolled_tensor)"
   ]
  },
  {
   "cell_type": "code",
   "execution_count": null,
   "id": "cf68309b-0c4c-4f91-8aac-89a1dce353f8",
   "metadata": {},
   "outputs": [],
   "source": []
  }
 ],
 "metadata": {
  "kernelspec": {
   "display_name": "Python 3 (ipykernel)",
   "language": "python",
   "name": "python3"
  },
  "language_info": {
   "codemirror_mode": {
    "name": "ipython",
    "version": 3
   },
   "file_extension": ".py",
   "mimetype": "text/x-python",
   "name": "python",
   "nbconvert_exporter": "python",
   "pygments_lexer": "ipython3",
   "version": "3.9.7"
  }
 },
 "nbformat": 4,
 "nbformat_minor": 5
}
