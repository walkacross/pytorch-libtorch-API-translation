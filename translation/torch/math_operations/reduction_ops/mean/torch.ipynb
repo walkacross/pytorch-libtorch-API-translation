{
 "cells": [
  {
   "cell_type": "markdown",
   "id": "6f9a9da4",
   "metadata": {},
   "source": [
    "# Mean"
   ]
  },
  {
   "cell_type": "markdown",
   "id": "a4b28c0f",
   "metadata": {},
   "source": [
    "Returns the mean value of each row of the input tensor in the given dimension dim. If dim is a list of dimensions, reduce over all of them.\n",
    "\n",
    "If keepdim is True, the output tensor is of the same size as input except in the dimension(s) dim where it is of size 1. Otherwise, dim is squeezed (see torch.squeeze()), resulting in the output tensor having 1 (or len(dim)) fewer dimension(s)."
   ]
  },
  {
   "cell_type": "code",
   "execution_count": 2,
   "id": "496ed9a3",
   "metadata": {},
   "outputs": [],
   "source": [
    "import torch"
   ]
  },
  {
   "cell_type": "code",
   "execution_count": 3,
   "id": "2516fa2b",
   "metadata": {},
   "outputs": [
    {
     "name": "stdout",
     "output_type": "stream",
     "text": [
      "tensor([[[ 0.,  1.,  2.,  3.],\n",
      "         [ 4.,  5.,  6.,  7.],\n",
      "         [ 8.,  9., 10., 11.]],\n",
      "\n",
      "        [[12., 13., 14., 15.],\n",
      "         [16., 17., 18., 19.],\n",
      "         [20., 21., 22., 23.]]])\n",
      "torch.Size([2, 3, 4])\n"
     ]
    }
   ],
   "source": [
    "tensor = torch.arange(24).reshape((2,3,4)).float()\n",
    "print(tensor)\n",
    "print(tensor.shape)"
   ]
  },
  {
   "cell_type": "code",
   "execution_count": 10,
   "id": "cc1a1a55",
   "metadata": {},
   "outputs": [
    {
     "name": "stdout",
     "output_type": "stream",
     "text": [
      "tensor([[[ 6.,  7.,  8.,  9.],\n",
      "         [10., 11., 12., 13.],\n",
      "         [14., 15., 16., 17.]]])\n",
      "torch.Size([1, 3, 4])\n"
     ]
    }
   ],
   "source": [
    "print(torch.mean(tensor,dim=0,keepdim=True))\n",
    "print(torch.mean(tensor,dim=0,keepdim=True).shape)"
   ]
  },
  {
   "cell_type": "code",
   "execution_count": 8,
   "id": "7e8b4479",
   "metadata": {},
   "outputs": [
    {
     "name": "stdout",
     "output_type": "stream",
     "text": [
      "tensor([[[ 4.,  5.,  6.,  7.]],\n",
      "\n",
      "        [[16., 17., 18., 19.]]])\n",
      "torch.Size([2, 1, 4])\n"
     ]
    }
   ],
   "source": [
    "print(torch.mean(tensor,dim=1,keepdim=True))\n",
    "print(torch.mean(tensor,dim=1,keepdim=True).shape)"
   ]
  },
  {
   "cell_type": "code",
   "execution_count": 11,
   "id": "8854e5eb",
   "metadata": {},
   "outputs": [
    {
     "name": "stdout",
     "output_type": "stream",
     "text": [
      "tensor([[[ 1.5000],\n",
      "         [ 5.5000],\n",
      "         [ 9.5000]],\n",
      "\n",
      "        [[13.5000],\n",
      "         [17.5000],\n",
      "         [21.5000]]])\n",
      "torch.Size([2, 3, 1])\n"
     ]
    }
   ],
   "source": [
    "print(torch.mean(tensor,dim=2,keepdim=True))\n",
    "print(torch.mean(tensor,dim=2,keepdim=True).shape)"
   ]
  },
  {
   "cell_type": "code",
   "execution_count": 13,
   "id": "fb175273",
   "metadata": {},
   "outputs": [
    {
     "name": "stdout",
     "output_type": "stream",
     "text": [
      "tensor([[[ 5.5000]],\n",
      "\n",
      "        [[17.5000]]])\n",
      "torch.Size([2, 1, 1])\n"
     ]
    }
   ],
   "source": [
    "print(torch.mean(tensor,dim=(1,2),keepdim=True))\n",
    "print(torch.mean(tensor,dim=(1,2),keepdim=True).shape)"
   ]
  },
  {
   "cell_type": "code",
   "execution_count": 14,
   "id": "6931feaf",
   "metadata": {},
   "outputs": [
    {
     "name": "stdout",
     "output_type": "stream",
     "text": [
      "tensor([[[10., 11., 12., 13.]]])\n",
      "torch.Size([1, 1, 4])\n"
     ]
    }
   ],
   "source": [
    "print(torch.mean(tensor,dim=(0,1),keepdim=True))\n",
    "print(torch.mean(tensor,dim=(0,1),keepdim=True).shape)"
   ]
  },
  {
   "cell_type": "code",
   "execution_count": 12,
   "id": "ec45f7e6",
   "metadata": {},
   "outputs": [
    {
     "name": "stdout",
     "output_type": "stream",
     "text": [
      "tensor([[[ 7.5000],\n",
      "         [11.5000],\n",
      "         [15.5000]]])\n",
      "torch.Size([1, 3, 1])\n"
     ]
    }
   ],
   "source": [
    "print(torch.mean(tensor,dim=(0,2),keepdim=True))\n",
    "print(torch.mean(tensor,dim=(0,2),keepdim=True).shape)"
   ]
  },
  {
   "cell_type": "code",
   "execution_count": null,
   "id": "c090f985",
   "metadata": {},
   "outputs": [],
   "source": []
  }
 ],
 "metadata": {
  "kernelspec": {
   "display_name": "Python 3 (ipykernel)",
   "language": "python",
   "name": "python3"
  },
  "language_info": {
   "codemirror_mode": {
    "name": "ipython",
    "version": 3
   },
   "file_extension": ".py",
   "mimetype": "text/x-python",
   "name": "python",
   "nbconvert_exporter": "python",
   "pygments_lexer": "ipython3",
   "version": "3.9.7"
  }
 },
 "nbformat": 4,
 "nbformat_minor": 5
}
