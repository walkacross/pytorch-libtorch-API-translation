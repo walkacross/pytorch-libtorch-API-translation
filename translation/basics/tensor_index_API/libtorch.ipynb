{
 "cells": [
  {
   "cell_type": "code",
   "execution_count": 1,
   "id": "abada465",
   "metadata": {},
   "outputs": [],
   "source": [
    "#pragma cling add_include_path(\"../../libtorch/include\")\n",
    "#pragma cling add_include_path(\"../../libtorch/include/torch/csrc/api/include\")\n",
    "#pragma cling add_library_path(\"../../libtorch/lib\")\n",
    "#pragma cling load(\"libtorch\")"
   ]
  },
  {
   "cell_type": "code",
   "execution_count": 2,
   "id": "0bfe0ddc",
   "metadata": {},
   "outputs": [],
   "source": [
    "#include <iostream>\n",
    "#include <vector>\n",
    "#include <torch/torch.h>"
   ]
  },
  {
   "cell_type": "code",
   "execution_count": 3,
   "id": "3d62ea94",
   "metadata": {},
   "outputs": [
    {
     "name": "stdout",
     "output_type": "stream",
     "text": [
      " 0.8532  0.9418  0.2029  0.3435\n",
      " 0.2269  0.2082  0.4804  0.0777\n",
      " 0.5624  0.7376  0.8308  0.2543\n",
      "[ CPUFloatType{3,4} ]\n"
     ]
    }
   ],
   "source": [
    "torch::Tensor a = torch::rand({3,4}, torch::kFloat32);\n",
    "std::cout << a << std:: endl; "
   ]
  },
  {
   "cell_type": "markdown",
   "id": "ec9d5a92",
   "metadata": {},
   "source": [
    "https://pytorch.org/cppdocs/notes/tensor_indexing.html"
   ]
  },
  {
   "cell_type": "markdown",
   "id": "34cb1d97",
   "metadata": {},
   "source": [
    "# 1  SLICING AND EXTRACTING PARTS FROM TENSORS "
   ]
  },
  {
   "cell_type": "code",
   "execution_count": 4,
   "id": "cf16af0c",
   "metadata": {},
   "outputs": [
    {
     "name": "stdout",
     "output_type": "stream",
     "text": [
      "SLICING AND EXTRACTING PARTS FROM TENSORS\n",
      "extract a single element in tensor\n",
      "tensor[0,2] as tensor:\n",
      "0.202888\n",
      "[ CPUFloatType{} ]\n",
      "tensor[0,2] as value:\n",
      "0.202888\n"
     ]
    },
    {
     "data": {
      "text/plain": [
       "@0x7fdbd4892b60"
      ]
     },
     "execution_count": 4,
     "metadata": {},
     "output_type": "execute_result"
    }
   ],
   "source": [
    "using torch::indexing::Slice;\n",
    "using torch::indexing::None;\n",
    "using torch::indexing::Ellipsis;\n",
    "\n",
    "std::cout << \"SLICING AND EXTRACTING PARTS FROM TENSORS\" << std::endl;\n",
    "\n",
    "std::cout << \"extract a single element in tensor\" << std::endl;\n",
    "std::cout << \"tensor[0,2] as tensor:\\n\" << a.index({0,2}) << std::endl;\n",
    "std::cout << \"tensor[0,2] as value:\\n\" << a.index({0,2}).item<float_t>() << std::endl;\n",
    "// output:\n",
    "// 3"
   ]
  },
  {
   "cell_type": "code",
   "execution_count": 5,
   "id": "2b74b7d9",
   "metadata": {},
   "outputs": [
    {
     "name": "stdout",
     "output_type": "stream",
     "text": [
      "slice a tensor along a dimension at a given index\n",
      "tensor[:,2] \n",
      " 0.9418\n",
      " 0.2082\n",
      " 0.7376\n",
      "[ CPUFloatType{3} ]\n",
      "size: \n",
      "[3]\n"
     ]
    }
   ],
   "source": [
    "std::cout << \"slice a tensor along a dimension at a given index\" << std::endl;\n",
    "\n",
    "auto b = a.index({Slice(), 1});\n",
    "\n",
    "std::cout << \"tensor[:,2] \\n\" << b << std::endl;\n",
    "std::cout << \"size: \\n\" << b.sizes() << std::endl;"
   ]
  },
  {
   "cell_type": "code",
   "execution_count": 6,
   "id": "5d2d5cac",
   "metadata": {},
   "outputs": [
    {
     "name": "stdout",
     "output_type": "stream",
     "text": [
      "tensor[:2,:] \n",
      " 0.8532  0.9418  0.2029  0.3435\n",
      " 0.2269  0.2082  0.4804  0.0777\n",
      "[ CPUFloatType{2,4} ]\n"
     ]
    }
   ],
   "source": [
    "//\"slice a tensor along a dimesion at given indices from a start-index up to -\n",
    "// but not including - an end-index using a given step size\"\n",
    "using torch::indexing::None;\n",
    "auto c = a.index({Slice(None,2), Slice()});\n",
    "std::cout << \"tensor[:2,:] \\n\" << c << std::endl;\n"
   ]
  },
  {
   "cell_type": "code",
   "execution_count": 7,
   "id": "472f5925",
   "metadata": {},
   "outputs": [
    {
     "name": "stdout",
     "output_type": "stream",
     "text": [
      "tensor[:,1:] \n",
      " 0.9418  0.2029  0.3435\n",
      " 0.2082  0.4804  0.0777\n",
      " 0.7376  0.8308  0.2543\n",
      "[ CPUFloatType{3,3} ]\n"
     ]
    }
   ],
   "source": [
    "std::cout << \"tensor[:,1:] \\n\" << a.index({Slice(),Slice(1,None)}) << std::endl;"
   ]
  },
  {
   "cell_type": "code",
   "execution_count": 8,
   "id": "687334dc",
   "metadata": {},
   "outputs": [
    {
     "name": "stdout",
     "output_type": "stream",
     "text": [
      "tensor[:2,1] \n",
      " 0.9418\n",
      " 0.2082\n",
      "[ CPUFloatType{2} ]\n"
     ]
    }
   ],
   "source": [
    "//combination\n",
    "std::cout << \"tensor[:2,1] \\n\" << a.index({Slice(None,2),1}) << std::endl;"
   ]
  },
  {
   "cell_type": "code",
   "execution_count": 9,
   "id": "6d7c93ef",
   "metadata": {},
   "outputs": [
    {
     "name": "stdout",
     "output_type": "stream",
     "text": [
      "tensor[...,:2] \n",
      " 0.8532  0.9418\n",
      " 0.2269  0.2082\n",
      " 0.5624  0.7376\n",
      "[ CPUFloatType{3,2} ]\n"
     ]
    }
   ],
   "source": [
    "using torch::indexing::Ellipsis;\n",
    "std::cout << \"tensor[...,:2] \\n\" << a.index({Ellipsis, Slice(None,2)}) << std::endl;"
   ]
  },
  {
   "cell_type": "markdown",
   "id": "894b91db",
   "metadata": {},
   "source": [
    "### for data  with more than 2d dimensions"
   ]
  },
  {
   "cell_type": "code",
   "execution_count": 10,
   "id": "e7f1d32f",
   "metadata": {},
   "outputs": [
    {
     "name": "stdout",
     "output_type": "stream",
     "text": [
      "(1,.,.) = \n",
      " -0.2948  1.8308  0.0118 -1.6916\n",
      "  2.1074  0.4426 -1.4015 -1.3266\n",
      "  0.5725 -0.2176 -0.3111 -0.1298\n",
      "\n",
      "(2,.,.) = \n",
      "  1.8414  0.8354 -1.2584  0.0595\n",
      " -1.1864  2.2354  0.7159 -0.4346\n",
      "  0.4550 -0.5448  0.4000 -0.2466\n",
      "[ CPUFloatType{2,3,4} ]\n"
     ]
    }
   ],
   "source": [
    "torch::Tensor data_nd = torch::randn({2,3,4});\n",
    "std::cout << data_nd << std::endl;"
   ]
  },
  {
   "cell_type": "code",
   "execution_count": 11,
   "id": "bbdee0a0",
   "metadata": {},
   "outputs": [
    {
     "name": "stdout",
     "output_type": "stream",
     "text": [
      "(1,.,.) = \n",
      " 0.01 *\n",
      "  1.1834 -169.1563\n",
      "  -140.1462 -132.6640\n",
      "\n",
      "(2,.,.) = \n",
      " -1.2584  0.0595\n",
      "  0.7159 -0.4346\n",
      "[ CPUFloatType{2,2,2} ]\n"
     ]
    }
   ],
   "source": [
    "std::cout << data_nd.index({Ellipsis, Slice(None,2), Slice(2,None)}) << std::endl;"
   ]
  },
  {
   "cell_type": "markdown",
   "id": "b8386cf5",
   "metadata": {},
   "source": [
    "# setter"
   ]
  },
  {
   "cell_type": "code",
   "execution_count": 12,
   "id": "36ffcc0b",
   "metadata": {},
   "outputs": [
    {
     "name": "stdout",
     "output_type": "stream",
     "text": [
      " 0.8532  0.9418  0.2029  0.3435\n",
      " 0.2269  0.2082  0.4804  0.0777\n",
      " 0.5624  0.7376  0.8308  0.2543\n",
      "[ CPUFloatType{3,4} ]\n",
      " 0.8532  0.9418  0.2029  0.3435\n",
      " 0.2269  0.2082  1.1000  0.0777\n",
      " 0.5624  0.7376  0.8308  0.2543\n",
      "[ CPUFloatType{3,4} ]\n"
     ]
    }
   ],
   "source": [
    "std::cout << a << std::endl;\n",
    "\n",
    "//set operation\n",
    "a.index_put_({1, 2}, 1.1);\n",
    "    \n",
    "std::cout << a << std::endl;"
   ]
  },
  {
   "cell_type": "code",
   "execution_count": 13,
   "id": "6aaa1ae7",
   "metadata": {},
   "outputs": [
    {
     "name": "stdout",
     "output_type": "stream",
     "text": [
      " 0.8532  0.9418  0.2029  0.3435\n",
      " 0.2269  0.2082  1.1000  0.0777\n",
      " 0.5624  0.7376  0.8308  0.2543\n",
      "[ CPUFloatType{3,4} ]\n",
      " 0.8532  1.1000  0.2029  0.3435\n",
      " 0.2269  1.1000  1.1000  0.0777\n",
      " 0.5624  1.1000  0.8308  0.2543\n",
      "[ CPUFloatType{3,4} ]\n"
     ]
    }
   ],
   "source": [
    "std::cout << a << std::endl;\n",
    "\n",
    "//set operation\n",
    "a.index_put_({Slice(), 1}, 1.1);\n",
    "    \n",
    "std::cout << a << std::endl;"
   ]
  },
  {
   "cell_type": "code",
   "execution_count": 14,
   "id": "3a4be569",
   "metadata": {},
   "outputs": [
    {
     "name": "stdout",
     "output_type": "stream",
     "text": [
      " 0.8003  0.3272  0.9942\n",
      " 0.4317  0.4687  0.2748\n",
      "[ CPUFloatType{2,3} ]\n"
     ]
    }
   ],
   "source": [
    "torch::Tensor b = torch::rand({2,3}, torch::kFloat32);\n",
    "std::cout << b << std:: endl; "
   ]
  },
  {
   "cell_type": "code",
   "execution_count": 15,
   "id": "89ee862c",
   "metadata": {},
   "outputs": [
    {
     "name": "stdout",
     "output_type": "stream",
     "text": [
      " 0.8532  1.1000  0.2029  0.3435\n",
      " 0.2269  1.1000  1.1000  0.0777\n",
      " 0.5624  1.1000  0.8308  0.2543\n",
      "[ CPUFloatType{3,4} ]\n",
      " 0.8532  0.8003  0.3272  0.9942\n",
      " 0.2269  0.4317  0.4687  0.2748\n",
      " 0.5624  1.1000  0.8308  0.2543\n",
      "[ CPUFloatType{3,4} ]\n"
     ]
    }
   ],
   "source": [
    "using torch::indexing::None;\n",
    "std::cout << a << std::endl;\n",
    "\n",
    "//set operation\n",
    "a.index_put_({Slice(None,2), Slice(1,None)}, b);\n",
    "    \n",
    "std::cout << a << std::endl;"
   ]
  },
  {
   "cell_type": "code",
   "execution_count": 16,
   "id": "4dc2a2ce",
   "metadata": {},
   "outputs": [
    {
     "name": "stdout",
     "output_type": "stream",
     "text": [
      "(1,.,.) = \n",
      " -0.2948  1.8308  1.1110  1.1110\n",
      "  2.1074  0.4426  1.1110  1.1110\n",
      "  0.5725 -0.2176 -0.3111 -0.1298\n",
      "\n",
      "(2,.,.) = \n",
      "  1.8414  0.8354  1.1110  1.1110\n",
      " -1.1864  2.2354  1.1110  1.1110\n",
      "  0.4550 -0.5448  0.4000 -0.2466\n",
      "[ CPUFloatType{2,3,4} ]\n"
     ]
    }
   ],
   "source": [
    "data_nd.index_put_({Ellipsis, Slice(None,2), Slice(2,None)}, 1.111);\n",
    "std::cout << data_nd << std::endl;"
   ]
  },
  {
   "cell_type": "code",
   "execution_count": 17,
   "id": "af4761f3",
   "metadata": {},
   "outputs": [
    {
     "name": "stdout",
     "output_type": "stream",
     "text": [
      "(1,.,.) = \n",
      " -0.2948  1.8308  0.0000  0.0000\n",
      "  2.1074  0.4426  0.0000  0.0000\n",
      "  0.5725 -0.2176 -0.3111 -0.1298\n",
      "\n",
      "(2,.,.) = \n",
      "  1.8414  0.8354  0.0000  0.0000\n",
      " -1.1864  2.2354  0.0000  0.0000\n",
      "  0.4550 -0.5448  0.4000 -0.2466\n",
      "[ CPUFloatType{2,3,4} ]\n"
     ]
    }
   ],
   "source": [
    "data_nd.index_put_({Ellipsis, Slice(None,2), Slice(2,None)}, torch::zeros({2,2}));\n",
    "std::cout << data_nd << std::endl;"
   ]
  },
  {
   "cell_type": "markdown",
   "id": "08ae8be7",
   "metadata": {},
   "source": [
    "## checkout deep copy and shallow copy in libtorch"
   ]
  },
  {
   "cell_type": "code",
   "execution_count": 18,
   "id": "065a6d29",
   "metadata": {},
   "outputs": [
    {
     "name": "stdout",
     "output_type": "stream",
     "text": [
      " 0.8532  0.8003  0.3272  0.9942\n",
      " 0.2269  0.4317  0.4687  0.2748\n",
      " 0.5624  1.1000  0.8308  0.2543\n",
      "[ CPUFloatType{3,4} ]\n",
      " 0.8003  0.3272  0.9942\n",
      " 0.4317  0.4687  0.2748\n",
      "[ CPUFloatType{2,3} ]\n",
      " 0.8003  0.3272  0.9942\n",
      " 0.4317  0.4687  0.0080\n",
      "[ CPUFloatType{2,3} ]\n",
      " 0.8532  0.8003  0.3272  0.9942\n",
      " 0.2269  0.4317  0.4687  0.0080\n",
      " 0.5624  1.1000  0.8308  0.2543\n",
      "[ CPUFloatType{3,4} ]\n"
     ]
    }
   ],
   "source": [
    "using torch::indexing::None;\n",
    "std::cout << a << std::endl;\n",
    "\n",
    "//set operation\n",
    "auto d = a.index({Slice(None,2), Slice(1,None)});\n",
    "\n",
    "std::cout << d << std::endl;\n",
    "\n",
    "d.index_put_({1, 2}, 0.008);\n",
    "std::cout << d << std::endl;\n",
    "\n",
    "\n",
    "std::cout << a << std::endl;"
   ]
  },
  {
   "cell_type": "markdown",
   "id": "38918af9",
   "metadata": {},
   "source": [
    "**attention: the index operation is shallow copy, which mean if you change the value of copied data, the raw data will be changed**"
   ]
  },
  {
   "cell_type": "code",
   "execution_count": 19,
   "id": "968aec43",
   "metadata": {},
   "outputs": [
    {
     "name": "stdout",
     "output_type": "stream",
     "text": [
      " 0.8532  0.8003  0.3272  0.9942\n",
      " 0.2269  0.4317  0.4687  0.0080\n",
      " 0.5624  1.1000  0.8308  0.2543\n",
      "[ CPUFloatType{3,4} ]\n",
      " 0.8003  0.3272  0.9942\n",
      " 0.4317  0.4687  0.0080\n",
      "[ CPUFloatType{2,3} ]\n",
      " 0.8003  0.3272  0.9942\n",
      " 0.4317  0.4687  0.0088\n",
      "[ CPUFloatType{2,3} ]\n",
      " 0.8532  0.8003  0.3272  0.9942\n",
      " 0.2269  0.4317  0.4687  0.0080\n",
      " 0.5624  1.1000  0.8308  0.2543\n",
      "[ CPUFloatType{3,4} ]\n"
     ]
    }
   ],
   "source": [
    "using torch::indexing::None;\n",
    "std::cout << a << std::endl;\n",
    "\n",
    "//set operation\n",
    "auto d = a.index({Slice(None,2), Slice(1,None)}).clone();\n",
    "\n",
    "std::cout << d << std::endl;\n",
    "\n",
    "d.index_put_({1, 2}, 0.0088);\n",
    "std::cout << d << std::endl;\n",
    "\n",
    "\n",
    "std::cout << a << std::endl;"
   ]
  },
  {
   "cell_type": "code",
   "execution_count": 20,
   "id": "32e8c770",
   "metadata": {},
   "outputs": [
    {
     "name": "stdout",
     "output_type": "stream",
     "text": [
      " 0.8532  0.8003  0.3272  0.9942\n",
      " 0.2269  0.4317  0.4687  0.0080\n",
      " 0.5624  1.1000  0.8308  0.2543\n",
      "[ CPUFloatType{3,4} ]\n"
     ]
    }
   ],
   "source": [
    "std::cout << a << std::endl;"
   ]
  },
  {
   "cell_type": "code",
   "execution_count": 21,
   "id": "6639309d",
   "metadata": {},
   "outputs": [
    {
     "name": "stdout",
     "output_type": "stream",
     "text": [
      " 0.2269\n",
      " 0.4317\n",
      " 0.4687\n",
      " 0.0080\n",
      "[ CPUFloatType{4} ]\n"
     ]
    }
   ],
   "source": [
    "std::cout << a[1] << std::endl;"
   ]
  },
  {
   "cell_type": "markdown",
   "id": "59b97b53",
   "metadata": {},
   "source": [
    "# appendix: libtorch do not support negtive index in python, how?"
   ]
  },
  {
   "cell_type": "code",
   "execution_count": 29,
   "id": "0a4c04d0",
   "metadata": {},
   "outputs": [
    {
     "name": "stdout",
     "output_type": "stream",
     "text": [
      "(1,.,.) = \n",
      " -0.4603 -0.1172 -0.8876  0.5016  2.3583\n",
      "  0.1427  0.4431  0.2639 -0.6286 -0.2329\n",
      "  1.1542  0.4819 -1.3466  0.6501  1.1548\n",
      " -0.8747 -1.5733 -0.5106 -0.8643 -0.5009\n",
      "\n",
      "(2,.,.) = \n",
      "  0.1343  0.0037 -0.3412  0.6542 -0.4767\n",
      "  2.0049 -0.2559 -0.5876 -0.5024  0.4809\n",
      " -0.5196 -0.5719  0.3246 -2.0976 -1.1279\n",
      " -0.4343 -2.2104 -1.4824 -2.9104 -0.2483\n",
      "[ CPUFloatType{2,4,5} ]\n"
     ]
    }
   ],
   "source": [
    "torch::Tensor data = torch::randn({2,4,5});\n",
    "std::cout << data << std::endl;"
   ]
  },
  {
   "cell_type": "markdown",
   "id": "171e245c",
   "metadata": {},
   "source": [
    "use **data.size() - n** == \"-n\""
   ]
  },
  {
   "cell_type": "code",
   "execution_count": 30,
   "id": "6c2b8ab7",
   "metadata": {},
   "outputs": [
    {
     "name": "stdout",
     "output_type": "stream",
     "text": [
      "[2, 4, 5]\n",
      "3\n",
      "3\n",
      "5\n"
     ]
    }
   ],
   "source": [
    "std::cout << data.sizes() << std::endl;\n",
    "std::cout << data.sizes()[-1] << std::endl; //error\n",
    "std::cout << data.sizes().size() << std::endl;\n",
    "std::cout << data.sizes()[data.sizes().size()-1]<< std::endl;"
   ]
  },
  {
   "cell_type": "code",
   "execution_count": 32,
   "id": "7eec658a",
   "metadata": {},
   "outputs": [
    {
     "name": "stdout",
     "output_type": "stream",
     "text": [
      "4\n",
      "(1,.,.) = \n",
      " -0.4603 -0.1172 -0.8876  0.5016  2.3583\n",
      "  0.1427  0.4431  0.2639 -0.6286 -0.2329\n",
      "  1.1542  0.4819 -1.3466  0.6501  1.1548\n",
      "\n",
      "(2,.,.) = \n",
      "  0.1343  0.0037 -0.3412  0.6542 -0.4767\n",
      "  2.0049 -0.2559 -0.5876 -0.5024  0.4809\n",
      " -0.5196 -0.5719  0.3246 -2.0976 -1.1279\n",
      "[ CPUFloatType{2,3,5} ]"
     ]
    }
   ],
   "source": [
    "// how to represent the negative index?? like data.index(...,:-1,:)\n",
    "using torch::indexing::Slice;\n",
    "using torch::indexing::None;\n",
    "using torch::indexing::Ellipsis;\n",
    "\n",
    "int dim_length_at_level_negative_2 = data.sizes()[data.sizes().size()-2];\n",
    "std::cout << dim_length_at_level_negative_2 << std::endl;\n",
    "// negative window=-1\n",
    "int negative_window = 1;\n",
    "int end_position = dim_length_at_level_negative_2 - negative_window;\n",
    "\n",
    "std::cout << data.index({Ellipsis,Slice(None,end_position),Slice()});"
   ]
  }
 ],
 "metadata": {
  "kernelspec": {
   "display_name": "C++14",
   "language": "C++14",
   "name": "xcpp14"
  },
  "language_info": {
   "codemirror_mode": "text/x-c++src",
   "file_extension": ".cpp",
   "mimetype": "text/x-c++src",
   "name": "c++",
   "version": "14"
  }
 },
 "nbformat": 4,
 "nbformat_minor": 5
}
