{
 "cells": [
  {
   "cell_type": "code",
   "execution_count": 1,
   "id": "0e0c9635",
   "metadata": {},
   "outputs": [],
   "source": [
    "#pragma cling add_include_path(\"../../libtorch/include\")\n",
    "#pragma cling add_include_path(\"../../libtorch/include/torch/csrc/api/include\")\n",
    "#pragma cling add_library_path(\"../../libtorch/lib\")\n",
    "#pragma cling load(\"libtorch\")"
   ]
  },
  {
   "cell_type": "code",
   "execution_count": 2,
   "id": "02d65c2e",
   "metadata": {},
   "outputs": [],
   "source": [
    "#include <iostream>\n",
    "#include <vector>\n",
    "#include <torch/torch.h>"
   ]
  },
  {
   "cell_type": "markdown",
   "id": "dd001c85",
   "metadata": {},
   "source": [
    "# 1 create tensor by picking a factory function in libtorch\n"
   ]
  },
  {
   "cell_type": "markdown",
   "id": "298a6908",
   "metadata": {},
   "source": [
    "## 1.1 using factory function"
   ]
  },
  {
   "cell_type": "code",
   "execution_count": 3,
   "id": "9af7302a",
   "metadata": {},
   "outputs": [],
   "source": [
    "/* Factory Functions\n",
    "    A factory function is a function that produces a new tensor. There are many factory functions available in PyTorch (both in Python and C++), which differ in the way they initialize a new tensor before returning it. All factory functions adhere to the following general “schema”:\n",
    "    torch::<function-name>(<function-specific-options>, <sizes>, <tensor-options>)\n",
    "*/"
   ]
  },
  {
   "cell_type": "code",
   "execution_count": 4,
   "id": "6827b819",
   "metadata": {},
   "outputs": [
    {
     "name": "stdout",
     "output_type": "stream",
     "text": [
      " 0.8808  0.8306  0.6456\n",
      " 0.2943  0.2204  0.3642\n",
      "[ CPUFloatType{2,3} ]\n",
      "tensor size: [2, 3]\n"
     ]
    }
   ],
   "source": [
    "torch::Tensor tensor =  torch::rand({2,3});\n",
    "std::cout << tensor << std::endl;\n",
    "\n",
    "// <sizes> is an object of type IntArrayRef and specifies the shape of the resulting tensor,\n",
    "std::cout << \"tensor size: \" << tensor.sizes() << std::endl;"
   ]
  },
  {
   "cell_type": "code",
   "execution_count": 10,
   "id": "ad760658",
   "metadata": {},
   "outputs": [
    {
     "name": "stdout",
     "output_type": "stream",
     "text": [
      "2"
     ]
    }
   ],
   "source": [
    "std::cout << tensor.sizes()[0];"
   ]
  },
  {
   "cell_type": "code",
   "execution_count": 11,
   "id": "7268d160",
   "metadata": {},
   "outputs": [
    {
     "name": "stdout",
     "output_type": "stream",
     "text": [
      "2"
     ]
    }
   ],
   "source": [
    "std::cout << tensor.size(0);"
   ]
  },
  {
   "cell_type": "code",
   "execution_count": 4,
   "id": "1ead66ff",
   "metadata": {},
   "outputs": [
    {
     "name": "stdout",
     "output_type": "stream",
     "text": [
      " 9  0  7\n",
      " 2  3  2\n",
      "[ CPUFloatType{2,3} ]\n"
     ]
    }
   ],
   "source": [
    "// 1.1.2 Passing Function-Specific Parameters\n",
    "torch::Tensor tensor_int = torch::randint(/*high=*/10, {2, 3});\n",
    "std::cout << tensor_int << std::endl;"
   ]
  },
  {
   "cell_type": "markdown",
   "id": "589d1d13",
   "metadata": {},
   "source": [
    "## 1.2 create tensor from existing data\n",
    "* torch::from_blob function\n",
    "\n",
    "* torch::tensor function"
   ]
  },
  {
   "cell_type": "code",
   "execution_count": 21,
   "id": "e553ccad",
   "metadata": {},
   "outputs": [
    {
     "name": "stdout",
     "output_type": "stream",
     "text": [
      "data vector 1d: \n",
      "1 2 3 4\n",
      "data vector 2d: \n",
      "1 2 3 4 2 3 4 5\n"
     ]
    }
   ],
   "source": [
    "std::vector<float> data_vector1d = {1,2,3,4};\n",
    "std::cout << \"data vector 1d: \\n\" << data_vector1d << std::endl;\n",
    "\n",
    "std::vector<std::vector<float>> data_vector2d = {{1,2,3,4},{2,3,4,5}};\n",
    "std::cout << \"data vector 2d: \\n\" << data_vector2d << std::endl;"
   ]
  },
  {
   "cell_type": "code",
   "execution_count": 30,
   "id": "9c14a263",
   "metadata": {},
   "outputs": [
    {
     "name": "stdout",
     "output_type": "stream",
     "text": [
      "tensor from vector1d: \n",
      " 1  2\n",
      " 3  4\n",
      "[ CPUFloatType{2,2} ]\n"
     ]
    }
   ],
   "source": [
    "torch::Tensor tensor_from_vector1d = torch::from_blob(data_vector1d.data(), {2,2});\n",
    "std::cout << \"tensor from vector1d: \\n\" << tensor_from_vector1d << std::endl;"
   ]
  },
  {
   "cell_type": "code",
   "execution_count": 31,
   "id": "24d0e98f",
   "metadata": {},
   "outputs": [
    {
     "name": "stdout",
     "output_type": "stream",
     "text": [
      "tensor from vector2d: \n",
      " 5.2036e-06  3.0634e-41  5.2036e-06  3.0634e-41\n",
      " 5.2036e-06  3.0634e-41  5.4529e-06  3.0634e-41\n",
      "[ CPUFloatType{2,4} ]\n"
     ]
    }
   ],
   "source": [
    "// error\n",
    "torch::Tensor tensor_from_vector2d = torch::from_blob(data_vector2d.data(), {2,4});\n",
    "std::cout << \"tensor from vector2d: \\n\" << tensor_from_vector2d << std::endl;"
   ]
  },
  {
   "cell_type": "code",
   "execution_count": 32,
   "id": "6d079ae7",
   "metadata": {},
   "outputs": [
    {
     "name": "stdout",
     "output_type": "stream",
     "text": [
      "tensor from vector1d: \n",
      " 1  2\n",
      " 3  4\n",
      "[ CPUFloatType{2,2} ]\n"
     ]
    }
   ],
   "source": [
    "/*\n",
    "torch::tensor create function\n",
    "\n",
    "*/\n",
    "torch::Tensor tensor_from_vector1d_ = torch::tensor(data_vector1d);\n",
    "std::cout << \"tensor from vector1d: \\n\" << tensor_from_vector1d << std::endl;"
   ]
  },
  {
   "cell_type": "code",
   "execution_count": 33,
   "id": "5851ae73",
   "metadata": {},
   "outputs": [],
   "source": [
    "// error\n",
    "//torch::Tensor tensor_from_vector2d = torch::tensor(data_vector2d);\n",
    "//std::cout << \"tensor from vector: \\n\" << tensor_from_vector2d << std::endl;"
   ]
  },
  {
   "cell_type": "markdown",
   "id": "9c66b1a0",
   "metadata": {},
   "source": [
    "# 2 simple operation to tensor\n",
    "* member function of tensor\n",
    "* in-built function in libtorch"
   ]
  },
  {
   "cell_type": "code",
   "execution_count": 62,
   "id": "2138c64a",
   "metadata": {},
   "outputs": [],
   "source": [
    "torch::Tensor a = torch::rand({2,3});"
   ]
  },
  {
   "cell_type": "code",
   "execution_count": 64,
   "id": "6c9addf9",
   "metadata": {},
   "outputs": [
    {
     "name": "stdout",
     "output_type": "stream",
     "text": [
      " 0.2044  0.0009  0.8855\n",
      " 0.3952  0.8131  0.5710\n",
      "[ CPUFloatType{2,3} ]\n"
     ]
    }
   ],
   "source": [
    "std::cout << a << std::endl;"
   ]
  },
  {
   "cell_type": "code",
   "execution_count": 66,
   "id": "b217d554",
   "metadata": {},
   "outputs": [
    {
     "name": "stdout",
     "output_type": "stream",
     "text": [
      " 0.2044  0.0009\n",
      " 0.8855  0.3952\n",
      " 0.8131  0.5710\n",
      "[ CPUFloatType{3,2} ]\n"
     ]
    }
   ],
   "source": [
    "auto b = a.reshape({3,2});\n",
    "std::cout << b << std::endl;"
   ]
  },
  {
   "cell_type": "code",
   "execution_count": 70,
   "id": "8ed31058",
   "metadata": {},
   "outputs": [
    {
     "name": "stdout",
     "output_type": "stream",
     "text": [
      " 4.1769e-02  7.3036e-07  7.8416e-01\n",
      " 1.5616e-01  6.6110e-01  3.2599e-01\n",
      "[ CPUFloatType{2,3} ]\n"
     ]
    }
   ],
   "source": [
    "auto c = a.pow(2);\n",
    "std::cout << c << std::endl;"
   ]
  },
  {
   "cell_type": "code",
   "execution_count": 71,
   "id": "e2dc1f8c",
   "metadata": {},
   "outputs": [
    {
     "name": "stdout",
     "output_type": "stream",
     "text": [
      " 0.2044  0.0009  0.8855\n",
      " 0.3952  0.8131  0.5710\n",
      "[ CPUFloatType{2,3} ]\n"
     ]
    }
   ],
   "source": [
    "auto d = a.abs();\n",
    "std::cout << d << std::endl;"
   ]
  },
  {
   "cell_type": "code",
   "execution_count": 72,
   "id": "3e61e441",
   "metadata": {
    "scrolled": true
   },
   "outputs": [
    {
     "name": "stdout",
     "output_type": "stream",
     "text": [
      " 0.2044  0.0009  0.8855\n",
      " 0.3952  0.8131  0.5710\n",
      "[ CPUFloatType{2,3} ]\n"
     ]
    }
   ],
   "source": [
    "auto e = torch::abs(a);\n",
    "std::cout << e << std::endl;"
   ]
  },
  {
   "cell_type": "markdown",
   "id": "9dec8a6f",
   "metadata": {},
   "source": [
    "# 3 explore properties of tensor"
   ]
  },
  {
   "cell_type": "code",
   "execution_count": 42,
   "id": "3888bf90",
   "metadata": {},
   "outputs": [
    {
     "name": "stdout",
     "output_type": "stream",
     "text": [
      "[2, 2]\n"
     ]
    }
   ],
   "source": [
    "std::cout << tensor_from_vector1d.sizes() << std::endl;"
   ]
  },
  {
   "cell_type": "code",
   "execution_count": 43,
   "id": "3710d7a5",
   "metadata": {},
   "outputs": [
    {
     "name": "stdout",
     "output_type": "stream",
     "text": [
      "float\n"
     ]
    }
   ],
   "source": [
    "std::cout << tensor_from_vector1d.dtype() << std::endl;"
   ]
  },
  {
   "cell_type": "code",
   "execution_count": 44,
   "id": "73831bb0",
   "metadata": {},
   "outputs": [
    {
     "name": "stdout",
     "output_type": "stream",
     "text": [
      "cpu\n"
     ]
    }
   ],
   "source": [
    "std::cout << tensor_from_vector1d.device() << std::endl;"
   ]
  },
  {
   "cell_type": "code",
   "execution_count": 46,
   "id": "6f21a82a",
   "metadata": {},
   "outputs": [
    {
     "name": "stdout",
     "output_type": "stream",
     "text": [
      "Strided\n"
     ]
    }
   ],
   "source": [
    "std::cout << tensor_from_vector1d.layout() << std::endl;"
   ]
  },
  {
   "cell_type": "code",
   "execution_count": 47,
   "id": "0d5ecf29",
   "metadata": {},
   "outputs": [
    {
     "name": "stdout",
     "output_type": "stream",
     "text": [
      "0\n"
     ]
    }
   ],
   "source": [
    "std::cout << tensor_from_vector1d.requires_grad() << std::endl;"
   ]
  },
  {
   "cell_type": "markdown",
   "id": "edd127ee",
   "metadata": {},
   "source": [
    "# 4 configure properties of the tensor"
   ]
  },
  {
   "cell_type": "markdown",
   "id": "088bbf17",
   "metadata": {},
   "source": [
    "The previous section discussed function-specific arguments. Function-specific arguments can only change the values with which tensors are filled, and sometimes the size of the tensor. They never change things like the data type (e.g. float32 or int64) of the tensor being created, or whether it lives in CPU or GPU memory. The specification of these properties is left to the very last argument to every factory function: a TensorOptions object, discussed below.\n",
    "TensorOptions is a class that encapsulates the construction axes of a Tensor. With construction axis we mean a particular property of a Tensor that can be configured before its construction (and sometimes changed afterwards). These construction axes are:\n",
    "The dtype (previously “scalar type”), which controls the data type of the elements stored in the tensor,\n",
    "The layout, which is either strided (dense) or sparse,\n",
    "The device, which represents a compute device on which a tensor is stored (like a CPU or CUDA GPU),\n",
    "The requires_grad boolean to enable or disable gradient recording for a tensor,\n",
    "If you are used to PyTorch in Python, these axes will sound very familiar. The allowed values for these axes at the moment are:\n",
    "For dtype: kUInt8, kInt8, kInt16, kInt32, kInt64, kFloat32 and kFloat64,\n",
    "For layout: kStrided and kSparse,\n",
    "For device: Either kCPU, or kCUDA (which accepts an optional device index),\n",
    "For requires_grad: either true or false.*/\n"
   ]
  },
  {
   "cell_type": "markdown",
   "id": "39b5eb6d",
   "metadata": {},
   "source": [
    "## 4.1 use the general solution: torch::TensorOptions"
   ]
  },
  {
   "cell_type": "code",
   "execution_count": 49,
   "id": "ce788cec",
   "metadata": {},
   "outputs": [
    {
     "name": "stdout",
     "output_type": "stream",
     "text": [
      "tensor from torch::full: \n",
      " 12.3000  12.3000  12.3000  12.3000\n",
      " 12.3000  12.3000  12.3000  12.3000\n",
      " 12.3000  12.3000  12.3000  12.3000\n",
      "[ CPUFloatType{3,4} ]\n"
     ]
    }
   ],
   "source": [
    " auto options = torch::TensorOptions()\n",
    "\t    .dtype(torch::kFloat32)\n",
    "\t    .layout(torch::kStrided)\n",
    "\t    .device(torch::kCPU)\n",
    "\t    .requires_grad(true);\n",
    "torch::Tensor tensor_dtype = torch::full({3, 4}, /*value=*/12.3, options);\n",
    "std::cout << \"tensor from torch::full: \\n\" << tensor_dtype << std::endl;\n",
    "\n",
    "assert(tensor_dtype.dtype() == torch::kFloat32);\n",
    "assert(tensor_dtype.layout() == torch::kStrided);\n",
    "assert(tensor_dtype.device().type() == torch::kCPU); // or device().is_cuda()\n",
    "assert(tensor_dtype.requires_grad());"
   ]
  },
  {
   "cell_type": "markdown",
   "id": "cbcbac35",
   "metadata": {},
   "source": [
    "## 4.2 equivalent operation regarding tensor property"
   ]
  },
  {
   "cell_type": "markdown",
   "id": "c9b71549",
   "metadata": {},
   "source": [
    " Now, you may be thinking: do I really need to specify each axis for every new tensor I create?\n",
    "       Fortunately, the answer is “no”, as every axis has a default value. These defaults are:\n",
    "       kFloat32 for the dtype,\n",
    "       kStrided for the layout,\n",
    "       kCPU for the device,\n",
    "       false for requires_grad.\n",
    "    What this means is that any axis you omit during the construction of a TensorOptions object will take on its default value. For example, this is our previous TensorOptions object, but with the dtype and layout defaulted:\n",
    "    in fact, we can even omit all axes to get an entirely defaulted TensorOptions object:\n",
    "    auto options = torch::TensorOptions(); // or `torch::TensorOptions options;`\n",
    "    A nice consequence of this is that the TensorOptions object we just spoke so much about can be entirely omitted from any tensor factory call:\n",
    "    A 32-bit float, strided, CPU tensor that does not require a gradient.\n",
    "    torch::Tensor tensor = torch::randn({3, 4});\n",
    "    torch::Tensor range = torch::arange(5, 10);\n"
   ]
  },
  {
   "cell_type": "code",
   "execution_count": 56,
   "id": "5ab30e52",
   "metadata": {},
   "outputs": [
    {
     "data": {
      "text/plain": [
       "@0x55653829be20"
      ]
     },
     "execution_count": 56,
     "metadata": {},
     "output_type": "execute_result"
    }
   ],
   "source": [
    "// equivalent operation\n",
    "torch::ones(10, torch::TensorOptions().dtype(torch::kFloat32));\n",
    "torch::ones(10, torch::dtype(torch::kFloat32));\n",
    "//and further instead of\n",
    "torch::ones(10, torch::TensorOptions().dtype(torch::kFloat32).layout(torch::kStrided));\n",
    "//we can just write\n",
    "torch::ones(10, torch::dtype(torch::kFloat32).layout(torch::kStrided));\n",
    "// use default property\n",
    "// python syntax: torch.randn(3, 4, dtype=torch.float32, device=torch.device('cuda', 1), requires_grad=True)"
   ]
  },
  {
   "cell_type": "markdown",
   "id": "924b2b05",
   "metadata": {},
   "source": [
    "## 4.3 properties conversion"
   ]
  },
  {
   "cell_type": "markdown",
   "id": "031d1241",
   "metadata": {},
   "source": [
    "\n",
    "Just as we can use TensorOptions to configure how new tensors should be created, we can also use TensorOptions to convert a tensor from one set of properties to a new set of properties. Such a conversion usually creates a new tensor and does not occur in-place. For example, if we have a source_tensor created with\n"
   ]
  },
  {
   "cell_type": "code",
   "execution_count": 55,
   "id": "3d7e6162",
   "metadata": {},
   "outputs": [],
   "source": [
    "torch::Tensor source_tensor = torch::randn({2, 3});\n",
    "\n",
    "//we can convert it from int64 to float32:\n",
    "torch::Tensor float_tensor = source_tensor.to(torch::kFloat32);\n",
    "\n",
    "// The result of the conversion, float_tensor, is a new tensor pointing to new memory, unrelated to the source source_tensor.\n",
    "// We can then move it from CPU memory to GPU memory:\n",
    "    // if (torch::cuda::is_available()){\n",
    "    //    torch::Tensor gpu_tensor = float_tensor.to(torch::kCUDA);\n",
    "    //}"
   ]
  },
  {
   "cell_type": "code",
   "execution_count": null,
   "id": "947c1b5b",
   "metadata": {},
   "outputs": [],
   "source": []
  }
 ],
 "metadata": {
  "kernelspec": {
   "display_name": "C++14",
   "language": "C++14",
   "name": "xcpp14"
  },
  "language_info": {
   "codemirror_mode": "text/x-c++src",
   "file_extension": ".cpp",
   "mimetype": "text/x-c++src",
   "name": "c++",
   "version": "14"
  }
 },
 "nbformat": 4,
 "nbformat_minor": 5
}
