{
 "cells": [
  {
   "cell_type": "code",
   "execution_count": 1,
   "id": "795e3847",
   "metadata": {},
   "outputs": [],
   "source": [
    "import torch"
   ]
  },
  {
   "cell_type": "markdown",
   "id": "e27d9996",
   "metadata": {},
   "source": [
    "# 1 create tensor by picking a factory function in pytorch"
   ]
  },
  {
   "cell_type": "markdown",
   "id": "a92d8bb0",
   "metadata": {},
   "source": [
    "## 1.1 using factory function"
   ]
  },
  {
   "cell_type": "markdown",
   "id": "f888818f",
   "metadata": {},
   "source": [
    "Factory Functions\n",
    "\n",
    "A factory function is a function that produces a new tensor. There are many factory functions available in PyTorch (both in Python and C++), which differ in the way they initialize a new tensor before returning it. All factory functions adhere to the following general “schema”:\n",
    "~~~\n",
    "torch.<function-name>(<function-specific-options>, <sizes>, <tensor-options>)\n",
    "~~~"
   ]
  },
  {
   "cell_type": "code",
   "execution_count": 10,
   "id": "59afa6d6",
   "metadata": {},
   "outputs": [
    {
     "name": "stdout",
     "output_type": "stream",
     "text": [
      "tensor([[0.3434, 0.8420, 0.1121],\n",
      "        [0.8763, 0.1778, 0.8208]])\n"
     ]
    }
   ],
   "source": [
    "tensor = torch.rand((2,3))\n",
    "print(tensor)"
   ]
  },
  {
   "cell_type": "code",
   "execution_count": 11,
   "id": "29b76230",
   "metadata": {},
   "outputs": [
    {
     "name": "stdout",
     "output_type": "stream",
     "text": [
      "tensor([[9, 6, 9],\n",
      "        [2, 4, 7]])\n"
     ]
    }
   ],
   "source": [
    "#1.1.2 Passing Function-Specific Parameters\n",
    "tensor_int = torch.randint(10, (2, 3))\n",
    "print(tensor_int)"
   ]
  },
  {
   "cell_type": "markdown",
   "id": "bdef601c",
   "metadata": {},
   "source": [
    "## 1.2 create tensor from existing data\n",
    "\n",
    "* torch::from_blob function\n",
    "\n",
    "* torch::tensor function"
   ]
  },
  {
   "cell_type": "code",
   "execution_count": 14,
   "id": "e2de103e",
   "metadata": {},
   "outputs": [
    {
     "name": "stdout",
     "output_type": "stream",
     "text": [
      "[1, 2, 3, 4]\n"
     ]
    }
   ],
   "source": [
    "data_vector1d = [1,2,3,4]\n",
    "print(data_vector1d)"
   ]
  },
  {
   "cell_type": "code",
   "execution_count": 15,
   "id": "2cd3d9de",
   "metadata": {},
   "outputs": [
    {
     "name": "stdout",
     "output_type": "stream",
     "text": [
      "[[1, 2, 3, 4], [2, 3, 4, 5]]\n"
     ]
    }
   ],
   "source": [
    "data_vector2d = [[1,2,3,4],[2,3,4,5]]\n",
    "print(data_vector2d)"
   ]
  },
  {
   "cell_type": "code",
   "execution_count": 17,
   "id": "7f7afc0a",
   "metadata": {},
   "outputs": [
    {
     "name": "stdout",
     "output_type": "stream",
     "text": [
      "tensor([1, 2, 3, 4])\n"
     ]
    }
   ],
   "source": [
    "tensor_from_vector1d = torch.tensor(data_vector1d)\n",
    "print(tensor_from_vector1d)"
   ]
  },
  {
   "cell_type": "code",
   "execution_count": 18,
   "id": "ff1916a5",
   "metadata": {},
   "outputs": [
    {
     "name": "stdout",
     "output_type": "stream",
     "text": [
      "tensor([[1, 2, 3, 4],\n",
      "        [2, 3, 4, 5]])\n"
     ]
    }
   ],
   "source": [
    "tensor_from_vector2d = torch.tensor(data_vector2d)\n",
    "print(tensor_from_vector2d)"
   ]
  },
  {
   "cell_type": "markdown",
   "id": "8d7b598a",
   "metadata": {},
   "source": [
    "# 2 simple operation to tensor\n",
    "* member function of tensor\n",
    "* in-built function in libtorch"
   ]
  },
  {
   "cell_type": "code",
   "execution_count": 23,
   "id": "c800e4e0",
   "metadata": {},
   "outputs": [
    {
     "name": "stdout",
     "output_type": "stream",
     "text": [
      "tensor([[0.8825, 0.2882, 0.7084],\n",
      "        [0.8185, 0.6175, 0.3748]])\n"
     ]
    }
   ],
   "source": [
    "a = torch.rand((2,3))\n",
    "print(a)"
   ]
  },
  {
   "cell_type": "code",
   "execution_count": 25,
   "id": "72718653",
   "metadata": {},
   "outputs": [
    {
     "name": "stdout",
     "output_type": "stream",
     "text": [
      "tensor([[0.8825, 0.2882],\n",
      "        [0.7084, 0.8185],\n",
      "        [0.6175, 0.3748]])\n"
     ]
    }
   ],
   "source": [
    "b = a.reshape((3,2))\n",
    "print(b)"
   ]
  },
  {
   "cell_type": "code",
   "execution_count": 26,
   "id": "c6d2d4c8",
   "metadata": {},
   "outputs": [
    {
     "name": "stdout",
     "output_type": "stream",
     "text": [
      "tensor([[0.7788, 0.0831, 0.5018],\n",
      "        [0.6699, 0.3814, 0.1405]])\n"
     ]
    }
   ],
   "source": [
    "c = a.pow(2)\n",
    "print(c)"
   ]
  },
  {
   "cell_type": "code",
   "execution_count": 27,
   "id": "a7914d98",
   "metadata": {},
   "outputs": [
    {
     "name": "stdout",
     "output_type": "stream",
     "text": [
      "tensor([[0.8825, 0.2882, 0.7084],\n",
      "        [0.8185, 0.6175, 0.3748]])\n"
     ]
    }
   ],
   "source": [
    "d = a.abs()\n",
    "print(d)"
   ]
  },
  {
   "cell_type": "code",
   "execution_count": 28,
   "id": "8e632899",
   "metadata": {},
   "outputs": [
    {
     "name": "stdout",
     "output_type": "stream",
     "text": [
      "tensor([[0.8825, 0.2882, 0.7084],\n",
      "        [0.8185, 0.6175, 0.3748]])\n"
     ]
    }
   ],
   "source": [
    "e = torch.abs(a)\n",
    "print(e)"
   ]
  },
  {
   "cell_type": "markdown",
   "id": "3d12b54e",
   "metadata": {},
   "source": [
    "# 3 explore properties of tensor"
   ]
  },
  {
   "cell_type": "code",
   "execution_count": 39,
   "id": "59feaaf4",
   "metadata": {},
   "outputs": [
    {
     "data": {
      "text/plain": [
       "torch.Size([2, 4])"
      ]
     },
     "execution_count": 39,
     "metadata": {},
     "output_type": "execute_result"
    }
   ],
   "source": [
    "tensor_from_vector2d.size()"
   ]
  },
  {
   "cell_type": "code",
   "execution_count": 37,
   "id": "73098e45",
   "metadata": {},
   "outputs": [
    {
     "data": {
      "text/plain": [
       "torch.int64"
      ]
     },
     "execution_count": 37,
     "metadata": {},
     "output_type": "execute_result"
    }
   ],
   "source": [
    "tensor_from_vector2d.dtype"
   ]
  },
  {
   "cell_type": "code",
   "execution_count": 40,
   "id": "d1feab43",
   "metadata": {},
   "outputs": [
    {
     "data": {
      "text/plain": [
       "device(type='cpu')"
      ]
     },
     "execution_count": 40,
     "metadata": {},
     "output_type": "execute_result"
    }
   ],
   "source": [
    "tensor_from_vector2d.device"
   ]
  },
  {
   "cell_type": "code",
   "execution_count": 41,
   "id": "8b6ebfd4",
   "metadata": {},
   "outputs": [
    {
     "data": {
      "text/plain": [
       "torch.strided"
      ]
     },
     "execution_count": 41,
     "metadata": {},
     "output_type": "execute_result"
    }
   ],
   "source": [
    "tensor_from_vector2d.layout"
   ]
  },
  {
   "cell_type": "code",
   "execution_count": 43,
   "id": "7de4947b",
   "metadata": {},
   "outputs": [
    {
     "data": {
      "text/plain": [
       "False"
      ]
     },
     "execution_count": 43,
     "metadata": {},
     "output_type": "execute_result"
    }
   ],
   "source": [
    "tensor_from_vector2d.requires_grad"
   ]
  },
  {
   "cell_type": "markdown",
   "id": "6742a4bc",
   "metadata": {},
   "source": [
    "# 4 configure properties of the tensor"
   ]
  },
  {
   "cell_type": "markdown",
   "id": "2f64f2eb",
   "metadata": {},
   "source": [
    "> torch.tensor(data, *, dtype=None, device=None, requires_grad=False, pin_memory=False) → Tensor"
   ]
  },
  {
   "cell_type": "code",
   "execution_count": 45,
   "id": "47deb43c",
   "metadata": {},
   "outputs": [
    {
     "data": {
      "text/plain": [
       "tensor([[0, 0, 0, 0],\n",
       "        [0, 0, 0, 0]], dtype=torch.int32)"
      ]
     },
     "execution_count": 45,
     "metadata": {},
     "output_type": "execute_result"
    }
   ],
   "source": [
    "torch.zeros([2, 4], dtype=torch.int32)"
   ]
  },
  {
   "cell_type": "code",
   "execution_count": 46,
   "id": "9f96da58",
   "metadata": {},
   "outputs": [
    {
     "data": {
      "text/plain": [
       "tensor([[1., 1., 1., 1.],\n",
       "        [1., 1., 1., 1.]], device='cuda:0', dtype=torch.float64)"
      ]
     },
     "execution_count": 46,
     "metadata": {},
     "output_type": "execute_result"
    }
   ],
   "source": [
    "cuda0 = torch.device('cuda:0')\n",
    "torch.ones([2, 4], dtype=torch.float64, device=cuda0)"
   ]
  },
  {
   "cell_type": "markdown",
   "id": "7aee2842",
   "metadata": {},
   "source": [
    "## properties conversion"
   ]
  },
  {
   "cell_type": "code",
   "execution_count": 49,
   "id": "f63f7e6a",
   "metadata": {},
   "outputs": [],
   "source": [
    "tensor = torch.randn(2, 2)  # Initially dtype=float32, device=cpu"
   ]
  },
  {
   "cell_type": "code",
   "execution_count": 50,
   "id": "fde84a17",
   "metadata": {},
   "outputs": [
    {
     "data": {
      "text/plain": [
       "tensor([[-0.4925, -0.5312],\n",
       "        [ 0.2057,  0.2802]], dtype=torch.float64)"
      ]
     },
     "execution_count": 50,
     "metadata": {},
     "output_type": "execute_result"
    }
   ],
   "source": [
    "tensor.to(torch.float64)"
   ]
  },
  {
   "cell_type": "code",
   "execution_count": 51,
   "id": "7b94f218",
   "metadata": {},
   "outputs": [
    {
     "data": {
      "text/plain": [
       "tensor([[-0.4925, -0.5312],\n",
       "        [ 0.2057,  0.2802]], device='cuda:0')"
      ]
     },
     "execution_count": 51,
     "metadata": {},
     "output_type": "execute_result"
    }
   ],
   "source": [
    "cuda0 = torch.device('cuda:0')\n",
    "tensor.to(cuda0)"
   ]
  },
  {
   "cell_type": "code",
   "execution_count": 52,
   "id": "c34dfba7",
   "metadata": {},
   "outputs": [
    {
     "data": {
      "text/plain": [
       "tensor([[-0.4925, -0.5312],\n",
       "        [ 0.2057,  0.2802]], device='cuda:0', dtype=torch.float64)"
      ]
     },
     "execution_count": 52,
     "metadata": {},
     "output_type": "execute_result"
    }
   ],
   "source": [
    "tensor.to(cuda0, dtype=torch.float64)"
   ]
  },
  {
   "cell_type": "code",
   "execution_count": null,
   "id": "d0c497c1",
   "metadata": {},
   "outputs": [],
   "source": []
  }
 ],
 "metadata": {
  "kernelspec": {
   "display_name": "Python 3 (ipykernel)",
   "language": "python",
   "name": "python3"
  },
  "language_info": {
   "codemirror_mode": {
    "name": "ipython",
    "version": 3
   },
   "file_extension": ".py",
   "mimetype": "text/x-python",
   "name": "python",
   "nbconvert_exporter": "python",
   "pygments_lexer": "ipython3",
   "version": "3.10.5"
  }
 },
 "nbformat": 4,
 "nbformat_minor": 5
}
