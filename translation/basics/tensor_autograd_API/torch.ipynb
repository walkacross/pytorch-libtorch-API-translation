{
 "cells": [
  {
   "cell_type": "markdown",
   "id": "0da78770",
   "metadata": {},
   "source": [
    "# Differentiation in Autograd\n",
    "Let’s take a look at how autograd collects gradients. We create two tensors a and b with requires_grad=True. This signals to autograd that every operation on them should be tracked"
   ]
  },
  {
   "cell_type": "code",
   "execution_count": 1,
   "id": "3297736c",
   "metadata": {},
   "outputs": [],
   "source": [
    "import torch"
   ]
  },
  {
   "cell_type": "markdown",
   "id": "74ca39a5",
   "metadata": {},
   "source": [
    "# 1.1 basic usage"
   ]
  },
  {
   "cell_type": "code",
   "execution_count": 2,
   "id": "9028a3b7",
   "metadata": {},
   "outputs": [
    {
     "name": "stdout",
     "output_type": "stream",
     "text": [
      "tensor([2., 3.], requires_grad=True)\n"
     ]
    }
   ],
   "source": [
    "a = torch.tensor([2.0, 3.0], requires_grad=True)\n",
    "print(a)"
   ]
  },
  {
   "cell_type": "code",
   "execution_count": 3,
   "id": "5d22049a",
   "metadata": {},
   "outputs": [
    {
     "name": "stdout",
     "output_type": "stream",
     "text": [
      "tensor([6., 4.], requires_grad=True)\n"
     ]
    }
   ],
   "source": [
    "b = torch.tensor([6.0, 4.0], requires_grad=True)\n",
    "print(b)"
   ]
  },
  {
   "cell_type": "markdown",
   "id": "26aa4c1e",
   "metadata": {},
   "source": [
    "We create another tensor Q from a and b.\n",
    "\n",
    "Q = 3a^3 - b^2"
   ]
  },
  {
   "cell_type": "code",
   "execution_count": 4,
   "id": "b4e0db5b",
   "metadata": {},
   "outputs": [
    {
     "name": "stdout",
     "output_type": "stream",
     "text": [
      "tensor([-12.,  65.], grad_fn=<SubBackward0>)\n"
     ]
    }
   ],
   "source": [
    "Q = 3*a**3 - b**2\n",
    "print(Q)"
   ]
  },
  {
   "cell_type": "markdown",
   "id": "c47f27fa",
   "metadata": {},
   "source": [
    "we want gradients of the Q w.r.t. parameters a, b, i.e.\n",
    "\n",
    "∂Q/ ∂a =9a^2 \n",
    " \n",
    "∂Q/ ∂b = −2b\n",
    "\n",
    "When we call .backward() on Q, autograd calculates these gradients and stores them in the respective tensors’ .grad attribute."
   ]
  },
  {
   "cell_type": "markdown",
   "id": "556774d3",
   "metadata": {},
   "source": [
    "We need to explicitly pass a gradient argument in Q.backward() because it is a vector. gradient is a tensor of the same shape as Q, and it represents the gradient of Q w.r.t. itself, i.e.\n",
    "\n",
    "dQ/dQ =1\n",
    "\n",
    "Equivalently, we can also aggregate Q into a scalar and call backward implicitly, like Q.sum().backward()."
   ]
  },
  {
   "cell_type": "code",
   "execution_count": 5,
   "id": "55bae8b8",
   "metadata": {},
   "outputs": [],
   "source": [
    "external_grad = torch.tensor([1., 1.])\n",
    "Q.backward(gradient=external_grad)"
   ]
  },
  {
   "cell_type": "code",
   "execution_count": 6,
   "id": "212c6f9f",
   "metadata": {},
   "outputs": [
    {
     "name": "stdout",
     "output_type": "stream",
     "text": [
      "tensor([36., 81.])\n",
      "tensor([-12.,  -8.])\n",
      "tensor([True, True])\n",
      "tensor([True, True])\n"
     ]
    }
   ],
   "source": [
    "#Gradients are now deposited in a.grad and b.grad\n",
    "# check if collected gradients are correct\n",
    "print(a.grad)\n",
    "print(b.grad)\n",
    "\n",
    "print(9*a**2 == a.grad)\n",
    "print(-2*b == b.grad)"
   ]
  },
  {
   "cell_type": "markdown",
   "id": "d5d84194",
   "metadata": {},
   "source": [
    "## 1.2 Computational Graph"
   ]
  },
  {
   "cell_type": "markdown",
   "id": "51faaeb1",
   "metadata": {},
   "source": [
    "Conceptually, autograd keeps a record of data (tensors) & all executed operations (along with the resulting new tensors) in a directed acyclic graph (DAG) consisting of Function objects. In this DAG, leaves are the input tensors, roots are the output tensors. By tracing this graph from roots to leaves, you can automatically compute the gradients using the chain rule.\n",
    "\n",
    "In a forward pass, autograd does two things simultaneously:\n",
    "\n",
    "* run the requested operation to compute a resulting tensor, and\n",
    "* maintain the operation’s gradient function in the DAG.\n",
    "\n",
    "The backward pass kicks off when .backward() is called on the DAG root. autograd then:\n",
    "\n",
    "* computes the gradients from each .grad_fn,\n",
    "* accumulates them in the respective tensor’s .grad attribute, and\n",
    "* using the chain rule, propagates all the way to the leaf tensors."
   ]
  },
  {
   "cell_type": "code",
   "execution_count": 7,
   "id": "879a8d96",
   "metadata": {},
   "outputs": [
    {
     "name": "stdout",
     "output_type": "stream",
     "text": [
      "tensor([[ 2.1829],\n",
      "        [-0.0914],\n",
      "        [ 0.7154]], requires_grad=True)\n"
     ]
    }
   ],
   "source": [
    "shape = (3,1)\n",
    "x = torch.randn(shape, requires_grad=True)\n",
    "print(x)"
   ]
  },
  {
   "cell_type": "code",
   "execution_count": 8,
   "id": "154caa54",
   "metadata": {},
   "outputs": [
    {
     "name": "stdout",
     "output_type": "stream",
     "text": [
      "tensor([[3.1829],\n",
      "        [0.9086],\n",
      "        [1.7154]], grad_fn=<AddBackward0>)\n",
      "True\n",
      "<AddBackward0 object at 0x7f2c10cea9b0>\n"
     ]
    }
   ],
   "source": [
    "y = x+1\n",
    "print(y)\n",
    "print(y.requires_grad)\n",
    "print(y.grad_fn)"
   ]
  },
  {
   "cell_type": "code",
   "execution_count": 9,
   "id": "d89e9900",
   "metadata": {},
   "outputs": [
    {
     "name": "stdout",
     "output_type": "stream",
     "text": [
      "tensor([[13.1306],\n",
      "        [ 3.8255],\n",
      "        [ 5.9425]], grad_fn=<AddBackward0>)\n",
      "True\n",
      "<AddBackward0 object at 0x7f2c10cea440>\n",
      "((<PowBackward0 object at 0x7f2c10cebbe0>, 0), (None, 0))\n",
      "((<AddBackward0 object at 0x7f2c10cea440>, 0),)\n"
     ]
    }
   ],
   "source": [
    "z = y**2 + 3\n",
    "print(z)\n",
    "print(z.requires_grad)\n",
    "print(z.grad_fn)\n",
    "print(z.grad_fn.next_functions)\n",
    "print(z.grad_fn.next_functions[0][0].next_functions)"
   ]
  },
  {
   "cell_type": "markdown",
   "id": "48303142",
   "metadata": {},
   "source": [
    "## Disabling Gradient Tracking"
   ]
  },
  {
   "cell_type": "markdown",
   "id": "221be1da",
   "metadata": {},
   "source": [
    "Exclusion from the DAG\n",
    "torch.autograd tracks operations on all tensors which have their requires_grad flag set to True. For tensors that don’t require gradients, setting this attribute to False excludes it from the gradient computation DAG.\n",
    "\n",
    "The output tensor of an operation will require gradients even if only a single input tensor has requires_grad=True"
   ]
  },
  {
   "cell_type": "code",
   "execution_count": 10,
   "id": "b0b85092",
   "metadata": {},
   "outputs": [
    {
     "name": "stdout",
     "output_type": "stream",
     "text": [
      "Does `a` require gradients? : False\n",
      "Does `b` require gradients?: True\n"
     ]
    }
   ],
   "source": [
    "x = torch.rand(5, 5)\n",
    "y = torch.rand(5, 5)\n",
    "z = torch.rand((5, 5), requires_grad=True)\n",
    "\n",
    "a = x + y\n",
    "print(f\"Does `a` require gradients? : {a.requires_grad}\")\n",
    "b = x + z\n",
    "print(f\"Does `b` require gradients?: {b.requires_grad}\")"
   ]
  },
  {
   "cell_type": "code",
   "execution_count": 11,
   "id": "e7733e01",
   "metadata": {},
   "outputs": [],
   "source": [
    "# Disabling Gradient Tracking\n",
    "# ---------------------------\n",
    "#\n",
    "# By default, all tensors with ``requires_grad=True`` are tracking their\n",
    "# computational history and support gradient computation. However, there\n",
    "# are some cases when we do not need to do that, for example, when we have\n",
    "# trained the model and just want to apply it to some input data, i.e. we\n",
    "# only want to do *forward* computations through the network. We can stop\n",
    "# tracking computations by surrounding our computation code with\n",
    "# ``torch.no_grad()`` block:"
   ]
  },
  {
   "cell_type": "code",
   "execution_count": 12,
   "id": "a93fe539",
   "metadata": {},
   "outputs": [
    {
     "name": "stdout",
     "output_type": "stream",
     "text": [
      "False\n"
     ]
    }
   ],
   "source": [
    "with torch.no_grad():\n",
    "    c = x + z\n",
    "print(c.requires_grad)"
   ]
  },
  {
   "cell_type": "code",
   "execution_count": 13,
   "id": "205e45a8",
   "metadata": {},
   "outputs": [],
   "source": [
    "# Another way to achieve the same result is to use the ``detach()`` method on the tensor:"
   ]
  },
  {
   "cell_type": "code",
   "execution_count": 14,
   "id": "fdeec4b5",
   "metadata": {},
   "outputs": [
    {
     "name": "stdout",
     "output_type": "stream",
     "text": [
      "False\n"
     ]
    }
   ],
   "source": [
    "d = x + z\n",
    "d_detached = d.detach()\n",
    "print(d_detached.requires_grad)"
   ]
  },
  {
   "cell_type": "markdown",
   "id": "54c8d819",
   "metadata": {},
   "source": [
    "## 1.3 autograd in Neutral Network"
   ]
  },
  {
   "cell_type": "code",
   "execution_count": 15,
   "id": "24e18670",
   "metadata": {},
   "outputs": [
    {
     "name": "stdout",
     "output_type": "stream",
     "text": [
      "tensor([[0., 1., 2.],\n",
      "        [3., 4., 5.]])\n",
      "tensor([[2.],\n",
      "        [3.]])\n"
     ]
    }
   ],
   "source": [
    "sample_size = 2\n",
    "number_features = 3\n",
    "\n",
    "x = torch.arange(sample_size*number_features).reshape(sample_size, number_features) * 1.0\n",
    "print(x)\n",
    "\n",
    "target = torch.arange(2, sample_size+2).reshape(sample_size, 1) * 1.0\n",
    "print(target)"
   ]
  },
  {
   "cell_type": "code",
   "execution_count": 16,
   "id": "201744e6",
   "metadata": {},
   "outputs": [
    {
     "name": "stdout",
     "output_type": "stream",
     "text": [
      "tensor([[1.],\n",
      "        [1.],\n",
      "        [1.]], requires_grad=True)\n",
      "None\n"
     ]
    }
   ],
   "source": [
    "w = torch.ones((3,1), requires_grad=True)\n",
    "print(w)\n",
    "print(w.grad)"
   ]
  },
  {
   "cell_type": "code",
   "execution_count": 17,
   "id": "729a3830",
   "metadata": {},
   "outputs": [
    {
     "name": "stdout",
     "output_type": "stream",
     "text": [
      "tensor([[ 3.],\n",
      "        [12.]], grad_fn=<MmBackward0>)\n",
      "<MmBackward0 object at 0x7f2c10d20640>\n"
     ]
    }
   ],
   "source": [
    "output = x.matmul(w)\n",
    "print(output)\n",
    "print(output.grad_fn)"
   ]
  },
  {
   "cell_type": "code",
   "execution_count": 18,
   "id": "aa4f581d",
   "metadata": {},
   "outputs": [
    {
     "name": "stdout",
     "output_type": "stream",
     "text": [
      "tensor(41., grad_fn=<MeanBackward0>)\n"
     ]
    }
   ],
   "source": [
    "loss = ((output - target)**2).mean()\n",
    "print(loss)"
   ]
  },
  {
   "cell_type": "code",
   "execution_count": 19,
   "id": "6b33ea45",
   "metadata": {},
   "outputs": [],
   "source": [
    "loss.backward()"
   ]
  },
  {
   "cell_type": "code",
   "execution_count": 20,
   "id": "d6332077",
   "metadata": {},
   "outputs": [
    {
     "name": "stdout",
     "output_type": "stream",
     "text": [
      "tensor([[27.],\n",
      "        [37.],\n",
      "        [47.]])\n"
     ]
    }
   ],
   "source": [
    "print(w.grad)"
   ]
  },
  {
   "cell_type": "code",
   "execution_count": 21,
   "id": "96bbeb95",
   "metadata": {},
   "outputs": [],
   "source": [
    "def update_parameter(w, learning_rate=0.1):\n",
    "    with torch.no_grad():\n",
    "        w.add_(w.grad, alpha=-1*learning_rate)"
   ]
  },
  {
   "cell_type": "code",
   "execution_count": 22,
   "id": "7bc9e365",
   "metadata": {},
   "outputs": [],
   "source": [
    "update_parameter(w, 0.01)"
   ]
  },
  {
   "cell_type": "code",
   "execution_count": 23,
   "id": "bc6d6e64",
   "metadata": {},
   "outputs": [
    {
     "name": "stdout",
     "output_type": "stream",
     "text": [
      "tensor([[0.7300],\n",
      "        [0.6300],\n",
      "        [0.5300]], requires_grad=True)\n"
     ]
    }
   ],
   "source": [
    "print(w)"
   ]
  },
  {
   "cell_type": "markdown",
   "id": "a8cbbdaa",
   "metadata": {},
   "source": [
    "> DAGs are dynamic in PyTorch An important thing to note is that the graph is recreated from scratch; after each .backward() call, autograd starts populating a new graph. This is exactly what allows you to use control flow statements in your model; you can change the shape, size and operations at every iteration if needed."
   ]
  },
  {
   "cell_type": "markdown",
   "id": "c8fae9b4",
   "metadata": {},
   "source": [
    "## 1.4 vector-Jacobian product(optional reading)"
   ]
  },
  {
   "cell_type": "code",
   "execution_count": 24,
   "id": "cc35d6a9",
   "metadata": {},
   "outputs": [],
   "source": [
    "# In many cases, we have a scalar loss function, and we need to compute\n",
    "# the gradient with respect to some parameters. However, there are cases\n",
    "# when the output function is an arbitrary tensor. In this case, PyTorch\n",
    "# allows you to compute so-called **Jacobian product**"
   ]
  },
  {
   "cell_type": "markdown",
   "id": "8d6c2b4f",
   "metadata": {},
   "source": [
    "see https://pytorch.org/tutorials/beginner/blitz/autograd_tutorial.html#optional-reading-vector-calculus-using-autograd"
   ]
  },
  {
   "cell_type": "code",
   "execution_count": 25,
   "id": "3a622a4a",
   "metadata": {},
   "outputs": [
    {
     "name": "stdout",
     "output_type": "stream",
     "text": [
      "tensor([-12.,  65.], grad_fn=<SubBackward0>)\n"
     ]
    }
   ],
   "source": [
    "a = torch.tensor([2.0, 3.0], requires_grad=True)\n",
    "b = torch.tensor([6.0, 4.0], requires_grad=True)\n",
    "Q = 3*a**3 - b**2\n",
    "print(Q)"
   ]
  },
  {
   "cell_type": "code",
   "execution_count": 26,
   "id": "ce15a807",
   "metadata": {},
   "outputs": [
    {
     "name": "stdout",
     "output_type": "stream",
     "text": [
      "tensor([36., 81.])\n"
     ]
    }
   ],
   "source": [
    "external_grad = torch.tensor([1., 1.])\n",
    "Q.backward(gradient=external_grad)\n",
    "print(a.grad)"
   ]
  },
  {
   "cell_type": "code",
   "execution_count": 27,
   "id": "44a21388",
   "metadata": {},
   "outputs": [
    {
     "data": {
      "text/plain": [
       "tensor([0., 0.])"
      ]
     },
     "execution_count": 27,
     "metadata": {},
     "output_type": "execute_result"
    }
   ],
   "source": [
    "a.grad.zero_()"
   ]
  },
  {
   "cell_type": "code",
   "execution_count": 29,
   "id": "9bf9e80c",
   "metadata": {},
   "outputs": [],
   "source": [
    "#Q.sum().backward(retain_graph=True)\n",
    "#print(a.grad)"
   ]
  }
 ],
 "metadata": {
  "kernelspec": {
   "display_name": "Python 3 (ipykernel)",
   "language": "python",
   "name": "python3"
  },
  "language_info": {
   "codemirror_mode": {
    "name": "ipython",
    "version": 3
   },
   "file_extension": ".py",
   "mimetype": "text/x-python",
   "name": "python",
   "nbconvert_exporter": "python",
   "pygments_lexer": "ipython3",
   "version": "3.10.5"
  }
 },
 "nbformat": 4,
 "nbformat_minor": 5
}
