{
 "cells": [
  {
   "cell_type": "markdown",
   "id": "31ffd2b3",
   "metadata": {},
   "source": [
    "# Differentiation in Autograd\n",
    "Let’s take a look at how autograd collects gradients. We create two tensors a and b with requires_grad=True. This signals to autograd that every operation on them should be tracked"
   ]
  },
  {
   "cell_type": "code",
   "execution_count": 1,
   "id": "dccc02b7",
   "metadata": {},
   "outputs": [],
   "source": [
    "#pragma cling add_include_path(\"../../libtorch/include\")\n",
    "#pragma cling add_include_path(\"../../libtorch/include/torch/csrc/api/include\")\n",
    "#pragma cling add_library_path(\"../../libtorch/lib\")\n",
    "#pragma cling load(\"libtorch\")"
   ]
  },
  {
   "cell_type": "code",
   "execution_count": 2,
   "id": "1b3e76dc",
   "metadata": {},
   "outputs": [],
   "source": [
    "#include <iostream>\n",
    "#include <tuple>\n",
    "#include <torch/torch.h>\n",
    "namespace nn = torch::nn;"
   ]
  },
  {
   "cell_type": "markdown",
   "id": "48ac2f05",
   "metadata": {},
   "source": [
    "# 1.1 basic usage"
   ]
  },
  {
   "cell_type": "code",
   "execution_count": 3,
   "id": "f84e2416",
   "metadata": {},
   "outputs": [],
   "source": [
    "torch::Tensor a = torch::tensor({2.0, 3.0}, torch::requires_grad());"
   ]
  },
  {
   "cell_type": "code",
   "execution_count": 4,
   "id": "567271af",
   "metadata": {},
   "outputs": [
    {
     "name": "stdout",
     "output_type": "stream",
     "text": [
      " 2\n",
      " 3\n",
      "[ CPUFloatType{2} ]\n"
     ]
    }
   ],
   "source": [
    "std::cout << a << std::endl;"
   ]
  },
  {
   "cell_type": "code",
   "execution_count": 5,
   "id": "40df11ac",
   "metadata": {},
   "outputs": [],
   "source": [
    "torch::Tensor b = torch::tensor({6.0, 4.0}, torch::requires_grad());"
   ]
  },
  {
   "cell_type": "code",
   "execution_count": 6,
   "id": "f0ed399a",
   "metadata": {},
   "outputs": [
    {
     "name": "stdout",
     "output_type": "stream",
     "text": [
      " 6\n",
      " 4\n",
      "[ CPUFloatType{2} ]\n"
     ]
    }
   ],
   "source": [
    "std::cout << b << std::endl;"
   ]
  },
  {
   "cell_type": "markdown",
   "id": "bd43811c",
   "metadata": {},
   "source": [
    "We create another tensor Q from a and b.\n",
    "\n",
    "Q = 3a^3 - b^2"
   ]
  },
  {
   "cell_type": "code",
   "execution_count": 7,
   "id": "8ee16de1",
   "metadata": {},
   "outputs": [],
   "source": [
    "torch::Tensor Q = 3*a.pow(3) - b.pow(2);"
   ]
  },
  {
   "cell_type": "code",
   "execution_count": 8,
   "id": "d1e15769",
   "metadata": {},
   "outputs": [
    {
     "name": "stdout",
     "output_type": "stream",
     "text": [
      "-12\n",
      " 65\n",
      "[ CPUFloatType{2} ]\n"
     ]
    }
   ],
   "source": [
    "std::cout << Q << std::endl;"
   ]
  },
  {
   "cell_type": "markdown",
   "id": "e1873a33",
   "metadata": {},
   "source": [
    "we want gradients of the Q w.r.t. parameters a, b, i.e.\n",
    "\n",
    "∂Q/ ∂a =9a^2\n",
    "\n",
    "∂Q/ ∂b = −2b\n",
    "\n",
    "When we call .backward() on Q, autograd calculates these gradients and stores them in the respective tensors’ .grad attribute.\n",
    "\n",
    "We need to explicitly pass a gradient argument in Q.backward() because it is a vector. gradient is a tensor of the same shape as Q, and it represents the gradient of Q w.r.t. itself, i.e.\n",
    "\n",
    "dQ/dQ =1\n",
    "\n",
    "Equivalently, we can also aggregate Q into a scalar and call backward implicitly, like Q.sum().backward()."
   ]
  },
  {
   "cell_type": "code",
   "execution_count": 9,
   "id": "6620237c",
   "metadata": {},
   "outputs": [],
   "source": [
    "torch::Tensor external_grad = torch::tensor({1., 1.});\n",
    "Q.backward(/*gradient=*/external_grad);"
   ]
  },
  {
   "cell_type": "code",
   "execution_count": 10,
   "id": "962efbf0",
   "metadata": {},
   "outputs": [
    {
     "name": "stdout",
     "output_type": "stream",
     "text": [
      " 36\n",
      " 81\n",
      "[ CPUFloatType{2} ]\n"
     ]
    }
   ],
   "source": [
    "std::cout << a.grad() << std::endl;"
   ]
  },
  {
   "cell_type": "code",
   "execution_count": 11,
   "id": "4a89851b",
   "metadata": {},
   "outputs": [
    {
     "name": "stdout",
     "output_type": "stream",
     "text": [
      "-12\n",
      " -8\n",
      "[ CPUFloatType{2} ]\n"
     ]
    }
   ],
   "source": [
    "std::cout << b.grad() << std::endl;"
   ]
  },
  {
   "cell_type": "markdown",
   "id": "634f3064",
   "metadata": {},
   "source": [
    "# 1.2 Computational Graph\n",
    "Conceptually, autograd keeps a record of data (tensors) & all executed operations (along with the resulting new tensors) in a directed acyclic graph (DAG) consisting of Function objects. In this DAG, leaves are the input tensors, roots are the output tensors. By tracing this graph from roots to leaves, you can automatically compute the gradients using the chain rule.\n",
    "\n",
    "In a forward pass, autograd does two things simultaneously:\n",
    "\n",
    "* run the requested operation to compute a resulting tensor, and\n",
    "* maintain the operation’s gradient function in the DAG.\n",
    "\n",
    "The backward pass kicks off when .backward() is called on the DAG root. autograd then:\n",
    "\n",
    "* computes the gradients from each .grad_fn,\n",
    "* accumulates them in the respective tensor’s .grad attribute, and\n",
    "* using the chain rule, propagates all the way to the leaf tensors."
   ]
  },
  {
   "cell_type": "code",
   "execution_count": 12,
   "id": "ff8b30cf",
   "metadata": {},
   "outputs": [],
   "source": [
    "at::IntArrayRef shape = {3,1};\n",
    "torch::Tensor x = torch::randn(shape, torch::requires_grad());"
   ]
  },
  {
   "cell_type": "code",
   "execution_count": 13,
   "id": "0f0da064",
   "metadata": {},
   "outputs": [
    {
     "name": "stdout",
     "output_type": "stream",
     "text": [
      " 0.5560\n",
      "-1.0466\n",
      "-0.8018\n",
      "[ CPUFloatType{3,1} ]\n"
     ]
    }
   ],
   "source": [
    "std::cout << x << std::endl;"
   ]
  },
  {
   "cell_type": "code",
   "execution_count": 14,
   "id": "8d2ba117",
   "metadata": {},
   "outputs": [
    {
     "name": "stdout",
     "output_type": "stream",
     "text": [
      " 1.5560\n",
      "-0.0466\n",
      " 0.1982\n",
      "[ CPUFloatType{3,1} ]\n",
      "1\n",
      "0x55d18ace60d0\n",
      "AddBackward1\n"
     ]
    }
   ],
   "source": [
    "torch::Tensor y = x+1;\n",
    "std::cout << y << std::endl;\n",
    "std::cout << y.requires_grad() << std::endl;\n",
    "std::cout << y.grad_fn() << std::endl;\n",
    "std::cout << y.grad_fn()->name() << std::endl;"
   ]
  },
  {
   "cell_type": "code",
   "execution_count": 15,
   "id": "d3ea59d7",
   "metadata": {},
   "outputs": [
    {
     "name": "stdout",
     "output_type": "stream",
     "text": [
      " 5.4211\n",
      " 3.0022\n",
      " 3.0393\n",
      "[ CPUFloatType{3,1} ]\n",
      "1\n",
      "0x55d18ad30240\n",
      "AddBackward1\n"
     ]
    }
   ],
   "source": [
    "torch::Tensor z = y.pow(2) + 3;\n",
    "std::cout << z << std::endl;\n",
    "std::cout << z.requires_grad() << std::endl;\n",
    "std::cout << z.grad_fn() << std::endl;\n",
    "std::cout << z.grad_fn()->name() << std::endl;"
   ]
  },
  {
   "cell_type": "markdown",
   "id": "23bb4f3e",
   "metadata": {},
   "source": [
    "## Disabling Gradient Tracking\n",
    "Exclusion from the DAG torch.autograd tracks operations on all tensors which have their requires_grad flag set to True. For tensors that don’t require gradients, setting this attribute to False excludes it from the gradient computation DAG.\n",
    "\n",
    "The output tensor of an operation will require gradients even if only a single input tensor has requires_grad=True"
   ]
  },
  {
   "cell_type": "code",
   "execution_count": 16,
   "id": "1f2de6b7",
   "metadata": {},
   "outputs": [],
   "source": [
    "at::IntArrayRef shape = {5,5};\n",
    "torch::Tensor x = torch::rand(shape);\n",
    "torch::Tensor y = torch::rand(shape);\n",
    "torch::Tensor z = torch::rand(shape, torch::requires_grad());"
   ]
  },
  {
   "cell_type": "code",
   "execution_count": 17,
   "id": "a2e89f96",
   "metadata": {},
   "outputs": [
    {
     "name": "stdout",
     "output_type": "stream",
     "text": [
      "Does `a` require gradients? : 0\n"
     ]
    }
   ],
   "source": [
    "torch::Tensor a = x + y;\n",
    "std::cout << \"Does `a` require gradients? : \" << a.requires_grad() << std::endl;"
   ]
  },
  {
   "cell_type": "code",
   "execution_count": 18,
   "id": "55db8284",
   "metadata": {},
   "outputs": [
    {
     "name": "stdout",
     "output_type": "stream",
     "text": [
      "Does `b` require gradients? : 1\n"
     ]
    }
   ],
   "source": [
    "torch::Tensor b = x + z;\n",
    "std::cout << \"Does `b` require gradients? : \" << b.requires_grad() << std::endl;"
   ]
  },
  {
   "cell_type": "markdown",
   "id": "baaadd6e",
   "metadata": {},
   "source": [
    "Disabling Gradient Tracking\n",
    "\n",
    "\n",
    " By default, all tensors with ``requires_grad=True`` are tracking their\n",
    " computational history and support gradient computation. However, there\n",
    " are some cases when we do not need to do that, for example, when we have\n",
    " trained the model and just want to apply it to some input data, i.e. we\n",
    " only want to do *forward* computations through the network. We can stop\n",
    " tracking computations by surrounding our computation code with ``torch.no_grad()`` block:"
   ]
  },
  {
   "cell_type": "code",
   "execution_count": 19,
   "id": "25890445",
   "metadata": {},
   "outputs": [
    {
     "name": "stdout",
     "output_type": "stream",
     "text": [
      "Does `c` require gradients? : 0\n"
     ]
    }
   ],
   "source": [
    "{\n",
    "    torch::NoGradGuard no_grad;\n",
    "    torch::Tensor c = x + z;\n",
    "    std::cout << \"Does `c` require gradients? : \" << c.requires_grad() << std::endl;\n",
    "}"
   ]
  },
  {
   "cell_type": "markdown",
   "id": "ecae09e3",
   "metadata": {},
   "source": [
    "Another way to achieve the same result is to use the ``detach()`` method on the tensor:"
   ]
  },
  {
   "cell_type": "code",
   "execution_count": 21,
   "id": "aebc5e04",
   "metadata": {},
   "outputs": [
    {
     "name": "stdout",
     "output_type": "stream",
     "text": [
      "Does `d_detached` require gradients? : 0\n"
     ]
    }
   ],
   "source": [
    "torch::Tensor d = x + z;\n",
    "torch::Tensor d_detached = d.detach();\n",
    "std::cout << \"Does `d_detached` require gradients? : \" << d_detached.requires_grad() << std::endl;"
   ]
  },
  {
   "cell_type": "markdown",
   "id": "be91f674",
   "metadata": {},
   "source": [
    "# 1.3 autograd in Neutral Network"
   ]
  },
  {
   "cell_type": "code",
   "execution_count": 22,
   "id": "7e99155c",
   "metadata": {},
   "outputs": [],
   "source": [
    "int sample_size = 2;\n",
    "int number_features = 3;\n",
    "\n",
    "torch::Tensor x = torch::arange(sample_size*number_features).reshape({sample_size,number_features}) * 1.0;"
   ]
  },
  {
   "cell_type": "code",
   "execution_count": 24,
   "id": "c785036d",
   "metadata": {},
   "outputs": [
    {
     "name": "stdout",
     "output_type": "stream",
     "text": [
      " 0  1  2\n",
      " 3  4  5\n",
      "[ CPUFloatType{2,3} ]\n"
     ]
    }
   ],
   "source": [
    "std::cout << x << std::endl;"
   ]
  },
  {
   "cell_type": "code",
   "execution_count": 26,
   "id": "e4db3cf7",
   "metadata": {},
   "outputs": [],
   "source": [
    "torch::Tensor target = torch::arange(2, sample_size+2).reshape({sample_size, 1}) * 1.0;"
   ]
  },
  {
   "cell_type": "code",
   "execution_count": 27,
   "id": "d90c626d",
   "metadata": {},
   "outputs": [
    {
     "name": "stdout",
     "output_type": "stream",
     "text": [
      " 2\n",
      " 3\n",
      "[ CPUFloatType{2,1} ]\n"
     ]
    }
   ],
   "source": [
    "std::cout << target << std::endl;"
   ]
  },
  {
   "cell_type": "code",
   "execution_count": 28,
   "id": "6ad2b30e",
   "metadata": {},
   "outputs": [],
   "source": [
    "torch::Tensor w =torch::ones({3,1}, torch::requires_grad()); "
   ]
  },
  {
   "cell_type": "code",
   "execution_count": 29,
   "id": "93ea30f1",
   "metadata": {},
   "outputs": [
    {
     "name": "stdout",
     "output_type": "stream",
     "text": [
      " 1\n",
      " 1\n",
      " 1\n",
      "[ CPUFloatType{3,1} ]\n",
      "[ Tensor (undefined) ]\n"
     ]
    }
   ],
   "source": [
    "std::cout << w << std::endl;\n",
    "std::cout << w.grad() << std::endl;"
   ]
  },
  {
   "cell_type": "code",
   "execution_count": 30,
   "id": "9ba7b4ec",
   "metadata": {},
   "outputs": [
    {
     "name": "stdout",
     "output_type": "stream",
     "text": [
      "  3\n",
      " 12\n",
      "[ CPUFloatType{2,1} ]\n"
     ]
    }
   ],
   "source": [
    "torch::Tensor output = x.matmul(w);\n",
    "std::cout << output << std::endl;"
   ]
  },
  {
   "cell_type": "code",
   "execution_count": 31,
   "id": "99443f41",
   "metadata": {},
   "outputs": [],
   "source": [
    "torch::Tensor loss = (output - target).square().mean();"
   ]
  },
  {
   "cell_type": "code",
   "execution_count": 32,
   "id": "3acf301b",
   "metadata": {},
   "outputs": [],
   "source": [
    "loss.backward();"
   ]
  },
  {
   "cell_type": "code",
   "execution_count": 33,
   "id": "1c9034e2",
   "metadata": {},
   "outputs": [
    {
     "name": "stdout",
     "output_type": "stream",
     "text": [
      " 27\n",
      " 37\n",
      " 47\n",
      "[ CPUFloatType{3,1} ]\n"
     ]
    }
   ],
   "source": [
    "std::cout << w.grad() << std::endl;"
   ]
  },
  {
   "cell_type": "code",
   "execution_count": 34,
   "id": "4090f5b6",
   "metadata": {},
   "outputs": [],
   "source": [
    "void update_param(torch::Tensor param, float learning_rate){\n",
    "    torch::NoGradGuard no_grad;\n",
    "    param.data().add_(param.grad(), -1 * learning_rate);\n",
    "}"
   ]
  },
  {
   "cell_type": "code",
   "execution_count": 35,
   "id": "2ce89900",
   "metadata": {},
   "outputs": [],
   "source": [
    "update_param(w, 0.01);"
   ]
  },
  {
   "cell_type": "code",
   "execution_count": 36,
   "id": "83216bef",
   "metadata": {},
   "outputs": [
    {
     "name": "stdout",
     "output_type": "stream",
     "text": [
      " 0.7300\n",
      " 0.6300\n",
      " 0.5300\n",
      "[ CPUFloatType{3,1} ]\n"
     ]
    }
   ],
   "source": [
    "std::cout << w << std::endl;"
   ]
  },
  {
   "cell_type": "code",
   "execution_count": null,
   "id": "aff556eb",
   "metadata": {},
   "outputs": [],
   "source": []
  }
 ],
 "metadata": {
  "kernelspec": {
   "display_name": "C++17",
   "language": "C++17",
   "name": "xcpp17"
  },
  "language_info": {
   "codemirror_mode": "text/x-c++src",
   "file_extension": ".cpp",
   "mimetype": "text/x-c++src",
   "name": "c++",
   "version": "17"
  }
 },
 "nbformat": 4,
 "nbformat_minor": 5
}
