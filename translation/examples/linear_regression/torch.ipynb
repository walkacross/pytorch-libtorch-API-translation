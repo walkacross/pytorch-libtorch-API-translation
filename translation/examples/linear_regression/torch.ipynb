{
 "cells": [
  {
   "cell_type": "markdown",
   "id": "07ee84e3",
   "metadata": {},
   "source": [
    "# Linear regression"
   ]
  },
  {
   "cell_type": "code",
   "execution_count": 1,
   "id": "ffc3122e",
   "metadata": {},
   "outputs": [],
   "source": [
    "import torch\n",
    "from torch.utils.data import Dataset, DataLoader"
   ]
  },
  {
   "cell_type": "code",
   "execution_count": 2,
   "id": "12fb3d9f",
   "metadata": {},
   "outputs": [
    {
     "data": {
      "text/plain": [
       "<torch._C.Generator at 0x7f2145683f10>"
      ]
     },
     "execution_count": 2,
     "metadata": {},
     "output_type": "execute_result"
    }
   ],
   "source": [
    "torch.manual_seed(1)"
   ]
  },
  {
   "cell_type": "code",
   "execution_count": 3,
   "id": "ff4c1289",
   "metadata": {},
   "outputs": [],
   "source": [
    "a = torch.randn((2,3))"
   ]
  },
  {
   "cell_type": "code",
   "execution_count": 4,
   "id": "47af231e",
   "metadata": {},
   "outputs": [
    {
     "data": {
      "text/plain": [
       "2"
      ]
     },
     "execution_count": 4,
     "metadata": {},
     "output_type": "execute_result"
    }
   ],
   "source": [
    "a.size(0)"
   ]
  },
  {
   "cell_type": "code",
   "execution_count": 5,
   "id": "b3e4f6f8",
   "metadata": {},
   "outputs": [],
   "source": [
    "def synthetic_data(true_w, true_b, num_samples):\n",
    "    X = torch.normal(0.0, 1.0, (num_samples, true_w.size(0)))\n",
    "    y = torch.matmul(X, true_w) + true_b\n",
    "    y += torch.normal(0.0, 0.01, y.size())\n",
    "    y = torch.reshape(y, (-1, 1))\n",
    "    return X,y"
   ]
  },
  {
   "cell_type": "code",
   "execution_count": 6,
   "id": "13c10dcc",
   "metadata": {},
   "outputs": [
    {
     "name": "stdout",
     "output_type": "stream",
     "text": [
      "tensor([ 2.0000, -3.4000])\n",
      "torch.Size([2])\n",
      "2\n"
     ]
    }
   ],
   "source": [
    "true_w = torch.tensor([2.0, -3.4], dtype=torch.float)\n",
    "print(true_w)\n",
    "print(true_w.size())\n",
    "print(true_w.size(0))\n",
    "true_b = 4.2\n",
    "num_samples = 3000"
   ]
  },
  {
   "cell_type": "code",
   "execution_count": 7,
   "id": "f6d1df3d",
   "metadata": {},
   "outputs": [],
   "source": [
    "data_and_label = synthetic_data(true_w, true_b, num_samples)"
   ]
  },
  {
   "cell_type": "code",
   "execution_count": 8,
   "id": "62c27d9a",
   "metadata": {},
   "outputs": [
    {
     "name": "stdout",
     "output_type": "stream",
     "text": [
      "tensor([[-0.5912,  0.2738],\n",
      "        [-0.9649, -0.2358],\n",
      "        [-0.6970, -1.1608],\n",
      "        ...,\n",
      "        [ 1.0776, -0.2889],\n",
      "        [-0.1190, -0.3023],\n",
      "        [ 0.0503, -0.3310]])\n",
      "tensor([[2.0839],\n",
      "        [3.0648],\n",
      "        [6.7607],\n",
      "        ...,\n",
      "        [7.3397],\n",
      "        [4.9855],\n",
      "        [5.4237]])\n"
     ]
    }
   ],
   "source": [
    "features = data_and_label[0]\n",
    "print(features)\n",
    "\n",
    "labels = data_and_label[1]\n",
    "print(labels)"
   ]
  },
  {
   "cell_type": "markdown",
   "id": "06accb9b",
   "metadata": {},
   "source": [
    "# step2: create dataset and dataloader"
   ]
  },
  {
   "cell_type": "code",
   "execution_count": 9,
   "id": "f96e091e",
   "metadata": {},
   "outputs": [],
   "source": [
    "from torch.utils.data import Dataset\n",
    "class CustomDataset(Dataset):\n",
    "    def __init__(self, features, labels):\n",
    "        super(CustomDataset, self).__init__()\n",
    "        self.features = features\n",
    "        self.labels = labels\n",
    "        assert features.shape[0] == labels.shape[0]\n",
    "    \n",
    "    def __getitem__(self, i):\n",
    "        return self.features[i], self.labels[i]\n",
    "    \n",
    "    def __len__(self):\n",
    "        return self.features.shape[0]"
   ]
  },
  {
   "cell_type": "code",
   "execution_count": 10,
   "id": "0f03a510",
   "metadata": {},
   "outputs": [],
   "source": [
    "dataset = CustomDataset(features, labels)"
   ]
  },
  {
   "cell_type": "code",
   "execution_count": 11,
   "id": "4f648adc",
   "metadata": {},
   "outputs": [
    {
     "name": "stdout",
     "output_type": "stream",
     "text": [
      "3000\n"
     ]
    }
   ],
   "source": [
    "print(len(dataset))"
   ]
  },
  {
   "cell_type": "code",
   "execution_count": 12,
   "id": "99a91a12",
   "metadata": {},
   "outputs": [],
   "source": [
    "sample = dataset[0]"
   ]
  },
  {
   "cell_type": "code",
   "execution_count": 13,
   "id": "6151f17e",
   "metadata": {},
   "outputs": [
    {
     "name": "stdout",
     "output_type": "stream",
     "text": [
      "tensor([-0.5912,  0.2738])\n",
      "tensor([2.0839])\n"
     ]
    }
   ],
   "source": [
    "first_x = sample[0]\n",
    "first_y = sample[1]\n",
    "print(first_x)\n",
    "print(first_y)"
   ]
  },
  {
   "cell_type": "code",
   "execution_count": 14,
   "id": "3abe72c1",
   "metadata": {},
   "outputs": [],
   "source": [
    "dataloader = DataLoader(dataset=dataset, batch_size=10, shuffle=True, drop_last=False)"
   ]
  },
  {
   "cell_type": "markdown",
   "id": "5049684e",
   "metadata": {},
   "source": [
    "# step3: create model"
   ]
  },
  {
   "cell_type": "code",
   "execution_count": 21,
   "id": "aea5080a",
   "metadata": {},
   "outputs": [
    {
     "name": "stdout",
     "output_type": "stream",
     "text": [
      "[Parameter containing:\n",
      "tensor([[0.0081, 0.0056]], requires_grad=True), Parameter containing:\n",
      "tensor([0.], requires_grad=True)]\n"
     ]
    }
   ],
   "source": [
    "model = torch.nn.Linear(true_w.size(0), 1)\n",
    "model.weight.data.normal_(0, 0.01)\n",
    "model.bias.data.fill_(0)\n",
    "\n",
    "print(list(model.parameters()))"
   ]
  },
  {
   "cell_type": "markdown",
   "id": "d0a5a653",
   "metadata": {},
   "source": [
    "# step4: create optimizer"
   ]
  },
  {
   "cell_type": "code",
   "execution_count": 26,
   "id": "f3187c9f",
   "metadata": {},
   "outputs": [],
   "source": [
    "optimizer = torch.optim.SGD(model.parameters(), lr=0.03)"
   ]
  },
  {
   "cell_type": "markdown",
   "id": "aac39913",
   "metadata": {},
   "source": [
    "# step5: define loss function"
   ]
  },
  {
   "cell_type": "code",
   "execution_count": 30,
   "id": "45879136",
   "metadata": {},
   "outputs": [],
   "source": [
    "loss_function = torch.nn.MSELoss(reduction='mean')"
   ]
  },
  {
   "cell_type": "markdown",
   "id": "367984de",
   "metadata": {},
   "source": [
    "# step6: train to get the optimal parameter in model"
   ]
  },
  {
   "cell_type": "code",
   "execution_count": 35,
   "id": "24a09ccf",
   "metadata": {},
   "outputs": [
    {
     "name": "stdout",
     "output_type": "stream",
     "text": [
      "Epoch:  0  loss:  tensor(9.9488e-05, grad_fn=<MseLossBackward0>)\n",
      "Epoch:  1  loss:  tensor(0.0001, grad_fn=<MseLossBackward0>)\n",
      "Epoch:  2  loss:  tensor(9.9027e-05, grad_fn=<MseLossBackward0>)\n"
     ]
    }
   ],
   "source": [
    "num_epochs = 3;\n",
    "for i in range(num_epochs):\n",
    "    for batch in dataloader:\n",
    "        x, y = batch\n",
    "        output = model.forward(x);\n",
    "        loss = loss_function(output, y);\n",
    "        \n",
    "        optimizer.zero_grad()\n",
    "        loss.backward()\n",
    "        optimizer.step()\n",
    "\n",
    "    epoch_output = model.forward(features)\n",
    "    epoch_loss = loss_function(epoch_output, labels)\n",
    "    print(\"Epoch: \", i ,\" loss: \", epoch_loss)"
   ]
  },
  {
   "cell_type": "markdown",
   "id": "f83b4ef3",
   "metadata": {},
   "source": [
    "# step7: evaluate the performance"
   ]
  },
  {
   "cell_type": "code",
   "execution_count": 38,
   "id": "e04f0454",
   "metadata": {},
   "outputs": [
    {
     "name": "stdout",
     "output_type": "stream",
     "text": [
      "estimated parameter is  tensor([[ 2.0001, -3.3996]])\n",
      "torch.Size([1, 2])\n"
     ]
    }
   ],
   "source": [
    "w = model.weight.data\n",
    "print(\"estimated parameter is \", w)\n",
    "print(w.size())"
   ]
  },
  {
   "cell_type": "code",
   "execution_count": 42,
   "id": "7a9ad89b",
   "metadata": {},
   "outputs": [
    {
     "name": "stdout",
     "output_type": "stream",
     "text": [
      "error in estimating w: tensor([-0.0001, -0.0004]) \n",
      "\n"
     ]
    }
   ],
   "source": [
    "w_dif = true_w - w.reshape(true_w.size())\n",
    "print(\"error in estimating w: {} \\n\".format(w_dif))"
   ]
  },
  {
   "cell_type": "code",
   "execution_count": 45,
   "id": "030a82c0",
   "metadata": {},
   "outputs": [
    {
     "name": "stdout",
     "output_type": "stream",
     "text": [
      "estimated bias is  tensor([4.1997])\n",
      "error in estimating b:  tensor([0.0003])\n",
      "done\n"
     ]
    }
   ],
   "source": [
    "b = model.bias.data\n",
    "print(\"estimated bias is \", b)\n",
    "print(\"error in estimating b: \", true_b - b)\n",
    "print(\"done\")"
   ]
  }
 ],
 "metadata": {
  "kernelspec": {
   "display_name": "Python 3 (ipykernel)",
   "language": "python",
   "name": "python3"
  },
  "language_info": {
   "codemirror_mode": {
    "name": "ipython",
    "version": 3
   },
   "file_extension": ".py",
   "mimetype": "text/x-python",
   "name": "python",
   "nbconvert_exporter": "python",
   "pygments_lexer": "ipython3",
   "version": "3.10.5"
  }
 },
 "nbformat": 4,
 "nbformat_minor": 5
}
