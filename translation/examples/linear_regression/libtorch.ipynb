{
 "cells": [
  {
   "cell_type": "markdown",
   "id": "c478ae56",
   "metadata": {},
   "source": [
    "# Linear regression"
   ]
  },
  {
   "cell_type": "code",
   "execution_count": 1,
   "id": "cabf6fc8",
   "metadata": {},
   "outputs": [],
   "source": [
    "#pragma cling add_include_path(\"../../libtorch/include\")\n",
    "#pragma cling add_include_path(\"../../libtorch/include/torch/csrc/api/include\")\n",
    "#pragma cling add_library_path(\"../../libtorch/lib\")\n",
    "#pragma cling load(\"libtorch\")"
   ]
  },
  {
   "cell_type": "code",
   "execution_count": 2,
   "id": "ec88c6f4",
   "metadata": {},
   "outputs": [],
   "source": [
    "#include <iostream>\n",
    "#include <cstddef>\n",
    "#include <torch/torch.h>"
   ]
  },
  {
   "cell_type": "code",
   "execution_count": 3,
   "id": "7870f876",
   "metadata": {},
   "outputs": [],
   "source": [
    "//torch::manual_seed(1);"
   ]
  },
  {
   "cell_type": "markdown",
   "id": "4684ce4f",
   "metadata": {},
   "source": [
    "## step 1: create mock data x and y"
   ]
  },
  {
   "cell_type": "code",
   "execution_count": 4,
   "id": "2430750d",
   "metadata": {},
   "outputs": [],
   "source": [
    "std::pair<torch::Tensor, torch::Tensor> synthetic_data(torch::Tensor true_w, float true_b, int64_t num_samples) {\n",
    "\n",
    "    auto X = torch::normal(0.0, 1.0, {num_samples, true_w.size(0)});\n",
    "    auto y = torch::matmul(X, true_w) + true_b;\n",
    "    y += torch::normal(0.0, 0.01, y.sizes());\n",
    "    y = torch::reshape(y, {-1, 1});\n",
    "\n",
    "    //return torch::cat({X, y}, 1);\n",
    "    return {X, y};\n",
    " }"
   ]
  },
  {
   "cell_type": "code",
   "execution_count": 5,
   "id": "afc38c35",
   "metadata": {},
   "outputs": [
    {
     "name": "stdout",
     "output_type": "stream",
     "text": [
      "2\n"
     ]
    }
   ],
   "source": [
    "auto options = torch::TensorOptions().dtype(torch::kFloat).device(torch::kCPU);\n",
    "\n",
    "// Generating the Dataset\n",
    "torch::Tensor true_w = torch::tensor({2.0, -3.4}, options);\n",
    "std::cout << true_w.size(0) << std::endl;\n",
    "float true_b = 4.2;\n",
    "int64_t num_samples = 3000;\n",
    "\n",
    "std::pair<torch::Tensor, torch::Tensor> data_and_label = synthetic_data(true_w, true_b, num_samples);"
   ]
  },
  {
   "cell_type": "markdown",
   "id": "1578a1a2",
   "metadata": {},
   "source": [
    "## step2: create dataset and dataloader"
   ]
  },
  {
   "cell_type": "code",
   "execution_count": 6,
   "id": "bcf19592",
   "metadata": {},
   "outputs": [],
   "source": [
    "class CustomDataset : public torch::data::Dataset<CustomDataset>{\n",
    "    private:\n",
    "        torch::Tensor __features;\n",
    "        torch::Tensor __labels;\n",
    "    \n",
    "    public:\n",
    "    CustomDataset(torch::Tensor features, torch::Tensor labels):__features(features),__labels(labels){\n",
    "        \n",
    "    }\n",
    "    \n",
    "    torch::data::Example<> get(size_t index){\n",
    "        torch::Tensor sample_features = __features[index];\n",
    "        torch::Tensor sample_label = __labels[index];\n",
    "        return {sample_features.clone(), sample_label.clone()};\n",
    "    }\n",
    "    \n",
    "    torch::optional <size_t> size() const {\n",
    "        return __features.sizes()[0];\n",
    "    }\n",
    "}"
   ]
  },
  {
   "cell_type": "code",
   "execution_count": 7,
   "id": "b99d39ca",
   "metadata": {},
   "outputs": [],
   "source": [
    "auto dataset = CustomDataset(data_and_label.first, data_and_label.second);"
   ]
  },
  {
   "cell_type": "code",
   "execution_count": 8,
   "id": "175c5b86",
   "metadata": {},
   "outputs": [
    {
     "name": "stdout",
     "output_type": "stream",
     "text": [
      " 0.0283\n",
      " 2.1235\n",
      "[ CPUFloatType{2} ]\n",
      "-2.9579\n",
      "[ CPUFloatType{1} ]\n"
     ]
    }
   ],
   "source": [
    "// print the first sample\n",
    "torch::data::Example<> sample = dataset.get(0);\n",
    "std::cout << sample.data << std::endl;\n",
    "std::cout << sample.target << std::endl;"
   ]
  },
  {
   "cell_type": "code",
   "execution_count": 9,
   "id": "387380ff",
   "metadata": {},
   "outputs": [],
   "source": [
    "auto stacked_dataset = dataset.map(torch::data::transforms::Stack<>());"
   ]
  },
  {
   "cell_type": "code",
   "execution_count": 10,
   "id": "a4ae4860",
   "metadata": {},
   "outputs": [],
   "source": [
    "int batch_size = 10;\n",
    "torch::data::DataLoaderOptions options = torch::data::DataLoaderOptions().batch_size(batch_size).drop_last(false);\n",
    "auto data_loader = torch::data::make_data_loader<torch::data::samplers::RandomSampler>(std::move(stacked_dataset), options);"
   ]
  },
  {
   "cell_type": "markdown",
   "id": "4d2239b0",
   "metadata": {},
   "source": [
    "## step3: create model"
   ]
  },
  {
   "cell_type": "code",
   "execution_count": 11,
   "id": "fadc81d0",
   "metadata": {},
   "outputs": [],
   "source": [
    "torch::nn::Linear model(true_w.size(0), 1);\n",
    "\n",
    "model->weight.data().normal_(0.0, 0.01);\n",
    "model->bias.data().fill_(0);"
   ]
  },
  {
   "cell_type": "markdown",
   "id": "728973f6",
   "metadata": {},
   "source": [
    "## step4: create optimizer"
   ]
  },
  {
   "cell_type": "code",
   "execution_count": 12,
   "id": "d53e7be7",
   "metadata": {},
   "outputs": [],
   "source": [
    "auto optimizer = torch::optim::SGD(model->parameters(), 0.03);"
   ]
  },
  {
   "cell_type": "markdown",
   "id": "f117e517",
   "metadata": {},
   "source": [
    "## step5: define loss function"
   ]
  },
  {
   "cell_type": "code",
   "execution_count": null,
   "id": "cf9394c6",
   "metadata": {},
   "outputs": [],
   "source": [
    "auto options = torch::nn::MSELossOptions(torch::kMean);\n",
    "torch::nn::MSELoss loss_function(options);"
   ]
  },
  {
   "cell_type": "markdown",
   "id": "41c13dab",
   "metadata": {},
   "source": [
    "## step6: train to get the optimal parameter in model"
   ]
  },
  {
   "cell_type": "code",
   "execution_count": 14,
   "id": "ab41dbf6",
   "metadata": {},
   "outputs": [
    {
     "name": "stdout",
     "output_type": "stream",
     "text": [
      "Epoch: 0 loss: 0.000100087\n",
      "[ CPUFloatType{} ]\n",
      "Epoch: 1 loss: 0.000100172\n",
      "[ CPUFloatType{} ]\n",
      "Epoch: 2 loss: 9.97453e-05\n",
      "[ CPUFloatType{} ]\n"
     ]
    }
   ],
   "source": [
    "auto features = std::move(data_and_label.first);\n",
    "auto labels = std::move(data_and_label.second);\n",
    "\n",
    "// Training\n",
    "size_t num_epochs = 3;\n",
    "for( size_t i =0 ; i < num_epochs; i++ ) {\n",
    "\n",
    "    for (auto &batch : *data_loader) {\n",
    "        //std::cout << batch.data()->data.sizes() << '\\n';\n",
    "        auto x = batch.data;\n",
    "        auto y = batch.target;\n",
    "\n",
    "        //std::cout << x.sizes() << std::endl;\n",
    "        //std::cout << y.sizes() << std::endl;\n",
    "\n",
    "        auto output = model->forward(x);\n",
    "        auto loss = loss_function(output, y);\n",
    "        //std::cout << loss << std::endl;\n",
    "\n",
    "        optimizer.zero_grad();\n",
    "        loss.backward();\n",
    "        optimizer.step();\n",
    "    }\n",
    "\n",
    "    auto epoch_output = model->forward(features);\n",
    "    auto epoch_loss = torch::mse_loss(epoch_output, labels);\n",
    "    std::cout << \"Epoch: \" << i << \" loss: \" << epoch_loss << std::endl;\n",
    "}"
   ]
  },
  {
   "cell_type": "markdown",
   "id": "78218281",
   "metadata": {},
   "source": [
    "## step7: evaluate the performance"
   ]
  },
  {
   "cell_type": "code",
   "execution_count": 16,
   "id": "9d734059",
   "metadata": {},
   "outputs": [
    {
     "name": "stdout",
     "output_type": "stream",
     "text": [
      "estimated parameter is  1.9999 -3.3995\n",
      "[ CPUFloatType{1,2} ]\n",
      "[1, 2]\n",
      "[2]\n",
      "error in estimating w:\n",
      "1e-05 *\n",
      " 5.7101\n",
      "-52.2375\n",
      "[ CPUFloatType{2} ]\n",
      "estimated bias is 4.19985\n",
      "error in estimating b: 0.000148773\n",
      "Done\n"
     ]
    }
   ],
   "source": [
    "// -------------------------------------------------------------------------------------------\n",
    "// ompare the model parameters learned by training on finite data and the actual parameters\n",
    "// ------------------------------------------------------------------------------------------\n",
    "auto w = model->weight.data();\n",
    "std::cout << \"estimated parameter is \" << w << std::endl;\n",
    "std::cout << w.sizes() << \"\\n\";\n",
    "std::cout << true_w.sizes() << \"\\n\";\n",
    "auto w_dif = true_w - w.reshape(true_w.sizes());\n",
    "std::cout << \"error in estimating w:\\n\" << w_dif << std::endl;\n",
    "auto b = model->bias.data().item<float>();\n",
    "std::cout << \"estimated bias is \" << b << std::endl;\n",
    "std::cout << \"error in estimating b: \" << (true_b - b) << std::endl;\n",
    "\n",
    "std::cout << \"Done\\n\";"
   ]
  },
  {
   "cell_type": "code",
   "execution_count": null,
   "id": "498e83e3",
   "metadata": {},
   "outputs": [],
   "source": []
  }
 ],
 "metadata": {
  "kernelspec": {
   "display_name": "C++17",
   "language": "C++17",
   "name": "xcpp17"
  },
  "language_info": {
   "codemirror_mode": "text/x-c++src",
   "file_extension": ".cpp",
   "mimetype": "text/x-c++src",
   "name": "c++",
   "version": "17"
  }
 },
 "nbformat": 4,
 "nbformat_minor": 5
}
