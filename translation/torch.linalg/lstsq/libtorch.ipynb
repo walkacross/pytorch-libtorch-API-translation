{
 "cells": [
  {
   "cell_type": "code",
   "execution_count": 1,
   "id": "e9e452b3",
   "metadata": {},
   "outputs": [],
   "source": [
    "#pragma cling add_include_path(\"../../libtorch/include\")\n",
    "#pragma cling add_include_path(\"../../libtorch/include/torch/csrc/api/include\")\n",
    "#pragma cling add_library_path(\"../../libtorch/lib\")\n",
    "#pragma cling load(\"libtorch\")"
   ]
  },
  {
   "cell_type": "code",
   "execution_count": 2,
   "id": "6d9a240e",
   "metadata": {},
   "outputs": [],
   "source": [
    "#include <iostream>\n",
    "#include <cstddef>\n",
    "#include <torch/torch.h>\n",
    "#include <tuple>\n",
    "#include <c10/util/Optional.h>"
   ]
  },
  {
   "cell_type": "markdown",
   "id": "3c6a730f",
   "metadata": {},
   "source": [
    "## step 1: create mock data x and y"
   ]
  },
  {
   "cell_type": "code",
   "execution_count": 3,
   "id": "10fe0277",
   "metadata": {},
   "outputs": [],
   "source": [
    "std::pair<torch::Tensor, torch::Tensor> synthetic_data(torch::Tensor true_w, float true_b, int64_t num_samples) {\n",
    "\n",
    "    auto X = torch::normal(0.0, 1.0, {num_samples, true_w.size(0)});\n",
    "    auto y = torch::matmul(X, true_w) + true_b;\n",
    "    y += torch::normal(0.0, 0.01, y.sizes());\n",
    "    y = torch::reshape(y, {-1, 1});\n",
    "\n",
    "    //return torch::cat({X, y}, 1);\n",
    "    return {X, y};\n",
    " }"
   ]
  },
  {
   "cell_type": "code",
   "execution_count": 4,
   "id": "be60d3a5",
   "metadata": {},
   "outputs": [
    {
     "name": "stdout",
     "output_type": "stream",
     "text": [
      "2\n"
     ]
    }
   ],
   "source": [
    "auto options = torch::TensorOptions().dtype(torch::kFloat).device(torch::kCPU);\n",
    "\n",
    "// Generating the Dataset\n",
    "torch::Tensor true_w = torch::tensor({2.0, -3.4}, options);\n",
    "std::cout << true_w.size(0) << std::endl;\n",
    "float true_b = 4.2;\n",
    "int64_t num_samples = 20;\n",
    "\n",
    "std::pair<torch::Tensor, torch::Tensor> data_and_label = synthetic_data(true_w, true_b, num_samples);"
   ]
  },
  {
   "cell_type": "code",
   "execution_count": 5,
   "id": "49b3043b",
   "metadata": {},
   "outputs": [
    {
     "name": "stdout",
     "output_type": "stream",
     "text": [
      " 1.5724 -2.3880\n",
      " 0.7826 -2.2035\n",
      "-0.5379 -0.4596\n",
      "-1.3799  0.0037\n",
      "-0.3815  1.4219\n",
      " 0.2192  0.2297\n",
      " 1.0010  0.5570\n",
      " 0.6981 -0.8828\n",
      " 0.7232 -1.2942\n",
      " 0.8049 -0.5391\n",
      " 0.3457 -1.5950\n",
      "-2.1742  2.4071\n",
      " 0.9592  1.3948\n",
      "-0.8991 -0.3394\n",
      "-1.2080 -1.3720\n",
      "-0.8710 -0.3277\n",
      " 0.3054 -0.9281\n",
      "-0.4665 -0.8242\n",
      "-0.5735 -1.1918\n",
      "-1.2887 -1.7625\n",
      "[ CPUFloatType{20,2} ]\n",
      " 1.5724 -2.3880\n",
      " 0.7826 -2.2035\n",
      "-0.5379 -0.4596\n",
      "-1.3799  0.0037\n",
      "-0.3815  1.4219\n",
      " 0.2192  0.2297\n",
      " 1.0010  0.5570\n",
      " 0.6981 -0.8828\n",
      " 0.7232 -1.2942\n",
      " 0.8049 -0.5391\n",
      " 0.3457 -1.5950\n",
      "-2.1742  2.4071\n",
      " 0.9592  1.3948\n",
      "-0.8991 -0.3394\n",
      "-1.2080 -1.3720\n",
      "-0.8710 -0.3277\n",
      " 0.3054 -0.9281\n",
      "-0.4665 -0.8242\n",
      "-0.5735 -1.1918\n",
      "-1.2887 -1.7625\n",
      "[ CPUFloatType{20,2} ]\n"
     ]
    }
   ],
   "source": [
    "torch::Tensor X = data_and_label.first;\n",
    "std::cout << X << std::endl;\n",
    "\n",
    "torch::Tensor y = data_and_label.second;\n",
    "std::cout << X << std::endl;"
   ]
  },
  {
   "cell_type": "code",
   "execution_count": 6,
   "id": "dc7aa3eb",
   "metadata": {},
   "outputs": [
    {
     "name": "stdout",
     "output_type": "stream",
     "text": [
      " 1\n",
      " 1\n",
      " 1\n",
      " 1\n",
      " 1\n",
      " 1\n",
      " 1\n",
      " 1\n",
      " 1\n",
      " 1\n",
      " 1\n",
      " 1\n",
      " 1\n",
      " 1\n",
      " 1\n",
      " 1\n",
      " 1\n",
      " 1\n",
      " 1\n",
      " 1\n",
      "[ CPUFloatType{20,1} ]"
     ]
    }
   ],
   "source": [
    "std::cout << torch::ones({X.size(0),1});"
   ]
  },
  {
   "cell_type": "code",
   "execution_count": 7,
   "id": "49567887",
   "metadata": {},
   "outputs": [],
   "source": [
    "torch::Tensor X_with_one = torch::cat({torch::ones({X.size(0),1}), X},1);"
   ]
  },
  {
   "cell_type": "code",
   "execution_count": 8,
   "id": "35570a89",
   "metadata": {},
   "outputs": [
    {
     "name": "stdout",
     "output_type": "stream",
     "text": [
      " 1.0000  1.5724 -2.3880\n",
      " 1.0000  0.7826 -2.2035\n",
      " 1.0000 -0.5379 -0.4596\n",
      " 1.0000 -1.3799  0.0037\n",
      " 1.0000 -0.3815  1.4219\n",
      " 1.0000  0.2192  0.2297\n",
      " 1.0000  1.0010  0.5570\n",
      " 1.0000  0.6981 -0.8828\n",
      " 1.0000  0.7232 -1.2942\n",
      " 1.0000  0.8049 -0.5391\n",
      " 1.0000  0.3457 -1.5950\n",
      " 1.0000 -2.1742  2.4071\n",
      " 1.0000  0.9592  1.3948\n",
      " 1.0000 -0.8991 -0.3394\n",
      " 1.0000 -1.2080 -1.3720\n",
      " 1.0000 -0.8710 -0.3277\n",
      " 1.0000  0.3054 -0.9281\n",
      " 1.0000 -0.4665 -0.8242\n",
      " 1.0000 -0.5735 -1.1918\n",
      " 1.0000 -1.2887 -1.7625\n",
      "[ CPUFloatType{20,3} ]\n"
     ]
    }
   ],
   "source": [
    "std::cout << X_with_one << std::endl;"
   ]
  },
  {
   "cell_type": "code",
   "execution_count": 9,
   "id": "d18e3615",
   "metadata": {},
   "outputs": [],
   "source": [
    "//torch::Tensor a = torch::randn({3,3});\n",
    "//std::cout << torch::linalg::det(a);"
   ]
  },
  {
   "cell_type": "markdown",
   "id": "d5ea0a6a",
   "metadata": {},
   "source": [
    "## step2 use torch::linalg::lstsq to get regression coefficients"
   ]
  },
  {
   "cell_type": "code",
   "execution_count": 10,
   "id": "72ac06bb",
   "metadata": {},
   "outputs": [],
   "source": [
    "std::tuple<torch::Tensor,torch::Tensor,torch::Tensor,torch::Tensor> output = torch::linalg::lstsq(X_with_one,y, c10::nullopt, c10::nullopt);"
   ]
  },
  {
   "cell_type": "code",
   "execution_count": 11,
   "id": "ac251caf",
   "metadata": {},
   "outputs": [
    {
     "name": "stdout",
     "output_type": "stream",
     "text": [
      " 4.1983\n",
      " 1.9977\n",
      "-3.4002\n",
      "[ CPUFloatType{3,1} ]\n"
     ]
    }
   ],
   "source": [
    "torch::Tensor intercepts_and_coefficients = std::get<0>(output);\n",
    "std::cout << intercepts_and_coefficients << std::endl;"
   ]
  },
  {
   "cell_type": "code",
   "execution_count": 12,
   "id": "799bb4ed",
   "metadata": {},
   "outputs": [],
   "source": [
    "torch::Tensor y_pred_ts = X_with_one.matmul(intercepts_and_coefficients);"
   ]
  },
  {
   "cell_type": "code",
   "execution_count": 13,
   "id": "52b2e649",
   "metadata": {},
   "outputs": [
    {
     "name": "stdout",
     "output_type": "stream",
     "text": [
      " 15.4591\n",
      " 13.2539\n",
      "  4.6864\n",
      "  1.4293\n",
      " -1.3984\n",
      "  3.8552\n",
      "  4.3042\n",
      "  8.5946\n",
      " 10.0436\n",
      "  7.6392\n",
      " 10.3123\n",
      " -8.3296\n",
      "  1.3720\n",
      "  3.5563\n",
      "  6.4502\n",
      "  3.5727\n",
      "  7.9643\n",
      "  6.0689\n",
      "  7.1050\n",
      "  7.6169\n",
      "[ CPUFloatType{20,1} ]\n"
     ]
    }
   ],
   "source": [
    "std::cout << y_pred_ts << std::endl;"
   ]
  },
  {
   "cell_type": "code",
   "execution_count": 14,
   "id": "ae052017",
   "metadata": {},
   "outputs": [
    {
     "name": "stdout",
     "output_type": "stream",
     "text": [
      "0.01 *\n",
      "-0.1383\n",
      "  0.9323\n",
      " -1.0848\n",
      "  0.1140\n",
      "  0.7324\n",
      " -1.1629\n",
      "  0.4797\n",
      "  1.1288\n",
      " -1.9850\n",
      "  0.7236\n",
      "  0.2756\n",
      "  0.3702\n",
      " -0.1542\n",
      "  0.3493\n",
      "  0.9991\n",
      " -1.5726\n",
      "  0.5464\n",
      " -0.6239\n",
      " -0.2475\n",
      "  0.3183\n",
      "[ CPUFloatType{20,1} ]\n"
     ]
    }
   ],
   "source": [
    "torch::Tensor residuals = y - y_pred_ts;\n",
    "std::cout << residuals << std::endl;"
   ]
  },
  {
   "cell_type": "markdown",
   "id": "ef0df527",
   "metadata": {},
   "source": [
    "## 2 batch data regression"
   ]
  },
  {
   "cell_type": "code",
   "execution_count": 17,
   "id": "09cd65d9",
   "metadata": {},
   "outputs": [],
   "source": [
    "torch::Tensor batch_X_with_one = torch::stack({X_with_one, X_with_one});"
   ]
  },
  {
   "cell_type": "code",
   "execution_count": 19,
   "id": "01244ca6",
   "metadata": {},
   "outputs": [
    {
     "name": "stdout",
     "output_type": "stream",
     "text": [
      "(1,.,.) = \n",
      "  1.0000  1.5724 -2.3880\n",
      "  1.0000  0.7826 -2.2035\n",
      "  1.0000 -0.5379 -0.4596\n",
      "  1.0000 -1.3799  0.0037\n",
      "  1.0000 -0.3815  1.4219\n",
      "  1.0000  0.2192  0.2297\n",
      "  1.0000  1.0010  0.5570\n",
      "  1.0000  0.6981 -0.8828\n",
      "  1.0000  0.7232 -1.2942\n",
      "  1.0000  0.8049 -0.5391\n",
      "  1.0000  0.3457 -1.5950\n",
      "  1.0000 -2.1742  2.4071\n",
      "  1.0000  0.9592  1.3948\n",
      "  1.0000 -0.8991 -0.3394\n",
      "  1.0000 -1.2080 -1.3720\n",
      "  1.0000 -0.8710 -0.3277\n",
      "  1.0000  0.3054 -0.9281\n",
      "  1.0000 -0.4665 -0.8242\n",
      "  1.0000 -0.5735 -1.1918\n",
      "  1.0000 -1.2887 -1.7625\n",
      "\n",
      "(2,.,.) = \n",
      "  1.0000  1.5724 -2.3880\n",
      "  1.0000  0.7826 -2.2035\n",
      "  1.0000 -0.5379 -0.4596\n",
      "  1.0000 -1.3799  0.0037\n",
      "  1.0000 -0.3815  1.4219\n",
      "  1.0000  0.2192  0.2297\n",
      "  1.0000  1.0010  0.5570\n",
      "  1.0000  0.6981 -0.8828\n",
      "  1.0000  0.7232 -1.2942\n",
      "  1.0000  0.8049 -0.5391\n",
      "  1.0000  0.3457 -1.5950\n",
      "  1.0000 -2.1742  2.4071\n",
      "  1.0000  0.9592  1.3948\n",
      "  1.0000 -0.8991 -0.3394\n",
      "  1.0000 -1.2080 -1.3720\n",
      "  1.0000 -0.8710 -0.3277\n",
      "  1.0000  0.3054 -0.9281\n",
      "  1.0000 -0.4665 -0.8242\n",
      "  1.0000 -0.5735 -1.1918\n",
      "  1.0000 -1.2887 -1.7625\n",
      "[ CPUFloatType{2,20,3} ]\n",
      "[2, 20, 3]\n"
     ]
    }
   ],
   "source": [
    "std::cout << batch_X_with_one << std::endl;\n",
    "std::cout << batch_X_with_one.sizes() << std::endl;"
   ]
  },
  {
   "cell_type": "code",
   "execution_count": 20,
   "id": "3b89a2cc",
   "metadata": {},
   "outputs": [],
   "source": [
    "torch::Tensor batch_y = torch::stack({y, y});"
   ]
  },
  {
   "cell_type": "code",
   "execution_count": 21,
   "id": "f92e75d9",
   "metadata": {},
   "outputs": [
    {
     "name": "stdout",
     "output_type": "stream",
     "text": [
      "(1,.,.) = \n",
      "  15.4577\n",
      "  13.2633\n",
      "   4.6756\n",
      "   1.4304\n",
      "  -1.3911\n",
      "   3.8435\n",
      "   4.3090\n",
      "   8.6059\n",
      "  10.0237\n",
      "   7.6464\n",
      "  10.3151\n",
      "  -8.3259\n",
      "   1.3704\n",
      "   3.5598\n",
      "   6.4602\n",
      "   3.5569\n",
      "   7.9698\n",
      "   6.0626\n",
      "   7.1026\n",
      "   7.6201\n",
      "\n",
      "(2,.,.) = \n",
      "  15.4577\n",
      "  13.2633\n",
      "   4.6756\n",
      "   1.4304\n",
      "  -1.3911\n",
      "   3.8435\n",
      "   4.3090\n",
      "   8.6059\n",
      "  10.0237\n",
      "   7.6464\n",
      "  10.3151\n",
      "  -8.3259\n",
      "   1.3704\n",
      "   3.5598\n",
      "   6.4602\n",
      "   3.5569\n",
      "   7.9698\n",
      "   6.0626\n",
      "   7.1026\n",
      "   7.6201\n",
      "[ CPUFloatType{2,20,1} ]\n",
      "[2, 20, 1]\n"
     ]
    }
   ],
   "source": [
    "std::cout << batch_y << std::endl;\n",
    "std::cout << batch_y.sizes() << std::endl;"
   ]
  },
  {
   "cell_type": "code",
   "execution_count": 22,
   "id": "876e406d",
   "metadata": {},
   "outputs": [],
   "source": [
    "std::tuple<torch::Tensor,torch::Tensor,torch::Tensor,torch::Tensor> batch_output = torch::linalg::lstsq(batch_X_with_one,batch_y, c10::nullopt, c10::nullopt);"
   ]
  },
  {
   "cell_type": "code",
   "execution_count": 23,
   "id": "0b149d00",
   "metadata": {},
   "outputs": [
    {
     "name": "stdout",
     "output_type": "stream",
     "text": [
      "(1,.,.) = \n",
      "  4.1983\n",
      "  1.9977\n",
      " -3.4002\n",
      "\n",
      "(2,.,.) = \n",
      "  4.1983\n",
      "  1.9977\n",
      " -3.4002\n",
      "[ CPUFloatType{2,3,1} ]\n"
     ]
    }
   ],
   "source": [
    "torch::Tensor batch_intercepts_and_coefficients = std::get<0>(batch_output);\n",
    "std::cout << batch_intercepts_and_coefficients << std::endl;"
   ]
  },
  {
   "cell_type": "markdown",
   "id": "2ae2c74e",
   "metadata": {},
   "source": [
    "## appendix: understand c10::optional"
   ]
  },
  {
   "cell_type": "code",
   "execution_count": 15,
   "id": "bd1c12df",
   "metadata": {},
   "outputs": [
    {
     "name": "stdout",
     "output_type": "stream",
     "text": [
      "0\n",
      "1\n",
      "-1.1\n"
     ]
    }
   ],
   "source": [
    "c10::optional<double> a = c10::nullopt;\n",
    "std::cout << a.has_value() << std::endl;\n",
    "\n",
    "c10::optional<double> b(-1.1);\n",
    "std::cout << b.has_value() << std::endl;;\n",
    "std::cout << b.value() << std::endl;"
   ]
  },
  {
   "cell_type": "code",
   "execution_count": null,
   "id": "f2d22011",
   "metadata": {},
   "outputs": [],
   "source": []
  }
 ],
 "metadata": {
  "kernelspec": {
   "display_name": "C++17",
   "language": "C++17",
   "name": "xcpp17"
  },
  "language_info": {
   "codemirror_mode": "text/x-c++src",
   "file_extension": ".cpp",
   "mimetype": "text/x-c++src",
   "name": "c++",
   "version": "17"
  }
 },
 "nbformat": 4,
 "nbformat_minor": 5
}
