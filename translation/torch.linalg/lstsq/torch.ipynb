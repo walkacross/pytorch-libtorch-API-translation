{
 "cells": [
  {
   "cell_type": "code",
   "execution_count": 1,
   "id": "9ba8d108",
   "metadata": {},
   "outputs": [
    {
     "data": {
      "text/plain": [
       "<torch._C.Generator at 0x7f2564091090>"
      ]
     },
     "execution_count": 1,
     "metadata": {},
     "output_type": "execute_result"
    }
   ],
   "source": [
    "import torch\n",
    "torch.manual_seed(1)"
   ]
  },
  {
   "cell_type": "code",
   "execution_count": 2,
   "id": "0a026faa",
   "metadata": {},
   "outputs": [],
   "source": [
    "def synthetic_data(true_w, true_b, num_samples):\n",
    "    X = torch.normal(0.0, 1.0, (num_samples, true_w.size(0)))\n",
    "    y = torch.matmul(X, true_w) + true_b\n",
    "    y += torch.normal(0.0, 0.01, y.size())\n",
    "    y = torch.reshape(y, (-1, 1))\n",
    "    return X,y"
   ]
  },
  {
   "cell_type": "code",
   "execution_count": 3,
   "id": "9307c538",
   "metadata": {},
   "outputs": [
    {
     "name": "stdout",
     "output_type": "stream",
     "text": [
      "tensor([ 2.0000, -3.4000])\n",
      "torch.Size([2])\n",
      "2\n"
     ]
    }
   ],
   "source": [
    "true_w = torch.tensor([2.0, -3.4], dtype=torch.float)\n",
    "print(true_w)\n",
    "print(true_w.size())\n",
    "print(true_w.size(0))\n",
    "true_b = 4.2\n",
    "num_samples = 20"
   ]
  },
  {
   "cell_type": "code",
   "execution_count": 4,
   "id": "f7e609e1",
   "metadata": {},
   "outputs": [
    {
     "name": "stdout",
     "output_type": "stream",
     "text": [
      "tensor([[-1.5256, -0.7502],\n",
      "        [-0.6540, -1.6095],\n",
      "        [-0.1002, -0.6092],\n",
      "        [-0.9798, -1.6091],\n",
      "        [-0.7121,  0.3037],\n",
      "        [-0.7773, -0.2515],\n",
      "        [-0.2223,  1.6871],\n",
      "        [ 0.2284,  0.4676],\n",
      "        [-0.6970, -1.1608],\n",
      "        [ 0.6995,  0.1991],\n",
      "        [ 0.8657,  0.2444],\n",
      "        [-0.6629,  0.8073],\n",
      "        [-1.8821, -0.7765],\n",
      "        [ 2.0242, -0.0865],\n",
      "        [ 0.0981, -1.2150],\n",
      "        [ 0.7312,  1.1718],\n",
      "        [ 2.4070,  0.2786],\n",
      "        [ 0.2468,  1.1843],\n",
      "        [-0.7282,  1.1633],\n",
      "        [-0.0091, -0.8425]])\n",
      "torch.Size([20, 2])\n",
      "tensor([[ 3.7017],\n",
      "        [ 8.3590],\n",
      "        [ 6.0529],\n",
      "        [ 7.6983],\n",
      "        [ 1.7472],\n",
      "        [ 3.5044],\n",
      "        [-1.9781],\n",
      "        [ 3.0778],\n",
      "        [ 6.7476],\n",
      "        [ 4.9232],\n",
      "        [ 5.0939],\n",
      "        [ 0.1366],\n",
      "        [ 3.0614],\n",
      "        [ 8.5587],\n",
      "        [ 8.5282],\n",
      "        [ 1.6656],\n",
      "        [ 8.0694],\n",
      "        [ 0.6618],\n",
      "        [-1.2220],\n",
      "        [ 7.0535]])\n",
      "torch.Size([20, 1])\n"
     ]
    }
   ],
   "source": [
    "X_ts, y_ts= synthetic_data(true_w, true_b, num_samples)\n",
    "\n",
    "X_np = X_ts.numpy()\n",
    "y_np = y_ts.numpy()\n",
    "\n",
    "print(X_ts)\n",
    "print(X_ts.shape)\n",
    "\n",
    "print(y_ts)\n",
    "print(y_ts.shape)"
   ]
  },
  {
   "cell_type": "markdown",
   "id": "8085fcf6",
   "metadata": {},
   "source": [
    "## 1.1 method1: statsmodels linear model"
   ]
  },
  {
   "cell_type": "code",
   "execution_count": 5,
   "id": "23f67b6f",
   "metadata": {},
   "outputs": [
    {
     "name": "stderr",
     "output_type": "stream",
     "text": [
      "/home/sz/anaconda3/lib/python3.8/site-packages/statsmodels/tsa/base/tsa_model.py:7: FutureWarning: pandas.Int64Index is deprecated and will be removed from pandas in a future version. Use pandas.Index with the appropriate dtype instead.\n",
      "  from pandas import (to_datetime, Int64Index, DatetimeIndex, Period,\n",
      "/home/sz/anaconda3/lib/python3.8/site-packages/statsmodels/tsa/base/tsa_model.py:7: FutureWarning: pandas.Float64Index is deprecated and will be removed from pandas in a future version. Use pandas.Index with the appropriate dtype instead.\n",
      "  from pandas import (to_datetime, Int64Index, DatetimeIndex, Period,\n"
     ]
    }
   ],
   "source": [
    "import statsmodels.api as sm"
   ]
  },
  {
   "cell_type": "code",
   "execution_count": 6,
   "id": "40956cf5",
   "metadata": {},
   "outputs": [],
   "source": [
    "X_with_one_np = sm.add_constant(X_np)"
   ]
  },
  {
   "cell_type": "code",
   "execution_count": 7,
   "id": "2415dab4",
   "metadata": {},
   "outputs": [
    {
     "data": {
      "text/plain": [
       "array([[ 1.        , -1.5255959 , -0.7502318 ],\n",
       "       [ 1.        , -0.65398091, -1.60948479],\n",
       "       [ 1.        , -0.10016718, -0.60918891],\n",
       "       [ 1.        , -0.97977227, -1.60909629],\n",
       "       [ 1.        , -0.71214461,  0.30372199],\n",
       "       [ 1.        , -0.77731431, -0.25145525],\n",
       "       [ 1.        , -0.22227049,  1.6871134 ],\n",
       "       [ 1.        ,  0.22842517,  0.46763551],\n",
       "       [ 1.        , -0.69697243, -1.16076148],\n",
       "       [ 1.        ,  0.6995424 ,  0.19908163],\n",
       "       [ 1.        ,  0.86569238,  0.2444039 ],\n",
       "       [ 1.        , -0.66291136,  0.80730826],\n",
       "       [ 1.        , -1.88214254, -0.77654505],\n",
       "       [ 1.        ,  2.02420211, -0.0865412 ],\n",
       "       [ 1.        ,  0.09812354, -1.21500671],\n",
       "       [ 1.        ,  0.73116672,  1.17180479],\n",
       "       [ 1.        ,  2.40697813,  0.27856624],\n",
       "       [ 1.        ,  0.24675292,  1.18432665],\n",
       "       [ 1.        , -0.72821373,  1.16327441],\n",
       "       [ 1.        , -0.00907459, -0.84246337]])"
      ]
     },
     "execution_count": 7,
     "metadata": {},
     "output_type": "execute_result"
    }
   ],
   "source": [
    "X_with_one_np"
   ]
  },
  {
   "cell_type": "code",
   "execution_count": 8,
   "id": "05c39d68",
   "metadata": {},
   "outputs": [],
   "source": [
    "result = sm.OLS(y_np, X_with_one_np).fit()"
   ]
  },
  {
   "cell_type": "code",
   "execution_count": 9,
   "id": "5ab8494d",
   "metadata": {},
   "outputs": [
    {
     "name": "stdout",
     "output_type": "stream",
     "text": [
      "                            OLS Regression Results                            \n",
      "==============================================================================\n",
      "Dep. Variable:                      y   R-squared:                       1.000\n",
      "Model:                            OLS   Adj. R-squared:                  1.000\n",
      "Method:                 Least Squares   F-statistic:                 1.312e+06\n",
      "Date:                Thu, 03 Nov 2022   Prob (F-statistic):           7.91e-45\n",
      "Time:                        21:59:27   Log-Likelihood:                 67.394\n",
      "No. Observations:                  20   AIC:                            -128.8\n",
      "Df Residuals:                      17   BIC:                            -125.8\n",
      "Df Model:                           2                                         \n",
      "Covariance Type:            nonrobust                                         \n",
      "==============================================================================\n",
      "                 coef    std err          t      P>|t|      [0.025      0.975]\n",
      "------------------------------------------------------------------------------\n",
      "const          4.1987      0.002   2070.536      0.000       4.194       4.203\n",
      "x1             2.0029      0.002    978.033      0.000       1.999       2.007\n",
      "x2            -3.3995      0.002  -1531.823      0.000      -3.404      -3.395\n",
      "==============================================================================\n",
      "Omnibus:                        2.008   Durbin-Watson:                   1.927\n",
      "Prob(Omnibus):                  0.366   Jarque-Bera (JB):                1.144\n",
      "Skew:                          -0.234   Prob(JB):                        0.564\n",
      "Kurtosis:                       1.925   Cond. No.                         1.42\n",
      "==============================================================================\n",
      "\n",
      "Notes:\n",
      "[1] Standard Errors assume that the covariance matrix of the errors is correctly specified.\n"
     ]
    }
   ],
   "source": [
    "print(result.summary())"
   ]
  },
  {
   "cell_type": "code",
   "execution_count": 10,
   "id": "2ca212b1",
   "metadata": {},
   "outputs": [
    {
     "data": {
      "text/plain": [
       "array([ 4.19869842,  2.0028701 , -3.39948582])"
      ]
     },
     "execution_count": 10,
     "metadata": {},
     "output_type": "execute_result"
    }
   ],
   "source": [
    "result.params"
   ]
  },
  {
   "cell_type": "code",
   "execution_count": 11,
   "id": "e8205d8a",
   "metadata": {},
   "outputs": [
    {
     "name": "stdout",
     "output_type": "stream",
     "text": [
      "[ 3.69353037  8.36028033  6.06900565  7.70644184  1.73986665  3.49665738\n",
      " -1.98179859  3.06648408  6.74874535  4.9230158   5.10172021  0.12654012\n",
      "  3.06886527  8.54710787  8.52562519  1.67959663  8.07258096  0.66681081\n",
      " -1.21435393  7.04446549]\n",
      "(20,)\n"
     ]
    }
   ],
   "source": [
    "y_predict = result.predict()\n",
    "print(y_predict)\n",
    "print(y_predict.shape)"
   ]
  },
  {
   "cell_type": "code",
   "execution_count": 12,
   "id": "c6145395",
   "metadata": {},
   "outputs": [
    {
     "name": "stdout",
     "output_type": "stream",
     "text": [
      "[[ 3.701748  ]\n",
      " [ 8.359044  ]\n",
      " [ 6.052874  ]\n",
      " [ 7.6983    ]\n",
      " [ 1.7471555 ]\n",
      " [ 3.5044036 ]\n",
      " [-1.9781481 ]\n",
      " [ 3.0778396 ]\n",
      " [ 6.747579  ]\n",
      " [ 4.9232044 ]\n",
      " [ 5.0938716 ]\n",
      " [ 0.13664566]\n",
      " [ 3.0614007 ]\n",
      " [ 8.558734  ]\n",
      " [ 8.528207  ]\n",
      " [ 1.6655995 ]\n",
      " [ 8.069377  ]\n",
      " [ 0.6617757 ]\n",
      " [-1.2219727 ]\n",
      " [ 7.0535493 ]]\n"
     ]
    }
   ],
   "source": [
    "print(y_np)"
   ]
  },
  {
   "cell_type": "code",
   "execution_count": 13,
   "id": "a70ef9f2",
   "metadata": {},
   "outputs": [
    {
     "name": "stdout",
     "output_type": "stream",
     "text": [
      "[ 0.00821752 -0.00123625 -0.01613156 -0.00814196  0.00728889  0.00774621\n",
      "  0.00365049  0.01135553 -0.00116625  0.00018862 -0.00784861  0.01010554\n",
      " -0.00746462  0.01162607  0.00258164 -0.01399716 -0.00320401 -0.00503511\n",
      " -0.00761877  0.0090838 ]\n",
      "(20,)\n"
     ]
    }
   ],
   "source": [
    "#residual = y_true - y_predict\n",
    "residuals = result.resid\n",
    "print(residuals)\n",
    "print(residuals.shape)"
   ]
  },
  {
   "cell_type": "code",
   "execution_count": 14,
   "id": "7727951e",
   "metadata": {},
   "outputs": [
    {
     "name": "stdout",
     "output_type": "stream",
     "text": [
      "[ 0.00821752 -0.00123625 -0.01613156 -0.00814196  0.00728889  0.00774621\n",
      "  0.00365049  0.01135553 -0.00116625  0.00018862 -0.00784861  0.01010554\n",
      " -0.00746462  0.01162607  0.00258164 -0.01399716 -0.00320401 -0.00503511\n",
      " -0.00761877  0.0090838 ]\n"
     ]
    }
   ],
   "source": [
    "theoritical_residuals_np = y_np.squeeze(-1) - result.predict()\n",
    "print(theoritical_residuals_np)"
   ]
  },
  {
   "cell_type": "markdown",
   "id": "962bbeac",
   "metadata": {},
   "source": [
    "## 1.2 method2: sklearn linear model"
   ]
  },
  {
   "cell_type": "code",
   "execution_count": 15,
   "id": "e5f7d71a",
   "metadata": {},
   "outputs": [],
   "source": [
    "import numpy as np\n",
    "import matplotlib.pyplot as plt\n",
    "from sklearn.linear_model import LinearRegression"
   ]
  },
  {
   "cell_type": "code",
   "execution_count": 16,
   "id": "cecae954",
   "metadata": {},
   "outputs": [
    {
     "name": "stdout",
     "output_type": "stream",
     "text": [
      "[4.1986985] [[ 2.0028694 -3.399485 ]]\n"
     ]
    }
   ],
   "source": [
    "lin_reg = LinearRegression(fit_intercept=True)\n",
    "lin_reg.fit(X_np, y_np)\n",
    "print(lin_reg.intercept_, lin_reg.coef_)"
   ]
  },
  {
   "cell_type": "markdown",
   "id": "039bb5e8",
   "metadata": {},
   "source": [
    "## 1.3 method3: use np.linalg.lstsq to get regression coefficients"
   ]
  },
  {
   "cell_type": "code",
   "execution_count": 17,
   "id": "68b99329",
   "metadata": {},
   "outputs": [
    {
     "name": "stdout",
     "output_type": "stream",
     "text": [
      "[[ 4.19869842]\n",
      " [ 2.0028701 ]\n",
      " [-3.39948582]]\n"
     ]
    }
   ],
   "source": [
    "numpy_output_tuple = np.linalg.lstsq(X_with_one_np, y_np, rcond=None)\n",
    "print(numpy_output_tuple[0])"
   ]
  },
  {
   "cell_type": "markdown",
   "id": "6e23784a",
   "metadata": {},
   "source": [
    "## 1.4 method4: use torch.linalg.lstsq to get regression coefficients"
   ]
  },
  {
   "cell_type": "code",
   "execution_count": 18,
   "id": "bd0940dd",
   "metadata": {},
   "outputs": [
    {
     "name": "stdout",
     "output_type": "stream",
     "text": [
      "tensor([[ 1.0000, -1.5256, -0.7502],\n",
      "        [ 1.0000, -0.6540, -1.6095],\n",
      "        [ 1.0000, -0.1002, -0.6092],\n",
      "        [ 1.0000, -0.9798, -1.6091],\n",
      "        [ 1.0000, -0.7121,  0.3037],\n",
      "        [ 1.0000, -0.7773, -0.2515],\n",
      "        [ 1.0000, -0.2223,  1.6871],\n",
      "        [ 1.0000,  0.2284,  0.4676],\n",
      "        [ 1.0000, -0.6970, -1.1608],\n",
      "        [ 1.0000,  0.6995,  0.1991],\n",
      "        [ 1.0000,  0.8657,  0.2444],\n",
      "        [ 1.0000, -0.6629,  0.8073],\n",
      "        [ 1.0000, -1.8821, -0.7765],\n",
      "        [ 1.0000,  2.0242, -0.0865],\n",
      "        [ 1.0000,  0.0981, -1.2150],\n",
      "        [ 1.0000,  0.7312,  1.1718],\n",
      "        [ 1.0000,  2.4070,  0.2786],\n",
      "        [ 1.0000,  0.2468,  1.1843],\n",
      "        [ 1.0000, -0.7282,  1.1633],\n",
      "        [ 1.0000, -0.0091, -0.8425]])\n",
      "torch.Size([20, 3])\n"
     ]
    }
   ],
   "source": [
    "X_with_one_ts = torch.cat([torch.ones((len(X_ts),1)), X_ts], 1)\n",
    "print(X_with_one_ts)\n",
    "print(X_with_one_ts.shape)"
   ]
  },
  {
   "cell_type": "code",
   "execution_count": 19,
   "id": "8205f2b3",
   "metadata": {},
   "outputs": [],
   "source": [
    "torch_output_named_tuple = torch.linalg.lstsq(X_with_one_ts, y_ts,-1)"
   ]
  },
  {
   "cell_type": "code",
   "execution_count": 20,
   "id": "fbb42cd5",
   "metadata": {},
   "outputs": [
    {
     "name": "stdout",
     "output_type": "stream",
     "text": [
      "tensor([[ 4.1987],\n",
      "        [ 2.0029],\n",
      "        [-3.3995]])\n",
      "torch.Size([3, 1])\n"
     ]
    }
   ],
   "source": [
    "intercepts_and_coefficient = torch_output_named_tuple.solution\n",
    "print(intercepts_and_coefficient)\n",
    "print(intercepts_and_coefficient.shape)"
   ]
  },
  {
   "cell_type": "code",
   "execution_count": 21,
   "id": "a86c21fa",
   "metadata": {},
   "outputs": [
    {
     "name": "stdout",
     "output_type": "stream",
     "text": [
      "tensor([])\n"
     ]
    }
   ],
   "source": [
    "squared_residuals = torch_output_named_tuple.residuals\n",
    "print(squared_residuals)"
   ]
  },
  {
   "cell_type": "code",
   "execution_count": 22,
   "id": "56faed06",
   "metadata": {},
   "outputs": [
    {
     "name": "stdout",
     "output_type": "stream",
     "text": [
      "tensor([[ 3.6935],\n",
      "        [ 8.3603],\n",
      "        [ 6.0690],\n",
      "        [ 7.7064],\n",
      "        [ 1.7399],\n",
      "        [ 3.4967],\n",
      "        [-1.9818],\n",
      "        [ 3.0665],\n",
      "        [ 6.7487],\n",
      "        [ 4.9230],\n",
      "        [ 5.1017],\n",
      "        [ 0.1265],\n",
      "        [ 3.0689],\n",
      "        [ 8.5471],\n",
      "        [ 8.5256],\n",
      "        [ 1.6796],\n",
      "        [ 8.0726],\n",
      "        [ 0.6668],\n",
      "        [-1.2144],\n",
      "        [ 7.0445]])\n"
     ]
    }
   ],
   "source": [
    "y_pred_ts = X_with_one_ts.matmul(intercepts_and_coefficient)\n",
    "print(y_pred_ts)"
   ]
  },
  {
   "cell_type": "code",
   "execution_count": 23,
   "id": "6e6cda61",
   "metadata": {},
   "outputs": [
    {
     "name": "stdout",
     "output_type": "stream",
     "text": [
      "tensor([[ 0.0082],\n",
      "        [-0.0012],\n",
      "        [-0.0161],\n",
      "        [-0.0081],\n",
      "        [ 0.0073],\n",
      "        [ 0.0077],\n",
      "        [ 0.0037],\n",
      "        [ 0.0114],\n",
      "        [-0.0012],\n",
      "        [ 0.0002],\n",
      "        [-0.0078],\n",
      "        [ 0.0101],\n",
      "        [-0.0075],\n",
      "        [ 0.0116],\n",
      "        [ 0.0026],\n",
      "        [-0.0140],\n",
      "        [-0.0032],\n",
      "        [-0.0050],\n",
      "        [-0.0076],\n",
      "        [ 0.0091]])\n",
      "--------------------\n",
      "[ 0.00821752 -0.00123625 -0.01613156 -0.00814196  0.00728889  0.00774621\n",
      "  0.00365049  0.01135553 -0.00116625  0.00018862 -0.00784861  0.01010554\n",
      " -0.00746462  0.01162607  0.00258164 -0.01399716 -0.00320401 -0.00503511\n",
      " -0.00761877  0.0090838 ]\n"
     ]
    }
   ],
   "source": [
    "residuals_ts = y_ts - y_pred_ts\n",
    "print(residuals_ts)\n",
    "print(\"--------------------\")\n",
    "print(theoritical_residuals_np)"
   ]
  },
  {
   "cell_type": "markdown",
   "id": "715de262",
   "metadata": {},
   "source": [
    "# 2 batch data regression"
   ]
  },
  {
   "cell_type": "code",
   "execution_count": 32,
   "id": "baf3678b",
   "metadata": {},
   "outputs": [
    {
     "name": "stdout",
     "output_type": "stream",
     "text": [
      "tensor([[[ 1.0000, -1.5256, -0.7502],\n",
      "         [ 1.0000, -0.6540, -1.6095],\n",
      "         [ 1.0000, -0.1002, -0.6092],\n",
      "         [ 1.0000, -0.9798, -1.6091],\n",
      "         [ 1.0000, -0.7121,  0.3037],\n",
      "         [ 1.0000, -0.7773, -0.2515],\n",
      "         [ 1.0000, -0.2223,  1.6871],\n",
      "         [ 1.0000,  0.2284,  0.4676],\n",
      "         [ 1.0000, -0.6970, -1.1608],\n",
      "         [ 1.0000,  0.6995,  0.1991],\n",
      "         [ 1.0000,  0.8657,  0.2444],\n",
      "         [ 1.0000, -0.6629,  0.8073],\n",
      "         [ 1.0000, -1.8821, -0.7765],\n",
      "         [ 1.0000,  2.0242, -0.0865],\n",
      "         [ 1.0000,  0.0981, -1.2150],\n",
      "         [ 1.0000,  0.7312,  1.1718],\n",
      "         [ 1.0000,  2.4070,  0.2786],\n",
      "         [ 1.0000,  0.2468,  1.1843],\n",
      "         [ 1.0000, -0.7282,  1.1633],\n",
      "         [ 1.0000, -0.0091, -0.8425]],\n",
      "\n",
      "        [[ 1.0000, -1.5256, -0.7502],\n",
      "         [ 1.0000, -0.6540, -1.6095],\n",
      "         [ 1.0000, -0.1002, -0.6092],\n",
      "         [ 1.0000, -0.9798, -1.6091],\n",
      "         [ 1.0000, -0.7121,  0.3037],\n",
      "         [ 1.0000, -0.7773, -0.2515],\n",
      "         [ 1.0000, -0.2223,  1.6871],\n",
      "         [ 1.0000,  0.2284,  0.4676],\n",
      "         [ 1.0000, -0.6970, -1.1608],\n",
      "         [ 1.0000,  0.6995,  0.1991],\n",
      "         [ 1.0000,  0.8657,  0.2444],\n",
      "         [ 1.0000, -0.6629,  0.8073],\n",
      "         [ 1.0000, -1.8821, -0.7765],\n",
      "         [ 1.0000,  2.0242, -0.0865],\n",
      "         [ 1.0000,  0.0981, -1.2150],\n",
      "         [ 1.0000,  0.7312,  1.1718],\n",
      "         [ 1.0000,  2.4070,  0.2786],\n",
      "         [ 1.0000,  0.2468,  1.1843],\n",
      "         [ 1.0000, -0.7282,  1.1633],\n",
      "         [ 1.0000, -0.0091, -0.8425]]])\n",
      "torch.Size([2, 20, 3])\n"
     ]
    }
   ],
   "source": [
    "batch_X_with_one_ts = torch.stack([X_with_one_ts,X_with_one_ts],0)\n",
    "print(batch_X_with_one_ts)\n",
    "print(batch_X_with_one_ts.shape)"
   ]
  },
  {
   "cell_type": "code",
   "execution_count": 33,
   "id": "0fad7c06",
   "metadata": {},
   "outputs": [
    {
     "name": "stdout",
     "output_type": "stream",
     "text": [
      "tensor([[[ 3.7017],\n",
      "         [ 8.3590],\n",
      "         [ 6.0529],\n",
      "         [ 7.6983],\n",
      "         [ 1.7472],\n",
      "         [ 3.5044],\n",
      "         [-1.9781],\n",
      "         [ 3.0778],\n",
      "         [ 6.7476],\n",
      "         [ 4.9232],\n",
      "         [ 5.0939],\n",
      "         [ 0.1366],\n",
      "         [ 3.0614],\n",
      "         [ 8.5587],\n",
      "         [ 8.5282],\n",
      "         [ 1.6656],\n",
      "         [ 8.0694],\n",
      "         [ 0.6618],\n",
      "         [-1.2220],\n",
      "         [ 7.0535]],\n",
      "\n",
      "        [[ 3.7017],\n",
      "         [ 8.3590],\n",
      "         [ 6.0529],\n",
      "         [ 7.6983],\n",
      "         [ 1.7472],\n",
      "         [ 3.5044],\n",
      "         [-1.9781],\n",
      "         [ 3.0778],\n",
      "         [ 6.7476],\n",
      "         [ 4.9232],\n",
      "         [ 5.0939],\n",
      "         [ 0.1366],\n",
      "         [ 3.0614],\n",
      "         [ 8.5587],\n",
      "         [ 8.5282],\n",
      "         [ 1.6656],\n",
      "         [ 8.0694],\n",
      "         [ 0.6618],\n",
      "         [-1.2220],\n",
      "         [ 7.0535]]])\n",
      "torch.Size([2, 20, 1])\n"
     ]
    }
   ],
   "source": [
    "batch_y_ts = torch.stack([y_ts,y_ts],0)\n",
    "print(batch_y_ts)\n",
    "print(batch_y_ts.shape)"
   ]
  },
  {
   "cell_type": "code",
   "execution_count": 34,
   "id": "86fc471b",
   "metadata": {},
   "outputs": [],
   "source": [
    "torch_output_named_tuple = torch.linalg.lstsq(batch_X_with_one_ts, batch_y_ts)"
   ]
  },
  {
   "cell_type": "code",
   "execution_count": 36,
   "id": "ecc94028",
   "metadata": {},
   "outputs": [
    {
     "name": "stdout",
     "output_type": "stream",
     "text": [
      "tensor([[[ 4.1987],\n",
      "         [ 2.0029],\n",
      "         [-3.3995]],\n",
      "\n",
      "        [[ 4.1987],\n",
      "         [ 2.0029],\n",
      "         [-3.3995]]])\n",
      "torch.Size([2, 3, 1])\n"
     ]
    }
   ],
   "source": [
    "batch_intercepts_and_coefficient = torch_output_named_tuple.solution\n",
    "print(batch_intercepts_and_coefficient)\n",
    "print(batch_intercepts_and_coefficient.shape)"
   ]
  },
  {
   "cell_type": "code",
   "execution_count": null,
   "id": "06ad0e50",
   "metadata": {},
   "outputs": [],
   "source": []
  }
 ],
 "metadata": {
  "kernelspec": {
   "display_name": "Python 3 (ipykernel)",
   "language": "python",
   "name": "python3"
  },
  "language_info": {
   "codemirror_mode": {
    "name": "ipython",
    "version": 3
   },
   "file_extension": ".py",
   "mimetype": "text/x-python",
   "name": "python",
   "nbconvert_exporter": "python",
   "pygments_lexer": "ipython3",
   "version": "3.10.5"
  }
 },
 "nbformat": 4,
 "nbformat_minor": 5
}
